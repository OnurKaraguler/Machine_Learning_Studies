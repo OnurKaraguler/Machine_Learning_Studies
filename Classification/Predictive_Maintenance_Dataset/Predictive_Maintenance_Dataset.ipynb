{
 "cells": [
  {
   "cell_type": "markdown",
   "id": "624b4ef9",
   "metadata": {},
   "source": [
    "<div class=\"alert alert-block alert-danger\">\n",
    "<h1>AI4I 2020 Predictive Maintenance Dataset</h1>\n",
    "</div>"
   ]
  },
  {
   "cell_type": "markdown",
   "id": "83aac3b2",
   "metadata": {},
   "source": [
    "https://archive.ics.uci.edu/ml/datasets/AI4I+2020+Predictive+Maintenance+Dataset#"
   ]
  },
  {
   "cell_type": "markdown",
   "id": "65d4ca05",
   "metadata": {},
   "source": [
    "Data Set Information:\n",
    "\n",
    "Since real predictive maintenance datasets are generally difficult to obtain and in particular difficult to publish, we present and provide a synthetic dataset that reflects real predictive maintenance encountered in industry to the best of our knowledge. "
   ]
  },
  {
   "cell_type": "markdown",
   "id": "40c5d95e",
   "metadata": {},
   "source": [
    "<div class=\"alert alert-block alert-danger\">\n",
    "<h2>Table of Contents</h2>\n",
    "</div>"
   ]
  },
  {
   "cell_type": "markdown",
   "id": "e9d3f0e7",
   "metadata": {},
   "source": [
    "[Functions to be used](#1.0)<br>\n",
    "    <ul>\n",
    "        <li>Pandas</li>\n",
    "        <li>Visualizations</li>\n",
    "        <li>Confusion matrix and metrics</li>\n",
    "        <li>Encoding</li>\n",
    "        <li>KBinsDiscretizer</li>\n",
    "        <li>Scaler (Standard, MinMax)</li>\n",
    "        <li>Missing value imputation</li>\n",
    "    </ul>\n",
    "[Import Libraries](#2.0)<br>\n",
    "[Load Data](#3.0)<br>\n",
    "[Exploratory Data Analysis (EDA)](#4.0)<br>\n",
    "    <ul>\n",
    "        <li>[Analyze each feature](#4.1)</li>\n",
    "    </ul>\n",
    "[Machine Learning Algorithms and Results](#5.0)<br>\n",
    "    <ul>\n",
    "        <li>[Feature engineering](#5.1)</li>\n",
    "        <li>[Correlation of the features](#5.2)</li>\n",
    "        <li>[Split Dataframe](#5.3)</li>\n",
    "        <li>[Overcoming Class Imbalance using SMOTE](#5.4)</li>\n",
    "        <li>[Building ML models](#5.5)</li>\n",
    "            <ul>\n",
    "                <li>Logistic Regression</li>\n",
    "                <li>Random Forest</li>\n",
    "                <li>Naive Bayes</li>\n",
    "                <li>Support Vector</li>\n",
    "                <li>k-Nearest Neighbours</li>\n",
    "                <li>Stochastic Gradient Descent</li>\n",
    "                <li>Gradient-Boosted Tree</li>\n",
    "                <li>XGBClassifier</li>\n",
    "            </ul>\n",
    "        <li>[Model selection - final](#5.6)</li>\n",
    "        <li>[Evaluation of the selected model](#5.7)</li>\n",
    "            <ul>\n",
    "                <li>ROC/AUC</li>\n",
    "                <li>TPR/TNR - Threshold</li>\n",
    "                <li>Precision(PPV)/NPV - Recall</li>\n",
    "                <li>Accuracy - Threshold</li>\n",
    "            </ul>\n",
    "    </ul>"
   ]
  },
  {
   "cell_type": "markdown",
   "id": "257f25ad",
   "metadata": {},
   "source": [
    "<a id='1.0'></a>\n",
    "<div class=\"alert alert-block alert-danger\">\n",
    "<h2>Functions to be used</h2>\n",
    "</div>"
   ]
  },
  {
   "cell_type": "markdown",
   "id": "666c09fb",
   "metadata": {},
   "source": [
    "<div class=\"alert alert-block alert-success\">\n",
    "    <h4>\n",
    "        Pandas\n",
    "    </h4>\n",
    "</div>"
   ]
  },
  {
   "cell_type": "code",
   "execution_count": 1,
   "id": "4d0ab724",
   "metadata": {},
   "outputs": [],
   "source": [
    "def count_null_columns(df):\n",
    "    df_null = pd.DataFrame(df.isnull().sum(), columns=['count'])\n",
    "    df_null = df_null[df_null[\"count\"] != 0]\n",
    "    if len(df_null.index) > 0:\n",
    "        return df_null[df_null['count']>0]\n",
    "    else:\n",
    "        print(\"There are no null values in the dataframe.\")"
   ]
  },
  {
   "cell_type": "code",
   "execution_count": 2,
   "id": "290a563a",
   "metadata": {},
   "outputs": [],
   "source": [
    "def percentCol(df, col):\n",
    "    df1 = df.groupby(col)[col].count().rename(\"count\").reset_index().sort_values(\"count\", ascending=False)\n",
    "    df1[\"percentage (%)\"] = 100*df1[\"count\"] / df1[\"count\"].sum()\n",
    "    df1 = df1.round({\"percentage (%)\": 1})\n",
    "#     df1 = df1.fillna('nan')\n",
    "    df1.set_index(df1.columns[0], inplace=True)\n",
    "    if len(df1) > 10:\n",
    "        df1 = df1[:8]\n",
    "        print(\"The first 8 items have been plotted.\")\n",
    "    return df1"
   ]
  },
  {
   "cell_type": "code",
   "execution_count": 3,
   "id": "7851debe",
   "metadata": {},
   "outputs": [],
   "source": [
    "from sklearn.metrics import confusion_matrix\n",
    "from sklearn.model_selection import GridSearchCV\n",
    "\n",
    "def evaluate_model(model, X_train, y_train, X_test, y_test, params):\n",
    "    cv = GridSearchCV(estimator=model, cv=10, scoring='accuracy', param_grid=params, \n",
    "#                        n_jobs=-1\n",
    "                     ).fit(X_train, y_train)\n",
    "    y_pred = cv.predict(X_test)\n",
    "    y_pred_proba = cv.predict_proba(X_test)\n",
    "    \n",
    "    model_cm = confusion_matrix(y_test, y_pred)\n",
    "    model_cm_norm = confusion_matrix(y_test, y_pred, normalize='true')\n",
    "    model_cm_metrics = confusion_matrix_func(model_cm, model_cm_norm)\n",
    "    \n",
    "    return model_cm_metrics, y_pred_proba"
   ]
  },
  {
   "cell_type": "markdown",
   "id": "3175cf00",
   "metadata": {},
   "source": [
    "<div class=\"alert alert-block alert-success\">\n",
    "    <h4>\n",
    "        Visualizations\n",
    "    </h4>\n",
    "</div>"
   ]
  },
  {
   "cell_type": "code",
   "execution_count": 4,
   "id": "a14b4e2f",
   "metadata": {},
   "outputs": [],
   "source": [
    "# plot a stacked bar chart to show how a feature is categorized using the another feature\n",
    "def stacked_bar_chart(df_target, target_col, col, figsize=(8,5)):\n",
    "    \n",
    "    df = df_target.groupby([target_col])[col].value_counts(dropna=False).to_frame()\\\n",
    "        .rename(columns={col: 'count'}).reset_index()\\\n",
    "        .pivot(index=target_col, columns=col, values='count').fillna(0)\n",
    "    \n",
    "    df[\"sum_each\"] = df.iloc[:,0] + df.iloc[:,1]\n",
    "    df.sort_values(\"sum_each\", ascending=False, inplace=True)\n",
    "    df.drop(\"sum_each\", axis=1, inplace=True)\n",
    "\n",
    "    if len(df) > 10:\n",
    "        df = df.iloc[:8, :]\n",
    "        print(\"The first 8 items have been plotted.\")\n",
    "    \n",
    "    print(df)\n",
    "    \n",
    "    fig, ax = plt.subplots(figsize=figsize)\n",
    "    width = 0.35\n",
    "    \n",
    "    cmap = matplotlib.cm.get_cmap(\"Set1\").colors\n",
    "\n",
    "    x = [str(i) for i in df.index]\n",
    "    y = 0\n",
    "    for i, col_group in enumerate(df.columns):\n",
    "        try:\n",
    "            ax.bar(x, df[col_group].values, width, bottom=y, color=cmap[i], label=df.columns[i], \n",
    "                   zorder=3)\n",
    "        except:\n",
    "            ax.bar(x, df[col_group].values, width, bottom=y, color=cmap(i), label=df.columns[i], \n",
    "                   zorder=3)\n",
    "        y += df[col_group].values\n",
    "    \n",
    "    ax.set_xticklabels(x, rotation = 45)\n",
    "    \n",
    "    ax.set_xlabel(df.index.name)\n",
    "    ax.set_ylabel('Count')\n",
    "    ax.legend()\n",
    "    ax.grid(axis='y', zorder=0, lw=0.2)\n",
    "        \n",
    "    plt.show()"
   ]
  },
  {
   "cell_type": "code",
   "execution_count": 5,
   "id": "22b37bc1",
   "metadata": {},
   "outputs": [],
   "source": [
    "def autopct(pct_max, pct, allvals):\n",
    "    if pct<pct_max:\n",
    "        return \"\"\n",
    "    else:\n",
    "        absolute = int(round(pct/100.*sum(allvals), 0))\n",
    "        return \"{p:.1f}% \\n({val})\".format(p=pct, val=absolute)\n",
    "\n",
    "def pie_chart(df, explode=None, title=None, pct_max=5, legend_pos=(0.8, 0, 0.4, 1), \n",
    "              p_theta_max=15, p_theta_min=2):\n",
    "#     df = df.toPandas().set_index(df.columns[0])\n",
    "#     df.index.name = None\n",
    "    items = df.index\n",
    "    values = df.iloc[:, 0]\n",
    "    percent = df.iloc[:, 1]\n",
    "    \n",
    "    fig, ax = plt.subplots(figsize=(8, 5), subplot_kw=dict(aspect=\"equal\"))\n",
    "    #################################################################\n",
    "    textprops = dict(horizontalalignment=\"center\", verticalalignment=\"center\", rotation=0, \n",
    "                     rotation_mode=\"anchor\", size=12, weight= \"bold\", color=\"white\")\n",
    "    wedgeprops=dict(edgecolor=\"black\", linewidth=1)\n",
    "    labels = [f\"{i} ({j} - {k:1.1f}%)\" for i,j,k in zip(items, values, percent)]\n",
    "    #################################################################\n",
    "    wedges, texts, autotexts = ax.pie(values, autopct=lambda pct: autopct(pct_max, pct, values), \n",
    "                                      textprops=textprops, radius=1, startangle=0, counterclock=True, \n",
    "                                      pctdistance = 0.6, wedgeprops=wedgeprops, explode=explode)\n",
    "    #################################################################\n",
    "    #---------------------------------------------------------------#\n",
    "    bbox_props = dict(boxstyle=\"square,pad=0.3\", fc=\"w\", ec=\"k\", lw=0.72)\n",
    "    kw = dict(arrowprops=dict(arrowstyle=\"-\"),\n",
    "              bbox=bbox_props, zorder=0, va=\"center\", ha=\"center\")\n",
    "\n",
    "    values_2 = [f\"{i:1.1f}% ({j})\" for i,j in zip(percent, values)]\n",
    "\n",
    "    for i, p in enumerate(wedges):\n",
    "        if (p.theta2 - p.theta1 < p_theta_max) & (p.theta2 - p.theta1 > p_theta_min):\n",
    "            ang = (p.theta2 - p.theta1)/2. + p.theta1\n",
    "            y = np.sin(np.deg2rad(ang))\n",
    "            x = np.cos(np.deg2rad(ang))\n",
    "            horizontalalignment = {-1: \"right\", 1: \"left\"}[int(np.sign(x))]\n",
    "            connectionstyle = \"angle,angleA=0,angleB={}\".format(ang)\n",
    "            kw[\"arrowprops\"].update({\"connectionstyle\": connectionstyle})\n",
    "            plt.annotate(values_2[i], xy=(x, y), xytext=(1.6*np.sign(x), 1.5*y),\n",
    "                        horizontalalignment=horizontalalignment, **kw)\n",
    "    #---------------------------------------------------------------#\n",
    "    ax.axis('equal')  # Equal aspect ratio ensures that pie is drawn as a circle.\n",
    "    ax.set_title(title, size=16, weight=\"bold\")\n",
    "\n",
    "    plt.legend(labels=labels, fontsize=12, bbox_to_anchor=legend_pos)\n",
    "        \n",
    "    plt.show()"
   ]
  },
  {
   "cell_type": "code",
   "execution_count": 6,
   "id": "df4bc760",
   "metadata": {},
   "outputs": [],
   "source": [
    "from scipy import stats\n",
    "\n",
    "def histogram(df, target_col, figsize=(8,5)):\n",
    "    fig, ax = plt.subplots(figsize=figsize)\n",
    "\n",
    "#     age_vals = [i[0] for i in df.select(target_col).na.drop().collect()]\n",
    "    age_vals = [i for i in df[target_col].dropna()]\n",
    "    \n",
    "    sigma = df[target_col].dropna().std() # standard deviation of distribution\n",
    "    mean = df[target_col].dropna().mean() # mean of distribution\n",
    "    median = np.median(age_vals)\n",
    "    mode = stats.mode(age_vals)[0][0]   \n",
    "\n",
    "    x = mean + sigma * np.random.randn(1000)\n",
    "\n",
    "    # fig, axes = plt.subplots(1, 1, figsize=(16, 6))\n",
    "    n, bins, patches = ax.hist(age_vals, 20, density=True, color='lightgreen', \n",
    "                                           stacked=True, alpha=0.75)\n",
    "\n",
    "    # add mean, median and mode lines\n",
    "    ax.axvline(mean, 0, 1, color='red', label='mean: {:.2f}'.format(mean))\n",
    "    ax.axvline(median, 0, 1, color='blue', label='median: {:.2f}'.format(median))\n",
    "    ax.axvline(mode, 0, 1, color='green', label='mode: {:.2f}'.format(mode))\n",
    "\n",
    "    # add a 'best fit' line\n",
    "    y = ((1 / (np.sqrt(2 * np.pi) * sigma)) *\n",
    "        np.exp(-0.5 * (1 / sigma * (bins - mean))**2))\n",
    "    ax.plot(bins, y, '--', color ='black')\n",
    "\n",
    "    ax.grid(True)\n",
    "    ax.set_ylabel('Probability')\n",
    "    ax.set_title(f'{target_col} (sigma={round(sigma, 2)})')\n",
    "    ax.legend()\n",
    "    fig.tight_layout()\n",
    "    fig.show()"
   ]
  },
  {
   "cell_type": "markdown",
   "id": "6bb353d3",
   "metadata": {},
   "source": [
    "<img src=\"https://miro.medium.com/max/1400/1*2c21SkzJMf3frPXPAR_gZA.png\" style=\"height:250px\">"
   ]
  },
  {
   "cell_type": "markdown",
   "id": "39e22b65",
   "metadata": {},
   "source": [
    "median (Q2/50th Percentile): the middle value of the dataset<br>\n",
    "first quartile (Q1/25th Percentile): the middle number between the smallest number (not the “minimum”) and the median of the dataset.<br>\n",
    "third quartile (Q3/75th Percentile): the middle value between the median and the highest value (not the “maximum”) of the dataset.<br>\n",
    "interquartile range (IQR): 25th to the 75th percentile.<br>\n",
    "whiskers (shown in blue)<br>\n",
    "outliers (shown as green circles)<br>\n",
    "“maximum”: Q3 + 1.5*IQR<br>\n",
    "“minimum”: Q1 -1.5*IQR<br>"
   ]
  },
  {
   "cell_type": "code",
   "execution_count": 7,
   "id": "37e2dee2",
   "metadata": {},
   "outputs": [],
   "source": [
    "# plot a boxplot to show how the values in the dataset are spread out\n",
    "def box_plot(df, label):\n",
    "    fig, ax = plt.subplots(figsize = (10, 1))\n",
    "    # rectangular box plot\n",
    "    bplot = ax.boxplot(df,\n",
    "                           vert=False,  # vertical box alignment\n",
    "                           notch=True,  # notch shape\n",
    "                           patch_artist=True,  # fill with color\n",
    "                           labels=[label]  # will be used to label x-ticks\n",
    "                          )\n",
    "    # fill with colors\n",
    "    colors = ['pink', 'lightblue', 'lightgreen']\n",
    "    for box in (bplot):\n",
    "        for patch, color in zip(bplot['boxes'], colors):\n",
    "            patch.set_facecolor(color)\n",
    "\n",
    "\n",
    "    whiskers_1 = bplot['whiskers'][0].get_xdata()[1]\n",
    "    whiskers_2 = bplot['whiskers'][0].get_xdata()[0]\n",
    "    median = bplot['medians'][0].get_xdata()[0]\n",
    "    whiskers_3 = bplot['whiskers'][1].get_xdata()[0]\n",
    "    whiskers_4 = bplot['whiskers'][1].get_xdata()[1]\n",
    "    \n",
    "    ax.text(whiskers_1, 1.15, f\"{whiskers_1}\", ha='center', va='center', color='b', size=13)\n",
    "    ax.text(whiskers_2, 1.25, f\"{whiskers_2}\", ha='center', va='center', color='b', size=13)\n",
    "    ax.text(median, 0.7, f\"{median}\", ha='center', va='center', color='b', size=13)\n",
    "    ax.text(whiskers_3, 1.25, f\"{whiskers_3}\", ha='center', va='center', color='b', size=13)\n",
    "    ax.text(whiskers_4, 1.15, f\"{whiskers_4}\", ha='center', va='center', color='b', size=13)\n",
    "\n",
    "    ax.xaxis.grid(True)\n",
    "    plt.show()\n",
    "\n",
    "    outliers = bplot['fliers'][0].get_xdata()"
   ]
  },
  {
   "cell_type": "code",
   "execution_count": 8,
   "id": "d84cbecb",
   "metadata": {},
   "outputs": [],
   "source": [
    "def balanceOrInbalance(df_label):\n",
    "    col = df_label.index.name\n",
    "    uniqs = [str(i) for i in df_label.index]\n",
    "    vals = [i for i in df_label[\"count\"].values]\n",
    "    \n",
    "    fig, ax = plt.subplots(figsize = (12, 2))\n",
    "    # Horizontal bar chart\n",
    "    ax.barh(uniqs, vals, align='center', color=['red', 'green'])\n",
    "    ax.text(vals[0]-vals[0]*0.1, 0, vals[0], ha='center', va='center', color='w', size=20)\n",
    "    ax.text(vals[1]-vals[1]*0.2, 1, vals[1], ha='center', va='center', color='w', size=20)\n",
    "    ax.set_ylabel(col)\n",
    "    ax.set_title('Balance situation in the dependent feature')\n",
    "\n",
    "    plt.show()"
   ]
  },
  {
   "cell_type": "markdown",
   "id": "6ab69c70",
   "metadata": {},
   "source": [
    "<div class=\"alert alert-block alert-success\">\n",
    "    <h4>\n",
    "        Confusion matrix and metrics\n",
    "    </h4>\n",
    "</div>"
   ]
  },
  {
   "cell_type": "code",
   "execution_count": 9,
   "id": "7f9040be",
   "metadata": {},
   "outputs": [],
   "source": [
    "import math\n",
    "\n",
    "def TP_FP_TN_FN_func(cm, dataframe):\n",
    "    \n",
    "    TN, FP, FN, TP = cm.ravel()\n",
    "\n",
    "    #____________ METRICS ____________#\n",
    "    # Sensitivity, hit rate, recall, or true positive rate\n",
    "    TPR = round(TP / (TP + FN), 2)\n",
    "    # Specificity, selectivity or true negative rate (TNR)\n",
    "    TNR = round(TN / (TN + FP), 2)\n",
    "\n",
    "    # accuracy (ACC)\n",
    "    ACC = round((TP + TN) / (TP + TN + FP + FN), 2)\n",
    "    # balanced accuracy (BA)\n",
    "    BA = round((TPR + TNR) / 2, 2)\n",
    "\n",
    "    # Precision or positive predictive value\n",
    "    PPV = round(TP / (TP + FP), 2)\n",
    "    # negative predictive value (NPV)\n",
    "    NPV = round(TN / (TN + FN), 2)\n",
    "    # false discovery rate (FDR)\n",
    "    FDR = round(1 - PPV, 2)\n",
    "    # false omission rate (FOR)\n",
    "    FOR = round(1 - NPV, 2)\n",
    "\n",
    "    # prevalence threshold (PT)\n",
    "    PT = round((math.sqrt(TPR*(1 - TNR)) + TNR - 1)/(TPR + TNR - 1), 2)\n",
    "    # F1 score\n",
    "    F1 = round(2*TP / (2*TP + FP + FN), 2)\n",
    "    # Matthews correlation coefficient (MCC) or phi coefficient\n",
    "    MCC = round(((TP*TN) - (FP*FN)) / math.sqrt((TP + FP)*(TP + FN)*(TN + FP)*(TN + FN)), 2)\n",
    "\n",
    "    # False positive rate or False alarm rate\n",
    "    FPR = round(FP / (FP + TN), 2)\n",
    "    # False negative rate or Miss Rate\n",
    "    FNR = round(FN / (FN + TP), 2)\n",
    "    \n",
    "\n",
    "    metrics_cols = ['True Positive Rate', 'True Negative Rate', 'Accuracy', 'Balanced Accuracy', \n",
    "                    'Precision', 'Negative Predictive Value', 'False Discovery Rate', 'False Omission Rate', \n",
    "                  'Prevalence Threshold', 'F1 Score', 'Matthews Correlation Coefficient', \n",
    "                  'False positive rate', 'False Negative Rate']\n",
    "    df_cm_metrics = pd.DataFrame([[TPR, TNR, ACC, BA, PPV, NPV, FDR, FOR, PT, F1, MCC, FPR, FNR]], \n",
    "                                 columns=metrics_cols, index=[\"\"])\n",
    "    \n",
    "    return df_cm_metrics\n",
    "\n",
    "def confusion_matrix_func(cm, cm_norm, threshold=0.5):\n",
    "    cm = cm.astype(int)\n",
    "\n",
    "    #############################\n",
    "    # Set up the matplotlib figure\n",
    "    fig, axes = plt.subplots(1, 2, figsize=(8, 4))\n",
    "#     fig, axes = plt.subplots(figsize=(4, 4))\n",
    "\n",
    "    # Plot the heatmap\n",
    "    im = axes[0].imshow(cm, interpolation='nearest', cmap='Reds', aspect='auto')\n",
    "    im_norm = axes[1].imshow(cm_norm, interpolation='nearest', cmap='Reds', aspect='auto')\n",
    "    \n",
    "    # show all ticks\n",
    "    axes[0].set_xticks(np.arange(len(cm.tolist())))\n",
    "    axes[0].set_yticks(np.arange(len(cm.tolist())))\n",
    "    axes[1].set_xticks(np.arange(len(cm_norm.tolist())))\n",
    "    axes[1].set_yticks(np.arange(len(cm_norm.tolist())))\n",
    "\n",
    "    thresh = cm.max() / 1.5\n",
    "    # Loop over data dimensions and create text annotations.\n",
    "    for i in range(len(cm.tolist())):\n",
    "        for j in range(len(cm.tolist())):\n",
    "            text = axes[0].text(j, i, cm.tolist()[i][j],\n",
    "                           ha=\"center\", va=\"center\", size=16,\n",
    "                           color=\"white\" if cm[i, j] > thresh else \"black\")\n",
    "            \n",
    "    for i in range(len(cm_norm.tolist())):\n",
    "        for j in range(len(cm_norm.tolist())):\n",
    "            text = axes[1].text(j, i, f\"{round(cm_norm.tolist()[i][j]*100, 1)} %\",\n",
    "                           ha=\"center\", va=\"center\", size=16,\n",
    "                           color=\"white\" if cm_norm[i, j] > 0.5 else \"black\")\n",
    "    # Let the horizontal axes labeling appear on top.\n",
    "    axes[0].xaxis.set_ticks_position('top')\n",
    "    axes[0].xaxis.set_label_position('top')\n",
    "    axes[0].set_xlabel('Predicted value', size=16)\n",
    "    axes[0].set_ylabel('Actual value', size=16)\n",
    "    axes[0].set_title(\"Confusion matrix\", fontsize=16, color=\"blue\")\n",
    "\n",
    "    axes[1].xaxis.set_ticks_position('top')\n",
    "    axes[1].xaxis.set_label_position('top')\n",
    "    axes[1].set_xlabel('Predicted value', size=16)\n",
    "    axes[1].set_ylabel('Actual value', size=16)\n",
    "    axes[1].set_title(\"Normalized confusion matrix\", fontsize=16, color=\"blue\")\n",
    "    \n",
    "    fig.tight_layout()\n",
    "    fig.show()\n",
    "    \n",
    "#     get the metric values as a dataframe\n",
    "    df_cm_metrics = TP_FP_TN_FN_func(cm, 'Test')\n",
    "    \n",
    "    return df_cm_metrics"
   ]
  },
  {
   "cell_type": "code",
   "execution_count": 10,
   "id": "5c906e7a",
   "metadata": {},
   "outputs": [],
   "source": [
    "# def horizontal_bar_chart(df, col, pos_0=-500, color_0='w', pos_1=500, color_1='w'):\n",
    "#     fig, ax = plt.subplots(figsize = (12, 2))\n",
    "#     ax.barh(df[col].value_counts().index, df[col].value_counts().values, \n",
    "#             align='center', color=['red', 'green'])\n",
    "#     ax.text(df[col].value_counts().values[0]+pos_0, 0, df[col].value_counts()[0], \n",
    "#             ha='center', va='center', color=color_0, size=20)\n",
    "#     ax.text(df[col].value_counts().values[1]+pos_1, 1, df[col].value_counts()[1], \n",
    "#             ha='center', va='center', color=color_1, size=20)\n",
    "#     ax.set_yticks(df[col].unique())\n",
    "#     ax.set_ylabel(col)\n",
    "#     ax.set_title(col)\n",
    "\n",
    "#     plt.show()"
   ]
  },
  {
   "cell_type": "markdown",
   "id": "7b96b3ad",
   "metadata": {},
   "source": [
    "<div class=\"alert alert-block alert-success\">\n",
    "    <h4>\n",
    "        Encoding\n",
    "    </h4>\n",
    "</div>"
   ]
  },
  {
   "cell_type": "markdown",
   "id": "382e51ab",
   "metadata": {},
   "source": [
    "https://scikit-learn.org/stable/modules/generated/sklearn.preprocessing.OneHotEncoder.html"
   ]
  },
  {
   "cell_type": "code",
   "execution_count": 11,
   "id": "11a0174d",
   "metadata": {},
   "outputs": [],
   "source": [
    "# One Hot Encoding: Encode categorical features as a one-hot numeric array.\n",
    "# find the unique values per feature and transform the data to a binary one-hot encoding\n",
    "from sklearn.preprocessing import OneHotEncoder\n",
    "import pandas as pd\n",
    "\n",
    "def ohe_to_df(df_encoded, ohe_col_name, df_org, ohe_col):\n",
    "    df_enc = pd.DataFrame(data=df_encoded, columns=ohe_col_name)\n",
    "    \n",
    "    # Some rows can be deleted since they are outliers.\n",
    "    # Therefore, the index numbers are replaced with the existing dataframe\n",
    "    df_enc.set_index(df_org.index, inplace=True)\n",
    "    \n",
    "    # drop the feature to be encoded from the main dataframe and \n",
    "    # concatenate the main dataframe with the encoded one\n",
    "    df_org_dropped = df_org.drop(ohe_col, axis=1)\n",
    "    df_finished = pd.concat([df_org_dropped, df_enc], axis=1)\n",
    "    df_finished[ohe_col_name] = df_finished[ohe_col_name].astype(int)\n",
    "    \n",
    "    return df_finished\n",
    "    \n",
    "# One Hot Encoding the columns.\n",
    "def one_hot_encoding(train=pd.DataFrame(), test=pd.DataFrame(), ohe_col=None):\n",
    "    train_for_ohe = train[[ohe_col]]\n",
    "    \n",
    "    ohe = OneHotEncoder(handle_unknown='ignore', sparse=False)\n",
    "    \n",
    "    # Fit OneHotEncoder to X, then transform X\n",
    "    ohe.fit(train_for_ohe)\n",
    "    train_encoded = ohe.transform(train_for_ohe)\n",
    "\n",
    "    # create feature names for the created binary columns using the feature name to be encoded and uniques\n",
    "    ohe_col_name = ohe.get_feature_names([ohe_col]).tolist()\n",
    "    \n",
    "    df_train_encoded = ohe_to_df(train_encoded, ohe_col_name, train, ohe_col)\n",
    "    \n",
    "    if len(test)>0:\n",
    "        test_for_ohe = test[[ohe_col]]\n",
    "        test_encoded = ohe.transform(test_for_ohe)\n",
    "        df_test_encoded = ohe_to_df(test_encoded, ohe_col_name, test, ohe_col)\n",
    "\n",
    "        return df_train_encoded, df_test_encoded\n",
    "    return df_train_encoded"
   ]
  },
  {
   "cell_type": "code",
   "execution_count": 12,
   "id": "9de3daf1",
   "metadata": {},
   "outputs": [],
   "source": [
    "# Convert each value in a categorical column to a number from 0 to the number of items-1 by encoding \n",
    "def encode_categorical_column(df, col):\n",
    "    # get unique values\n",
    "    unique_vals = df[col].value_counts(dropna=True).index.to_list()\n",
    "    \n",
    "    if df[col].dtypes == 'object':\n",
    "        # get a counter in the for loop and replace each unique value with the count to encode \n",
    "        for i, j in enumerate(unique_vals):\n",
    "            df[col].replace(j, i, inplace=True)\n",
    "    return df"
   ]
  },
  {
   "cell_type": "markdown",
   "id": "45d88f00",
   "metadata": {},
   "source": [
    "<div class=\"alert alert-block alert-success\">\n",
    "    <h4>\n",
    "        KBinsDiscretizer\n",
    "    </h4>\n",
    "</div>"
   ]
  },
  {
   "cell_type": "markdown",
   "id": "987d947f",
   "metadata": {},
   "source": [
    "https://scikit-learn.org/stable/modules/generated/sklearn.preprocessing.KBinsDiscretizer.html?highlight=kbinsdiscretizer#sklearn.preprocessing.KBinsDiscretizer"
   ]
  },
  {
   "cell_type": "code",
   "execution_count": 13,
   "id": "6a128723",
   "metadata": {},
   "outputs": [],
   "source": [
    "from sklearn.preprocessing import KBinsDiscretizer\n",
    "\n",
    "def k_bins_discretizer(df, col_kbd, n_bins, strategy):\n",
    "    kbd = KBinsDiscretizer(n_bins = n_bins, encode = 'ordinal', strategy = strategy)\n",
    "    df[col_kbd] = kbd.fit_transform(df[col_kbd].values.reshape(-1,1)).astype('int64')\n",
    "\n",
    "    return df"
   ]
  },
  {
   "cell_type": "markdown",
   "id": "aaddc5bd",
   "metadata": {},
   "source": [
    "<div class=\"alert alert-block alert-success\">\n",
    "    <h4>\n",
    "        Scaler (Standard, MinMax)\n",
    "    </h4>\n",
    "</div>"
   ]
  },
  {
   "cell_type": "code",
   "execution_count": 14,
   "id": "ffd73e68",
   "metadata": {},
   "outputs": [],
   "source": [
    "from sklearn.preprocessing import StandardScaler, MinMaxScaler, Normalizer\n",
    "import pandas as pd\n",
    "\n",
    "def featureScaler(scalerType, train, col=None, test=pd.DataFrame()):\n",
    "    if scalerType == \"standard\":\n",
    "        scaler = StandardScaler()\n",
    "    elif scalerType == \"minMax\":\n",
    "        scaler = MinMaxScaler()\n",
    "    elif scalerType == \"normalize\":\n",
    "        scaler = Normalizer()\n",
    "                \n",
    "    train[col] = scaler.fit_transform(train[[col]])\n",
    "    if len(test)>0:\n",
    "        test[col] = scaler.transform(test[[col]])\n",
    "        return train, test\n",
    "    return train"
   ]
  },
  {
   "cell_type": "code",
   "execution_count": 15,
   "id": "c7317c2b",
   "metadata": {},
   "outputs": [],
   "source": [
    "# from sklearn.preprocessing import StandardScaler\n",
    "# from sklearn.preprocessing import MinMaxScaler\n",
    "# import pandas as pd\n",
    "\n",
    "# def featureScaler(scalerType, train, col=None, test=pd.DataFrame()):\n",
    "#     if scalerType == \"standard\":\n",
    "#         scaler = StandardScaler()\n",
    "#     elif scalerType == \"minMax\":\n",
    "#         scaler = MinMaxScaler()\n",
    "                \n",
    "#     train[col] = scaler.fit_transform(train[[col]])\n",
    "#     if len(test)>0:\n",
    "#         test[col] = scaler.transform(test[[col]])\n",
    "#         return train, test\n",
    "#     return train"
   ]
  },
  {
   "cell_type": "markdown",
   "id": "3a605e9b",
   "metadata": {},
   "source": [
    "<div class=\"alert alert-block alert-success\">\n",
    "    <h4>\n",
    "        Missing value imputation\n",
    "    </h4>\n",
    "</div>"
   ]
  },
  {
   "cell_type": "markdown",
   "id": "9292a8fa",
   "metadata": {},
   "source": [
    "https://scikit-learn.org/stable/modules/generated/sklearn.impute.IterativeImputer.html?highlight=iterativeimputer#sklearn.impute.IterativeImputer\n",
    "- Imputation is the practice of replacing missing values in data with substitute values\n",
    "- multivariate imputer that estimates each feature from all the others (takes other features into account)\n",
    "- can be chosen which regression model is used \n",
    "- SimpleImputer, (takes only single feature into account)\n",
    "- IterativeImputer, KNNImputer"
   ]
  },
  {
   "cell_type": "markdown",
   "id": "e196ebe6",
   "metadata": {},
   "source": [
    "Parameters:\n",
    "- estimator : estimator object, default=BayesianRidge()\n",
    "- n_nearest_features: Number of other features to use to estimate the missing values of each feature column. \n",
    "- initial_strategy: default=’mean’ {“mean”, “median”, “most_frequent”, or “constant”}\n",
    "- imputation_order: default=’ascending’ {“ascending”, “descending”, “roman”, “arabic”, \"random\"}\n",
    "- max_iter default=10: Maximum number of imputation rounds to perform before returning the imputations computed during the final round. "
   ]
  },
  {
   "cell_type": "code",
   "execution_count": 16,
   "id": "d08a057e",
   "metadata": {},
   "outputs": [],
   "source": [
    "from sklearn.experimental import enable_iterative_imputer\n",
    "from sklearn.impute import IterativeImputer\n",
    "from sklearn.ensemble import RandomForestRegressor\n",
    "\n",
    "def imputing_missing_values(train, test, col_target, col_drop):\n",
    "    \n",
    "    df_corr = pd.DataFrame(abs(train.drop(col_drop, axis=1).corr()[col_target])).sort_values(col_target, \n",
    "                                                                                             ascending=False)\n",
    "    df_corr_list = df_corr[df_corr[col_target] > 0.1].index.tolist()\n",
    "    \n",
    "    estimator = RandomForestRegressor(n_jobs=-1)\n",
    "    imp = IterativeImputer(estimator=estimator, verbose=0, max_iter=10)\n",
    "    imp.fit(train[df_corr_list])\n",
    "    df_imp_train = pd.DataFrame(imp.transform(train[df_corr_list]), columns=df_corr_list)\n",
    "    train[col_target] = df_imp_train[col_target]\n",
    "    train[col_target] = train[col_target].astype('int64')\n",
    "    \n",
    "    df_imp_test = pd.DataFrame(imp.transform(test[df_corr_list]), columns=df_corr_list)\n",
    "    test[col_target] = df_imp_test[col_target]\n",
    "    test[col_target] = test[col_target].astype('int64')\n",
    "\n",
    "    return train, test\n",
    "# # KNNImputer\n",
    "\n",
    "# from sklearn.impute import KNNImputer\n",
    "\n",
    "# knn_imp = KNNImputer(n_neighbors=5)\n",
    "# knn_imp.fit(train[df_age_corr_list])\n",
    "# df_age_knnimp = pd.DataFrame(knn_imp.transform(train[df_age_corr_list]))\n",
    "# df_age_knnimp.head()"
   ]
  },
  {
   "cell_type": "markdown",
   "id": "6b377cf2",
   "metadata": {},
   "source": [
    "<a id='2.0'></a>\n",
    "<div class=\"alert alert-block alert-danger\">\n",
    "<h2>Import Libraries</h2>\n",
    "</div>"
   ]
  },
  {
   "cell_type": "code",
   "execution_count": 17,
   "id": "fa72324f",
   "metadata": {},
   "outputs": [],
   "source": [
    "import warnings\n",
    "warnings.filterwarnings('ignore')\n",
    "\n",
    "import os\n",
    "os.environ['TF_CPP_MIN_LOG_LEVEL'] = '2'    # ignore information messages\n",
    "\n",
    "import math\n",
    "import numpy as np \n",
    "import pandas as pd\n",
    "# display all of the columns\n",
    "pd.set_option('display.max_columns', None)\n",
    "\n",
    "import matplotlib     # for cmap color\n",
    "from matplotlib import pyplot as plt\n",
    "%matplotlib inline"
   ]
  },
  {
   "cell_type": "markdown",
   "id": "a6e829e7",
   "metadata": {},
   "source": [
    "<a id='3.0'></a>\n",
    "<div class=\"alert alert-block alert-danger\">\n",
    "<h2>Load The Data</h2>\n",
    "</div>"
   ]
  },
  {
   "cell_type": "code",
   "execution_count": 18,
   "id": "9620c20b",
   "metadata": {},
   "outputs": [
    {
     "data": {
      "text/html": [
       "<div>\n",
       "<style scoped>\n",
       "    .dataframe tbody tr th:only-of-type {\n",
       "        vertical-align: middle;\n",
       "    }\n",
       "\n",
       "    .dataframe tbody tr th {\n",
       "        vertical-align: top;\n",
       "    }\n",
       "\n",
       "    .dataframe thead th {\n",
       "        text-align: right;\n",
       "    }\n",
       "</style>\n",
       "<table border=\"1\" class=\"dataframe\">\n",
       "  <thead>\n",
       "    <tr style=\"text-align: right;\">\n",
       "      <th></th>\n",
       "      <th>UDI</th>\n",
       "      <th>Product ID</th>\n",
       "      <th>Type</th>\n",
       "      <th>Air temperature [K]</th>\n",
       "      <th>Process temperature [K]</th>\n",
       "      <th>Rotational speed [rpm]</th>\n",
       "      <th>Torque [Nm]</th>\n",
       "      <th>Tool wear [min]</th>\n",
       "      <th>Machine failure</th>\n",
       "      <th>TWF</th>\n",
       "      <th>HDF</th>\n",
       "      <th>PWF</th>\n",
       "      <th>OSF</th>\n",
       "      <th>RNF</th>\n",
       "    </tr>\n",
       "  </thead>\n",
       "  <tbody>\n",
       "    <tr>\n",
       "      <th>0</th>\n",
       "      <td>1</td>\n",
       "      <td>M14860</td>\n",
       "      <td>M</td>\n",
       "      <td>298.1</td>\n",
       "      <td>308.6</td>\n",
       "      <td>1551</td>\n",
       "      <td>42.8</td>\n",
       "      <td>0</td>\n",
       "      <td>0</td>\n",
       "      <td>0</td>\n",
       "      <td>0</td>\n",
       "      <td>0</td>\n",
       "      <td>0</td>\n",
       "      <td>0</td>\n",
       "    </tr>\n",
       "    <tr>\n",
       "      <th>1</th>\n",
       "      <td>2</td>\n",
       "      <td>L47181</td>\n",
       "      <td>L</td>\n",
       "      <td>298.2</td>\n",
       "      <td>308.7</td>\n",
       "      <td>1408</td>\n",
       "      <td>46.3</td>\n",
       "      <td>3</td>\n",
       "      <td>0</td>\n",
       "      <td>0</td>\n",
       "      <td>0</td>\n",
       "      <td>0</td>\n",
       "      <td>0</td>\n",
       "      <td>0</td>\n",
       "    </tr>\n",
       "    <tr>\n",
       "      <th>2</th>\n",
       "      <td>3</td>\n",
       "      <td>L47182</td>\n",
       "      <td>L</td>\n",
       "      <td>298.1</td>\n",
       "      <td>308.5</td>\n",
       "      <td>1498</td>\n",
       "      <td>49.4</td>\n",
       "      <td>5</td>\n",
       "      <td>0</td>\n",
       "      <td>0</td>\n",
       "      <td>0</td>\n",
       "      <td>0</td>\n",
       "      <td>0</td>\n",
       "      <td>0</td>\n",
       "    </tr>\n",
       "    <tr>\n",
       "      <th>3</th>\n",
       "      <td>4</td>\n",
       "      <td>L47183</td>\n",
       "      <td>L</td>\n",
       "      <td>298.2</td>\n",
       "      <td>308.6</td>\n",
       "      <td>1433</td>\n",
       "      <td>39.5</td>\n",
       "      <td>7</td>\n",
       "      <td>0</td>\n",
       "      <td>0</td>\n",
       "      <td>0</td>\n",
       "      <td>0</td>\n",
       "      <td>0</td>\n",
       "      <td>0</td>\n",
       "    </tr>\n",
       "    <tr>\n",
       "      <th>4</th>\n",
       "      <td>5</td>\n",
       "      <td>L47184</td>\n",
       "      <td>L</td>\n",
       "      <td>298.2</td>\n",
       "      <td>308.7</td>\n",
       "      <td>1408</td>\n",
       "      <td>40.0</td>\n",
       "      <td>9</td>\n",
       "      <td>0</td>\n",
       "      <td>0</td>\n",
       "      <td>0</td>\n",
       "      <td>0</td>\n",
       "      <td>0</td>\n",
       "      <td>0</td>\n",
       "    </tr>\n",
       "  </tbody>\n",
       "</table>\n",
       "</div>"
      ],
      "text/plain": [
       "   UDI Product ID Type  Air temperature [K]  Process temperature [K]  \\\n",
       "0    1     M14860    M                298.1                    308.6   \n",
       "1    2     L47181    L                298.2                    308.7   \n",
       "2    3     L47182    L                298.1                    308.5   \n",
       "3    4     L47183    L                298.2                    308.6   \n",
       "4    5     L47184    L                298.2                    308.7   \n",
       "\n",
       "   Rotational speed [rpm]  Torque [Nm]  Tool wear [min]  Machine failure  TWF  \\\n",
       "0                    1551         42.8                0                0    0   \n",
       "1                    1408         46.3                3                0    0   \n",
       "2                    1498         49.4                5                0    0   \n",
       "3                    1433         39.5                7                0    0   \n",
       "4                    1408         40.0                9                0    0   \n",
       "\n",
       "   HDF  PWF  OSF  RNF  \n",
       "0    0    0    0    0  \n",
       "1    0    0    0    0  \n",
       "2    0    0    0    0  \n",
       "3    0    0    0    0  \n",
       "4    0    0    0    0  "
      ]
     },
     "execution_count": 18,
     "metadata": {},
     "output_type": "execute_result"
    }
   ],
   "source": [
    "df = pd.read_csv('../../all_dfs/ai4i2020.csv')\n",
    "df.head()"
   ]
  },
  {
   "cell_type": "markdown",
   "id": "2239d534",
   "metadata": {},
   "source": [
    "Attribute Information:\n",
    "\n",
    "The dataset consists of 10 000 data points stored as rows with 14 features in columns<br>\n",
    "UID: unique identifier ranging from 1 to 10000<br>\n",
    "Product ID: consisting of a letter L, M, or H for low (50% of all products), medium (30%) and high (20%) as "
   ]
  },
  {
   "cell_type": "markdown",
   "id": "d8fba564",
   "metadata": {},
   "source": [
    "<div class=\"alert alert-block alert-warning\">\n",
    "        Rename columns\n",
    "</div>"
   ]
  },
  {
   "cell_type": "code",
   "execution_count": 19,
   "id": "55183e7e",
   "metadata": {},
   "outputs": [],
   "source": [
    "df = df.rename(columns={'Product ID': 'Product_ID', 'Air temperature [K]': 'Air_temperature',\n",
    "                        'Process temperature [K]': 'Process_temperature', 'Torque [Nm]': 'Torque',\n",
    "                        'Rotational speed [rpm]': 'Rotational_speed', 'Tool wear [min]': 'Tool_wear',\n",
    "                        'Machine failure': 'Machine_failure'})"
   ]
  },
  {
   "cell_type": "markdown",
   "id": "f91acf3d",
   "metadata": {},
   "source": [
    "<a id='4.0'></a>\n",
    "<div class=\"alert alert-block alert-danger\">\n",
    "<h2>Exploratory Data Analysis (EDA)</h2>\n",
    "</div>"
   ]
  },
  {
   "cell_type": "markdown",
   "id": "0b4d1aec",
   "metadata": {},
   "source": [
    "<a id='4.1'></a>\n",
    "<div class=\"alert alert-block alert-info\">\n",
    "   <h3>\n",
    "        Analyze each feature\n",
    "   </h3>\n",
    "</div>"
   ]
  },
  {
   "cell_type": "markdown",
   "id": "c4e99f98",
   "metadata": {},
   "source": [
    "<div class=\"alert alert-block alert-warning\">\n",
    "        Check missing values\n",
    "</div>"
   ]
  },
  {
   "cell_type": "code",
   "execution_count": 20,
   "id": "92555511",
   "metadata": {},
   "outputs": [
    {
     "name": "stdout",
     "output_type": "stream",
     "text": [
      "There are no null values in the dataframe.\n"
     ]
    }
   ],
   "source": [
    "count_null_columns(df)"
   ]
  },
  {
   "cell_type": "markdown",
   "id": "ebca3fb2",
   "metadata": {},
   "source": [
    "<div class=\"alert alert-block alert-success\">\n",
    "    <h4>\n",
    "        Machine_failure\n",
    "    </h4>\n",
    "</div>"
   ]
  },
  {
   "cell_type": "markdown",
   "id": "9f4d1a92",
   "metadata": {},
   "source": [
    "'machine failure' label that indicates, whether the machine has failed in this particular datapoint for any of the following failure modes are true."
   ]
  },
  {
   "cell_type": "code",
   "execution_count": 21,
   "id": "4592a668",
   "metadata": {},
   "outputs": [
    {
     "data": {
      "image/png": "[encoded data removed]",
      "text/plain": [
       "<Figure size 576x360 with 1 Axes>"
      ]
     },
     "metadata": {},
     "output_type": "display_data"
    }
   ],
   "source": [
    "df_Machine_failure  = percentCol(df, 'Machine_failure')\n",
    "pie_chart(df_Machine_failure , title='Machine_failure')"
   ]
  },
  {
   "cell_type": "markdown",
   "id": "2f3bddeb",
   "metadata": {},
   "source": [
    "<div class=\"alert alert-block alert-warning\">\n",
    "        Failures\n",
    "</div>"
   ]
  },
  {
   "cell_type": "markdown",
   "id": "071724cb",
   "metadata": {},
   "source": [
    "The machine failure consists of five independent failure modes<br>\n",
    "- tool wear failure (TWF): the tool will be replaced of fail at a randomly selected tool wear time between 200 â€“ 240 mins (120 times in our dataset). At this point in time, the tool is replaced 69 times, and fails 51 times (randomly assigned).<br>\n",
    "- heat dissipation failure (HDF): heat dissipation causes a process failure, if the difference between air- and process temperature is below 8.6 K and the toolâ€™s rotational speed is below 1380 rpm. This is the case for 115 data points.<br>\n",
    "- power failure (PWF): the product of torque and rotational speed (in rad/s) equals the power required for the process. If this power is below 3500 W or above 9000 W, the process fails, which is the case 95 times in our dataset.<br>\n",
    "- overstrain failure (OSF): if the product of tool wear and torque exceeds 11,000 minNm for the L product variant (12,000 M, 13,000 H), the process fails due to overstrain. This is true for 98 datapoints.<br>\n",
    "- random failures (RNF): each process has a chance of 0,1 % to fail regardless of its process parameters. This is the case for only 5 datapoints, less than could be expected for 10,000 datapoints in our dataset.<br>\n",
    "\n",
    "If at least one of the above failure modes is true, the process fails and the 'machine failure' label is set to 1. It is therefore not transparent to the machine learning method, which of the failure modes has caused the process to fail<br>"
   ]
  },
  {
   "cell_type": "code",
   "execution_count": 22,
   "id": "5a5d62cb",
   "metadata": {},
   "outputs": [],
   "source": [
    "df_failure = df[df[\"Machine_failure\"]==1][[\"TWF\", \"HDF\", \"PWF\", \"OSF\", \"RNF\"]]"
   ]
  },
  {
   "cell_type": "code",
   "execution_count": 23,
   "id": "3d611072",
   "metadata": {},
   "outputs": [
    {
     "data": {
      "image/png": "[encoded data removed]",
      "text/plain": [
       "<Figure size 432x288 with 1 Axes>"
      ]
     },
     "metadata": {
      "needs_background": "light"
     },
     "output_type": "display_data"
    }
   ],
   "source": [
    "fig, ax = plt.subplots()\n",
    "width = 0.35\n",
    "x = [str(i) for i in df_failure.sum().index]\n",
    "y = df_failure.sum().values\n",
    "ax.bar(x, y, width)\n",
    "\n",
    "ax.set_xlabel(\"Failures\")\n",
    "plt.show()"
   ]
  },
  {
   "cell_type": "markdown",
   "id": "bfe29073",
   "metadata": {},
   "source": [
    "<div class=\"alert alert-block alert-warning\">\n",
    "        Balanced or imbalanced?\n",
    "</div>"
   ]
  },
  {
   "cell_type": "code",
   "execution_count": 24,
   "id": "ac16e126",
   "metadata": {},
   "outputs": [
    {
     "data": {
      "image/png": "[encoded data removed]",
      "text/plain": [
       "<Figure size 864x144 with 1 Axes>"
      ]
     },
     "metadata": {
      "needs_background": "light"
     },
     "output_type": "display_data"
    }
   ],
   "source": [
    "balanceOrInbalance(df_Machine_failure)"
   ]
  },
  {
   "cell_type": "markdown",
   "id": "07b33d0b",
   "metadata": {},
   "source": [
    "- The difference between 0 and 1 in the dependent feature is very high. So the dataset is in imbalance."
   ]
  },
  {
   "cell_type": "markdown",
   "id": "62487149",
   "metadata": {},
   "source": [
    "<div class=\"alert alert-block alert-success\">\n",
    "    <h4>\n",
    "        Type\n",
    "    </h4>\n",
    "</div>"
   ]
  },
  {
   "cell_type": "markdown",
   "id": "2bbcb55e",
   "metadata": {},
   "source": [
    "Consisting of a letter L, M, or H for low (50% of all products), medium (30%) and high (20%) as product quality variants"
   ]
  },
  {
   "cell_type": "code",
   "execution_count": 25,
   "id": "691abf0f",
   "metadata": {},
   "outputs": [
    {
     "data": {
      "image/png": "[encoded data removed]",
      "text/plain": [
       "<Figure size 576x360 with 1 Axes>"
      ]
     },
     "metadata": {},
     "output_type": "display_data"
    }
   ],
   "source": [
    "df_Type  = percentCol(df, 'Type')\n",
    "pie_chart(df_Type , title='Type')"
   ]
  },
  {
   "cell_type": "code",
   "execution_count": 26,
   "id": "f019b2fd",
   "metadata": {},
   "outputs": [
    {
     "name": "stdout",
     "output_type": "stream",
     "text": [
      "Machine_failure     0    1\n",
      "Type                      \n",
      "L                5765  235\n",
      "M                2914   83\n",
      "H                 982   21\n"
     ]
    },
    {
     "data": {
      "image/png": "[encoded data removed]",
      "text/plain": [
       "<Figure size 576x360 with 1 Axes>"
      ]
     },
     "metadata": {
      "needs_background": "light"
     },
     "output_type": "display_data"
    }
   ],
   "source": [
    "stacked_bar_chart(df, 'Type', 'Machine_failure')"
   ]
  },
  {
   "cell_type": "markdown",
   "id": "8fd12bdb",
   "metadata": {},
   "source": [
    "<div class=\"alert alert-block alert-warning\">\n",
    "        One Hot Encoding\n",
    "</div>"
   ]
  },
  {
   "cell_type": "code",
   "execution_count": 27,
   "id": "0d5f6cde",
   "metadata": {},
   "outputs": [
    {
     "data": {
      "text/html": [
       "<div>\n",
       "<style scoped>\n",
       "    .dataframe tbody tr th:only-of-type {\n",
       "        vertical-align: middle;\n",
       "    }\n",
       "\n",
       "    .dataframe tbody tr th {\n",
       "        vertical-align: top;\n",
       "    }\n",
       "\n",
       "    .dataframe thead th {\n",
       "        text-align: right;\n",
       "    }\n",
       "</style>\n",
       "<table border=\"1\" class=\"dataframe\">\n",
       "  <thead>\n",
       "    <tr style=\"text-align: right;\">\n",
       "      <th></th>\n",
       "      <th>UDI</th>\n",
       "      <th>Product_ID</th>\n",
       "      <th>Air_temperature</th>\n",
       "      <th>Process_temperature</th>\n",
       "      <th>Rotational_speed</th>\n",
       "      <th>Torque</th>\n",
       "      <th>Tool_wear</th>\n",
       "      <th>Machine_failure</th>\n",
       "      <th>TWF</th>\n",
       "      <th>HDF</th>\n",
       "      <th>PWF</th>\n",
       "      <th>OSF</th>\n",
       "      <th>RNF</th>\n",
       "      <th>Type_H</th>\n",
       "      <th>Type_L</th>\n",
       "      <th>Type_M</th>\n",
       "    </tr>\n",
       "  </thead>\n",
       "  <tbody>\n",
       "    <tr>\n",
       "      <th>0</th>\n",
       "      <td>1</td>\n",
       "      <td>M14860</td>\n",
       "      <td>298.1</td>\n",
       "      <td>308.6</td>\n",
       "      <td>1551</td>\n",
       "      <td>42.8</td>\n",
       "      <td>0</td>\n",
       "      <td>0</td>\n",
       "      <td>0</td>\n",
       "      <td>0</td>\n",
       "      <td>0</td>\n",
       "      <td>0</td>\n",
       "      <td>0</td>\n",
       "      <td>0</td>\n",
       "      <td>0</td>\n",
       "      <td>1</td>\n",
       "    </tr>\n",
       "    <tr>\n",
       "      <th>1</th>\n",
       "      <td>2</td>\n",
       "      <td>L47181</td>\n",
       "      <td>298.2</td>\n",
       "      <td>308.7</td>\n",
       "      <td>1408</td>\n",
       "      <td>46.3</td>\n",
       "      <td>3</td>\n",
       "      <td>0</td>\n",
       "      <td>0</td>\n",
       "      <td>0</td>\n",
       "      <td>0</td>\n",
       "      <td>0</td>\n",
       "      <td>0</td>\n",
       "      <td>0</td>\n",
       "      <td>1</td>\n",
       "      <td>0</td>\n",
       "    </tr>\n",
       "    <tr>\n",
       "      <th>2</th>\n",
       "      <td>3</td>\n",
       "      <td>L47182</td>\n",
       "      <td>298.1</td>\n",
       "      <td>308.5</td>\n",
       "      <td>1498</td>\n",
       "      <td>49.4</td>\n",
       "      <td>5</td>\n",
       "      <td>0</td>\n",
       "      <td>0</td>\n",
       "      <td>0</td>\n",
       "      <td>0</td>\n",
       "      <td>0</td>\n",
       "      <td>0</td>\n",
       "      <td>0</td>\n",
       "      <td>1</td>\n",
       "      <td>0</td>\n",
       "    </tr>\n",
       "    <tr>\n",
       "      <th>3</th>\n",
       "      <td>4</td>\n",
       "      <td>L47183</td>\n",
       "      <td>298.2</td>\n",
       "      <td>308.6</td>\n",
       "      <td>1433</td>\n",
       "      <td>39.5</td>\n",
       "      <td>7</td>\n",
       "      <td>0</td>\n",
       "      <td>0</td>\n",
       "      <td>0</td>\n",
       "      <td>0</td>\n",
       "      <td>0</td>\n",
       "      <td>0</td>\n",
       "      <td>0</td>\n",
       "      <td>1</td>\n",
       "      <td>0</td>\n",
       "    </tr>\n",
       "    <tr>\n",
       "      <th>4</th>\n",
       "      <td>5</td>\n",
       "      <td>L47184</td>\n",
       "      <td>298.2</td>\n",
       "      <td>308.7</td>\n",
       "      <td>1408</td>\n",
       "      <td>40.0</td>\n",
       "      <td>9</td>\n",
       "      <td>0</td>\n",
       "      <td>0</td>\n",
       "      <td>0</td>\n",
       "      <td>0</td>\n",
       "      <td>0</td>\n",
       "      <td>0</td>\n",
       "      <td>0</td>\n",
       "      <td>1</td>\n",
       "      <td>0</td>\n",
       "    </tr>\n",
       "  </tbody>\n",
       "</table>\n",
       "</div>"
      ],
      "text/plain": [
       "   UDI Product_ID  Air_temperature  Process_temperature  Rotational_speed  \\\n",
       "0    1     M14860            298.1                308.6              1551   \n",
       "1    2     L47181            298.2                308.7              1408   \n",
       "2    3     L47182            298.1                308.5              1498   \n",
       "3    4     L47183            298.2                308.6              1433   \n",
       "4    5     L47184            298.2                308.7              1408   \n",
       "\n",
       "   Torque  Tool_wear  Machine_failure  TWF  HDF  PWF  OSF  RNF  Type_H  \\\n",
       "0    42.8          0                0    0    0    0    0    0       0   \n",
       "1    46.3          3                0    0    0    0    0    0       0   \n",
       "2    49.4          5                0    0    0    0    0    0       0   \n",
       "3    39.5          7                0    0    0    0    0    0       0   \n",
       "4    40.0          9                0    0    0    0    0    0       0   \n",
       "\n",
       "   Type_L  Type_M  \n",
       "0       0       1  \n",
       "1       1       0  \n",
       "2       1       0  \n",
       "3       1       0  \n",
       "4       1       0  "
      ]
     },
     "execution_count": 27,
     "metadata": {},
     "output_type": "execute_result"
    }
   ],
   "source": [
    "df = one_hot_encoding(train=df, ohe_col='Type')\n",
    "df.head()"
   ]
  },
  {
   "cell_type": "markdown",
   "id": "4e307301",
   "metadata": {},
   "source": [
    "<div class=\"alert alert-block alert-success\">\n",
    "    <h4>\n",
    "        Air temperature [K]\n",
    "    </h4>\n",
    "</div>"
   ]
  },
  {
   "cell_type": "markdown",
   "id": "60218afc",
   "metadata": {},
   "source": [
    "Generated using a random walk process later normalized to a standard deviation of 2 K around 300 K"
   ]
  },
  {
   "cell_type": "code",
   "execution_count": 28,
   "id": "6903001f",
   "metadata": {},
   "outputs": [
    {
     "data": {
      "image/png": "[encoded data removed]",
      "text/plain": [
       "<Figure size 576x360 with 1 Axes>"
      ]
     },
     "metadata": {
      "needs_background": "light"
     },
     "output_type": "display_data"
    }
   ],
   "source": [
    "histogram(df, \"Air_temperature\")"
   ]
  },
  {
   "cell_type": "code",
   "execution_count": 29,
   "id": "7e2d9bdf",
   "metadata": {},
   "outputs": [
    {
     "name": "stdout",
     "output_type": "stream",
     "text": [
      "min. Air_temperature: 295.3, \n",
      "max. Air_temperature: 304.5\n"
     ]
    }
   ],
   "source": [
    "print(f\"min. Air_temperature: {df['Air_temperature'].min()}, \\nmax. Air_temperature: \\\n",
    "{df['Air_temperature'].max()}\")"
   ]
  },
  {
   "cell_type": "markdown",
   "id": "b7a93dd9",
   "metadata": {},
   "source": [
    "<div class=\"alert alert-block alert-warning\">\n",
    "        Min-Max Scaler\n",
    "</div>"
   ]
  },
  {
   "cell_type": "code",
   "execution_count": 30,
   "id": "a29b4e7c",
   "metadata": {},
   "outputs": [
    {
     "data": {
      "text/html": [
       "<div>\n",
       "<style scoped>\n",
       "    .dataframe tbody tr th:only-of-type {\n",
       "        vertical-align: middle;\n",
       "    }\n",
       "\n",
       "    .dataframe tbody tr th {\n",
       "        vertical-align: top;\n",
       "    }\n",
       "\n",
       "    .dataframe thead th {\n",
       "        text-align: right;\n",
       "    }\n",
       "</style>\n",
       "<table border=\"1\" class=\"dataframe\">\n",
       "  <thead>\n",
       "    <tr style=\"text-align: right;\">\n",
       "      <th></th>\n",
       "      <th>UDI</th>\n",
       "      <th>Product_ID</th>\n",
       "      <th>Air_temperature</th>\n",
       "      <th>Process_temperature</th>\n",
       "      <th>Rotational_speed</th>\n",
       "      <th>Torque</th>\n",
       "      <th>Tool_wear</th>\n",
       "      <th>Machine_failure</th>\n",
       "      <th>TWF</th>\n",
       "      <th>HDF</th>\n",
       "      <th>PWF</th>\n",
       "      <th>OSF</th>\n",
       "      <th>RNF</th>\n",
       "      <th>Type_H</th>\n",
       "      <th>Type_L</th>\n",
       "      <th>Type_M</th>\n",
       "    </tr>\n",
       "  </thead>\n",
       "  <tbody>\n",
       "    <tr>\n",
       "      <th>0</th>\n",
       "      <td>1</td>\n",
       "      <td>M14860</td>\n",
       "      <td>0.304348</td>\n",
       "      <td>308.6</td>\n",
       "      <td>1551</td>\n",
       "      <td>42.8</td>\n",
       "      <td>0</td>\n",
       "      <td>0</td>\n",
       "      <td>0</td>\n",
       "      <td>0</td>\n",
       "      <td>0</td>\n",
       "      <td>0</td>\n",
       "      <td>0</td>\n",
       "      <td>0</td>\n",
       "      <td>0</td>\n",
       "      <td>1</td>\n",
       "    </tr>\n",
       "    <tr>\n",
       "      <th>1</th>\n",
       "      <td>2</td>\n",
       "      <td>L47181</td>\n",
       "      <td>0.315217</td>\n",
       "      <td>308.7</td>\n",
       "      <td>1408</td>\n",
       "      <td>46.3</td>\n",
       "      <td>3</td>\n",
       "      <td>0</td>\n",
       "      <td>0</td>\n",
       "      <td>0</td>\n",
       "      <td>0</td>\n",
       "      <td>0</td>\n",
       "      <td>0</td>\n",
       "      <td>0</td>\n",
       "      <td>1</td>\n",
       "      <td>0</td>\n",
       "    </tr>\n",
       "    <tr>\n",
       "      <th>2</th>\n",
       "      <td>3</td>\n",
       "      <td>L47182</td>\n",
       "      <td>0.304348</td>\n",
       "      <td>308.5</td>\n",
       "      <td>1498</td>\n",
       "      <td>49.4</td>\n",
       "      <td>5</td>\n",
       "      <td>0</td>\n",
       "      <td>0</td>\n",
       "      <td>0</td>\n",
       "      <td>0</td>\n",
       "      <td>0</td>\n",
       "      <td>0</td>\n",
       "      <td>0</td>\n",
       "      <td>1</td>\n",
       "      <td>0</td>\n",
       "    </tr>\n",
       "    <tr>\n",
       "      <th>3</th>\n",
       "      <td>4</td>\n",
       "      <td>L47183</td>\n",
       "      <td>0.315217</td>\n",
       "      <td>308.6</td>\n",
       "      <td>1433</td>\n",
       "      <td>39.5</td>\n",
       "      <td>7</td>\n",
       "      <td>0</td>\n",
       "      <td>0</td>\n",
       "      <td>0</td>\n",
       "      <td>0</td>\n",
       "      <td>0</td>\n",
       "      <td>0</td>\n",
       "      <td>0</td>\n",
       "      <td>1</td>\n",
       "      <td>0</td>\n",
       "    </tr>\n",
       "    <tr>\n",
       "      <th>4</th>\n",
       "      <td>5</td>\n",
       "      <td>L47184</td>\n",
       "      <td>0.315217</td>\n",
       "      <td>308.7</td>\n",
       "      <td>1408</td>\n",
       "      <td>40.0</td>\n",
       "      <td>9</td>\n",
       "      <td>0</td>\n",
       "      <td>0</td>\n",
       "      <td>0</td>\n",
       "      <td>0</td>\n",
       "      <td>0</td>\n",
       "      <td>0</td>\n",
       "      <td>0</td>\n",
       "      <td>1</td>\n",
       "      <td>0</td>\n",
       "    </tr>\n",
       "  </tbody>\n",
       "</table>\n",
       "</div>"
      ],
      "text/plain": [
       "   UDI Product_ID  Air_temperature  Process_temperature  Rotational_speed  \\\n",
       "0    1     M14860         0.304348                308.6              1551   \n",
       "1    2     L47181         0.315217                308.7              1408   \n",
       "2    3     L47182         0.304348                308.5              1498   \n",
       "3    4     L47183         0.315217                308.6              1433   \n",
       "4    5     L47184         0.315217                308.7              1408   \n",
       "\n",
       "   Torque  Tool_wear  Machine_failure  TWF  HDF  PWF  OSF  RNF  Type_H  \\\n",
       "0    42.8          0                0    0    0    0    0    0       0   \n",
       "1    46.3          3                0    0    0    0    0    0       0   \n",
       "2    49.4          5                0    0    0    0    0    0       0   \n",
       "3    39.5          7                0    0    0    0    0    0       0   \n",
       "4    40.0          9                0    0    0    0    0    0       0   \n",
       "\n",
       "   Type_L  Type_M  \n",
       "0       0       1  \n",
       "1       1       0  \n",
       "2       1       0  \n",
       "3       1       0  \n",
       "4       1       0  "
      ]
     },
     "execution_count": 30,
     "metadata": {},
     "output_type": "execute_result"
    }
   ],
   "source": [
    "df = featureScaler(\"minMax\", df, 'Air_temperature')\n",
    "df.head()"
   ]
  },
  {
   "cell_type": "markdown",
   "id": "03fd6224",
   "metadata": {},
   "source": [
    "<div class=\"alert alert-block alert-success\">\n",
    "    <h4>\n",
    "        Process temperature [K]\n",
    "    </h4>\n",
    "</div>"
   ]
  },
  {
   "cell_type": "markdown",
   "id": "a4440e95",
   "metadata": {},
   "source": [
    "Generated using a random walk process normalized to a standard deviation of 1 K, added to the air temperature plus 10 K."
   ]
  },
  {
   "cell_type": "code",
   "execution_count": 31,
   "id": "86a1e654",
   "metadata": {},
   "outputs": [
    {
     "data": {
      "image/png": "[encoded data removed]",
      "text/plain": [
       "<Figure size 576x360 with 1 Axes>"
      ]
     },
     "metadata": {
      "needs_background": "light"
     },
     "output_type": "display_data"
    }
   ],
   "source": [
    "histogram(df, \"Process_temperature\")"
   ]
  },
  {
   "cell_type": "code",
   "execution_count": 32,
   "id": "308efd8f",
   "metadata": {},
   "outputs": [
    {
     "name": "stdout",
     "output_type": "stream",
     "text": [
      "min. Process_temperature: 305.7, \n",
      "max. Process_temperature: 313.8\n"
     ]
    }
   ],
   "source": [
    "print(f\"min. Process_temperature: {df['Process_temperature'].min()}, \\nmax. Process_temperature: \\\n",
    "{df['Process_temperature'].max()}\")"
   ]
  },
  {
   "cell_type": "markdown",
   "id": "4f02197b",
   "metadata": {},
   "source": [
    "<div class=\"alert alert-block alert-warning\">\n",
    "        Min-Max Scaler\n",
    "</div>"
   ]
  },
  {
   "cell_type": "code",
   "execution_count": 33,
   "id": "15b051c1",
   "metadata": {},
   "outputs": [
    {
     "data": {
      "text/html": [
       "<div>\n",
       "<style scoped>\n",
       "    .dataframe tbody tr th:only-of-type {\n",
       "        vertical-align: middle;\n",
       "    }\n",
       "\n",
       "    .dataframe tbody tr th {\n",
       "        vertical-align: top;\n",
       "    }\n",
       "\n",
       "    .dataframe thead th {\n",
       "        text-align: right;\n",
       "    }\n",
       "</style>\n",
       "<table border=\"1\" class=\"dataframe\">\n",
       "  <thead>\n",
       "    <tr style=\"text-align: right;\">\n",
       "      <th></th>\n",
       "      <th>UDI</th>\n",
       "      <th>Product_ID</th>\n",
       "      <th>Air_temperature</th>\n",
       "      <th>Process_temperature</th>\n",
       "      <th>Rotational_speed</th>\n",
       "      <th>Torque</th>\n",
       "      <th>Tool_wear</th>\n",
       "      <th>Machine_failure</th>\n",
       "      <th>TWF</th>\n",
       "      <th>HDF</th>\n",
       "      <th>PWF</th>\n",
       "      <th>OSF</th>\n",
       "      <th>RNF</th>\n",
       "      <th>Type_H</th>\n",
       "      <th>Type_L</th>\n",
       "      <th>Type_M</th>\n",
       "    </tr>\n",
       "  </thead>\n",
       "  <tbody>\n",
       "    <tr>\n",
       "      <th>0</th>\n",
       "      <td>1</td>\n",
       "      <td>M14860</td>\n",
       "      <td>0.304348</td>\n",
       "      <td>0.358025</td>\n",
       "      <td>1551</td>\n",
       "      <td>42.8</td>\n",
       "      <td>0</td>\n",
       "      <td>0</td>\n",
       "      <td>0</td>\n",
       "      <td>0</td>\n",
       "      <td>0</td>\n",
       "      <td>0</td>\n",
       "      <td>0</td>\n",
       "      <td>0</td>\n",
       "      <td>0</td>\n",
       "      <td>1</td>\n",
       "    </tr>\n",
       "    <tr>\n",
       "      <th>1</th>\n",
       "      <td>2</td>\n",
       "      <td>L47181</td>\n",
       "      <td>0.315217</td>\n",
       "      <td>0.370370</td>\n",
       "      <td>1408</td>\n",
       "      <td>46.3</td>\n",
       "      <td>3</td>\n",
       "      <td>0</td>\n",
       "      <td>0</td>\n",
       "      <td>0</td>\n",
       "      <td>0</td>\n",
       "      <td>0</td>\n",
       "      <td>0</td>\n",
       "      <td>0</td>\n",
       "      <td>1</td>\n",
       "      <td>0</td>\n",
       "    </tr>\n",
       "    <tr>\n",
       "      <th>2</th>\n",
       "      <td>3</td>\n",
       "      <td>L47182</td>\n",
       "      <td>0.304348</td>\n",
       "      <td>0.345679</td>\n",
       "      <td>1498</td>\n",
       "      <td>49.4</td>\n",
       "      <td>5</td>\n",
       "      <td>0</td>\n",
       "      <td>0</td>\n",
       "      <td>0</td>\n",
       "      <td>0</td>\n",
       "      <td>0</td>\n",
       "      <td>0</td>\n",
       "      <td>0</td>\n",
       "      <td>1</td>\n",
       "      <td>0</td>\n",
       "    </tr>\n",
       "    <tr>\n",
       "      <th>3</th>\n",
       "      <td>4</td>\n",
       "      <td>L47183</td>\n",
       "      <td>0.315217</td>\n",
       "      <td>0.358025</td>\n",
       "      <td>1433</td>\n",
       "      <td>39.5</td>\n",
       "      <td>7</td>\n",
       "      <td>0</td>\n",
       "      <td>0</td>\n",
       "      <td>0</td>\n",
       "      <td>0</td>\n",
       "      <td>0</td>\n",
       "      <td>0</td>\n",
       "      <td>0</td>\n",
       "      <td>1</td>\n",
       "      <td>0</td>\n",
       "    </tr>\n",
       "    <tr>\n",
       "      <th>4</th>\n",
       "      <td>5</td>\n",
       "      <td>L47184</td>\n",
       "      <td>0.315217</td>\n",
       "      <td>0.370370</td>\n",
       "      <td>1408</td>\n",
       "      <td>40.0</td>\n",
       "      <td>9</td>\n",
       "      <td>0</td>\n",
       "      <td>0</td>\n",
       "      <td>0</td>\n",
       "      <td>0</td>\n",
       "      <td>0</td>\n",
       "      <td>0</td>\n",
       "      <td>0</td>\n",
       "      <td>1</td>\n",
       "      <td>0</td>\n",
       "    </tr>\n",
       "  </tbody>\n",
       "</table>\n",
       "</div>"
      ],
      "text/plain": [
       "   UDI Product_ID  Air_temperature  Process_temperature  Rotational_speed  \\\n",
       "0    1     M14860         0.304348             0.358025              1551   \n",
       "1    2     L47181         0.315217             0.370370              1408   \n",
       "2    3     L47182         0.304348             0.345679              1498   \n",
       "3    4     L47183         0.315217             0.358025              1433   \n",
       "4    5     L47184         0.315217             0.370370              1408   \n",
       "\n",
       "   Torque  Tool_wear  Machine_failure  TWF  HDF  PWF  OSF  RNF  Type_H  \\\n",
       "0    42.8          0                0    0    0    0    0    0       0   \n",
       "1    46.3          3                0    0    0    0    0    0       0   \n",
       "2    49.4          5                0    0    0    0    0    0       0   \n",
       "3    39.5          7                0    0    0    0    0    0       0   \n",
       "4    40.0          9                0    0    0    0    0    0       0   \n",
       "\n",
       "   Type_L  Type_M  \n",
       "0       0       1  \n",
       "1       1       0  \n",
       "2       1       0  \n",
       "3       1       0  \n",
       "4       1       0  "
      ]
     },
     "execution_count": 33,
     "metadata": {},
     "output_type": "execute_result"
    }
   ],
   "source": [
    "df = featureScaler(\"minMax\", df, 'Process_temperature')\n",
    "df.head()"
   ]
  },
  {
   "cell_type": "markdown",
   "id": "ee7bb30c",
   "metadata": {},
   "source": [
    "<div class=\"alert alert-block alert-success\">\n",
    "    <h4>\n",
    "        Rotational speed [rpm]\n",
    "    </h4>\n",
    "</div>"
   ]
  },
  {
   "cell_type": "markdown",
   "id": "b27d7fbd",
   "metadata": {},
   "source": [
    "Calculated from a power of 2860 W, overlaid with a normally distributed noise"
   ]
  },
  {
   "cell_type": "code",
   "execution_count": 34,
   "id": "215292ba",
   "metadata": {},
   "outputs": [
    {
     "data": {
      "image/png": "[encoded data removed]",
      "text/plain": [
       "<Figure size 576x360 with 1 Axes>"
      ]
     },
     "metadata": {
      "needs_background": "light"
     },
     "output_type": "display_data"
    }
   ],
   "source": [
    "histogram(df, \"Rotational_speed\")"
   ]
  },
  {
   "cell_type": "code",
   "execution_count": 35,
   "id": "5c88b21c",
   "metadata": {},
   "outputs": [
    {
     "name": "stdout",
     "output_type": "stream",
     "text": [
      "min. Rotational_speed: 1168, \n",
      "max. Rotational_speed: 2886\n"
     ]
    }
   ],
   "source": [
    "print(f\"min. Rotational_speed: {df['Rotational_speed'].min()}, \\nmax. Rotational_speed: \\\n",
    "{df['Rotational_speed'].max()}\")"
   ]
  },
  {
   "cell_type": "markdown",
   "id": "f68914d1",
   "metadata": {},
   "source": [
    "<div class=\"alert alert-block alert-warning\">\n",
    "        Min-Max Scaler\n",
    "</div>"
   ]
  },
  {
   "cell_type": "code",
   "execution_count": 36,
   "id": "fccaa080",
   "metadata": {},
   "outputs": [
    {
     "data": {
      "text/html": [
       "<div>\n",
       "<style scoped>\n",
       "    .dataframe tbody tr th:only-of-type {\n",
       "        vertical-align: middle;\n",
       "    }\n",
       "\n",
       "    .dataframe tbody tr th {\n",
       "        vertical-align: top;\n",
       "    }\n",
       "\n",
       "    .dataframe thead th {\n",
       "        text-align: right;\n",
       "    }\n",
       "</style>\n",
       "<table border=\"1\" class=\"dataframe\">\n",
       "  <thead>\n",
       "    <tr style=\"text-align: right;\">\n",
       "      <th></th>\n",
       "      <th>UDI</th>\n",
       "      <th>Product_ID</th>\n",
       "      <th>Air_temperature</th>\n",
       "      <th>Process_temperature</th>\n",
       "      <th>Rotational_speed</th>\n",
       "      <th>Torque</th>\n",
       "      <th>Tool_wear</th>\n",
       "      <th>Machine_failure</th>\n",
       "      <th>TWF</th>\n",
       "      <th>HDF</th>\n",
       "      <th>PWF</th>\n",
       "      <th>OSF</th>\n",
       "      <th>RNF</th>\n",
       "      <th>Type_H</th>\n",
       "      <th>Type_L</th>\n",
       "      <th>Type_M</th>\n",
       "    </tr>\n",
       "  </thead>\n",
       "  <tbody>\n",
       "    <tr>\n",
       "      <th>0</th>\n",
       "      <td>1</td>\n",
       "      <td>M14860</td>\n",
       "      <td>0.304348</td>\n",
       "      <td>0.358025</td>\n",
       "      <td>0.222934</td>\n",
       "      <td>42.8</td>\n",
       "      <td>0</td>\n",
       "      <td>0</td>\n",
       "      <td>0</td>\n",
       "      <td>0</td>\n",
       "      <td>0</td>\n",
       "      <td>0</td>\n",
       "      <td>0</td>\n",
       "      <td>0</td>\n",
       "      <td>0</td>\n",
       "      <td>1</td>\n",
       "    </tr>\n",
       "    <tr>\n",
       "      <th>1</th>\n",
       "      <td>2</td>\n",
       "      <td>L47181</td>\n",
       "      <td>0.315217</td>\n",
       "      <td>0.370370</td>\n",
       "      <td>0.139697</td>\n",
       "      <td>46.3</td>\n",
       "      <td>3</td>\n",
       "      <td>0</td>\n",
       "      <td>0</td>\n",
       "      <td>0</td>\n",
       "      <td>0</td>\n",
       "      <td>0</td>\n",
       "      <td>0</td>\n",
       "      <td>0</td>\n",
       "      <td>1</td>\n",
       "      <td>0</td>\n",
       "    </tr>\n",
       "    <tr>\n",
       "      <th>2</th>\n",
       "      <td>3</td>\n",
       "      <td>L47182</td>\n",
       "      <td>0.304348</td>\n",
       "      <td>0.345679</td>\n",
       "      <td>0.192084</td>\n",
       "      <td>49.4</td>\n",
       "      <td>5</td>\n",
       "      <td>0</td>\n",
       "      <td>0</td>\n",
       "      <td>0</td>\n",
       "      <td>0</td>\n",
       "      <td>0</td>\n",
       "      <td>0</td>\n",
       "      <td>0</td>\n",
       "      <td>1</td>\n",
       "      <td>0</td>\n",
       "    </tr>\n",
       "    <tr>\n",
       "      <th>3</th>\n",
       "      <td>4</td>\n",
       "      <td>L47183</td>\n",
       "      <td>0.315217</td>\n",
       "      <td>0.358025</td>\n",
       "      <td>0.154249</td>\n",
       "      <td>39.5</td>\n",
       "      <td>7</td>\n",
       "      <td>0</td>\n",
       "      <td>0</td>\n",
       "      <td>0</td>\n",
       "      <td>0</td>\n",
       "      <td>0</td>\n",
       "      <td>0</td>\n",
       "      <td>0</td>\n",
       "      <td>1</td>\n",
       "      <td>0</td>\n",
       "    </tr>\n",
       "    <tr>\n",
       "      <th>4</th>\n",
       "      <td>5</td>\n",
       "      <td>L47184</td>\n",
       "      <td>0.315217</td>\n",
       "      <td>0.370370</td>\n",
       "      <td>0.139697</td>\n",
       "      <td>40.0</td>\n",
       "      <td>9</td>\n",
       "      <td>0</td>\n",
       "      <td>0</td>\n",
       "      <td>0</td>\n",
       "      <td>0</td>\n",
       "      <td>0</td>\n",
       "      <td>0</td>\n",
       "      <td>0</td>\n",
       "      <td>1</td>\n",
       "      <td>0</td>\n",
       "    </tr>\n",
       "  </tbody>\n",
       "</table>\n",
       "</div>"
      ],
      "text/plain": [
       "   UDI Product_ID  Air_temperature  Process_temperature  Rotational_speed  \\\n",
       "0    1     M14860         0.304348             0.358025          0.222934   \n",
       "1    2     L47181         0.315217             0.370370          0.139697   \n",
       "2    3     L47182         0.304348             0.345679          0.192084   \n",
       "3    4     L47183         0.315217             0.358025          0.154249   \n",
       "4    5     L47184         0.315217             0.370370          0.139697   \n",
       "\n",
       "   Torque  Tool_wear  Machine_failure  TWF  HDF  PWF  OSF  RNF  Type_H  \\\n",
       "0    42.8          0                0    0    0    0    0    0       0   \n",
       "1    46.3          3                0    0    0    0    0    0       0   \n",
       "2    49.4          5                0    0    0    0    0    0       0   \n",
       "3    39.5          7                0    0    0    0    0    0       0   \n",
       "4    40.0          9                0    0    0    0    0    0       0   \n",
       "\n",
       "   Type_L  Type_M  \n",
       "0       0       1  \n",
       "1       1       0  \n",
       "2       1       0  \n",
       "3       1       0  \n",
       "4       1       0  "
      ]
     },
     "execution_count": 36,
     "metadata": {},
     "output_type": "execute_result"
    }
   ],
   "source": [
    "df = featureScaler(\"minMax\", df, 'Rotational_speed')\n",
    "df.head()"
   ]
  },
  {
   "cell_type": "markdown",
   "id": "e8cc8b60",
   "metadata": {},
   "source": [
    "<div class=\"alert alert-block alert-success\">\n",
    "    <h4>\n",
    "        Torque [Nm]\n",
    "    </h4>\n",
    "</div>"
   ]
  },
  {
   "cell_type": "markdown",
   "id": "72f38de0",
   "metadata": {},
   "source": [
    "torque values are normally distributed around 40 Nm with a Ïƒ = 10 Nm and no negative values."
   ]
  },
  {
   "cell_type": "code",
   "execution_count": 37,
   "id": "7a6654ec",
   "metadata": {},
   "outputs": [
    {
     "data": {
      "image/png": "[encoded data removed]",
      "text/plain": [
       "<Figure size 576x360 with 1 Axes>"
      ]
     },
     "metadata": {
      "needs_background": "light"
     },
     "output_type": "display_data"
    }
   ],
   "source": [
    "histogram(df, \"Torque\")"
   ]
  },
  {
   "cell_type": "code",
   "execution_count": 38,
   "id": "51b65b41",
   "metadata": {},
   "outputs": [
    {
     "name": "stdout",
     "output_type": "stream",
     "text": [
      "min. Torque: 3.8, \n",
      "max. Torque: 76.6\n"
     ]
    }
   ],
   "source": [
    "print(f\"min. Torque: {df['Torque'].min()}, \\nmax. Torque: {df['Torque'].max()}\")"
   ]
  },
  {
   "cell_type": "markdown",
   "id": "925cd600",
   "metadata": {},
   "source": [
    "<div class=\"alert alert-block alert-warning\">\n",
    "        Min-Max Scaler\n",
    "</div>"
   ]
  },
  {
   "cell_type": "code",
   "execution_count": 39,
   "id": "a44def35",
   "metadata": {},
   "outputs": [
    {
     "data": {
      "text/html": [
       "<div>\n",
       "<style scoped>\n",
       "    .dataframe tbody tr th:only-of-type {\n",
       "        vertical-align: middle;\n",
       "    }\n",
       "\n",
       "    .dataframe tbody tr th {\n",
       "        vertical-align: top;\n",
       "    }\n",
       "\n",
       "    .dataframe thead th {\n",
       "        text-align: right;\n",
       "    }\n",
       "</style>\n",
       "<table border=\"1\" class=\"dataframe\">\n",
       "  <thead>\n",
       "    <tr style=\"text-align: right;\">\n",
       "      <th></th>\n",
       "      <th>UDI</th>\n",
       "      <th>Product_ID</th>\n",
       "      <th>Air_temperature</th>\n",
       "      <th>Process_temperature</th>\n",
       "      <th>Rotational_speed</th>\n",
       "      <th>Torque</th>\n",
       "      <th>Tool_wear</th>\n",
       "      <th>Machine_failure</th>\n",
       "      <th>TWF</th>\n",
       "      <th>HDF</th>\n",
       "      <th>PWF</th>\n",
       "      <th>OSF</th>\n",
       "      <th>RNF</th>\n",
       "      <th>Type_H</th>\n",
       "      <th>Type_L</th>\n",
       "      <th>Type_M</th>\n",
       "    </tr>\n",
       "  </thead>\n",
       "  <tbody>\n",
       "    <tr>\n",
       "      <th>0</th>\n",
       "      <td>1</td>\n",
       "      <td>M14860</td>\n",
       "      <td>0.304348</td>\n",
       "      <td>0.358025</td>\n",
       "      <td>0.222934</td>\n",
       "      <td>0.535714</td>\n",
       "      <td>0</td>\n",
       "      <td>0</td>\n",
       "      <td>0</td>\n",
       "      <td>0</td>\n",
       "      <td>0</td>\n",
       "      <td>0</td>\n",
       "      <td>0</td>\n",
       "      <td>0</td>\n",
       "      <td>0</td>\n",
       "      <td>1</td>\n",
       "    </tr>\n",
       "    <tr>\n",
       "      <th>1</th>\n",
       "      <td>2</td>\n",
       "      <td>L47181</td>\n",
       "      <td>0.315217</td>\n",
       "      <td>0.370370</td>\n",
       "      <td>0.139697</td>\n",
       "      <td>0.583791</td>\n",
       "      <td>3</td>\n",
       "      <td>0</td>\n",
       "      <td>0</td>\n",
       "      <td>0</td>\n",
       "      <td>0</td>\n",
       "      <td>0</td>\n",
       "      <td>0</td>\n",
       "      <td>0</td>\n",
       "      <td>1</td>\n",
       "      <td>0</td>\n",
       "    </tr>\n",
       "    <tr>\n",
       "      <th>2</th>\n",
       "      <td>3</td>\n",
       "      <td>L47182</td>\n",
       "      <td>0.304348</td>\n",
       "      <td>0.345679</td>\n",
       "      <td>0.192084</td>\n",
       "      <td>0.626374</td>\n",
       "      <td>5</td>\n",
       "      <td>0</td>\n",
       "      <td>0</td>\n",
       "      <td>0</td>\n",
       "      <td>0</td>\n",
       "      <td>0</td>\n",
       "      <td>0</td>\n",
       "      <td>0</td>\n",
       "      <td>1</td>\n",
       "      <td>0</td>\n",
       "    </tr>\n",
       "    <tr>\n",
       "      <th>3</th>\n",
       "      <td>4</td>\n",
       "      <td>L47183</td>\n",
       "      <td>0.315217</td>\n",
       "      <td>0.358025</td>\n",
       "      <td>0.154249</td>\n",
       "      <td>0.490385</td>\n",
       "      <td>7</td>\n",
       "      <td>0</td>\n",
       "      <td>0</td>\n",
       "      <td>0</td>\n",
       "      <td>0</td>\n",
       "      <td>0</td>\n",
       "      <td>0</td>\n",
       "      <td>0</td>\n",
       "      <td>1</td>\n",
       "      <td>0</td>\n",
       "    </tr>\n",
       "    <tr>\n",
       "      <th>4</th>\n",
       "      <td>5</td>\n",
       "      <td>L47184</td>\n",
       "      <td>0.315217</td>\n",
       "      <td>0.370370</td>\n",
       "      <td>0.139697</td>\n",
       "      <td>0.497253</td>\n",
       "      <td>9</td>\n",
       "      <td>0</td>\n",
       "      <td>0</td>\n",
       "      <td>0</td>\n",
       "      <td>0</td>\n",
       "      <td>0</td>\n",
       "      <td>0</td>\n",
       "      <td>0</td>\n",
       "      <td>1</td>\n",
       "      <td>0</td>\n",
       "    </tr>\n",
       "  </tbody>\n",
       "</table>\n",
       "</div>"
      ],
      "text/plain": [
       "   UDI Product_ID  Air_temperature  Process_temperature  Rotational_speed  \\\n",
       "0    1     M14860         0.304348             0.358025          0.222934   \n",
       "1    2     L47181         0.315217             0.370370          0.139697   \n",
       "2    3     L47182         0.304348             0.345679          0.192084   \n",
       "3    4     L47183         0.315217             0.358025          0.154249   \n",
       "4    5     L47184         0.315217             0.370370          0.139697   \n",
       "\n",
       "     Torque  Tool_wear  Machine_failure  TWF  HDF  PWF  OSF  RNF  Type_H  \\\n",
       "0  0.535714          0                0    0    0    0    0    0       0   \n",
       "1  0.583791          3                0    0    0    0    0    0       0   \n",
       "2  0.626374          5                0    0    0    0    0    0       0   \n",
       "3  0.490385          7                0    0    0    0    0    0       0   \n",
       "4  0.497253          9                0    0    0    0    0    0       0   \n",
       "\n",
       "   Type_L  Type_M  \n",
       "0       0       1  \n",
       "1       1       0  \n",
       "2       1       0  \n",
       "3       1       0  \n",
       "4       1       0  "
      ]
     },
     "execution_count": 39,
     "metadata": {},
     "output_type": "execute_result"
    }
   ],
   "source": [
    "df = featureScaler(\"minMax\", df, 'Torque')\n",
    "df.head()"
   ]
  },
  {
   "cell_type": "markdown",
   "id": "bc90f3b0",
   "metadata": {},
   "source": [
    "<div class=\"alert alert-block alert-success\">\n",
    "    <h4>\n",
    "        Tool wear [min]\n",
    "    </h4>\n",
    "</div>"
   ]
  },
  {
   "cell_type": "markdown",
   "id": "40e351f2",
   "metadata": {},
   "source": [
    "The quality variants H/M/L add 5/3/2 minutes of tool wear to the used tool in the process. and a 'machine failure' label that indicates, whether the machine has failed in this particular datapoint for any of the following failure modes are true."
   ]
  },
  {
   "cell_type": "code",
   "execution_count": 40,
   "id": "4193c493",
   "metadata": {},
   "outputs": [
    {
     "data": {
      "image/png": "[encoded data removed]",
      "text/plain": [
       "<Figure size 576x360 with 1 Axes>"
      ]
     },
     "metadata": {
      "needs_background": "light"
     },
     "output_type": "display_data"
    }
   ],
   "source": [
    "histogram(df, \"Tool_wear\")"
   ]
  },
  {
   "cell_type": "markdown",
   "id": "6390531f",
   "metadata": {},
   "source": [
    "<div class=\"alert alert-block alert-warning\">\n",
    "        Min-Max Scaler\n",
    "</div>"
   ]
  },
  {
   "cell_type": "code",
   "execution_count": 41,
   "id": "4865789c",
   "metadata": {},
   "outputs": [
    {
     "data": {
      "text/html": [
       "<div>\n",
       "<style scoped>\n",
       "    .dataframe tbody tr th:only-of-type {\n",
       "        vertical-align: middle;\n",
       "    }\n",
       "\n",
       "    .dataframe tbody tr th {\n",
       "        vertical-align: top;\n",
       "    }\n",
       "\n",
       "    .dataframe thead th {\n",
       "        text-align: right;\n",
       "    }\n",
       "</style>\n",
       "<table border=\"1\" class=\"dataframe\">\n",
       "  <thead>\n",
       "    <tr style=\"text-align: right;\">\n",
       "      <th></th>\n",
       "      <th>UDI</th>\n",
       "      <th>Product_ID</th>\n",
       "      <th>Air_temperature</th>\n",
       "      <th>Process_temperature</th>\n",
       "      <th>Rotational_speed</th>\n",
       "      <th>Torque</th>\n",
       "      <th>Tool_wear</th>\n",
       "      <th>Machine_failure</th>\n",
       "      <th>TWF</th>\n",
       "      <th>HDF</th>\n",
       "      <th>PWF</th>\n",
       "      <th>OSF</th>\n",
       "      <th>RNF</th>\n",
       "      <th>Type_H</th>\n",
       "      <th>Type_L</th>\n",
       "      <th>Type_M</th>\n",
       "    </tr>\n",
       "  </thead>\n",
       "  <tbody>\n",
       "    <tr>\n",
       "      <th>0</th>\n",
       "      <td>1</td>\n",
       "      <td>M14860</td>\n",
       "      <td>0.304348</td>\n",
       "      <td>0.358025</td>\n",
       "      <td>0.222934</td>\n",
       "      <td>0.535714</td>\n",
       "      <td>0.000000</td>\n",
       "      <td>0</td>\n",
       "      <td>0</td>\n",
       "      <td>0</td>\n",
       "      <td>0</td>\n",
       "      <td>0</td>\n",
       "      <td>0</td>\n",
       "      <td>0</td>\n",
       "      <td>0</td>\n",
       "      <td>1</td>\n",
       "    </tr>\n",
       "    <tr>\n",
       "      <th>1</th>\n",
       "      <td>2</td>\n",
       "      <td>L47181</td>\n",
       "      <td>0.315217</td>\n",
       "      <td>0.370370</td>\n",
       "      <td>0.139697</td>\n",
       "      <td>0.583791</td>\n",
       "      <td>0.011858</td>\n",
       "      <td>0</td>\n",
       "      <td>0</td>\n",
       "      <td>0</td>\n",
       "      <td>0</td>\n",
       "      <td>0</td>\n",
       "      <td>0</td>\n",
       "      <td>0</td>\n",
       "      <td>1</td>\n",
       "      <td>0</td>\n",
       "    </tr>\n",
       "    <tr>\n",
       "      <th>2</th>\n",
       "      <td>3</td>\n",
       "      <td>L47182</td>\n",
       "      <td>0.304348</td>\n",
       "      <td>0.345679</td>\n",
       "      <td>0.192084</td>\n",
       "      <td>0.626374</td>\n",
       "      <td>0.019763</td>\n",
       "      <td>0</td>\n",
       "      <td>0</td>\n",
       "      <td>0</td>\n",
       "      <td>0</td>\n",
       "      <td>0</td>\n",
       "      <td>0</td>\n",
       "      <td>0</td>\n",
       "      <td>1</td>\n",
       "      <td>0</td>\n",
       "    </tr>\n",
       "    <tr>\n",
       "      <th>3</th>\n",
       "      <td>4</td>\n",
       "      <td>L47183</td>\n",
       "      <td>0.315217</td>\n",
       "      <td>0.358025</td>\n",
       "      <td>0.154249</td>\n",
       "      <td>0.490385</td>\n",
       "      <td>0.027668</td>\n",
       "      <td>0</td>\n",
       "      <td>0</td>\n",
       "      <td>0</td>\n",
       "      <td>0</td>\n",
       "      <td>0</td>\n",
       "      <td>0</td>\n",
       "      <td>0</td>\n",
       "      <td>1</td>\n",
       "      <td>0</td>\n",
       "    </tr>\n",
       "    <tr>\n",
       "      <th>4</th>\n",
       "      <td>5</td>\n",
       "      <td>L47184</td>\n",
       "      <td>0.315217</td>\n",
       "      <td>0.370370</td>\n",
       "      <td>0.139697</td>\n",
       "      <td>0.497253</td>\n",
       "      <td>0.035573</td>\n",
       "      <td>0</td>\n",
       "      <td>0</td>\n",
       "      <td>0</td>\n",
       "      <td>0</td>\n",
       "      <td>0</td>\n",
       "      <td>0</td>\n",
       "      <td>0</td>\n",
       "      <td>1</td>\n",
       "      <td>0</td>\n",
       "    </tr>\n",
       "  </tbody>\n",
       "</table>\n",
       "</div>"
      ],
      "text/plain": [
       "   UDI Product_ID  Air_temperature  Process_temperature  Rotational_speed  \\\n",
       "0    1     M14860         0.304348             0.358025          0.222934   \n",
       "1    2     L47181         0.315217             0.370370          0.139697   \n",
       "2    3     L47182         0.304348             0.345679          0.192084   \n",
       "3    4     L47183         0.315217             0.358025          0.154249   \n",
       "4    5     L47184         0.315217             0.370370          0.139697   \n",
       "\n",
       "     Torque  Tool_wear  Machine_failure  TWF  HDF  PWF  OSF  RNF  Type_H  \\\n",
       "0  0.535714   0.000000                0    0    0    0    0    0       0   \n",
       "1  0.583791   0.011858                0    0    0    0    0    0       0   \n",
       "2  0.626374   0.019763                0    0    0    0    0    0       0   \n",
       "3  0.490385   0.027668                0    0    0    0    0    0       0   \n",
       "4  0.497253   0.035573                0    0    0    0    0    0       0   \n",
       "\n",
       "   Type_L  Type_M  \n",
       "0       0       1  \n",
       "1       1       0  \n",
       "2       1       0  \n",
       "3       1       0  \n",
       "4       1       0  "
      ]
     },
     "execution_count": 41,
     "metadata": {},
     "output_type": "execute_result"
    }
   ],
   "source": [
    "df = featureScaler(\"minMax\", df, 'Tool_wear')\n",
    "df.head()"
   ]
  },
  {
   "cell_type": "markdown",
   "id": "fa8c1c15",
   "metadata": {},
   "source": [
    "<div class=\"alert alert-block alert-success\">\n",
    "    <h4>\n",
    "        Drop features\n",
    "    </h4>\n",
    "</div>"
   ]
  },
  {
   "cell_type": "code",
   "execution_count": 42,
   "id": "b578d93b",
   "metadata": {},
   "outputs": [],
   "source": [
    "df = df.drop([\"UDI\", \"Product_ID\", \"TWF\", \"HDF\", \"PWF\", \"OSF\", \"RNF\"], axis=1)"
   ]
  },
  {
   "cell_type": "markdown",
   "id": "ca7d738b",
   "metadata": {},
   "source": [
    "<div class=\"alert alert-block alert-success\">\n",
    "    <h4>\n",
    "        Move the label column to end and encodes it\n",
    "    </h4>\n",
    "</div>"
   ]
  },
  {
   "cell_type": "code",
   "execution_count": 43,
   "id": "fe78ee21",
   "metadata": {},
   "outputs": [
    {
     "data": {
      "text/html": [
       "<div>\n",
       "<style scoped>\n",
       "    .dataframe tbody tr th:only-of-type {\n",
       "        vertical-align: middle;\n",
       "    }\n",
       "\n",
       "    .dataframe tbody tr th {\n",
       "        vertical-align: top;\n",
       "    }\n",
       "\n",
       "    .dataframe thead th {\n",
       "        text-align: right;\n",
       "    }\n",
       "</style>\n",
       "<table border=\"1\" class=\"dataframe\">\n",
       "  <thead>\n",
       "    <tr style=\"text-align: right;\">\n",
       "      <th></th>\n",
       "      <th>Air_temperature</th>\n",
       "      <th>Process_temperature</th>\n",
       "      <th>Rotational_speed</th>\n",
       "      <th>Torque</th>\n",
       "      <th>Tool_wear</th>\n",
       "      <th>Type_H</th>\n",
       "      <th>Type_L</th>\n",
       "      <th>Type_M</th>\n",
       "      <th>Machine_failure</th>\n",
       "    </tr>\n",
       "  </thead>\n",
       "  <tbody>\n",
       "    <tr>\n",
       "      <th>0</th>\n",
       "      <td>0.304348</td>\n",
       "      <td>0.358025</td>\n",
       "      <td>0.222934</td>\n",
       "      <td>0.535714</td>\n",
       "      <td>0.000000</td>\n",
       "      <td>0</td>\n",
       "      <td>0</td>\n",
       "      <td>1</td>\n",
       "      <td>0</td>\n",
       "    </tr>\n",
       "    <tr>\n",
       "      <th>1</th>\n",
       "      <td>0.315217</td>\n",
       "      <td>0.370370</td>\n",
       "      <td>0.139697</td>\n",
       "      <td>0.583791</td>\n",
       "      <td>0.011858</td>\n",
       "      <td>0</td>\n",
       "      <td>1</td>\n",
       "      <td>0</td>\n",
       "      <td>0</td>\n",
       "    </tr>\n",
       "    <tr>\n",
       "      <th>2</th>\n",
       "      <td>0.304348</td>\n",
       "      <td>0.345679</td>\n",
       "      <td>0.192084</td>\n",
       "      <td>0.626374</td>\n",
       "      <td>0.019763</td>\n",
       "      <td>0</td>\n",
       "      <td>1</td>\n",
       "      <td>0</td>\n",
       "      <td>0</td>\n",
       "    </tr>\n",
       "    <tr>\n",
       "      <th>3</th>\n",
       "      <td>0.315217</td>\n",
       "      <td>0.358025</td>\n",
       "      <td>0.154249</td>\n",
       "      <td>0.490385</td>\n",
       "      <td>0.027668</td>\n",
       "      <td>0</td>\n",
       "      <td>1</td>\n",
       "      <td>0</td>\n",
       "      <td>0</td>\n",
       "    </tr>\n",
       "    <tr>\n",
       "      <th>4</th>\n",
       "      <td>0.315217</td>\n",
       "      <td>0.370370</td>\n",
       "      <td>0.139697</td>\n",
       "      <td>0.497253</td>\n",
       "      <td>0.035573</td>\n",
       "      <td>0</td>\n",
       "      <td>1</td>\n",
       "      <td>0</td>\n",
       "      <td>0</td>\n",
       "    </tr>\n",
       "  </tbody>\n",
       "</table>\n",
       "</div>"
      ],
      "text/plain": [
       "   Air_temperature  Process_temperature  Rotational_speed    Torque  \\\n",
       "0         0.304348             0.358025          0.222934  0.535714   \n",
       "1         0.315217             0.370370          0.139697  0.583791   \n",
       "2         0.304348             0.345679          0.192084  0.626374   \n",
       "3         0.315217             0.358025          0.154249  0.490385   \n",
       "4         0.315217             0.370370          0.139697  0.497253   \n",
       "\n",
       "   Tool_wear  Type_H  Type_L  Type_M  Machine_failure  \n",
       "0   0.000000       0       0       1                0  \n",
       "1   0.011858       0       1       0                0  \n",
       "2   0.019763       0       1       0                0  \n",
       "3   0.027668       0       1       0                0  \n",
       "4   0.035573       0       1       0                0  "
      ]
     },
     "execution_count": 43,
     "metadata": {},
     "output_type": "execute_result"
    }
   ],
   "source": [
    "new_cols_order = [i for i in df.columns if not i in \"Machine_failure\"] + [\"Machine_failure\"]\n",
    "df = df.loc[:, new_cols_order]\n",
    "df.head()"
   ]
  },
  {
   "cell_type": "markdown",
   "id": "8ca478a4",
   "metadata": {},
   "source": [
    "<a id='5.0'></a>\n",
    "<div class=\"alert alert-block alert-danger\">\n",
    "<h2>Machine Learning Algorithms and Results</h2>\n",
    "</div>"
   ]
  },
  {
   "cell_type": "markdown",
   "id": "d1f1f395",
   "metadata": {},
   "source": [
    "<a id='5.1'></a>\n",
    "<div class=\"alert alert-block alert-info\">\n",
    "   <h3>\n",
    "        Feature engineering\n",
    "   </h3>\n",
    "</div>"
   ]
  },
  {
   "cell_type": "code",
   "execution_count": 44,
   "id": "83293745",
   "metadata": {},
   "outputs": [
    {
     "name": "stdout",
     "output_type": "stream",
     "text": [
      "(10000, 8)\n"
     ]
    }
   ],
   "source": [
    "X = df.drop(['Machine_failure'], axis=1)\n",
    "y = df['Machine_failure']\n",
    "\n",
    "print(X.shape)"
   ]
  },
  {
   "cell_type": "markdown",
   "id": "67f9a646",
   "metadata": {},
   "source": [
    "<div class=\"alert alert-block alert-success\">\n",
    "    <h4>\n",
    "        Check categorical columns\n",
    "    </h4>\n",
    "</div>"
   ]
  },
  {
   "cell_type": "code",
   "execution_count": 45,
   "id": "05f55596",
   "metadata": {},
   "outputs": [
    {
     "data": {
      "text/plain": [
       "[]"
      ]
     },
     "execution_count": 45,
     "metadata": {},
     "output_type": "execute_result"
    }
   ],
   "source": [
    "categorical_feature_cols = list(set(df.columns) - set(df._get_numeric_data().columns))\n",
    "categorical_feature_cols"
   ]
  },
  {
   "cell_type": "markdown",
   "id": "eda4c951",
   "metadata": {},
   "source": [
    "- There is no categorical columns in the dataframe"
   ]
  },
  {
   "cell_type": "code",
   "execution_count": 46,
   "id": "608986c2",
   "metadata": {},
   "outputs": [
    {
     "name": "stdout",
     "output_type": "stream",
     "text": [
      "['Air_temperature', 'Process_temperature', 'Rotational_speed', 'Torque', 'Tool_wear', 'Type_H', 'Type_L', 'Type_M']\n"
     ]
    }
   ],
   "source": [
    "numerical_feature_cols = list(X._get_numeric_data().columns)\n",
    "print(numerical_feature_cols)"
   ]
  },
  {
   "cell_type": "markdown",
   "id": "3329433f",
   "metadata": {},
   "source": [
    "<div class=\"alert alert-block alert-success\">\n",
    "    <h4>\n",
    "        Constant and quasi constant features removal\n",
    "    </h4>\n",
    "</div>"
   ]
  },
  {
   "cell_type": "markdown",
   "id": "0420063a",
   "metadata": {},
   "source": [
    "- Constant: remove the features that have the same value in all samples\n",
    "- Quasi constant : remove the features that they have the 99% same value"
   ]
  },
  {
   "cell_type": "markdown",
   "id": "438c02e7",
   "metadata": {},
   "source": [
    "<div class=\"alert alert-block alert-warning\">\n",
    "        Constant\n",
    "</div>"
   ]
  },
  {
   "cell_type": "code",
   "execution_count": 47,
   "id": "209abd7f",
   "metadata": {},
   "outputs": [
    {
     "name": "stdout",
     "output_type": "stream",
     "text": [
      "0\n"
     ]
    }
   ],
   "source": [
    "from sklearn.feature_selection import VarianceThreshold\n",
    "constant=VarianceThreshold(threshold=0)\n",
    "constant.fit(df)\n",
    "\n",
    "constant_columns = [column for column in df.columns\n",
    "                    if column not in df.columns[constant.get_support()]]\n",
    "print(len(constant_columns))"
   ]
  },
  {
   "cell_type": "markdown",
   "id": "6d710794",
   "metadata": {},
   "source": [
    "<div class=\"alert alert-block alert-warning\">\n",
    "        Quasi constant\n",
    "</div>"
   ]
  },
  {
   "cell_type": "code",
   "execution_count": 48,
   "id": "6fad9cc8",
   "metadata": {},
   "outputs": [
    {
     "name": "stdout",
     "output_type": "stream",
     "text": [
      "[]\n"
     ]
    }
   ],
   "source": [
    "from sklearn.feature_selection import VarianceThreshold\n",
    "quasi_constant=VarianceThreshold(threshold=0.01)\n",
    "quasi_constant.fit(df)\n",
    "\n",
    "quasi_constant_columns = [column for column in df.columns\n",
    "                    if column not in df.columns[quasi_constant.get_support()]]\n",
    "print(quasi_constant_columns)"
   ]
  },
  {
   "cell_type": "markdown",
   "id": "2bcbcb80",
   "metadata": {},
   "source": [
    "<div class=\"alert alert-block alert-success\">\n",
    "    <h4>\n",
    "        Remove duplicate features\n",
    "    </h4>\n",
    "</div>"
   ]
  },
  {
   "cell_type": "code",
   "execution_count": 49,
   "id": "6ad7dc8c",
   "metadata": {},
   "outputs": [
    {
     "name": "stdout",
     "output_type": "stream",
     "text": [
      "0\n"
     ]
    }
   ],
   "source": [
    "X_T = X.T\n",
    "print(X_T.duplicated().sum())"
   ]
  },
  {
   "cell_type": "markdown",
   "id": "bcf8095a",
   "metadata": {},
   "source": [
    "- There are no dublicated features"
   ]
  },
  {
   "cell_type": "markdown",
   "id": "948ab485",
   "metadata": {},
   "source": [
    "<div class=\"alert alert-block alert-success\">\n",
    "    <h4>\n",
    "        Drop highly correlated features using Pearson Correlation\n",
    "    </h4>\n",
    "</div>"
   ]
  },
  {
   "cell_type": "markdown",
   "id": "bc413411",
   "metadata": {},
   "source": [
    "<img src=\"https://upload.wikimedia.org/wikipedia/commons/3/34/Correlation_coefficient.png\" style=\"height:250px\">"
   ]
  },
  {
   "cell_type": "markdown",
   "id": "e36fbc96",
   "metadata": {},
   "source": [
    "Pearson correlation coefficient\n",
    "- a measure of linear correlation between features\n",
    "- the measure can only reflect a linear correlation of variables, and ignores many other types of relationship or correlation\n",
    "- the result always has a value between −1 and 1"
   ]
  },
  {
   "cell_type": "code",
   "execution_count": 50,
   "id": "1ab60d8d",
   "metadata": {},
   "outputs": [
    {
     "data": {
      "text/html": [
       "<div>\n",
       "<style scoped>\n",
       "    .dataframe tbody tr th:only-of-type {\n",
       "        vertical-align: middle;\n",
       "    }\n",
       "\n",
       "    .dataframe tbody tr th {\n",
       "        vertical-align: top;\n",
       "    }\n",
       "\n",
       "    .dataframe thead th {\n",
       "        text-align: right;\n",
       "    }\n",
       "</style>\n",
       "<table border=\"1\" class=\"dataframe\">\n",
       "  <thead>\n",
       "    <tr style=\"text-align: right;\">\n",
       "      <th></th>\n",
       "      <th>Feature_1</th>\n",
       "      <th>Feature_2</th>\n",
       "      <th>Corr_value</th>\n",
       "    </tr>\n",
       "  </thead>\n",
       "  <tbody>\n",
       "    <tr>\n",
       "      <th>1</th>\n",
       "      <td>Torque</td>\n",
       "      <td>Rotational_speed</td>\n",
       "      <td>0.875027</td>\n",
       "    </tr>\n",
       "    <tr>\n",
       "      <th>0</th>\n",
       "      <td>Process_temperature</td>\n",
       "      <td>Air_temperature</td>\n",
       "      <td>0.876107</td>\n",
       "    </tr>\n",
       "  </tbody>\n",
       "</table>\n",
       "</div>"
      ],
      "text/plain": [
       "             Feature_1         Feature_2  Corr_value\n",
       "1               Torque  Rotational_speed    0.875027\n",
       "0  Process_temperature   Air_temperature    0.876107"
      ]
     },
     "execution_count": 50,
     "metadata": {},
     "output_type": "execute_result"
    }
   ],
   "source": [
    "def highly_correlated_features(df, threshold):\n",
    "    corr_matrix = df.corr()\n",
    "    \n",
    "    df_corr_list = []\n",
    "    for i in range(len(corr_matrix.columns)):\n",
    "        for j in range(i):\n",
    "            if abs(corr_matrix.iloc[i, j]) > threshold:\n",
    "                ind_name = corr_matrix.columns[i]\n",
    "                col_name = corr_matrix.columns[j]\n",
    "                coeff_value_absolute = abs(corr_matrix.iloc[i, j])\n",
    "                df_corr_list.append([ind_name, col_name, coeff_value_absolute])\n",
    "                \n",
    "    df_corr = pd.DataFrame(df_corr_list, columns=['Feature_1', 'Feature_2', 'Corr_value'])\n",
    "    \n",
    "    return df_corr\n",
    "        \n",
    "df_hcf = highly_correlated_features(df, 0.85)\n",
    "df_hcf = df_hcf.sort_values(by=['Feature_1', 'Feature_2', 'Corr_value'], ascending=False)\n",
    "df_hcf"
   ]
  },
  {
   "cell_type": "markdown",
   "id": "be0ec407",
   "metadata": {},
   "source": [
    "<div class=\"alert alert-block alert-warning\">\n",
    "        Feature importance based on RandomForestClassifier \n",
    "</div>"
   ]
  },
  {
   "cell_type": "markdown",
   "id": "61ef5c5d",
   "metadata": {},
   "source": [
    "- create correlated feature groups using the highly_correlated_features dataframe (df_hcf)\n",
    "- only one feature will be selected from each group using RandomForestClassifier\n",
    "- other features in each group will be removed"
   ]
  },
  {
   "cell_type": "code",
   "execution_count": 51,
   "id": "3d2cae7e",
   "metadata": {},
   "outputs": [
    {
     "name": "stdout",
     "output_type": "stream",
     "text": [
      "['Rotational_speed', 'Process_temperature']\n"
     ]
    }
   ],
   "source": [
    "from sklearn.ensemble import RandomForestClassifier\n",
    "\n",
    "# the list is used to check if each feature is in previous groups\n",
    "grouped_feature_list = []\n",
    "# the items in the list will be removed from the X_train and X_test\n",
    "dropped_feature_list = []\n",
    "\n",
    "for feature in df_hcf['Feature_1'].unique():\n",
    "    if feature not in grouped_feature_list:\n",
    "        # group the highly_correlated_features dataframe (df_hcf)\n",
    "        df_feature = df_hcf[df_hcf['Feature_1'] == feature]        \n",
    "        \n",
    "        correlated_features_list = [feature] + list(df_feature['Feature_2'].unique())\n",
    "        grouped_feature_list = grouped_feature_list + correlated_features_list\n",
    "\n",
    "        rf = RandomForestClassifier(n_estimators=100, random_state=0, n_jobs=-1)\n",
    "        rf.fit(df[correlated_features_list], y)\n",
    "        # create an importance dataframe using the feature_importances_ values\n",
    "        df_importance = pd.concat([pd.Series(correlated_features_list), pd.Series(rf.feature_importances_)], \n",
    "                               axis=1)\n",
    "        df_importance.columns = ['Feature', 'Importance']\n",
    "        df_importance.sort_values(by = 'Importance', ascending=False, inplace=True)\n",
    "        # get the feature names except the one that has the highest improtance from the df_importance\n",
    "        dropped_feature_list = dropped_feature_list + list(df_importance['Feature'][1:].values)\n",
    "    \n",
    "print(dropped_feature_list)  "
   ]
  },
  {
   "cell_type": "code",
   "execution_count": 52,
   "id": "00024b35",
   "metadata": {},
   "outputs": [
    {
     "name": "stdout",
     "output_type": "stream",
     "text": [
      "(10000, 6)\n"
     ]
    }
   ],
   "source": [
    "# drop the highly correlated features \n",
    "X = X.drop(dropped_feature_list, axis=1)\n",
    "print(X.shape)"
   ]
  },
  {
   "cell_type": "markdown",
   "id": "27723acf",
   "metadata": {},
   "source": [
    "<div class=\"alert alert-block alert-success\">\n",
    "    <h4>\n",
    "        SelectFromModel using Logistic Regression\n",
    "    </h4>\n",
    "</div>"
   ]
  },
  {
   "cell_type": "code",
   "execution_count": 53,
   "id": "43e22603",
   "metadata": {},
   "outputs": [],
   "source": [
    "from sklearn.model_selection import KFold\n",
    "from sklearn.model_selection import cross_val_score\n",
    "\n",
    "def feature_selection(model, X_train, y_train):\n",
    "    cv = KFold(n_splits=10, random_state=0, shuffle=True)\n",
    "    cvs = cross_val_score(model, X_train, y_train, scoring='accuracy', cv=cv, n_jobs=-1)\n",
    "    acc = cvs.mean()\n",
    "    \n",
    "    return acc"
   ]
  },
  {
   "cell_type": "markdown",
   "id": "581bca60",
   "metadata": {},
   "source": [
    "SelectFromModel<br>\n",
    "https://scikit-learn.org/stable/modules/generated/sklearn.feature_selection.SelectFromModel.html?highlight=selectfrommodel#sklearn.feature_selection.SelectFromModel\n",
    "- SelectFromModel can be used alongside any estimator that assigns importance to each feature through a specific attribute (such as coef_, feature_importances_). \n",
    "\n",
    "Parameters\n",
    "- estimator: The estimator should have a feature_importances_ or coef_ attribute after fitting. Otherwise, the importance_getter parameter should be used\n",
    "- threshold: “mean” is used by default"
   ]
  },
  {
   "cell_type": "code",
   "execution_count": 54,
   "id": "ac4d1c8c",
   "metadata": {},
   "outputs": [
    {
     "name": "stdout",
     "output_type": "stream",
     "text": [
      "['Air_temperature', 'Torque', 'Tool_wear']\n",
      "The Accuracy all features: 96.7%\n",
      "The Accuracy selected features with SFM: 96.7%\n"
     ]
    }
   ],
   "source": [
    "from sklearn.feature_selection import SelectFromModel as SFM\n",
    "from sklearn.linear_model import LogisticRegression\n",
    "\n",
    "model = LogisticRegression(n_jobs=-1)\n",
    "sfm = SFM(model).fit(X, y)\n",
    "cols_SFM = X.columns[sfm.get_support()].tolist()\n",
    "print(cols_SFM)\n",
    "\n",
    "acc = feature_selection(model, X, y)\n",
    "acc_SFM = feature_selection(model, X[cols_SFM], y)\n",
    "\n",
    "print('The Accuracy all features: {:.1%}'.format(acc))\n",
    "print('The Accuracy selected features with SFM: {:.1%}'.format(acc_SFM))"
   ]
  },
  {
   "cell_type": "markdown",
   "id": "86d197e5",
   "metadata": {},
   "source": [
    "<div class=\"alert alert-block alert-success\">\n",
    "    <h4>\n",
    "        GenericUnivariateSelect and ANOVA F-value\n",
    "    </h4>\n",
    "</div>"
   ]
  },
  {
   "cell_type": "code",
   "execution_count": 55,
   "id": "7ce73acc",
   "metadata": {},
   "outputs": [],
   "source": [
    "from sklearn.feature_selection import SelectFromModel as SFM\n",
    "from sklearn.linear_model import LogisticRegression\n",
    "\n",
    "def best_features (model, X_train, y_train, cols_sel, cols_SFM, acc, acc_SFM):\n",
    "    cols_model_best = []\n",
    "    acc_model_best = 0\n",
    "    for col in cols_sel:\n",
    "        if col not in cols_SFM:\n",
    "            cols_SFM = cols_SFM + [col]\n",
    "            cv = KFold(n_splits=10, random_state=0, shuffle=True)\n",
    "            cvs_model = cross_val_score(model, X_train[cols_SFM], y_train, scoring='accuracy', cv=cv)\n",
    "            acc_model = cvs_model.mean()\n",
    "            if (acc_model > acc_SFM) & (acc_model > acc_model_best):\n",
    "                cols_model_best = cols_SFM\n",
    "                acc_model_best = acc_model\n",
    "                print(cols_model_best)\n",
    "                print('The Accuracy all features: {:.1%}'.format(acc))\n",
    "                print('The Accuracy selected features with SFM: {:.1%}'.format(acc_SFM))\n",
    "                print('The Accuracy selected features with MODEL: {:.1%}'.format(acc_model_best))\n",
    "                print('=====')"
   ]
  },
  {
   "cell_type": "markdown",
   "id": "6cf0ce51",
   "metadata": {},
   "source": [
    "GenericUnivariateSelect<br>\n",
    "https://scikit-learn.org/stable/modules/generated/sklearn.feature_selection.GenericUnivariateSelect.html\n",
    "- Univariate feature selection works by selecting the best features based on univariate statistical tests. \n",
    "- GenericUnivariateSelect allows to perform univariate feature selection with a configurable strategy. This allows to select the best univariate selection strategy with hyper-parameter search estimator.\n",
    "\n",
    "Parameters\n",
    "\n",
    "- score_func, default=f_classif\n",
    "- mode: Feature selection mode {‘percentile’, ‘k_best’, ‘fpr’, ‘fdr’, ‘fwe’}, default=’percentile’\n",
    "- param: Parameter of the corresponding mode"
   ]
  },
  {
   "cell_type": "code",
   "execution_count": 56,
   "id": "41e28ba6",
   "metadata": {},
   "outputs": [],
   "source": [
    "from sklearn.feature_selection import GenericUnivariateSelect as GUS\n",
    "# ANOVA F-value between label/feature for classification tasks.\n",
    "from sklearn.feature_selection import f_classif\n",
    "\n",
    "gus_f = GUS(f_classif, mode='k_best', param=len(X.columns)).fit(X, y)\n",
    "cols_gus_f = X.columns[gus_f.get_support()].tolist()\n",
    "\n",
    "best_features(model, X, y, cols_gus_f, cols_SFM, acc, acc_SFM)"
   ]
  },
  {
   "cell_type": "markdown",
   "id": "c00e8246",
   "metadata": {},
   "source": [
    "<div class=\"alert alert-block alert-success\">\n",
    "    <h4>\n",
    "        SelectKBest and Mutual Information\n",
    "    </h4>\n",
    "</div>"
   ]
  },
  {
   "cell_type": "markdown",
   "id": "a62c986c",
   "metadata": {},
   "source": [
    "SelectKBest<br>\n",
    "https://scikit-learn.org/stable/modules/generated/sklearn.feature_selection.SelectKBest.html?highlight=selectkbest#sklearn.feature_selection.SelectKBest\n",
    "- Univariate feature selection works by selecting the best features based on univariate statistical tests. \n",
    "- SelectKBest removes all but the  highest scoring features\n",
    "\n",
    "Parameters\n",
    "\n",
    "- score_func, default=f_classif\n",
    "- k, default=10: Number of top features to select"
   ]
  },
  {
   "cell_type": "code",
   "execution_count": 57,
   "id": "3b0405d8",
   "metadata": {},
   "outputs": [],
   "source": [
    "from sklearn.feature_selection import SelectKBest\n",
    "# Mutual information for a discrete target.\n",
    "from sklearn.feature_selection import mutual_info_classif\n",
    "\n",
    "# select the  top k important features\n",
    "KBest_m = SelectKBest(mutual_info_classif, k=len(X.columns)).fit(X, y)\n",
    "cols_KBest_m = X.columns[KBest_m.get_support()].tolist()\n",
    "\n",
    "best_features(model, X, y, cols_KBest_m, cols_SFM, acc, acc_SFM)"
   ]
  },
  {
   "cell_type": "markdown",
   "id": "c87e0e21",
   "metadata": {},
   "source": [
    "<div class=\"alert alert-block alert-success\">\n",
    "    <h4>\n",
    "        RFE (Recursive feature elimination)\n",
    "    </h4>\n",
    "</div>"
   ]
  },
  {
   "cell_type": "markdown",
   "id": "2b3f62ab",
   "metadata": {},
   "source": [
    "RFE<br>\n",
    "https://scikit-learn.org/stable/modules/generated/sklearn.feature_selection.RFE.html?highlight=rfe#sklearn.feature_selection.RFE\n",
    "- Given an external estimator that assigns weights to features (e.g., the coefficients of a linear model), the goal of recursive feature elimination (RFE) is to select features by recursively considering smaller and smaller sets of features.\n",
    "\n",
    "Parameters\n",
    "\n",
    "- estimator: A supervised learning estimator with a fit method that provides information about feature importance (e.g. coef_, feature_importances_)\n",
    "- n_features_to_select, default=None: Number of top features to select"
   ]
  },
  {
   "cell_type": "code",
   "execution_count": 58,
   "id": "76b861e4",
   "metadata": {},
   "outputs": [],
   "source": [
    "from sklearn.feature_selection import RFE\n",
    "\n",
    "new_cols_RFE = cols_SFM.copy()\n",
    "acc_RFE_best = 0\n",
    "new_cols_RFE_best = []\n",
    "\n",
    "for i in range(10, len(X.columns)+1):\n",
    "    selector = RFE(estimator=model, n_features_to_select=i).fit(X, y)\n",
    "    new_cols_RFE = X.columns[selector.get_support()]\n",
    "    \n",
    "    cv = KFold(n_splits=10, random_state=0, shuffle=True)\n",
    "    cvs_RFE = cross_val_score(model, X[new_cols_RFE], y, scoring='accuracy', cv=cv)\n",
    "    acc_RFE = cvs_RFE.mean()\n",
    "    \n",
    "    if acc_RFE > acc_RFE_best:\n",
    "        acc_RFE_best = acc_RFE\n",
    "        new_cols_RFE_best = new_cols_RFE\n",
    "        \n",
    "        print(new_cols_RFE_best)\n",
    "        print('The Accuracy all features: {:.1%}'.format(acc))\n",
    "        print('The Accuracy selected features with SFM: {:.1%}'.format(acc_SFM))\n",
    "        print('The Accuracy selected features with KBest: {:.1%}'.format(acc_RFE_best))\n",
    "        print('=====')"
   ]
  },
  {
   "cell_type": "markdown",
   "id": "f2592df4",
   "metadata": {},
   "source": [
    "<a id='5.2'></a>\n",
    "<div class=\"alert alert-block alert-info\">\n",
    "   <h3>\n",
    "        Correlation of the features\n",
    "   </h3>\n",
    "</div>"
   ]
  },
  {
   "cell_type": "code",
   "execution_count": 59,
   "id": "0edc4610",
   "metadata": {},
   "outputs": [],
   "source": [
    "def create_heatmap(hm, figsize=(16, 8)):\n",
    "    fig, ax = plt.subplots(figsize=figsize)\n",
    "\n",
    "    im = ax.imshow(hm, cmap='viridis', aspect='auto')\n",
    "\n",
    "    # Create colorbar\n",
    "    cbar = ax.figure.colorbar(im, ax=ax)\n",
    "\n",
    "    # We want to show all ticks...\n",
    "    ax.set_xticks(np.arange(len(hm.columns)))\n",
    "    ax.set_yticks(np.arange(len(hm.columns)))\n",
    "    # ... and label them with the respective list entries\n",
    "    ax.set_xticklabels(hm.columns)\n",
    "    ax.set_yticklabels(hm.columns)\n",
    "\n",
    "    # Turn spines off and create white grid.\n",
    "    ax.spines[:].set_visible(False)\n",
    "    ax.set_xticks(np.arange(hm.shape[1]+1)-.5, minor=True)\n",
    "    ax.set_yticks(np.arange(hm.shape[0]+1)-.5, minor=True)\n",
    "    ax.grid(which=\"minor\", color=\"w\", linestyle='-', linewidth=3)\n",
    "    ax.tick_params(which=\"minor\", bottom=False, left=False)\n",
    "\n",
    "    # Rotate the tick labels and set their alignment.\n",
    "    plt.setp(ax.get_xticklabels(), rotation=45, ha=\"right\",\n",
    "             rotation_mode=\"anchor\")\n",
    "\n",
    "    # Loop over data dimensions and create text annotations.\n",
    "    for i in range(len(hm.columns)):\n",
    "        for j in range(len(hm.columns)):\n",
    "            hm_val = round(hm.values[i, j], 2)\n",
    "            if hm_val > 0.85:\n",
    "                text = ax.text(j, i, hm_val,\n",
    "                               ha=\"center\", va=\"center\", color=\"black\", size=16)\n",
    "            else:\n",
    "                text = ax.text(j, i, hm_val,\n",
    "                               ha=\"center\", va=\"center\", color=\"w\", size=16)\n",
    "\n",
    "    fig.tight_layout()\n",
    "    plt.show()"
   ]
  },
  {
   "cell_type": "code",
   "execution_count": 60,
   "id": "35c0b04b",
   "metadata": {},
   "outputs": [
    {
     "data": {
      "image/png": "[encoded data removed]",
      "text/plain": [
       "<Figure size 1152x576 with 2 Axes>"
      ]
     },
     "metadata": {
      "needs_background": "light"
     },
     "output_type": "display_data"
    }
   ],
   "source": [
    "hm_train_new = pd.concat([X, y], axis=1).corr()\n",
    "create_heatmap(hm_train_new)"
   ]
  },
  {
   "cell_type": "code",
   "execution_count": 61,
   "id": "ee72f0bd",
   "metadata": {},
   "outputs": [
    {
     "name": "stdout",
     "output_type": "stream",
     "text": [
      "['Type_H', 'Type_M']\n"
     ]
    }
   ],
   "source": [
    "cols_dropped = list(hm_train_new[(hm_train_new[\"Machine_failure\"] > -0.03)&\\\n",
    "                                 (hm_train_new[\"Machine_failure\"] < 0.03)][\"Machine_failure\"].index)\n",
    "print(cols_dropped)"
   ]
  },
  {
   "cell_type": "code",
   "execution_count": 62,
   "id": "e8e6a7d2",
   "metadata": {},
   "outputs": [],
   "source": [
    "X.drop(cols_dropped, axis=1, inplace=True)"
   ]
  },
  {
   "cell_type": "markdown",
   "id": "0739e5ce",
   "metadata": {},
   "source": [
    "<a id='5.3'></a>\n",
    "<div class=\"alert alert-block alert-info\">\n",
    "   <h3>\n",
    "        Split Dataframe\n",
    "   </h3>\n",
    "</div>"
   ]
  },
  {
   "cell_type": "code",
   "execution_count": 63,
   "id": "617f0a88",
   "metadata": {},
   "outputs": [
    {
     "name": "stdout",
     "output_type": "stream",
     "text": [
      "(7000, 4)\n",
      "(3000, 4)\n"
     ]
    }
   ],
   "source": [
    "from sklearn.model_selection import train_test_split\n",
    "\n",
    "X_train, X_test, y_train, y_test = train_test_split(X, y,  test_size=0.30, random_state=0)\n",
    "\n",
    "print(X_train.shape)\n",
    "print(X_test.shape)"
   ]
  },
  {
   "cell_type": "markdown",
   "id": "8f970db0",
   "metadata": {},
   "source": [
    "<a id='5.4'></a>\n",
    "<div class=\"alert alert-block alert-info\">\n",
    "   <h3>\n",
    "        Overcoming Class Imbalance using SMOTE\n",
    "   </h3>\n",
    "</div>"
   ]
  },
  {
   "cell_type": "markdown",
   "id": "bc30b474",
   "metadata": {},
   "source": [
    "- It is an imbalanced data where the target variable\n",
    "- SMOTE: Synthetic Minority Oversampling Technique will be used for creating synthesized data\n",
    "- A comparative analysis will be done on the dataset using RandomForestClassifier\n",
    "- The accuracy metric will be ignored to evaluate the performance of the classifier on this imbalanced dataset\n",
    "- Precision, recall, F1-score metrics will be taken into account "
   ]
  },
  {
   "cell_type": "markdown",
   "id": "1307af2e",
   "metadata": {},
   "source": [
    "<div class=\"alert alert-block alert-warning\">\n",
    "        SMOTE: Synthetic Minority Oversampling Technique\n",
    "</div>"
   ]
  },
  {
   "cell_type": "markdown",
   "id": "923088d0",
   "metadata": {},
   "source": [
    "- SMOTE works by selecting examples that are close in the feature space, drawing a line between the examples in the feature space and drawing a new sample at a point along that line.\n",
    "- Specifically, a random example from the minority class is first chosen. Then k of the nearest neighbors for that example are found (typically k=5). A randomly selected neighbor is chosen and a synthetic example is created at a randomly selected point between the two examples in feature space."
   ]
  },
  {
   "cell_type": "markdown",
   "id": "9e90005d",
   "metadata": {},
   "source": [
    "<img src=\"https://editor.analyticsvidhya.com/uploads/64068image3.png\" style=\"height:250px\">"
   ]
  },
  {
   "cell_type": "code",
   "execution_count": 64,
   "id": "bda98342",
   "metadata": {},
   "outputs": [],
   "source": [
    "from imblearn.over_sampling import SMOTE\n",
    "\n",
    "smote = SMOTE(sampling_strategy='minority', n_jobs=-1)\n",
    "X_train_sm, y_train_sm = smote.fit_resample(X_train, y_train)"
   ]
  },
  {
   "cell_type": "code",
   "execution_count": 65,
   "id": "b3ca8a6a",
   "metadata": {},
   "outputs": [],
   "source": [
    "df_Failure_smote = percentCol(pd.concat([X_train_sm, y_train_sm], axis=1), 'Machine_failure')"
   ]
  },
  {
   "cell_type": "code",
   "execution_count": 67,
   "id": "a5abfcb9",
   "metadata": {},
   "outputs": [
    {
     "data": {
      "image/png": "[encoded data removed]",
      "text/plain": [
       "<Figure size 864x144 with 1 Axes>"
      ]
     },
     "metadata": {
      "needs_background": "light"
     },
     "output_type": "display_data"
    }
   ],
   "source": [
    "balanceOrInbalance(df_Failure_smote)"
   ]
  },
  {
   "cell_type": "markdown",
   "id": "454935c4",
   "metadata": {},
   "source": [
    "<div class=\"alert alert-block alert-success\">\n",
    "    <h4>\n",
    "        Comparison\n",
    "    </h4>\n",
    "</div>"
   ]
  },
  {
   "cell_type": "markdown",
   "id": "50a26097",
   "metadata": {},
   "source": [
    "<div class=\"alert alert-block alert-warning\">\n",
    "        Before\n",
    "</div>"
   ]
  },
  {
   "cell_type": "code",
   "execution_count": 68,
   "id": "dadf46c2",
   "metadata": {},
   "outputs": [
    {
     "data": {
      "image/png": "[encoded data removed]",
      "text/plain": [
       "<Figure size 576x288 with 2 Axes>"
      ]
     },
     "metadata": {
      "needs_background": "light"
     },
     "output_type": "display_data"
    }
   ],
   "source": [
    "from sklearn.ensemble import RandomForestClassifier\n",
    "\n",
    "params = {}\n",
    "rf = RandomForestClassifier(n_estimators=100, random_state=0, n_jobs=-1)\n",
    "rf_cm_metrics, rf_pred = evaluate_model(rf, X_train, y_train, X_test, y_test, params)"
   ]
  },
  {
   "cell_type": "markdown",
   "id": "49131cca",
   "metadata": {},
   "source": [
    "<div class=\"alert alert-block alert-warning\">\n",
    "        After\n",
    "</div>"
   ]
  },
  {
   "cell_type": "code",
   "execution_count": 69,
   "id": "f99bf035",
   "metadata": {},
   "outputs": [
    {
     "data": {
      "image/png": "[encoded data removed]",
      "text/plain": [
       "<Figure size 576x288 with 2 Axes>"
      ]
     },
     "metadata": {
      "needs_background": "light"
     },
     "output_type": "display_data"
    }
   ],
   "source": [
    "from sklearn.ensemble import RandomForestClassifier\n",
    "\n",
    "params = {}\n",
    "rf = RandomForestClassifier(n_estimators=100, random_state=0, n_jobs=-1)\n",
    "rf_cm_metrics, rf_pred = evaluate_model(rf, X_train_sm, y_train_sm, X_test, y_test, params)"
   ]
  },
  {
   "cell_type": "markdown",
   "id": "52e30f24",
   "metadata": {},
   "source": [
    "<a id='5.5'></a>\n",
    "<div class=\"alert alert-block alert-info\">\n",
    "   <h3>\n",
    "        Building ML models\n",
    "   </h3>\n",
    "</div>"
   ]
  },
  {
   "cell_type": "markdown",
   "id": "5140e0e2",
   "metadata": {},
   "source": [
    "<div class=\"alert alert-block alert-success\">\n",
    "    <h4>\n",
    "        Logistic\n",
    "    </h4>\n",
    "</div>"
   ]
  },
  {
   "cell_type": "markdown",
   "id": "fa4de3f2",
   "metadata": {},
   "source": [
    "<img src=\"https://static.javatpoint.com/tutorial/machine-learning/images/logistic-regression-in-machine-learning.png\" style=\"height:150px\">"
   ]
  },
  {
   "cell_type": "code",
   "execution_count": 70,
   "id": "50a1593f",
   "metadata": {},
   "outputs": [
    {
     "name": "stdout",
     "output_type": "stream",
     "text": [
      "best prarams: {}\n"
     ]
    },
    {
     "data": {
      "image/png": "[encoded data removed]",
      "text/plain": [
       "<Figure size 576x288 with 2 Axes>"
      ]
     },
     "metadata": {
      "needs_background": "light"
     },
     "output_type": "display_data"
    }
   ],
   "source": [
    "from sklearn.model_selection import GridSearchCV\n",
    "from sklearn.linear_model import LogisticRegression\n",
    "\n",
    "log = LogisticRegression(penalty='l2', C=1, solver='sag', max_iter=150, multi_class='ovr')\n",
    "params = {\n",
    "#     'penalty': ['l1', 'l2', 'elasticnet', 'none'],\n",
    "#     'C': [i for i in np.arange(1, 5, 1)],\n",
    "#     'solver': ['newton-cg', 'lbfgs', 'liblinear', 'sag', 'saga'],\n",
    "#     'max_iter': [i for i in np.arange(1, 15, 1)],\n",
    "#     'multi_class': ['auto', 'ovr', 'multinomial'],\n",
    "         }\n",
    "clf_log = GridSearchCV(estimator=log, cv=10, scoring='accuracy', param_grid=params).fit(X_train_sm, y_train_sm)\n",
    "print('best prarams:', clf_log.best_params_)\n",
    "\n",
    "log_cm_metrics, log_pred = evaluate_model(log, X_train_sm, y_train_sm, X_test, y_test, params)"
   ]
  },
  {
   "cell_type": "markdown",
   "id": "8101e3b5",
   "metadata": {},
   "source": [
    "<div class=\"alert alert-block alert-success\">\n",
    "    <h4>\n",
    "        Random Forest\n",
    "    </h4>\n",
    "</div>"
   ]
  },
  {
   "cell_type": "markdown",
   "id": "f3611048",
   "metadata": {},
   "source": [
    "<img src=\"https://406167-1278791-raikfcquaxqncofqfm.stackpathdns.com/wp-content/uploads/2021/02/Random-Forest-Algorithm-1024x576.jpg\" style=\"height:250px\">"
   ]
  },
  {
   "cell_type": "code",
   "execution_count": 71,
   "id": "8acf2d79",
   "metadata": {},
   "outputs": [
    {
     "name": "stdout",
     "output_type": "stream",
     "text": [
      "best prarams: {}\n"
     ]
    },
    {
     "data": {
      "image/png": "[encoded data removed]",
      "text/plain": [
       "<Figure size 576x288 with 2 Axes>"
      ]
     },
     "metadata": {
      "needs_background": "light"
     },
     "output_type": "display_data"
    }
   ],
   "source": [
    "from sklearn.model_selection import GridSearchCV\n",
    "from sklearn.ensemble import RandomForestClassifier\n",
    "\n",
    "rf = RandomForestClassifier(n_estimators=50, criterion='entropy', max_depth=25, \n",
    "                            min_samples_split=5)\n",
    "params = {\n",
    "#     'criterion': ['gini', 'entropy'],\n",
    "#     'n_estimators': [10,20,30,50, 100, 125, 150, 200],\n",
    "#     'max_depth': [i for i in np.arange(1, 15, 1)],\n",
    "#     'min_samples_split': [i for i in np.arange(1, 15, 1)],\n",
    "#     'min_samples_leaf': [i for i in np.arange(1, 15, 1)],\n",
    "         }\n",
    "clf_rf = GridSearchCV(estimator=rf, cv=10, scoring='accuracy', param_grid=params, n_jobs=-1)\\\n",
    ".fit(X_train_sm, y_train_sm)\n",
    "print('best prarams:', clf_rf.best_params_)\n",
    "\n",
    "rf_cm_metrics, rf_pred = evaluate_model(rf, X_train_sm, y_train_sm, X_test, y_test, params)"
   ]
  },
  {
   "cell_type": "markdown",
   "id": "8863fca0",
   "metadata": {},
   "source": [
    "<div class=\"alert alert-block alert-success\">\n",
    "    <h4>\n",
    "        Naive Bayes\n",
    "    </h4>\n",
    "</div>"
   ]
  },
  {
   "cell_type": "markdown",
   "id": "24515030",
   "metadata": {},
   "source": [
    "<img src=\"https://www.researchgate.net/profile/Paolo-Dellaversana/publication/328020065/figure/fig5/AS:677213301121033@1538471641906/Naive-Bayes-classification-of-three-different-rock-types-based-on-nine-mineralogical.png\" style=\"height:200px\">"
   ]
  },
  {
   "cell_type": "code",
   "execution_count": 83,
   "id": "cab0647e",
   "metadata": {},
   "outputs": [
    {
     "name": "stdout",
     "output_type": "stream",
     "text": [
      "best prarams: {}\n",
      "CPU times: user 105 ms, sys: 13.8 ms, total: 119 ms\n",
      "Wall time: 137 ms\n"
     ]
    },
    {
     "data": {
      "image/png": "[encoded data removed]",
      "text/plain": [
       "<Figure size 576x288 with 2 Axes>"
      ]
     },
     "metadata": {
      "needs_background": "light"
     },
     "output_type": "display_data"
    }
   ],
   "source": [
    "%%time\n",
    "from sklearn.model_selection import GridSearchCV\n",
    "from sklearn.naive_bayes import BernoulliNB\n",
    "\n",
    "bNB = BernoulliNB(alpha=0.5, binarize=1.5, fit_prior=False)\n",
    "bNB = BernoulliNB(alpha=0.0, binarize=0.5, fit_prior=False)\n",
    "params = {\n",
    "#     'alpha': [0, 0.1, 0.5, 1.0, 1.5, 2.0, 2.5],\n",
    "#     'binarize': [0.0, 0.5, 1.0, 1.5, 2.0, 2.5],\n",
    "#     'fit_prior': [False, True],\n",
    "         }\n",
    "clf_bNB = GridSearchCV(estimator=bNB, cv=10, scoring='accuracy', param_grid=params, \n",
    "n_jobs=-1).fit(X_train_sm, y_train_sm)\n",
    "print('best prarams:', clf_bNB.best_params_)\n",
    "\n",
    "bNB_cm_metrics, bNB_pred = evaluate_model(bNB, X_train_sm, y_train_sm, X_test, y_test, params)"
   ]
  },
  {
   "cell_type": "markdown",
   "id": "31d9f15a",
   "metadata": {},
   "source": [
    "<div class=\"alert alert-block alert-success\">\n",
    "    <h4>\n",
    "        SVM\n",
    "    </h4>\n",
    "</div>"
   ]
  },
  {
   "cell_type": "markdown",
   "id": "a8a47a9b",
   "metadata": {},
   "source": [
    "<img src=\"https://miro.medium.com/max/410/1*MHtUN-DgYPZWPe2dU5G6Lg.png\" style=\"height:200px\">"
   ]
  },
  {
   "cell_type": "code",
   "execution_count": 84,
   "id": "fecd743a",
   "metadata": {},
   "outputs": [
    {
     "name": "stdout",
     "output_type": "stream",
     "text": [
      "best prarams: {}\n",
      "CPU times: user 53 s, sys: 1.12 s, total: 54.1 s\n",
      "Wall time: 1min 6s\n"
     ]
    },
    {
     "data": {
      "image/png": "[encoded data removed]",
      "text/plain": [
       "<Figure size 576x288 with 2 Axes>"
      ]
     },
     "metadata": {
      "needs_background": "light"
     },
     "output_type": "display_data"
    }
   ],
   "source": [
    "%%time\n",
    "from sklearn.model_selection import GridSearchCV\n",
    "from sklearn.svm import SVC\n",
    "\n",
    "svm = SVC(C=2.5, kernel='rbf', degree=0.1, probability=True)\n",
    "\n",
    "params = {\n",
    "#     'kernel': ['linear', 'poly', 'rbf', 'sigmoid'],\n",
    "#     'C': [0.1, 0.3, 0.5, 1.0, 1.5, 2.0, 2.5],\n",
    "#     'degree': [0,0.01,0.02,0.03,0.04],\n",
    "         }\n",
    "clf_svm = GridSearchCV(estimator=svm, cv=10, scoring='accuracy', param_grid=params, \n",
    "n_jobs=-1).fit(X_train_sm, y_train_sm)\n",
    "print('best prarams:', clf_svm.best_params_)\n",
    "\n",
    "svm_cm_metrics, svm_pred = evaluate_model(svm, X_train_sm, y_train_sm, X_test, y_test, params)"
   ]
  },
  {
   "cell_type": "markdown",
   "id": "bd9c859f",
   "metadata": {},
   "source": [
    "<div class=\"alert alert-block alert-success\">\n",
    "    <h4>\n",
    "        k-Nearest Neighbours\n",
    "    </h4>\n",
    "</div>"
   ]
  },
  {
   "cell_type": "markdown",
   "id": "fdb35f23",
   "metadata": {},
   "source": [
    "<img src=\"https://www.kdnuggets.com/wp-content/uploads/rapidminer-knn-image1.jpg\" style=\"height:200px\">"
   ]
  },
  {
   "cell_type": "code",
   "execution_count": 94,
   "id": "5f02d320",
   "metadata": {},
   "outputs": [
    {
     "data": {
      "image/png": "[encoded data removed]",
      "text/plain": [
       "<Figure size 576x288 with 1 Axes>"
      ]
     },
     "metadata": {
      "needs_background": "light"
     },
     "output_type": "display_data"
    }
   ],
   "source": [
    "from sklearn.neighbors import KNeighborsClassifier\n",
    "from sklearn.model_selection import cross_val_score\n",
    "\n",
    "acc_list = []\n",
    "for k in range(1,40):\n",
    "    knn = KNeighborsClassifier(n_neighbors=k)\n",
    "    knn.fit(X_train_sm, y_train_sm)\n",
    "    cv = KFold(n_splits=10, random_state=0, shuffle=True)\n",
    "    accuracy_scores = cross_val_score(knn, X_train_sm, y_train_sm, scoring='accuracy', cv=cv, n_jobs=-1)\n",
    "    acc_knn = round(accuracy_scores.mean()*100, 2)\n",
    "#     acc_knn = evaluate_model(knn, X_train_sm, y_train_sm)\n",
    "    acc_list.append(acc_knn)\n",
    "    \n",
    "plt.figure(figsize=(8,4))\n",
    "plt.plot(range(1,40),acc_list,color='blue', linestyle='dashed', marker='o',\n",
    "         markerfacecolor='red', markersize=10)\n",
    "plt.title('Accuracy vs. K Value')\n",
    "plt.xlabel('K')\n",
    "plt.ylabel('Accuracy')\n",
    "plt.show()"
   ]
  },
  {
   "cell_type": "code",
   "execution_count": 95,
   "id": "9952cef0",
   "metadata": {},
   "outputs": [
    {
     "name": "stdout",
     "output_type": "stream",
     "text": [
      "1\n"
     ]
    }
   ],
   "source": [
    "k_max_list = [i for i in acc_list]\n",
    "k_max = acc_list.index(max(k_max_list))+1\n",
    "print(k_max)"
   ]
  },
  {
   "cell_type": "code",
   "execution_count": 96,
   "id": "ddf8ea7c",
   "metadata": {},
   "outputs": [
    {
     "name": "stdout",
     "output_type": "stream",
     "text": [
      "best prarams: {}\n",
      "CPU times: user 515 ms, sys: 15.4 ms, total: 530 ms\n",
      "Wall time: 652 ms\n"
     ]
    },
    {
     "data": {
      "image/png": "[encoded data removed]",
      "text/plain": [
       "<Figure size 576x288 with 2 Axes>"
      ]
     },
     "metadata": {
      "needs_background": "light"
     },
     "output_type": "display_data"
    }
   ],
   "source": [
    "%%time\n",
    "from sklearn.model_selection import GridSearchCV\n",
    "from sklearn.neighbors import KNeighborsClassifier\n",
    "\n",
    "knn = KNeighborsClassifier(algorithm='auto', leaf_size=5, weights='uniform', p=4)\n",
    "\n",
    "params = {\n",
    "#     'algorithm': ['auto', 'ball_tree', 'kd_tree', 'brute'],\n",
    "#     'leaf_size': [i for i in np.arange(0, 15, 1)],\n",
    "#     'weights': ['uniform', 'distance'],\n",
    "#     'p': [1, 2, 3, 4, 5, 6],\n",
    "         }\n",
    "clf_knn = GridSearchCV(estimator=knn, cv=10, scoring='accuracy', param_grid=params, \n",
    "n_jobs=-1).fit(X_train_sm, y_train_sm)\n",
    "print('best prarams:', clf_knn.best_params_)\n",
    "\n",
    "knn_cm_metrics, knn_pred = evaluate_model(knn, X_train_sm, y_train_sm, X_test, y_test, params)"
   ]
  },
  {
   "cell_type": "markdown",
   "id": "31c4d39d",
   "metadata": {},
   "source": [
    "<div class=\"alert alert-block alert-success\">\n",
    "    <h4>\n",
    "        Stochastic Gradient Descent\n",
    "    </h4>\n",
    "</div>"
   ]
  },
  {
   "cell_type": "markdown",
   "id": "eda14ab3",
   "metadata": {},
   "source": [
    "<img src=\"https://miro.medium.com/max/1005/1*f0CuPDSWFUr9XGESWQ4JUA.png\" style=\"height:200px\">"
   ]
  },
  {
   "cell_type": "code",
   "execution_count": 108,
   "id": "036d7f2e",
   "metadata": {},
   "outputs": [
    {
     "name": "stdout",
     "output_type": "stream",
     "text": [
      "best prarams: {}\n",
      "CPU times: user 288 ms, sys: 89.4 ms, total: 378 ms\n",
      "Wall time: 295 ms\n"
     ]
    },
    {
     "data": {
      "image/png": "[encoded data removed]",
      "text/plain": [
       "<Figure size 576x288 with 2 Axes>"
      ]
     },
     "metadata": {
      "needs_background": "light"
     },
     "output_type": "display_data"
    }
   ],
   "source": [
    "%%time\n",
    "from sklearn.model_selection import GridSearchCV\n",
    "from sklearn.linear_model import SGDClassifier\n",
    "\n",
    "sgdc = SGDClassifier(loss='log', penalty='l1', alpha=0.0005, eta0=0.01, learning_rate='invscaling',\n",
    "                    power_t=0.01, validation_fraction=0.07, n_iter_no_change=9)\n",
    "\n",
    "params = {\n",
    "#     'loss': ['hinge', 'log', 'modified_huber', 'squared_hinge', 'perceptron', \n",
    "#              'squared_loss', 'huber', 'epsilon_insensitive', 'squared_epsilon_insensitive'],\n",
    "#     'penalty': ['l1', 'l2', 'elasticnet'],\n",
    "#     'alpha': [i for i in np.arange(0.0001, 0.001, 1/10000)],\n",
    "#     'learning_rate': ['constant', 'optimal', 'invscaling', 'adaptive'],\n",
    "#     'eta0': [0.01, 0.03, 0.05, 0.07],\n",
    "#     'power_t': [0.01, 0.03, 0.05, 0.07, 0.1, 0.2, 0.3],\n",
    "#     'validation_fraction': [0.01, 0.03, 0.05, 0.07, 0.1, 0.2],\n",
    "#     'n_iter_no_change': [1, 3, 5, 7, 9, 11],\n",
    "         }\n",
    "clf_sgdc = GridSearchCV(estimator=sgdc, cv=10, scoring='accuracy', param_grid=params, \n",
    "n_jobs=-1).fit(X_train_sm, y_train_sm)\n",
    "print('best prarams:', clf_sgdc.best_params_)\n",
    "\n",
    "sgdc_cm_metrics, sgdc_pred = evaluate_model(sgdc, X_train_sm, y_train_sm, X_test, y_test, params)"
   ]
  },
  {
   "cell_type": "markdown",
   "id": "d894bb1a",
   "metadata": {},
   "source": [
    "<div class=\"alert alert-block alert-success\">\n",
    "    <h4>\n",
    "        Gradient Boosting Trees\n",
    "    </h4>\n",
    "</div>"
   ]
  },
  {
   "cell_type": "markdown",
   "id": "4ad9d346",
   "metadata": {},
   "source": [
    "<img src=\"https://miro.medium.com/max/788/1*pEu2LNmxf9ttXHIALPcEBw.png\" style=\"height:200px\">"
   ]
  },
  {
   "cell_type": "code",
   "execution_count": 109,
   "id": "7ac6f43b",
   "metadata": {},
   "outputs": [
    {
     "name": "stdout",
     "output_type": "stream",
     "text": [
      "best prarams: {}\n",
      "CPU times: user 27.9 s, sys: 174 ms, total: 28.1 s\n",
      "Wall time: 33.9 s\n"
     ]
    },
    {
     "data": {
      "image/png": "[encoded data removed]",
      "text/plain": [
       "<Figure size 576x288 with 2 Axes>"
      ]
     },
     "metadata": {
      "needs_background": "light"
     },
     "output_type": "display_data"
    }
   ],
   "source": [
    "%%time\n",
    "from sklearn.model_selection import GridSearchCV\n",
    "from sklearn.ensemble import GradientBoostingClassifier\n",
    "\n",
    "gbc = GradientBoostingClassifier(loss='deviance', learning_rate=0.05, n_estimators=120, \n",
    "                                 subsample=0.9, criterion='mse', max_depth=4)\n",
    "gbc = GradientBoostingClassifier(loss='deviance', learning_rate=0.35, n_estimators=120,\n",
    "                                 subsample=0.95, max_depth=8\n",
    "                                )\n",
    "\n",
    "params = {\n",
    "#         'loss': ['deviance', 'exponential'],\n",
    "#     'learning_rate': [0.3, 0.35, 0.45, 0.5, 0.6, 0.65, ],\n",
    "#     'n_estimators': [0,1,2,3,4,5,6,7],\n",
    "#     'subsample':[0.9,0.95,1,1.1],\n",
    "#     'criterion': ['friedman_mse', 'mse', 'mae'],\n",
    "#     'max_depth': [1,2,3,4,6,7,8,9],\n",
    "         }\n",
    "clf_gbc = GridSearchCV(estimator=gbc, cv=10, scoring='accuracy', param_grid=params, \n",
    "n_jobs=-1).fit(X_train_sm, y_train_sm)\n",
    "print('best prarams:', clf_gbc.best_params_)\n",
    "\n",
    "gbc_cm_metrics, gbc_pred = evaluate_model(gbc, X_train_sm, y_train_sm, X_test, y_test, params)"
   ]
  },
  {
   "cell_type": "markdown",
   "id": "ff63af5f",
   "metadata": {},
   "source": [
    "<div class=\"alert alert-block alert-success\">\n",
    "    <h4>\n",
    "        xgboost -> XGBClassifier\n",
    "    </h4>\n",
    "</div>"
   ]
  },
  {
   "cell_type": "code",
   "execution_count": 110,
   "id": "9a00d110",
   "metadata": {},
   "outputs": [
    {
     "name": "stdout",
     "output_type": "stream",
     "text": [
      "best prarams: {}\n",
      "CPU times: user 4.14 s, sys: 111 ms, total: 4.25 s\n",
      "Wall time: 3.95 s\n"
     ]
    },
    {
     "data": {
      "image/png": "[encoded data removed]",
      "text/plain": [
       "<Figure size 576x288 with 2 Axes>"
      ]
     },
     "metadata": {
      "needs_background": "light"
     },
     "output_type": "display_data"
    }
   ],
   "source": [
    "%%time\n",
    "from sklearn.model_selection import GridSearchCV\n",
    "from xgboost import XGBClassifier\n",
    "\n",
    "xgb = XGBClassifier(booster='gbtree', eval_metric='logloss', sketch_eps=0.0, eta=0.07, max_depth=4, \n",
    "                min_child_weight=2.8, n_estimators=80, max_delta_step=2, subsample=1, use_label_encoder=False)\n",
    "\n",
    "params = {\n",
    "#     'sketch_eps': [i for i in np.arange(0, 0.1, 1/100)],\n",
    "#     'eta': [0.01,0.03,0.05,0.07,0.09],\n",
    "#     'max_depth': [i for i in np.arange(0, 15, 1)],\n",
    "#     'n_estimators': [90,95,100,110],\n",
    "#     'min_child_weight' : [2.5,2.6,2.7,2.8,2.9,3],\n",
    "#     'max_delta_step':[0,1,1.5,2],\n",
    "#     'subsample':[0.9,0.95,1]\n",
    "         }\n",
    "clf_xgb = GridSearchCV(estimator=xgb, cv=5, scoring='accuracy', param_grid=params).fit(X_train_sm, y_train_sm)\n",
    "print('best prarams:', clf_xgb.best_params_)\n",
    "\n",
    "xgb_cm_metrics, xgb_pred = evaluate_model(xgb, X_train_sm, y_train_sm, X_test, y_test, params)"
   ]
  },
  {
   "cell_type": "markdown",
   "id": "a22d5476",
   "metadata": {},
   "source": [
    "<a id='5.6'></a>\n",
    "<div class=\"alert alert-block alert-info\">\n",
    "   <h3>\n",
    "        Model selection - final\n",
    "   </h3>\n",
    "</div>"
   ]
  },
  {
   "cell_type": "code",
   "execution_count": 111,
   "id": "3d71cc01",
   "metadata": {},
   "outputs": [
    {
     "data": {
      "text/html": [
       "<div>\n",
       "<style scoped>\n",
       "    .dataframe tbody tr th:only-of-type {\n",
       "        vertical-align: middle;\n",
       "    }\n",
       "\n",
       "    .dataframe tbody tr th {\n",
       "        vertical-align: top;\n",
       "    }\n",
       "\n",
       "    .dataframe thead th {\n",
       "        text-align: right;\n",
       "    }\n",
       "</style>\n",
       "<table border=\"1\" class=\"dataframe\">\n",
       "  <thead>\n",
       "    <tr style=\"text-align: right;\">\n",
       "      <th></th>\n",
       "      <th>Accuracy</th>\n",
       "      <th>True Negative Rate</th>\n",
       "      <th>True Positive Rate</th>\n",
       "      <th>Precision</th>\n",
       "      <th>F1 Score</th>\n",
       "    </tr>\n",
       "  </thead>\n",
       "  <tbody>\n",
       "    <tr>\n",
       "      <th>gbc</th>\n",
       "      <td>0.96</td>\n",
       "      <td>0.97</td>\n",
       "      <td>0.58</td>\n",
       "      <td>0.38</td>\n",
       "      <td>0.46</td>\n",
       "    </tr>\n",
       "    <tr>\n",
       "      <th>rf</th>\n",
       "      <td>0.93</td>\n",
       "      <td>0.94</td>\n",
       "      <td>0.72</td>\n",
       "      <td>0.29</td>\n",
       "      <td>0.42</td>\n",
       "    </tr>\n",
       "    <tr>\n",
       "      <th>xgb</th>\n",
       "      <td>0.90</td>\n",
       "      <td>0.91</td>\n",
       "      <td>0.80</td>\n",
       "      <td>0.22</td>\n",
       "      <td>0.35</td>\n",
       "    </tr>\n",
       "    <tr>\n",
       "      <th>knn</th>\n",
       "      <td>0.90</td>\n",
       "      <td>0.91</td>\n",
       "      <td>0.68</td>\n",
       "      <td>0.21</td>\n",
       "      <td>0.32</td>\n",
       "    </tr>\n",
       "    <tr>\n",
       "      <th>svm</th>\n",
       "      <td>0.86</td>\n",
       "      <td>0.86</td>\n",
       "      <td>0.86</td>\n",
       "      <td>0.18</td>\n",
       "      <td>0.29</td>\n",
       "    </tr>\n",
       "    <tr>\n",
       "      <th>sgdc</th>\n",
       "      <td>0.75</td>\n",
       "      <td>0.75</td>\n",
       "      <td>0.76</td>\n",
       "      <td>0.10</td>\n",
       "      <td>0.17</td>\n",
       "    </tr>\n",
       "    <tr>\n",
       "      <th>log</th>\n",
       "      <td>0.73</td>\n",
       "      <td>0.73</td>\n",
       "      <td>0.77</td>\n",
       "      <td>0.09</td>\n",
       "      <td>0.16</td>\n",
       "    </tr>\n",
       "    <tr>\n",
       "      <th>bNB</th>\n",
       "      <td>0.66</td>\n",
       "      <td>0.66</td>\n",
       "      <td>0.78</td>\n",
       "      <td>0.07</td>\n",
       "      <td>0.13</td>\n",
       "    </tr>\n",
       "  </tbody>\n",
       "</table>\n",
       "</div>"
      ],
      "text/plain": [
       "      Accuracy  True Negative Rate  True Positive Rate  Precision  F1 Score\n",
       "gbc       0.96                0.97                0.58       0.38      0.46\n",
       "rf        0.93                0.94                0.72       0.29      0.42\n",
       "xgb       0.90                0.91                0.80       0.22      0.35\n",
       "knn       0.90                0.91                0.68       0.21      0.32\n",
       "svm       0.86                0.86                0.86       0.18      0.29\n",
       "sgdc      0.75                0.75                0.76       0.10      0.17\n",
       "log       0.73                0.73                0.77       0.09      0.16\n",
       "bNB       0.66                0.66                0.78       0.07      0.13"
      ]
     },
     "execution_count": 111,
     "metadata": {},
     "output_type": "execute_result"
    }
   ],
   "source": [
    "'''\n",
    "    # accuracy (ACC)\n",
    "    ACC = round((TP + TN) / (TP + TN + FP + FN), 2)\n",
    "\n",
    "    # Sensitivity, hit rate, recall, or true positive rate\n",
    "    TPR = round(TP / (TP + FN), 2)\n",
    "    \n",
    "    # Specificity, selectivity or true negative rate (TNR)\n",
    "    TNR = round(TN / (TN + FP), 2)\n",
    "    \n",
    "    # Precision or positive predictive value\n",
    "    PPV = round(TP / (TP + FP), 2)\n",
    "    \n",
    "    # F1 score\n",
    "    F1 = round(2*TP / (2*TP + FP + FN), 2)\n",
    "'''\n",
    "\n",
    "metrics = [\"Accuracy\", \"True Negative Rate\", \"True Positive Rate\", \"Precision\", \"F1 Score\"]\n",
    "\n",
    "log_metrics = log_cm_metrics.loc[:, metrics]\n",
    "rf_metrics = rf_cm_metrics.loc[:, metrics]\n",
    "bNB_metrics = bNB_cm_metrics.loc[:, metrics]\n",
    "svm_metrics = svm_cm_metrics.loc[:, metrics]\n",
    "knn_metrics = knn_cm_metrics.loc[:, metrics]\n",
    "sgdc_metrics = sgdc_cm_metrics.loc[:, metrics]\n",
    "gbc_metrics = gbc_cm_metrics.loc[:, metrics]\n",
    "xgb_metrics = xgb_cm_metrics.loc[:, metrics]\n",
    "\n",
    "df_models = pd.concat([log_metrics, rf_metrics, bNB_metrics, svm_metrics, knn_metrics, sgdc_metrics, \n",
    "                       gbc_metrics, xgb_metrics], axis=0)\n",
    "df_models.index = [\"log\", \"rf\", \"bNB\", \"svm\", \"knn\", \"sgdc\", \"gbc\", \"xgb\"]\n",
    "df_models = df_models.sort_values([\"Accuracy\", \"True Positive Rate\"], ascending=False)\n",
    "df_models"
   ]
  },
  {
   "cell_type": "markdown",
   "id": "8dedc93a",
   "metadata": {},
   "source": [
    "<a id='5.7'></a>\n",
    "<div class=\"alert alert-block alert-info\">\n",
    "   <h3>\n",
    "        Evaluation of the selected model\n",
    "   </h3>\n",
    "</div>"
   ]
  },
  {
   "cell_type": "markdown",
   "id": "ff07a210",
   "metadata": {},
   "source": [
    "<div class=\"alert alert-block alert-success\">\n",
    "    <h4>\n",
    "        ROC & AUC\n",
    "    </h4>\n",
    "</div>"
   ]
  },
  {
   "cell_type": "markdown",
   "id": "a7f5b698",
   "metadata": {},
   "source": [
    "<div class=\"alert alert-block alert-warning\">\n",
    "        XGBClassifier selected\n",
    "</div>"
   ]
  },
  {
   "cell_type": "code",
   "execution_count": 112,
   "id": "df826a52",
   "metadata": {},
   "outputs": [],
   "source": [
    "y_test_prob = xgb_pred[:,1]"
   ]
  },
  {
   "cell_type": "code",
   "execution_count": 113,
   "id": "328171ae",
   "metadata": {},
   "outputs": [
    {
     "name": "stdout",
     "output_type": "stream",
     "text": [
      "CPU times: user 1.1 s, sys: 5.83 ms, total: 1.1 s\n",
      "Wall time: 1.1 s\n"
     ]
    }
   ],
   "source": [
    "%%time\n",
    "tpr_list = []\n",
    "tnr_list = []\n",
    "fpr_list = []\n",
    "acc_list = []\n",
    "thresholds_list = []\n",
    "precision_list = []\n",
    "npv_list = []\n",
    "\n",
    "for i in range(0, 1000, 1):\n",
    "    y_test_pred = (y_test_prob >= i/1000).astype('int')\n",
    "    cm_train = confusion_matrix(y_test, y_test_pred)\n",
    "    TN, FP, FN, TP = cm_train.ravel()\n",
    "    \n",
    "    #____________ METRICS ____________#\n",
    "    # Sensitivity, hit rate, recall, or true positive rate\n",
    "    TPR_train = round(TP / (TP + FN), 2)\n",
    "    # Specificity, selectivity or true negative rate (TNR)\n",
    "    TNR_train = round(TN / (TN + FP), 2)\n",
    "    # False positive rate or False alarm rate\n",
    "    FPR_train = round(FP / (FP + TN), 2)\n",
    "    # accuracy (ACC)\n",
    "    acc_train = round((TP + TN) / (TP + TN + FP + FN), 2)\n",
    "    # Precision or positive predictive value\n",
    "    precision_train = round(TP / (TP + FP), 2)\n",
    "    # negative predictive value (NPV)\n",
    "    npv_train = round(TN / (TN + FN), 2)    \n",
    "\n",
    "    tpr_list.append(TPR_train)\n",
    "    tnr_list.append(TNR_train)\n",
    "    fpr_list.append(FPR_train)\n",
    "    acc_list.append(acc_train)\n",
    "    thresholds_list.append(i/1000)\n",
    "    precision_list.append(precision_train)\n",
    "    npv_list.append(npv_train)"
   ]
  },
  {
   "cell_type": "code",
   "execution_count": 114,
   "id": "594695d9",
   "metadata": {
    "scrolled": false
   },
   "outputs": [
    {
     "data": {
      "image/png": "[encoded data removed]",
      "text/plain": [
       "<Figure size 1008x576 with 4 Axes>"
      ]
     },
     "metadata": {
      "needs_background": "light"
     },
     "output_type": "display_data"
    }
   ],
   "source": [
    "from sklearn.metrics import roc_auc_score\n",
    "\n",
    "threshold=0.5\n",
    "idx = next(x[0] for x in enumerate(thresholds_list) if x[1] > threshold)\n",
    "\n",
    "# compute Area Under the Receiver Operating Characteristic Curve (ROC AUC)\n",
    "lr_auc = roc_auc_score(y_test, y_test_prob)\n",
    "\n",
    "#############################\n",
    "# Set up the matplotlib figure\n",
    "fig, axes = plt.subplots(2, 2, figsize=(14, 8))\n",
    "#############################\n",
    "### ROC Curve ###\n",
    "\n",
    "axes[0, 0].plot(fpr_list, tpr_list, color='red', linewidth=2, \n",
    "                label=f'AUC={lr_auc:.2f}')\n",
    "axes[0, 0].fill_between(fpr_list, tpr_list, 0, color='red', alpha=0.3)\n",
    "axes[0, 0].plot([0, 1], [0, 1], color='green', linestyle='--', linewidth=1,\n",
    "                label='No Skill')\n",
    "\n",
    "axes[0, 0].set_xlabel('FPR (1 - FPR(Specificity))', size=12)\n",
    "axes[0, 0].set_ylabel('TPR (Sensitivity)', size=12)\n",
    "axes[0, 0].legend(title='Model')\n",
    "axes[0, 0].set_title('ROC curve', color='red', size=14)\n",
    "\n",
    "# Annotate #\n",
    "axes[0, 0].plot([0,fpr_list[idx]], [tpr_list[idx],tpr_list[idx]], 'k--', color='gray')\n",
    "axes[0, 0].plot([fpr_list[idx],fpr_list[idx]], [0,tpr_list[idx]], 'k--', color='gray')\n",
    "axes[0, 0].annotate(\n",
    "    f'TPR:{tpr_list[idx]:.2f}\\nFPR:{fpr_list[idx]:.2f}\\nthresh:{thresholds_list[idx]:.2f}',\n",
    "    (fpr_list[idx], tpr_list[idx]), xytext =(-2 * -20, -30), textcoords ='offset points',\n",
    "    bbox = dict(boxstyle =\"round\", fc =\"0.8\"), arrowprops = dict(arrowstyle = \"->\"))\n",
    "#############################\n",
    "\n",
    "#############################\n",
    "### TPR and FPR at every threshold ###\n",
    "\n",
    "axes[0, 1].plot(thresholds_list, tpr_list, color='m', linewidth=2, label='TPR')\n",
    "axes[0, 1].plot(thresholds_list, tnr_list, color='c', linewidth=2, label='TNR')\n",
    "axes[0, 1].set_xlabel('Threshold', size=12)\n",
    "axes[0, 1].legend()\n",
    "axes[0, 1].set_title('TPR&TNR - Threshold Curves', color='red', size=14)\n",
    "\n",
    "axes[0, 1].plot([thresholds_list[idx],thresholds_list[idx]], [0,tpr_list[idx]], 'k--', color='gray')\n",
    "\n",
    "\n",
    "# Annotate #\n",
    "axes[0, 1].plot([thresholds_list[idx],thresholds_list[idx]], [0,tpr_list[idx]], 'k--', color='gray')\n",
    "axes[0, 1].plot([0, thresholds_list[idx]], [tpr_list[idx] ,tpr_list[idx]], 'k--', color='gray')\n",
    "axes[0, 1].plot([0, thresholds_list[idx]], [tnr_list[idx] ,tnr_list[idx]], 'k--', color='gray')\n",
    "\n",
    "axes[0, 1].annotate(\n",
    "    f'TPR:{tpr_list[idx]:.2f}',\n",
    "    (thresholds_list[idx], tpr_list[idx]), xytext =(-2 * -15, 0), textcoords ='offset points',\n",
    "    bbox = dict(boxstyle =\"round\", fc =\"0.8\"), arrowprops = dict(arrowstyle = \"->\"))\n",
    "\n",
    "axes[0, 1].annotate(\n",
    "    f'TNR:{tnr_list[idx]:.2f}',\n",
    "    (thresholds_list[idx], tnr_list[idx]), xytext =(-2 * -15, -10), textcoords ='offset points',\n",
    "    bbox = dict(boxstyle =\"round\", fc =\"0.8\"), arrowprops = dict(arrowstyle = \"->\"))\n",
    "\n",
    "axes[0, 1].annotate(f'thresh:{thresholds_list[idx]:.2f}',\n",
    "    (thresholds_list[idx], 0), xytext =(-2 * -15, 10), textcoords ='offset points',\n",
    "    bbox = dict(boxstyle =\"round\", fc =\"0.8\"), arrowprops = dict(arrowstyle = \"->\"))\n",
    "#############################\n",
    "\n",
    "#############################\n",
    "### Precision-Recall Curve ###\n",
    "\n",
    "axes[1, 0].plot(tpr_list, precision_list, color='m', linewidth=2, label='Precision(PPV)')\n",
    "axes[1, 0].plot(tpr_list, npv_list, color='c', linewidth=2, label='NPV')\n",
    "\n",
    "axes[1, 0].set_xlabel('Recall(TPR)', size=12)\n",
    "axes[1, 0].legend()\n",
    "axes[1, 0].set_title('Precision(PPV)&NPV - Recall Curves', color='red', size=14)\n",
    "\n",
    "# Annotate\n",
    "axes[1, 0].plot([tpr_list[idx],tpr_list[idx]], [0,precision_list[idx]], 'k--', color='gray')\n",
    "axes[1, 0].plot([0, tpr_list[idx]], [precision_list[idx] ,precision_list[idx]], 'k--', color='gray')\n",
    "axes[1, 0].plot([0, tpr_list[idx]], [npv_list[idx] ,npv_list[idx]], 'k--', color='gray')\n",
    "\n",
    "axes[1, 0].annotate(f'PPV:{precision_list[idx]:.2f}',\n",
    "    (tpr_list[idx], precision_list[idx]), xytext =(-2 * 30, -30), textcoords ='offset points',\n",
    "    bbox = dict(boxstyle =\"round\", fc =\"0.8\"), arrowprops = dict(arrowstyle = \"->\"))\n",
    "axes[1, 0].annotate(f'NPV:{npv_list[idx]:.2f}',\n",
    "    (tpr_list[idx], npv_list[idx]), xytext =(-2 * 30, -45), textcoords ='offset points',\n",
    "    bbox = dict(boxstyle =\"round\", fc =\"0.8\"), arrowprops = dict(arrowstyle = \"->\"))\n",
    "axes[1, 0].annotate(f'TPR:{tpr_list[idx]:.2f}\\nthresh:{thresholds_list[idx]:.2f}',\n",
    "    (tpr_list[idx], 0), xytext =(-2 * 40, 15), textcoords ='offset points',\n",
    "    bbox = dict(boxstyle =\"round\", fc =\"0.8\"), arrowprops = dict(arrowstyle = \"->\"))\n",
    "#############################\n",
    "\n",
    "#############################\n",
    "### Accuracy at every threshold ###\n",
    "\n",
    "axes[1, 1].plot(thresholds_list, acc_list, color='g', linewidth=2, label='Accuracy')\n",
    "axes[1, 1].set_xlabel('Threshold', size=12)\n",
    "axes[1, 1].legend()\n",
    "axes[1, 1].set_title('Accuracy - Threshold Curves', color='red', size=14)\n",
    "\n",
    "# Annotate #\n",
    "axes[1, 1].plot([thresholds_list[idx],thresholds_list[idx]], [0,acc_list[idx]], 'k--', color='gray')\n",
    "axes[1, 1].plot([0, thresholds_list[idx]], [acc_list[idx] ,acc_list[idx]], 'k--', color='gray')\n",
    "\n",
    "axes[1, 1].annotate(\n",
    "    f'Accuracy:{acc_list[idx]:.2f}\\nthresh:{thresholds_list[idx]:.2f}',\n",
    "    (thresholds_list[idx], acc_list[idx]), xytext =(-2 * -15, -30), textcoords ='offset points',\n",
    "    bbox = dict(boxstyle =\"round\", fc =\"0.8\"), arrowprops = dict(arrowstyle = \"->\"))\n",
    "\n",
    "#############################\n",
    "fig.tight_layout()\n",
    "fig.show()"
   ]
  },
  {
   "cell_type": "markdown",
   "id": "2b97298c",
   "metadata": {},
   "source": [
    "<div class=\"alert alert-block alert-success\">\n",
    "    <h4>\n",
    "        Logarithmic loss\n",
    "    </h4>\n",
    "</div>"
   ]
  },
  {
   "cell_type": "markdown",
   "id": "403c67e7",
   "metadata": {},
   "source": [
    "- A lower log loss, a higher model success, means better predictions"
   ]
  },
  {
   "cell_type": "code",
   "execution_count": 116,
   "id": "2a76e71a",
   "metadata": {},
   "outputs": [
    {
     "name": "stdout",
     "output_type": "stream",
     "text": [
      "The Log Loss on Test is: 0.21\n"
     ]
    }
   ],
   "source": [
    "from sklearn.metrics import log_loss\n",
    "# Running Log loss on training\n",
    "print('The Log Loss on Test is: {:.2}'.format(log_loss(y_test, y_test_prob)))"
   ]
  },
  {
   "cell_type": "code",
   "execution_count": null,
   "id": "e3eda10b",
   "metadata": {},
   "outputs": [],
   "source": []
  }
 ],
 "metadata": {
  "kernelspec": {
   "display_name": "Python 3.8 (tensorflow)",
   "language": "python",
   "name": "tensorflow"
  },
  "language_info": {
   "codemirror_mode": {
    "name": "ipython",
    "version": 3
   },
   "file_extension": ".py",
   "mimetype": "text/x-python",
   "name": "python",
   "nbconvert_exporter": "python",
   "pygments_lexer": "ipython3",
   "version": "3.8.6"
  },
  "toc": {
   "base_numbering": "0",
   "nav_menu": {},
   "number_sections": true,
   "sideBar": true,
   "skip_h1_title": true,
   "title_cell": "Table of Contents",
   "title_sidebar": "Contents",
   "toc_cell": false,
   "toc_position": {},
   "toc_section_display": true,
   "toc_window_display": true
  }
 },
 "nbformat": 4,
 "nbformat_minor": 5
}
