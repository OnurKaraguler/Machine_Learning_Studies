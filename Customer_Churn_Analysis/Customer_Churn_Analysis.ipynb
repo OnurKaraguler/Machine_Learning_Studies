{
 "cells": [
  {
   "cell_type": "markdown",
   "id": "a352cfe5",
   "metadata": {},
   "source": [
    "<div class=\"alert alert-block alert-danger\">\n",
    "<h1>Bank Customer Churn</h1>\n",
    "</div>"
   ]
  },
  {
   "cell_type": "markdown",
   "id": "44470a47",
   "metadata": {},
   "source": [
    "- Goal is to predict which customers are likely to leave the bank using customer data."
   ]
  },
  {
   "cell_type": "markdown",
   "id": "ea15e114",
   "metadata": {},
   "source": [
    "<div class=\"alert alert-block alert-danger\">\n",
    "<h2>Table of Contents</h2>\n",
    "</div>"
   ]
  },
  {
   "cell_type": "markdown",
   "id": "db0dd2ec",
   "metadata": {},
   "source": [
    "[Importing Libraries](#1.0)<br>\n",
    "[Loading The Data](#2.0)<br>\n",
    "[Data Preprocessing](#3.0)<br>\n",
    "    <ul>\n",
    "        <li>[Functions to be used](#3.1)</li>\n",
    "        <li>[Analyze each feature](#3.2)</li>\n",
    "        <li>[Feature engineerin](#3.3)</li>\n",
    "        <li>[Correlation of the features](#3.4)</li>\n",
    "    </ul>\n",
    "[Machine Learning Algorithms and Results](#4.0)<br>\n",
    "    <ul>\n",
    "        <li>[Running machine learning models](#4.1)</li>\n",
    "        <li>[Model selection - final](#4.2)</li>\n",
    "        <li>[Evaluation of the selected model](#4.3)</li>\n",
    "    </ul>"
   ]
  },
  {
   "cell_type": "markdown",
   "id": "50981e6e",
   "metadata": {},
   "source": [
    "<a id='1.0'></a>\n",
    "<div class=\"alert alert-block alert-danger\">\n",
    "<h2>Importing Libraries</h2>\n",
    "</div>"
   ]
  },
  {
   "cell_type": "code",
   "execution_count": 1,
   "id": "3fb14ea8",
   "metadata": {},
   "outputs": [],
   "source": [
    "import warnings\n",
    "warnings.filterwarnings('ignore')\n",
    "\n",
    "import os\n",
    "os.environ['TF_CPP_MIN_LOG_LEVEL'] = '2'    # ignore information messages\n",
    "\n",
    "import pandas as pd\n",
    "import numpy as np\n",
    "import matplotlib.pyplot as plt\n",
    "\n",
    "# import tensorflow as tf\n",
    "# from tensorflow.keras.datasets import cifar10\n",
    "# # natural images of 10 different classes with 50000 training and 10000 test grayscale 32x32 pixels RGB images\n",
    "# from tensorflow.keras import Sequential, Input, Model\n",
    "# from tensorflow.keras.layers import Dense, Conv2D, MaxPooling2D, Flatten, BatchNormalization\n",
    "# from tensorflow.keras.losses import SparseCategoricalCrossentropy\n",
    "# from tensorflow.keras.optimizers import Adam\n",
    "# from tensorflow.keras.activations import relu"
   ]
  },
  {
   "cell_type": "markdown",
   "id": "ec364be2",
   "metadata": {},
   "source": [
    "<a id='2.0'></a>\n",
    "<div class=\"alert alert-block alert-danger\">\n",
    "<h2>Loading The Data</h2>\n",
    "</div>"
   ]
  },
  {
   "cell_type": "code",
   "execution_count": 2,
   "id": "572221cb",
   "metadata": {},
   "outputs": [
    {
     "data": {
      "text/html": [
       "<div>\n",
       "<style scoped>\n",
       "    .dataframe tbody tr th:only-of-type {\n",
       "        vertical-align: middle;\n",
       "    }\n",
       "\n",
       "    .dataframe tbody tr th {\n",
       "        vertical-align: top;\n",
       "    }\n",
       "\n",
       "    .dataframe thead th {\n",
       "        text-align: right;\n",
       "    }\n",
       "</style>\n",
       "<table border=\"1\" class=\"dataframe\">\n",
       "  <thead>\n",
       "    <tr style=\"text-align: right;\">\n",
       "      <th></th>\n",
       "      <th>RowNumber</th>\n",
       "      <th>CustomerId</th>\n",
       "      <th>Surname</th>\n",
       "      <th>CreditScore</th>\n",
       "      <th>Geography</th>\n",
       "      <th>Gender</th>\n",
       "      <th>Age</th>\n",
       "      <th>Tenure</th>\n",
       "      <th>Balance</th>\n",
       "      <th>NumOfProducts</th>\n",
       "      <th>HasCrCard</th>\n",
       "      <th>IsActiveMember</th>\n",
       "      <th>EstimatedSalary</th>\n",
       "      <th>Exited</th>\n",
       "    </tr>\n",
       "  </thead>\n",
       "  <tbody>\n",
       "    <tr>\n",
       "      <th>0</th>\n",
       "      <td>1</td>\n",
       "      <td>15634602</td>\n",
       "      <td>Hargrave</td>\n",
       "      <td>619</td>\n",
       "      <td>France</td>\n",
       "      <td>Female</td>\n",
       "      <td>42</td>\n",
       "      <td>2</td>\n",
       "      <td>0.00</td>\n",
       "      <td>1</td>\n",
       "      <td>1</td>\n",
       "      <td>1</td>\n",
       "      <td>101348.88</td>\n",
       "      <td>1</td>\n",
       "    </tr>\n",
       "    <tr>\n",
       "      <th>1</th>\n",
       "      <td>2</td>\n",
       "      <td>15647311</td>\n",
       "      <td>Hill</td>\n",
       "      <td>608</td>\n",
       "      <td>Spain</td>\n",
       "      <td>Female</td>\n",
       "      <td>41</td>\n",
       "      <td>1</td>\n",
       "      <td>83807.86</td>\n",
       "      <td>1</td>\n",
       "      <td>0</td>\n",
       "      <td>1</td>\n",
       "      <td>112542.58</td>\n",
       "      <td>0</td>\n",
       "    </tr>\n",
       "    <tr>\n",
       "      <th>2</th>\n",
       "      <td>3</td>\n",
       "      <td>15619304</td>\n",
       "      <td>Onio</td>\n",
       "      <td>502</td>\n",
       "      <td>France</td>\n",
       "      <td>Female</td>\n",
       "      <td>42</td>\n",
       "      <td>8</td>\n",
       "      <td>159660.80</td>\n",
       "      <td>3</td>\n",
       "      <td>1</td>\n",
       "      <td>0</td>\n",
       "      <td>113931.57</td>\n",
       "      <td>1</td>\n",
       "    </tr>\n",
       "    <tr>\n",
       "      <th>3</th>\n",
       "      <td>4</td>\n",
       "      <td>15701354</td>\n",
       "      <td>Boni</td>\n",
       "      <td>699</td>\n",
       "      <td>France</td>\n",
       "      <td>Female</td>\n",
       "      <td>39</td>\n",
       "      <td>1</td>\n",
       "      <td>0.00</td>\n",
       "      <td>2</td>\n",
       "      <td>0</td>\n",
       "      <td>0</td>\n",
       "      <td>93826.63</td>\n",
       "      <td>0</td>\n",
       "    </tr>\n",
       "    <tr>\n",
       "      <th>4</th>\n",
       "      <td>5</td>\n",
       "      <td>15737888</td>\n",
       "      <td>Mitchell</td>\n",
       "      <td>850</td>\n",
       "      <td>Spain</td>\n",
       "      <td>Female</td>\n",
       "      <td>43</td>\n",
       "      <td>2</td>\n",
       "      <td>125510.82</td>\n",
       "      <td>1</td>\n",
       "      <td>1</td>\n",
       "      <td>1</td>\n",
       "      <td>79084.10</td>\n",
       "      <td>0</td>\n",
       "    </tr>\n",
       "  </tbody>\n",
       "</table>\n",
       "</div>"
      ],
      "text/plain": [
       "   RowNumber  CustomerId   Surname  CreditScore Geography  Gender  Age  \\\n",
       "0          1    15634602  Hargrave          619    France  Female   42   \n",
       "1          2    15647311      Hill          608     Spain  Female   41   \n",
       "2          3    15619304      Onio          502    France  Female   42   \n",
       "3          4    15701354      Boni          699    France  Female   39   \n",
       "4          5    15737888  Mitchell          850     Spain  Female   43   \n",
       "\n",
       "   Tenure    Balance  NumOfProducts  HasCrCard  IsActiveMember  \\\n",
       "0       2       0.00              1          1               1   \n",
       "1       1   83807.86              1          0               1   \n",
       "2       8  159660.80              3          1               0   \n",
       "3       1       0.00              2          0               0   \n",
       "4       2  125510.82              1          1               1   \n",
       "\n",
       "   EstimatedSalary  Exited  \n",
       "0        101348.88       1  \n",
       "1        112542.58       0  \n",
       "2        113931.57       1  \n",
       "3         93826.63       0  \n",
       "4         79084.10       0  "
      ]
     },
     "execution_count": 2,
     "metadata": {},
     "output_type": "execute_result"
    }
   ],
   "source": [
    "df = pd.read_csv('Churn_Modelling.csv')\n",
    "df.head()"
   ]
  },
  {
   "cell_type": "markdown",
   "id": "74d18424",
   "metadata": {},
   "source": [
    "<strong>Content</strong><br>\n",
    "This data set contains details of a bank's customers and the target variable is a binary variable reflecting the fact whether the customer left the bank (closed his account) or he continues to be a customer.<br>\n",
    "- CustomerId: Unique Ids for bank customer identification\n",
    "- Surname: Customer's last name\n",
    "- CreditScore: Credit score of the customer\n",
    "- Geography: The country from which the customer belongs\n",
    "- Gender: Male or Female\n",
    "- Age: Age of the customer\n",
    "- Tenure: Number of years for which the customer has been with the bank\n",
    "- Balance: Bank balance of the customer\n",
    "- NumOfProducts: Number of bank products the customer is utilising\n",
    "- HasCrCard: Binary Flag for whether the customer holds a credit card with the bank or not\n",
    "- IsActiveMember: Binary Flag for whether the customer is an active member with the bank or not\n",
    "- EstimatedSalary: Estimated salary of the customer in Dollars\n",
    "- Exited: Binary flag 1 if the customer closed account with bank and 0 if the customer is retained"
   ]
  },
  {
   "cell_type": "markdown",
   "id": "54921790",
   "metadata": {},
   "source": [
    "<div class=\"alert alert-block alert-success\">\n",
    "    <h4>\n",
    "        Balanced or imbalanced?\n",
    "    </h4>\n",
    "</div>"
   ]
  },
  {
   "cell_type": "code",
   "execution_count": 3,
   "id": "d55e14e8",
   "metadata": {
    "scrolled": true
   },
   "outputs": [
    {
     "data": {
      "image/png": "[encoded data removed]",
      "text/plain": [
       "<Figure size 864x144 with 1 Axes>"
      ]
     },
     "metadata": {
      "needs_background": "light"
     },
     "output_type": "display_data"
    }
   ],
   "source": [
    "# The difference between positive and negative values in the dependent feature is not very high. \n",
    "# So the dataset is in imbalance.\n",
    "\n",
    "fig, ax = plt.subplots(figsize = (12, 2))\n",
    "# Horizontal bar chart\n",
    "ax.barh(df['Exited'].value_counts().index, df['Exited'].value_counts().values, align='center', color=['red', 'green'])\n",
    "ax.text(df['Exited'].value_counts().values[0]-500, 0, df['Exited'].value_counts()[0], ha='center', va='center', color='w', size=20)\n",
    "ax.text(df['Exited'].value_counts().values[1]-500, 1, df['Exited'].value_counts()[1], ha='center', va='center', color='w', size=20)\n",
    "ax.set_yticks(df['Exited'].unique())\n",
    "ax.set_ylabel('Exited')\n",
    "ax.set_title('How many customers left the bank?')\n",
    "\n",
    "plt.show()"
   ]
  },
  {
   "cell_type": "markdown",
   "id": "ef3a1a63",
   "metadata": {},
   "source": [
    "<div class=\"alert alert-block alert-success\">\n",
    "    <h4>\n",
    "        Check missing values\n",
    "    </h4>\n",
    "</div>"
   ]
  },
  {
   "cell_type": "code",
   "execution_count": 4,
   "id": "6be7749b",
   "metadata": {},
   "outputs": [],
   "source": [
    "def get_null_count(df):\n",
    "    df_null = pd.DataFrame(df.isnull().sum(), columns=['count'])\n",
    "    return df_null[df_null['count']>0]"
   ]
  },
  {
   "cell_type": "code",
   "execution_count": 5,
   "id": "c1482b88",
   "metadata": {},
   "outputs": [
    {
     "data": {
      "text/html": [
       "<div>\n",
       "<style scoped>\n",
       "    .dataframe tbody tr th:only-of-type {\n",
       "        vertical-align: middle;\n",
       "    }\n",
       "\n",
       "    .dataframe tbody tr th {\n",
       "        vertical-align: top;\n",
       "    }\n",
       "\n",
       "    .dataframe thead th {\n",
       "        text-align: right;\n",
       "    }\n",
       "</style>\n",
       "<table border=\"1\" class=\"dataframe\">\n",
       "  <thead>\n",
       "    <tr style=\"text-align: right;\">\n",
       "      <th></th>\n",
       "      <th>count</th>\n",
       "    </tr>\n",
       "  </thead>\n",
       "  <tbody>\n",
       "  </tbody>\n",
       "</table>\n",
       "</div>"
      ],
      "text/plain": [
       "Empty DataFrame\n",
       "Columns: [count]\n",
       "Index: []"
      ]
     },
     "execution_count": 5,
     "metadata": {},
     "output_type": "execute_result"
    }
   ],
   "source": [
    "get_null_count(df)"
   ]
  },
  {
   "cell_type": "markdown",
   "id": "f843b6e8",
   "metadata": {},
   "source": [
    "<a id='3.0'></a>\n",
    "<div class=\"alert alert-block alert-danger\">\n",
    "<h2>Data Preprocessing</h2>\n",
    "</div>"
   ]
  },
  {
   "cell_type": "markdown",
   "id": "6f10e2e9",
   "metadata": {},
   "source": [
    "<a id='3.1'></a>\n",
    "<div class=\"alert alert-block alert-info\">\n",
    "   <h3>\n",
    "        Functions to be used\n",
    "   </h3>\n",
    "</div>"
   ]
  },
  {
   "cell_type": "markdown",
   "id": "f8ad156d",
   "metadata": {},
   "source": [
    "<div class=\"alert alert-block alert-success\">\n",
    "    <h4>\n",
    "        Visualizations\n",
    "    </h4>\n",
    "</div>"
   ]
  },
  {
   "cell_type": "code",
   "execution_count": 6,
   "id": "f40bc009",
   "metadata": {},
   "outputs": [],
   "source": [
    "# plot a stacked bar chart to show how a feature is categorized using the independent feature\n",
    "def stacked_bar_chart(df, col, target_col):\n",
    "    df_group = df.groupby(col)[target_col].value_counts().sort_index(level=0).unstack()\n",
    "    print(df_group)\n",
    "    \n",
    "    fig, ax = plt.subplots()\n",
    "    width = 0.35\n",
    "    \n",
    "    # place the first category\n",
    "    x = [str(i) for i in df_group.index]\n",
    "    y = df_group[0].values\n",
    "    ax.bar(x, y, width, label=df_group.columns[0])\n",
    "    \n",
    "    # add the second category after the previous one\n",
    "    for i in range(1, len(df_group.columns)):\n",
    "        z = df_group[i].values\n",
    "        ax.bar(x, z, width, bottom=y, label=df_group.columns[i])\n",
    "        y += z\n",
    "        \n",
    "    ax.set_ylabel(target_col)\n",
    "    ax.set_xlabel(col)\n",
    "    ax.legend()\n",
    "        \n",
    "    plt.show()"
   ]
  },
  {
   "cell_type": "code",
   "execution_count": 7,
   "id": "e346067c",
   "metadata": {},
   "outputs": [],
   "source": [
    "# plot a histogram chart to show a continuous dataset grouped into bins or frequencies\n",
    "def hist_chart(df, num_bins):\n",
    "    fig, axes = plt.subplots()\n",
    "\n",
    "#     sigma = df.dropna().std() # standard deviation of distribution\n",
    "#     mu = df.dropna().mean() # mean of distribution\n",
    "#     x = mu + sigma * np.random.randn(1000)\n",
    "    \n",
    "    # the histogram of the data\n",
    "    n, bins, patches = plt.hist(df, num_bins, density=False, color='green', stacked=True, alpha=0.75)\n",
    "\n",
    "#     # add a 'best fit' line\n",
    "#     y = ((1 / (np.sqrt(2 * np.pi) * sigma)) *\n",
    "#         np.exp(-0.5 * (1 / sigma * (bins - mu))**2))\n",
    "#     plt.plot(bins, y, '--', color ='black')\n",
    "        \n",
    "    fig.tight_layout()\n",
    "    fig.show()"
   ]
  },
  {
   "cell_type": "markdown",
   "id": "1e8f1f47",
   "metadata": {},
   "source": [
    "<img src=\"https://miro.medium.com/max/1400/1*2c21SkzJMf3frPXPAR_gZA.png\" style=\"height:250px\">"
   ]
  },
  {
   "cell_type": "markdown",
   "id": "48cab716",
   "metadata": {},
   "source": [
    "median (Q2/50th Percentile): the middle value of the dataset<br>\n",
    "first quartile (Q1/25th Percentile): the middle number between the smallest number (not the “minimum”) and the median of the dataset.<br>\n",
    "third quartile (Q3/75th Percentile): the middle value between the median and the highest value (not the “maximum”) of the dataset.<br>\n",
    "interquartile range (IQR): 25th to the 75th percentile.<br>\n",
    "whiskers (shown in blue)<br>\n",
    "outliers (shown as green circles)<br>\n",
    "“maximum”: Q3 + 1.5*IQR<br>\n",
    "“minimum”: Q1 -1.5*IQR<br>"
   ]
  },
  {
   "cell_type": "code",
   "execution_count": 8,
   "id": "49dadde8",
   "metadata": {},
   "outputs": [],
   "source": [
    "# plot a boxplot to show how the values in the dataset are spread out\n",
    "def box_plot(df, label):\n",
    "    fig, ax = plt.subplots(figsize = (10, 1))\n",
    "    # rectangular box plot\n",
    "    bplot = ax.boxplot(df,\n",
    "                           vert=False,  # vertical box alignment\n",
    "                           notch=True,  # notch shape\n",
    "                           patch_artist=True,  # fill with color\n",
    "                           labels=[label]  # will be used to label x-ticks\n",
    "                          )\n",
    "    # fill with colors\n",
    "    colors = ['pink', 'lightblue', 'lightgreen']\n",
    "    for box in (bplot):\n",
    "        for patch, color in zip(bplot['boxes'], colors):\n",
    "            patch.set_facecolor(color)\n",
    "\n",
    "\n",
    "    whiskers_1 = bplot['whiskers'][0].get_xdata()[1]\n",
    "    whiskers_2 = bplot['whiskers'][0].get_xdata()[0]\n",
    "    median = bplot['medians'][0].get_xdata()[0]\n",
    "    whiskers_3 = bplot['whiskers'][1].get_xdata()[0]\n",
    "    whiskers_4 = bplot['whiskers'][1].get_xdata()[1]\n",
    "    \n",
    "    ax.text(whiskers_1, 1.15, f\"{whiskers_1}\", ha='center', va='center', color='b', size=13)\n",
    "    ax.text(whiskers_2, 1.25, f\"{whiskers_2}\", ha='center', va='center', color='b', size=13)\n",
    "    ax.text(median, 0.7, f\"{median}\", ha='center', va='center', color='b', size=13)\n",
    "    ax.text(whiskers_3, 1.25, f\"{whiskers_3}\", ha='center', va='center', color='b', size=13)\n",
    "    ax.text(whiskers_4, 1.15, f\"{whiskers_4}\", ha='center', va='center', color='b', size=13)\n",
    "\n",
    "    ax.xaxis.grid(True)\n",
    "    plt.show()\n",
    "\n",
    "    outliers = bplot['fliers'][0].get_xdata()"
   ]
  },
  {
   "cell_type": "markdown",
   "id": "8886ef1b",
   "metadata": {},
   "source": [
    "<div class=\"alert alert-block alert-success\">\n",
    "    <h4>\n",
    "        Encoding\n",
    "    </h4>\n",
    "</div>"
   ]
  },
  {
   "cell_type": "markdown",
   "id": "572a6b9f",
   "metadata": {},
   "source": [
    "https://scikit-learn.org/stable/modules/generated/sklearn.preprocessing.OneHotEncoder.html"
   ]
  },
  {
   "cell_type": "code",
   "execution_count": 9,
   "id": "39a399b3",
   "metadata": {},
   "outputs": [],
   "source": [
    "# One Hot Encoding: Encode categorical features as a one-hot numeric array.\n",
    "# find the unique values per feature and transform the data to a binary one-hot encoding\n",
    "from sklearn.preprocessing import OneHotEncoder\n",
    "\n",
    "def ohe_to_df(df_encoded, ohe_col_name, df_org, ohe_col):\n",
    "    df_enc = pd.DataFrame(data=df_encoded, columns=ohe_col_name)\n",
    "    \n",
    "    # Some rows can be deleted since they are outliers.\n",
    "    # Therefore, the index numbers are replaced with the existing dataframe\n",
    "    df_enc.set_index(df_org.index, inplace=True)\n",
    "    \n",
    "    # drop the feature to be encoded from the main dataframe and \n",
    "    # concatenate the main dataframe with the encoded one\n",
    "    df_org_dropped = df_org.drop(ohe_col, axis=1)\n",
    "    df_finished = pd.concat([df_org_dropped, df_enc], axis=1)\n",
    "    df_finished[ohe_col_name] = df_finished[ohe_col_name].astype(int)\n",
    "    \n",
    "    return df_finished\n",
    "    \n",
    "# One Hot Encoding the columns.\n",
    "def one_hot_encoding(train=None, test=None, ohe_col=None):\n",
    "    train_for_ohe = train[[ohe_col]]\n",
    "    \n",
    "    ohe = OneHotEncoder(handle_unknown='ignore', sparse=False)\n",
    "    \n",
    "    # Fit OneHotEncoder to X, then transform X\n",
    "    ohe.fit(train_for_ohe)\n",
    "    train_encoded = ohe.transform(train_for_ohe)\n",
    "\n",
    "    # create feature names for the created binary columns using the feature name to be encoded and uniques\n",
    "    ohe_col_name = ohe.get_feature_names([ohe_col]).tolist()\n",
    "    \n",
    "    df_train_encoded = ohe_to_df(train_encoded, ohe_col_name, train, ohe_col)\n",
    "    \n",
    "    if test:\n",
    "        test_for_ohe = test[[ohe_col]]\n",
    "        test_encoded = ohe.transform(test_for_ohe)\n",
    "        df_test_encoded = ohe_to_df(test_encoded, ohe_col_name, test, ohe_col)\n",
    "\n",
    "        return df_train_encoded, df_test_encoded\n",
    "    return df_train_encoded"
   ]
  },
  {
   "cell_type": "code",
   "execution_count": 10,
   "id": "69770648",
   "metadata": {},
   "outputs": [],
   "source": [
    "# Convert each value in a categorical column to a number from 0 to the number of items-1 by encoding \n",
    "def encode_categorical_column(df, col):\n",
    "    # get unique values\n",
    "    unique_vals = df[col].value_counts(dropna=True).index.to_list()\n",
    "    \n",
    "    if df[col].dtypes == 'object':\n",
    "        # get a counter in the for loop and replace each unique value with the count to encode \n",
    "        for i, j in enumerate(unique_vals):\n",
    "            df[col].replace(j, i, inplace=True)\n",
    "    return df"
   ]
  },
  {
   "cell_type": "markdown",
   "id": "22d75975",
   "metadata": {},
   "source": [
    "<div class=\"alert alert-block alert-success\">\n",
    "    <h4>\n",
    "        KBinsDiscretizer\n",
    "    </h4>\n",
    "</div>"
   ]
  },
  {
   "cell_type": "markdown",
   "id": "56e190fa",
   "metadata": {},
   "source": [
    "https://scikit-learn.org/stable/modules/generated/sklearn.preprocessing.KBinsDiscretizer.html?highlight=kbinsdiscretizer#sklearn.preprocessing.KBinsDiscretizer"
   ]
  },
  {
   "cell_type": "code",
   "execution_count": 11,
   "id": "7bfd08be",
   "metadata": {},
   "outputs": [],
   "source": [
    "from sklearn.preprocessing import KBinsDiscretizer\n",
    "\n",
    "def k_bins_discretizer(df, col_kbd, n_bins, strategy):\n",
    "    kbd = KBinsDiscretizer(n_bins = n_bins, encode = 'ordinal', strategy = strategy)\n",
    "    df[col_kbd] = kbd.fit_transform(df[col_kbd].values.reshape(-1,1)).astype('int64')\n",
    "\n",
    "    return df"
   ]
  },
  {
   "cell_type": "markdown",
   "id": "e61dfd18",
   "metadata": {},
   "source": [
    "<div class=\"alert alert-block alert-success\">\n",
    "    <h4>\n",
    "        Standardization (StandardScaler)\n",
    "    </h4>\n",
    "</div>"
   ]
  },
  {
   "cell_type": "code",
   "execution_count": 12,
   "id": "50587ebf",
   "metadata": {},
   "outputs": [],
   "source": [
    "from sklearn.preprocessing import StandardScaler\n",
    "\n",
    "def standardisation(train=None, test=None, col=None):\n",
    "    train_for_scaler = train[[col]]\n",
    "    \n",
    "    scaler = StandardScaler()\n",
    "    scaler.fit(train_for_scaler)\n",
    "    \n",
    "    # Discretize the data\n",
    "    train_scaled = scaler.transform(train_for_scaler)\n",
    "    train[col] = train_scaled\n",
    "    \n",
    "    if test:\n",
    "        test_for_scaler = test[[col]]\n",
    "        test_scaled = scaler.transform(test_for_scaler)\n",
    "        test[col] = test_scaled\n",
    "        return train, test\n",
    "    return train"
   ]
  },
  {
   "cell_type": "markdown",
   "id": "b70c0d85",
   "metadata": {},
   "source": [
    "<a id='3.2'></a>\n",
    "<div class=\"alert alert-block alert-info\">\n",
    "   <h3>\n",
    "        Analyze each feature\n",
    "   </h3>\n",
    "</div>"
   ]
  },
  {
   "cell_type": "markdown",
   "id": "be12ddd5",
   "metadata": {},
   "source": [
    "<div class=\"alert alert-block alert-success\">\n",
    "    <h4>\n",
    "        Geography\n",
    "    </h4>\n",
    "</div>"
   ]
  },
  {
   "cell_type": "code",
   "execution_count": 13,
   "id": "54b71582",
   "metadata": {},
   "outputs": [
    {
     "name": "stdout",
     "output_type": "stream",
     "text": [
      "Exited        0    1\n",
      "Geography           \n",
      "France     4204  810\n",
      "Germany    1695  814\n",
      "Spain      2064  413\n"
     ]
    },
    {
     "data": {
      "image/png": "[encoded data removed]",
      "text/plain": [
       "<Figure size 432x288 with 1 Axes>"
      ]
     },
     "metadata": {
      "needs_background": "light"
     },
     "output_type": "display_data"
    }
   ],
   "source": [
    "stacked_bar_chart(df, 'Geography', 'Exited')"
   ]
  },
  {
   "cell_type": "code",
   "execution_count": 14,
   "id": "ba0bc93e",
   "metadata": {},
   "outputs": [
    {
     "data": {
      "text/html": [
       "<div>\n",
       "<style scoped>\n",
       "    .dataframe tbody tr th:only-of-type {\n",
       "        vertical-align: middle;\n",
       "    }\n",
       "\n",
       "    .dataframe tbody tr th {\n",
       "        vertical-align: top;\n",
       "    }\n",
       "\n",
       "    .dataframe thead th {\n",
       "        text-align: right;\n",
       "    }\n",
       "</style>\n",
       "<table border=\"1\" class=\"dataframe\">\n",
       "  <thead>\n",
       "    <tr style=\"text-align: right;\">\n",
       "      <th></th>\n",
       "      <th></th>\n",
       "      <th>RowNumber</th>\n",
       "      <th>CustomerId</th>\n",
       "      <th>Surname</th>\n",
       "      <th>CreditScore</th>\n",
       "      <th>Gender</th>\n",
       "      <th>Age</th>\n",
       "      <th>Tenure</th>\n",
       "      <th>Balance</th>\n",
       "      <th>NumOfProducts</th>\n",
       "      <th>HasCrCard</th>\n",
       "      <th>IsActiveMember</th>\n",
       "      <th>EstimatedSalary</th>\n",
       "    </tr>\n",
       "    <tr>\n",
       "      <th>Geography</th>\n",
       "      <th>Exited</th>\n",
       "      <th></th>\n",
       "      <th></th>\n",
       "      <th></th>\n",
       "      <th></th>\n",
       "      <th></th>\n",
       "      <th></th>\n",
       "      <th></th>\n",
       "      <th></th>\n",
       "      <th></th>\n",
       "      <th></th>\n",
       "      <th></th>\n",
       "      <th></th>\n",
       "    </tr>\n",
       "  </thead>\n",
       "  <tbody>\n",
       "    <tr>\n",
       "      <th rowspan=\"2\" valign=\"top\">France</th>\n",
       "      <th>0</th>\n",
       "      <td>4204</td>\n",
       "      <td>4204</td>\n",
       "      <td>4204</td>\n",
       "      <td>4204</td>\n",
       "      <td>4204</td>\n",
       "      <td>4204</td>\n",
       "      <td>4204</td>\n",
       "      <td>4204</td>\n",
       "      <td>4204</td>\n",
       "      <td>4204</td>\n",
       "      <td>4204</td>\n",
       "      <td>4204</td>\n",
       "    </tr>\n",
       "    <tr>\n",
       "      <th>1</th>\n",
       "      <td>810</td>\n",
       "      <td>810</td>\n",
       "      <td>810</td>\n",
       "      <td>810</td>\n",
       "      <td>810</td>\n",
       "      <td>810</td>\n",
       "      <td>810</td>\n",
       "      <td>810</td>\n",
       "      <td>810</td>\n",
       "      <td>810</td>\n",
       "      <td>810</td>\n",
       "      <td>810</td>\n",
       "    </tr>\n",
       "    <tr>\n",
       "      <th rowspan=\"2\" valign=\"top\">Germany</th>\n",
       "      <th>0</th>\n",
       "      <td>1695</td>\n",
       "      <td>1695</td>\n",
       "      <td>1695</td>\n",
       "      <td>1695</td>\n",
       "      <td>1695</td>\n",
       "      <td>1695</td>\n",
       "      <td>1695</td>\n",
       "      <td>1695</td>\n",
       "      <td>1695</td>\n",
       "      <td>1695</td>\n",
       "      <td>1695</td>\n",
       "      <td>1695</td>\n",
       "    </tr>\n",
       "    <tr>\n",
       "      <th>1</th>\n",
       "      <td>814</td>\n",
       "      <td>814</td>\n",
       "      <td>814</td>\n",
       "      <td>814</td>\n",
       "      <td>814</td>\n",
       "      <td>814</td>\n",
       "      <td>814</td>\n",
       "      <td>814</td>\n",
       "      <td>814</td>\n",
       "      <td>814</td>\n",
       "      <td>814</td>\n",
       "      <td>814</td>\n",
       "    </tr>\n",
       "    <tr>\n",
       "      <th rowspan=\"2\" valign=\"top\">Spain</th>\n",
       "      <th>0</th>\n",
       "      <td>2064</td>\n",
       "      <td>2064</td>\n",
       "      <td>2064</td>\n",
       "      <td>2064</td>\n",
       "      <td>2064</td>\n",
       "      <td>2064</td>\n",
       "      <td>2064</td>\n",
       "      <td>2064</td>\n",
       "      <td>2064</td>\n",
       "      <td>2064</td>\n",
       "      <td>2064</td>\n",
       "      <td>2064</td>\n",
       "    </tr>\n",
       "    <tr>\n",
       "      <th>1</th>\n",
       "      <td>413</td>\n",
       "      <td>413</td>\n",
       "      <td>413</td>\n",
       "      <td>413</td>\n",
       "      <td>413</td>\n",
       "      <td>413</td>\n",
       "      <td>413</td>\n",
       "      <td>413</td>\n",
       "      <td>413</td>\n",
       "      <td>413</td>\n",
       "      <td>413</td>\n",
       "      <td>413</td>\n",
       "    </tr>\n",
       "  </tbody>\n",
       "</table>\n",
       "</div>"
      ],
      "text/plain": [
       "                  RowNumber  CustomerId  Surname  CreditScore  Gender   Age  \\\n",
       "Geography Exited                                                              \n",
       "France    0            4204        4204     4204         4204    4204  4204   \n",
       "          1             810         810      810          810     810   810   \n",
       "Germany   0            1695        1695     1695         1695    1695  1695   \n",
       "          1             814         814      814          814     814   814   \n",
       "Spain     0            2064        2064     2064         2064    2064  2064   \n",
       "          1             413         413      413          413     413   413   \n",
       "\n",
       "                  Tenure  Balance  NumOfProducts  HasCrCard  IsActiveMember  \\\n",
       "Geography Exited                                                              \n",
       "France    0         4204     4204           4204       4204            4204   \n",
       "          1          810      810            810        810             810   \n",
       "Germany   0         1695     1695           1695       1695            1695   \n",
       "          1          814      814            814        814             814   \n",
       "Spain     0         2064     2064           2064       2064            2064   \n",
       "          1          413      413            413        413             413   \n",
       "\n",
       "                  EstimatedSalary  \n",
       "Geography Exited                   \n",
       "France    0                  4204  \n",
       "          1                   810  \n",
       "Germany   0                  1695  \n",
       "          1                   814  \n",
       "Spain     0                  2064  \n",
       "          1                   413  "
      ]
     },
     "execution_count": 14,
     "metadata": {},
     "output_type": "execute_result"
    }
   ],
   "source": [
    "df.groupby(['Geography', 'Exited']).count()"
   ]
  },
  {
   "cell_type": "code",
   "execution_count": 15,
   "id": "7e9e7b36",
   "metadata": {},
   "outputs": [
    {
     "name": "stdout",
     "output_type": "stream",
     "text": [
      "16.2% of France customers closed their accounts.\n",
      "=====\n",
      "32.4% of German customers closed their accounts.\n",
      "=====\n",
      "16.7% of Spain customers closed their accounts.\n"
     ]
    }
   ],
   "source": [
    "# France\n",
    "print('{:.1%} of France customers closed their accounts.'.format(810/(4204+810)))\n",
    "print('=====')\n",
    "# Germany\n",
    "print('{:.1%} of German customers closed their accounts.'.format(814/(1695+814)))\n",
    "print('=====')\n",
    "# Spain\n",
    "print('{:.1%} of Spain customers closed their accounts.'.format(413/(2064+413)))\n"
   ]
  },
  {
   "cell_type": "markdown",
   "id": "84d48b99",
   "metadata": {},
   "source": [
    "<div class=\"alert alert-block alert-warning\">\n",
    "        One Hot Encoding\n",
    "</div>"
   ]
  },
  {
   "cell_type": "code",
   "execution_count": 16,
   "id": "7d157f93",
   "metadata": {},
   "outputs": [
    {
     "data": {
      "text/html": [
       "<div>\n",
       "<style scoped>\n",
       "    .dataframe tbody tr th:only-of-type {\n",
       "        vertical-align: middle;\n",
       "    }\n",
       "\n",
       "    .dataframe tbody tr th {\n",
       "        vertical-align: top;\n",
       "    }\n",
       "\n",
       "    .dataframe thead th {\n",
       "        text-align: right;\n",
       "    }\n",
       "</style>\n",
       "<table border=\"1\" class=\"dataframe\">\n",
       "  <thead>\n",
       "    <tr style=\"text-align: right;\">\n",
       "      <th></th>\n",
       "      <th>RowNumber</th>\n",
       "      <th>CustomerId</th>\n",
       "      <th>Surname</th>\n",
       "      <th>CreditScore</th>\n",
       "      <th>Gender</th>\n",
       "      <th>Age</th>\n",
       "      <th>Tenure</th>\n",
       "      <th>Balance</th>\n",
       "      <th>NumOfProducts</th>\n",
       "      <th>HasCrCard</th>\n",
       "      <th>IsActiveMember</th>\n",
       "      <th>EstimatedSalary</th>\n",
       "      <th>Exited</th>\n",
       "      <th>Geography_France</th>\n",
       "      <th>Geography_Germany</th>\n",
       "      <th>Geography_Spain</th>\n",
       "    </tr>\n",
       "  </thead>\n",
       "  <tbody>\n",
       "    <tr>\n",
       "      <th>0</th>\n",
       "      <td>1</td>\n",
       "      <td>15634602</td>\n",
       "      <td>Hargrave</td>\n",
       "      <td>619</td>\n",
       "      <td>Female</td>\n",
       "      <td>42</td>\n",
       "      <td>2</td>\n",
       "      <td>0.00</td>\n",
       "      <td>1</td>\n",
       "      <td>1</td>\n",
       "      <td>1</td>\n",
       "      <td>101348.88</td>\n",
       "      <td>1</td>\n",
       "      <td>1</td>\n",
       "      <td>0</td>\n",
       "      <td>0</td>\n",
       "    </tr>\n",
       "    <tr>\n",
       "      <th>1</th>\n",
       "      <td>2</td>\n",
       "      <td>15647311</td>\n",
       "      <td>Hill</td>\n",
       "      <td>608</td>\n",
       "      <td>Female</td>\n",
       "      <td>41</td>\n",
       "      <td>1</td>\n",
       "      <td>83807.86</td>\n",
       "      <td>1</td>\n",
       "      <td>0</td>\n",
       "      <td>1</td>\n",
       "      <td>112542.58</td>\n",
       "      <td>0</td>\n",
       "      <td>0</td>\n",
       "      <td>0</td>\n",
       "      <td>1</td>\n",
       "    </tr>\n",
       "    <tr>\n",
       "      <th>2</th>\n",
       "      <td>3</td>\n",
       "      <td>15619304</td>\n",
       "      <td>Onio</td>\n",
       "      <td>502</td>\n",
       "      <td>Female</td>\n",
       "      <td>42</td>\n",
       "      <td>8</td>\n",
       "      <td>159660.80</td>\n",
       "      <td>3</td>\n",
       "      <td>1</td>\n",
       "      <td>0</td>\n",
       "      <td>113931.57</td>\n",
       "      <td>1</td>\n",
       "      <td>1</td>\n",
       "      <td>0</td>\n",
       "      <td>0</td>\n",
       "    </tr>\n",
       "    <tr>\n",
       "      <th>3</th>\n",
       "      <td>4</td>\n",
       "      <td>15701354</td>\n",
       "      <td>Boni</td>\n",
       "      <td>699</td>\n",
       "      <td>Female</td>\n",
       "      <td>39</td>\n",
       "      <td>1</td>\n",
       "      <td>0.00</td>\n",
       "      <td>2</td>\n",
       "      <td>0</td>\n",
       "      <td>0</td>\n",
       "      <td>93826.63</td>\n",
       "      <td>0</td>\n",
       "      <td>1</td>\n",
       "      <td>0</td>\n",
       "      <td>0</td>\n",
       "    </tr>\n",
       "    <tr>\n",
       "      <th>4</th>\n",
       "      <td>5</td>\n",
       "      <td>15737888</td>\n",
       "      <td>Mitchell</td>\n",
       "      <td>850</td>\n",
       "      <td>Female</td>\n",
       "      <td>43</td>\n",
       "      <td>2</td>\n",
       "      <td>125510.82</td>\n",
       "      <td>1</td>\n",
       "      <td>1</td>\n",
       "      <td>1</td>\n",
       "      <td>79084.10</td>\n",
       "      <td>0</td>\n",
       "      <td>0</td>\n",
       "      <td>0</td>\n",
       "      <td>1</td>\n",
       "    </tr>\n",
       "  </tbody>\n",
       "</table>\n",
       "</div>"
      ],
      "text/plain": [
       "   RowNumber  CustomerId   Surname  CreditScore  Gender  Age  Tenure  \\\n",
       "0          1    15634602  Hargrave          619  Female   42       2   \n",
       "1          2    15647311      Hill          608  Female   41       1   \n",
       "2          3    15619304      Onio          502  Female   42       8   \n",
       "3          4    15701354      Boni          699  Female   39       1   \n",
       "4          5    15737888  Mitchell          850  Female   43       2   \n",
       "\n",
       "     Balance  NumOfProducts  HasCrCard  IsActiveMember  EstimatedSalary  \\\n",
       "0       0.00              1          1               1        101348.88   \n",
       "1   83807.86              1          0               1        112542.58   \n",
       "2  159660.80              3          1               0        113931.57   \n",
       "3       0.00              2          0               0         93826.63   \n",
       "4  125510.82              1          1               1         79084.10   \n",
       "\n",
       "   Exited  Geography_France  Geography_Germany  Geography_Spain  \n",
       "0       1                 1                  0                0  \n",
       "1       0                 0                  0                1  \n",
       "2       1                 1                  0                0  \n",
       "3       0                 1                  0                0  \n",
       "4       0                 0                  0                1  "
      ]
     },
     "execution_count": 16,
     "metadata": {},
     "output_type": "execute_result"
    }
   ],
   "source": [
    "df = one_hot_encoding(train=df, ohe_col='Geography')\n",
    "df.head()"
   ]
  },
  {
   "cell_type": "markdown",
   "id": "169d0b00",
   "metadata": {},
   "source": [
    "<div class=\"alert alert-block alert-success\">\n",
    "    <h4>\n",
    "        Gender\n",
    "    </h4>\n",
    "</div>"
   ]
  },
  {
   "cell_type": "code",
   "execution_count": 17,
   "id": "c0a93ee6",
   "metadata": {},
   "outputs": [
    {
     "name": "stdout",
     "output_type": "stream",
     "text": [
      "Exited     0     1\n",
      "Gender            \n",
      "Female  3404  1139\n",
      "Male    4559   898\n"
     ]
    },
    {
     "data": {
      "image/png": "[encoded data removed]",
      "text/plain": [
       "<Figure size 432x288 with 1 Axes>"
      ]
     },
     "metadata": {
      "needs_background": "light"
     },
     "output_type": "display_data"
    }
   ],
   "source": [
    "stacked_bar_chart(df, 'Gender', 'Exited')"
   ]
  },
  {
   "cell_type": "code",
   "execution_count": 18,
   "id": "ee8aec1b",
   "metadata": {},
   "outputs": [
    {
     "data": {
      "text/html": [
       "<div>\n",
       "<style scoped>\n",
       "    .dataframe tbody tr th:only-of-type {\n",
       "        vertical-align: middle;\n",
       "    }\n",
       "\n",
       "    .dataframe tbody tr th {\n",
       "        vertical-align: top;\n",
       "    }\n",
       "\n",
       "    .dataframe thead th {\n",
       "        text-align: right;\n",
       "    }\n",
       "</style>\n",
       "<table border=\"1\" class=\"dataframe\">\n",
       "  <thead>\n",
       "    <tr style=\"text-align: right;\">\n",
       "      <th></th>\n",
       "      <th></th>\n",
       "      <th>RowNumber</th>\n",
       "      <th>CustomerId</th>\n",
       "      <th>Surname</th>\n",
       "      <th>CreditScore</th>\n",
       "      <th>Age</th>\n",
       "      <th>Tenure</th>\n",
       "      <th>Balance</th>\n",
       "      <th>NumOfProducts</th>\n",
       "      <th>HasCrCard</th>\n",
       "      <th>IsActiveMember</th>\n",
       "      <th>EstimatedSalary</th>\n",
       "      <th>Geography_France</th>\n",
       "      <th>Geography_Germany</th>\n",
       "      <th>Geography_Spain</th>\n",
       "    </tr>\n",
       "    <tr>\n",
       "      <th>Gender</th>\n",
       "      <th>Exited</th>\n",
       "      <th></th>\n",
       "      <th></th>\n",
       "      <th></th>\n",
       "      <th></th>\n",
       "      <th></th>\n",
       "      <th></th>\n",
       "      <th></th>\n",
       "      <th></th>\n",
       "      <th></th>\n",
       "      <th></th>\n",
       "      <th></th>\n",
       "      <th></th>\n",
       "      <th></th>\n",
       "      <th></th>\n",
       "    </tr>\n",
       "  </thead>\n",
       "  <tbody>\n",
       "    <tr>\n",
       "      <th rowspan=\"2\" valign=\"top\">Female</th>\n",
       "      <th>0</th>\n",
       "      <td>3404</td>\n",
       "      <td>3404</td>\n",
       "      <td>3404</td>\n",
       "      <td>3404</td>\n",
       "      <td>3404</td>\n",
       "      <td>3404</td>\n",
       "      <td>3404</td>\n",
       "      <td>3404</td>\n",
       "      <td>3404</td>\n",
       "      <td>3404</td>\n",
       "      <td>3404</td>\n",
       "      <td>3404</td>\n",
       "      <td>3404</td>\n",
       "      <td>3404</td>\n",
       "    </tr>\n",
       "    <tr>\n",
       "      <th>1</th>\n",
       "      <td>1139</td>\n",
       "      <td>1139</td>\n",
       "      <td>1139</td>\n",
       "      <td>1139</td>\n",
       "      <td>1139</td>\n",
       "      <td>1139</td>\n",
       "      <td>1139</td>\n",
       "      <td>1139</td>\n",
       "      <td>1139</td>\n",
       "      <td>1139</td>\n",
       "      <td>1139</td>\n",
       "      <td>1139</td>\n",
       "      <td>1139</td>\n",
       "      <td>1139</td>\n",
       "    </tr>\n",
       "    <tr>\n",
       "      <th rowspan=\"2\" valign=\"top\">Male</th>\n",
       "      <th>0</th>\n",
       "      <td>4559</td>\n",
       "      <td>4559</td>\n",
       "      <td>4559</td>\n",
       "      <td>4559</td>\n",
       "      <td>4559</td>\n",
       "      <td>4559</td>\n",
       "      <td>4559</td>\n",
       "      <td>4559</td>\n",
       "      <td>4559</td>\n",
       "      <td>4559</td>\n",
       "      <td>4559</td>\n",
       "      <td>4559</td>\n",
       "      <td>4559</td>\n",
       "      <td>4559</td>\n",
       "    </tr>\n",
       "    <tr>\n",
       "      <th>1</th>\n",
       "      <td>898</td>\n",
       "      <td>898</td>\n",
       "      <td>898</td>\n",
       "      <td>898</td>\n",
       "      <td>898</td>\n",
       "      <td>898</td>\n",
       "      <td>898</td>\n",
       "      <td>898</td>\n",
       "      <td>898</td>\n",
       "      <td>898</td>\n",
       "      <td>898</td>\n",
       "      <td>898</td>\n",
       "      <td>898</td>\n",
       "      <td>898</td>\n",
       "    </tr>\n",
       "  </tbody>\n",
       "</table>\n",
       "</div>"
      ],
      "text/plain": [
       "               RowNumber  CustomerId  Surname  CreditScore   Age  Tenure  \\\n",
       "Gender Exited                                                              \n",
       "Female 0            3404        3404     3404         3404  3404    3404   \n",
       "       1            1139        1139     1139         1139  1139    1139   \n",
       "Male   0            4559        4559     4559         4559  4559    4559   \n",
       "       1             898         898      898          898   898     898   \n",
       "\n",
       "               Balance  NumOfProducts  HasCrCard  IsActiveMember  \\\n",
       "Gender Exited                                                      \n",
       "Female 0          3404           3404       3404            3404   \n",
       "       1          1139           1139       1139            1139   \n",
       "Male   0          4559           4559       4559            4559   \n",
       "       1           898            898        898             898   \n",
       "\n",
       "               EstimatedSalary  Geography_France  Geography_Germany  \\\n",
       "Gender Exited                                                         \n",
       "Female 0                  3404              3404               3404   \n",
       "       1                  1139              1139               1139   \n",
       "Male   0                  4559              4559               4559   \n",
       "       1                   898               898                898   \n",
       "\n",
       "               Geography_Spain  \n",
       "Gender Exited                   \n",
       "Female 0                  3404  \n",
       "       1                  1139  \n",
       "Male   0                  4559  \n",
       "       1                   898  "
      ]
     },
     "execution_count": 18,
     "metadata": {},
     "output_type": "execute_result"
    }
   ],
   "source": [
    "df.groupby(['Gender', 'Exited']).count()"
   ]
  },
  {
   "cell_type": "code",
   "execution_count": 19,
   "id": "3a266a35",
   "metadata": {},
   "outputs": [
    {
     "name": "stdout",
     "output_type": "stream",
     "text": [
      "25.1% of Female customers closed their accounts.\n",
      "=====\n",
      "16.5% of Male customers closed their accounts.\n"
     ]
    }
   ],
   "source": [
    "print('{:.1%} of Female customers closed their accounts.'.format(1139/(3404+1139)))\n",
    "print('=====')\n",
    "print('{:.1%} of Male customers closed their accounts.'.format(898/(4559+898)))"
   ]
  },
  {
   "cell_type": "markdown",
   "id": "97cd76cd",
   "metadata": {},
   "source": [
    "<div class=\"alert alert-block alert-warning\">\n",
    "        One Hot Encoding\n",
    "</div>"
   ]
  },
  {
   "cell_type": "code",
   "execution_count": 20,
   "id": "64e4e3bb",
   "metadata": {},
   "outputs": [
    {
     "data": {
      "text/html": [
       "<div>\n",
       "<style scoped>\n",
       "    .dataframe tbody tr th:only-of-type {\n",
       "        vertical-align: middle;\n",
       "    }\n",
       "\n",
       "    .dataframe tbody tr th {\n",
       "        vertical-align: top;\n",
       "    }\n",
       "\n",
       "    .dataframe thead th {\n",
       "        text-align: right;\n",
       "    }\n",
       "</style>\n",
       "<table border=\"1\" class=\"dataframe\">\n",
       "  <thead>\n",
       "    <tr style=\"text-align: right;\">\n",
       "      <th></th>\n",
       "      <th>RowNumber</th>\n",
       "      <th>CustomerId</th>\n",
       "      <th>Surname</th>\n",
       "      <th>CreditScore</th>\n",
       "      <th>Age</th>\n",
       "      <th>Tenure</th>\n",
       "      <th>Balance</th>\n",
       "      <th>NumOfProducts</th>\n",
       "      <th>HasCrCard</th>\n",
       "      <th>IsActiveMember</th>\n",
       "      <th>EstimatedSalary</th>\n",
       "      <th>Exited</th>\n",
       "      <th>Geography_France</th>\n",
       "      <th>Geography_Germany</th>\n",
       "      <th>Geography_Spain</th>\n",
       "      <th>Gender_Female</th>\n",
       "      <th>Gender_Male</th>\n",
       "    </tr>\n",
       "  </thead>\n",
       "  <tbody>\n",
       "    <tr>\n",
       "      <th>0</th>\n",
       "      <td>1</td>\n",
       "      <td>15634602</td>\n",
       "      <td>Hargrave</td>\n",
       "      <td>619</td>\n",
       "      <td>42</td>\n",
       "      <td>2</td>\n",
       "      <td>0.00</td>\n",
       "      <td>1</td>\n",
       "      <td>1</td>\n",
       "      <td>1</td>\n",
       "      <td>101348.88</td>\n",
       "      <td>1</td>\n",
       "      <td>1</td>\n",
       "      <td>0</td>\n",
       "      <td>0</td>\n",
       "      <td>1</td>\n",
       "      <td>0</td>\n",
       "    </tr>\n",
       "    <tr>\n",
       "      <th>1</th>\n",
       "      <td>2</td>\n",
       "      <td>15647311</td>\n",
       "      <td>Hill</td>\n",
       "      <td>608</td>\n",
       "      <td>41</td>\n",
       "      <td>1</td>\n",
       "      <td>83807.86</td>\n",
       "      <td>1</td>\n",
       "      <td>0</td>\n",
       "      <td>1</td>\n",
       "      <td>112542.58</td>\n",
       "      <td>0</td>\n",
       "      <td>0</td>\n",
       "      <td>0</td>\n",
       "      <td>1</td>\n",
       "      <td>1</td>\n",
       "      <td>0</td>\n",
       "    </tr>\n",
       "    <tr>\n",
       "      <th>2</th>\n",
       "      <td>3</td>\n",
       "      <td>15619304</td>\n",
       "      <td>Onio</td>\n",
       "      <td>502</td>\n",
       "      <td>42</td>\n",
       "      <td>8</td>\n",
       "      <td>159660.80</td>\n",
       "      <td>3</td>\n",
       "      <td>1</td>\n",
       "      <td>0</td>\n",
       "      <td>113931.57</td>\n",
       "      <td>1</td>\n",
       "      <td>1</td>\n",
       "      <td>0</td>\n",
       "      <td>0</td>\n",
       "      <td>1</td>\n",
       "      <td>0</td>\n",
       "    </tr>\n",
       "    <tr>\n",
       "      <th>3</th>\n",
       "      <td>4</td>\n",
       "      <td>15701354</td>\n",
       "      <td>Boni</td>\n",
       "      <td>699</td>\n",
       "      <td>39</td>\n",
       "      <td>1</td>\n",
       "      <td>0.00</td>\n",
       "      <td>2</td>\n",
       "      <td>0</td>\n",
       "      <td>0</td>\n",
       "      <td>93826.63</td>\n",
       "      <td>0</td>\n",
       "      <td>1</td>\n",
       "      <td>0</td>\n",
       "      <td>0</td>\n",
       "      <td>1</td>\n",
       "      <td>0</td>\n",
       "    </tr>\n",
       "    <tr>\n",
       "      <th>4</th>\n",
       "      <td>5</td>\n",
       "      <td>15737888</td>\n",
       "      <td>Mitchell</td>\n",
       "      <td>850</td>\n",
       "      <td>43</td>\n",
       "      <td>2</td>\n",
       "      <td>125510.82</td>\n",
       "      <td>1</td>\n",
       "      <td>1</td>\n",
       "      <td>1</td>\n",
       "      <td>79084.10</td>\n",
       "      <td>0</td>\n",
       "      <td>0</td>\n",
       "      <td>0</td>\n",
       "      <td>1</td>\n",
       "      <td>1</td>\n",
       "      <td>0</td>\n",
       "    </tr>\n",
       "  </tbody>\n",
       "</table>\n",
       "</div>"
      ],
      "text/plain": [
       "   RowNumber  CustomerId   Surname  CreditScore  Age  Tenure    Balance  \\\n",
       "0          1    15634602  Hargrave          619   42       2       0.00   \n",
       "1          2    15647311      Hill          608   41       1   83807.86   \n",
       "2          3    15619304      Onio          502   42       8  159660.80   \n",
       "3          4    15701354      Boni          699   39       1       0.00   \n",
       "4          5    15737888  Mitchell          850   43       2  125510.82   \n",
       "\n",
       "   NumOfProducts  HasCrCard  IsActiveMember  EstimatedSalary  Exited  \\\n",
       "0              1          1               1        101348.88       1   \n",
       "1              1          0               1        112542.58       0   \n",
       "2              3          1               0        113931.57       1   \n",
       "3              2          0               0         93826.63       0   \n",
       "4              1          1               1         79084.10       0   \n",
       "\n",
       "   Geography_France  Geography_Germany  Geography_Spain  Gender_Female  \\\n",
       "0                 1                  0                0              1   \n",
       "1                 0                  0                1              1   \n",
       "2                 1                  0                0              1   \n",
       "3                 1                  0                0              1   \n",
       "4                 0                  0                1              1   \n",
       "\n",
       "   Gender_Male  \n",
       "0            0  \n",
       "1            0  \n",
       "2            0  \n",
       "3            0  \n",
       "4            0  "
      ]
     },
     "execution_count": 20,
     "metadata": {},
     "output_type": "execute_result"
    }
   ],
   "source": [
    "df = one_hot_encoding(train=df, ohe_col='Gender')\n",
    "df.head()"
   ]
  },
  {
   "cell_type": "markdown",
   "id": "7dc0be4b",
   "metadata": {},
   "source": [
    "<div class=\"alert alert-block alert-success\">\n",
    "    <h4>\n",
    "        NumOfProducts\n",
    "    </h4>\n",
    "</div>"
   ]
  },
  {
   "cell_type": "code",
   "execution_count": 21,
   "id": "27ed329a",
   "metadata": {},
   "outputs": [
    {
     "name": "stdout",
     "output_type": "stream",
     "text": [
      "Exited              0       1\n",
      "NumOfProducts                \n",
      "1              3675.0  1409.0\n",
      "2              4242.0   348.0\n",
      "3                46.0   220.0\n",
      "4                 NaN    60.0\n"
     ]
    },
    {
     "data": {
      "image/png": "[encoded data removed]",
      "text/plain": [
       "<Figure size 432x288 with 1 Axes>"
      ]
     },
     "metadata": {
      "needs_background": "light"
     },
     "output_type": "display_data"
    }
   ],
   "source": [
    "stacked_bar_chart(df, 'NumOfProducts', 'Exited')"
   ]
  },
  {
   "cell_type": "code",
   "execution_count": 22,
   "id": "8b02d4f6",
   "metadata": {},
   "outputs": [
    {
     "data": {
      "text/html": [
       "<div>\n",
       "<style scoped>\n",
       "    .dataframe tbody tr th:only-of-type {\n",
       "        vertical-align: middle;\n",
       "    }\n",
       "\n",
       "    .dataframe tbody tr th {\n",
       "        vertical-align: top;\n",
       "    }\n",
       "\n",
       "    .dataframe thead th {\n",
       "        text-align: right;\n",
       "    }\n",
       "</style>\n",
       "<table border=\"1\" class=\"dataframe\">\n",
       "  <thead>\n",
       "    <tr style=\"text-align: right;\">\n",
       "      <th></th>\n",
       "      <th></th>\n",
       "      <th>RowNumber</th>\n",
       "      <th>CustomerId</th>\n",
       "      <th>Surname</th>\n",
       "      <th>CreditScore</th>\n",
       "      <th>Age</th>\n",
       "      <th>Tenure</th>\n",
       "      <th>Balance</th>\n",
       "      <th>HasCrCard</th>\n",
       "      <th>IsActiveMember</th>\n",
       "      <th>EstimatedSalary</th>\n",
       "      <th>Geography_France</th>\n",
       "      <th>Geography_Germany</th>\n",
       "      <th>Geography_Spain</th>\n",
       "      <th>Gender_Female</th>\n",
       "      <th>Gender_Male</th>\n",
       "    </tr>\n",
       "    <tr>\n",
       "      <th>NumOfProducts</th>\n",
       "      <th>Exited</th>\n",
       "      <th></th>\n",
       "      <th></th>\n",
       "      <th></th>\n",
       "      <th></th>\n",
       "      <th></th>\n",
       "      <th></th>\n",
       "      <th></th>\n",
       "      <th></th>\n",
       "      <th></th>\n",
       "      <th></th>\n",
       "      <th></th>\n",
       "      <th></th>\n",
       "      <th></th>\n",
       "      <th></th>\n",
       "      <th></th>\n",
       "    </tr>\n",
       "  </thead>\n",
       "  <tbody>\n",
       "    <tr>\n",
       "      <th rowspan=\"2\" valign=\"top\">1</th>\n",
       "      <th>0</th>\n",
       "      <td>3675</td>\n",
       "      <td>3675</td>\n",
       "      <td>3675</td>\n",
       "      <td>3675</td>\n",
       "      <td>3675</td>\n",
       "      <td>3675</td>\n",
       "      <td>3675</td>\n",
       "      <td>3675</td>\n",
       "      <td>3675</td>\n",
       "      <td>3675</td>\n",
       "      <td>3675</td>\n",
       "      <td>3675</td>\n",
       "      <td>3675</td>\n",
       "      <td>3675</td>\n",
       "      <td>3675</td>\n",
       "    </tr>\n",
       "    <tr>\n",
       "      <th>1</th>\n",
       "      <td>1409</td>\n",
       "      <td>1409</td>\n",
       "      <td>1409</td>\n",
       "      <td>1409</td>\n",
       "      <td>1409</td>\n",
       "      <td>1409</td>\n",
       "      <td>1409</td>\n",
       "      <td>1409</td>\n",
       "      <td>1409</td>\n",
       "      <td>1409</td>\n",
       "      <td>1409</td>\n",
       "      <td>1409</td>\n",
       "      <td>1409</td>\n",
       "      <td>1409</td>\n",
       "      <td>1409</td>\n",
       "    </tr>\n",
       "    <tr>\n",
       "      <th rowspan=\"2\" valign=\"top\">2</th>\n",
       "      <th>0</th>\n",
       "      <td>4242</td>\n",
       "      <td>4242</td>\n",
       "      <td>4242</td>\n",
       "      <td>4242</td>\n",
       "      <td>4242</td>\n",
       "      <td>4242</td>\n",
       "      <td>4242</td>\n",
       "      <td>4242</td>\n",
       "      <td>4242</td>\n",
       "      <td>4242</td>\n",
       "      <td>4242</td>\n",
       "      <td>4242</td>\n",
       "      <td>4242</td>\n",
       "      <td>4242</td>\n",
       "      <td>4242</td>\n",
       "    </tr>\n",
       "    <tr>\n",
       "      <th>1</th>\n",
       "      <td>348</td>\n",
       "      <td>348</td>\n",
       "      <td>348</td>\n",
       "      <td>348</td>\n",
       "      <td>348</td>\n",
       "      <td>348</td>\n",
       "      <td>348</td>\n",
       "      <td>348</td>\n",
       "      <td>348</td>\n",
       "      <td>348</td>\n",
       "      <td>348</td>\n",
       "      <td>348</td>\n",
       "      <td>348</td>\n",
       "      <td>348</td>\n",
       "      <td>348</td>\n",
       "    </tr>\n",
       "    <tr>\n",
       "      <th rowspan=\"2\" valign=\"top\">3</th>\n",
       "      <th>0</th>\n",
       "      <td>46</td>\n",
       "      <td>46</td>\n",
       "      <td>46</td>\n",
       "      <td>46</td>\n",
       "      <td>46</td>\n",
       "      <td>46</td>\n",
       "      <td>46</td>\n",
       "      <td>46</td>\n",
       "      <td>46</td>\n",
       "      <td>46</td>\n",
       "      <td>46</td>\n",
       "      <td>46</td>\n",
       "      <td>46</td>\n",
       "      <td>46</td>\n",
       "      <td>46</td>\n",
       "    </tr>\n",
       "    <tr>\n",
       "      <th>1</th>\n",
       "      <td>220</td>\n",
       "      <td>220</td>\n",
       "      <td>220</td>\n",
       "      <td>220</td>\n",
       "      <td>220</td>\n",
       "      <td>220</td>\n",
       "      <td>220</td>\n",
       "      <td>220</td>\n",
       "      <td>220</td>\n",
       "      <td>220</td>\n",
       "      <td>220</td>\n",
       "      <td>220</td>\n",
       "      <td>220</td>\n",
       "      <td>220</td>\n",
       "      <td>220</td>\n",
       "    </tr>\n",
       "    <tr>\n",
       "      <th>4</th>\n",
       "      <th>1</th>\n",
       "      <td>60</td>\n",
       "      <td>60</td>\n",
       "      <td>60</td>\n",
       "      <td>60</td>\n",
       "      <td>60</td>\n",
       "      <td>60</td>\n",
       "      <td>60</td>\n",
       "      <td>60</td>\n",
       "      <td>60</td>\n",
       "      <td>60</td>\n",
       "      <td>60</td>\n",
       "      <td>60</td>\n",
       "      <td>60</td>\n",
       "      <td>60</td>\n",
       "      <td>60</td>\n",
       "    </tr>\n",
       "  </tbody>\n",
       "</table>\n",
       "</div>"
      ],
      "text/plain": [
       "                      RowNumber  CustomerId  Surname  CreditScore   Age  \\\n",
       "NumOfProducts Exited                                                      \n",
       "1             0            3675        3675     3675         3675  3675   \n",
       "              1            1409        1409     1409         1409  1409   \n",
       "2             0            4242        4242     4242         4242  4242   \n",
       "              1             348         348      348          348   348   \n",
       "3             0              46          46       46           46    46   \n",
       "              1             220         220      220          220   220   \n",
       "4             1              60          60       60           60    60   \n",
       "\n",
       "                      Tenure  Balance  HasCrCard  IsActiveMember  \\\n",
       "NumOfProducts Exited                                               \n",
       "1             0         3675     3675       3675            3675   \n",
       "              1         1409     1409       1409            1409   \n",
       "2             0         4242     4242       4242            4242   \n",
       "              1          348      348        348             348   \n",
       "3             0           46       46         46              46   \n",
       "              1          220      220        220             220   \n",
       "4             1           60       60         60              60   \n",
       "\n",
       "                      EstimatedSalary  Geography_France  Geography_Germany  \\\n",
       "NumOfProducts Exited                                                         \n",
       "1             0                  3675              3675               3675   \n",
       "              1                  1409              1409               1409   \n",
       "2             0                  4242              4242               4242   \n",
       "              1                   348               348                348   \n",
       "3             0                    46                46                 46   \n",
       "              1                   220               220                220   \n",
       "4             1                    60                60                 60   \n",
       "\n",
       "                      Geography_Spain  Gender_Female  Gender_Male  \n",
       "NumOfProducts Exited                                               \n",
       "1             0                  3675           3675         3675  \n",
       "              1                  1409           1409         1409  \n",
       "2             0                  4242           4242         4242  \n",
       "              1                   348            348          348  \n",
       "3             0                    46             46           46  \n",
       "              1                   220            220          220  \n",
       "4             1                    60             60           60  "
      ]
     },
     "execution_count": 22,
     "metadata": {},
     "output_type": "execute_result"
    }
   ],
   "source": [
    "df.groupby(['NumOfProducts', 'Exited']).count()"
   ]
  },
  {
   "cell_type": "code",
   "execution_count": 23,
   "id": "86221221",
   "metadata": {},
   "outputs": [
    {
     "name": "stdout",
     "output_type": "stream",
     "text": [
      "27.7% of customers use 1 of bank products closed their accounts.\n",
      "=====\n",
      "7.6% of customers use 2 of bank products closed their accounts.\n",
      "=====\n",
      "82.7% of customers use 3 of bank products closed their accounts.\n",
      "=====\n",
      "100.0% of customers use 4 of bank products closed their accounts.\n"
     ]
    }
   ],
   "source": [
    "print('{:.1%} of customers use 1 of bank products closed their accounts.'.format(1409/(3675+1409)))\n",
    "print('=====')\n",
    "print('{:.1%} of customers use 2 of bank products closed their accounts.'.format(348/(4242+348)))\n",
    "print('=====')\n",
    "print('{:.1%} of customers use 3 of bank products closed their accounts.'.format(220/(46+220)))\n",
    "print('=====')\n",
    "print('{:.1%} of customers use 4 of bank products closed their accounts.'.format(60/(0+60)))"
   ]
  },
  {
   "cell_type": "markdown",
   "id": "e136e544",
   "metadata": {},
   "source": [
    "<div class=\"alert alert-block alert-warning\">\n",
    "        One Hot Encoding\n",
    "</div>"
   ]
  },
  {
   "cell_type": "code",
   "execution_count": 24,
   "id": "fef13b17",
   "metadata": {},
   "outputs": [
    {
     "data": {
      "text/html": [
       "<div>\n",
       "<style scoped>\n",
       "    .dataframe tbody tr th:only-of-type {\n",
       "        vertical-align: middle;\n",
       "    }\n",
       "\n",
       "    .dataframe tbody tr th {\n",
       "        vertical-align: top;\n",
       "    }\n",
       "\n",
       "    .dataframe thead th {\n",
       "        text-align: right;\n",
       "    }\n",
       "</style>\n",
       "<table border=\"1\" class=\"dataframe\">\n",
       "  <thead>\n",
       "    <tr style=\"text-align: right;\">\n",
       "      <th></th>\n",
       "      <th>RowNumber</th>\n",
       "      <th>CustomerId</th>\n",
       "      <th>Surname</th>\n",
       "      <th>CreditScore</th>\n",
       "      <th>Age</th>\n",
       "      <th>Tenure</th>\n",
       "      <th>Balance</th>\n",
       "      <th>HasCrCard</th>\n",
       "      <th>IsActiveMember</th>\n",
       "      <th>EstimatedSalary</th>\n",
       "      <th>Exited</th>\n",
       "      <th>Geography_France</th>\n",
       "      <th>Geography_Germany</th>\n",
       "      <th>Geography_Spain</th>\n",
       "      <th>Gender_Female</th>\n",
       "      <th>Gender_Male</th>\n",
       "      <th>NumOfProducts_1</th>\n",
       "      <th>NumOfProducts_2</th>\n",
       "      <th>NumOfProducts_3</th>\n",
       "      <th>NumOfProducts_4</th>\n",
       "    </tr>\n",
       "  </thead>\n",
       "  <tbody>\n",
       "    <tr>\n",
       "      <th>0</th>\n",
       "      <td>1</td>\n",
       "      <td>15634602</td>\n",
       "      <td>Hargrave</td>\n",
       "      <td>619</td>\n",
       "      <td>42</td>\n",
       "      <td>2</td>\n",
       "      <td>0.00</td>\n",
       "      <td>1</td>\n",
       "      <td>1</td>\n",
       "      <td>101348.88</td>\n",
       "      <td>1</td>\n",
       "      <td>1</td>\n",
       "      <td>0</td>\n",
       "      <td>0</td>\n",
       "      <td>1</td>\n",
       "      <td>0</td>\n",
       "      <td>1</td>\n",
       "      <td>0</td>\n",
       "      <td>0</td>\n",
       "      <td>0</td>\n",
       "    </tr>\n",
       "    <tr>\n",
       "      <th>1</th>\n",
       "      <td>2</td>\n",
       "      <td>15647311</td>\n",
       "      <td>Hill</td>\n",
       "      <td>608</td>\n",
       "      <td>41</td>\n",
       "      <td>1</td>\n",
       "      <td>83807.86</td>\n",
       "      <td>0</td>\n",
       "      <td>1</td>\n",
       "      <td>112542.58</td>\n",
       "      <td>0</td>\n",
       "      <td>0</td>\n",
       "      <td>0</td>\n",
       "      <td>1</td>\n",
       "      <td>1</td>\n",
       "      <td>0</td>\n",
       "      <td>1</td>\n",
       "      <td>0</td>\n",
       "      <td>0</td>\n",
       "      <td>0</td>\n",
       "    </tr>\n",
       "    <tr>\n",
       "      <th>2</th>\n",
       "      <td>3</td>\n",
       "      <td>15619304</td>\n",
       "      <td>Onio</td>\n",
       "      <td>502</td>\n",
       "      <td>42</td>\n",
       "      <td>8</td>\n",
       "      <td>159660.80</td>\n",
       "      <td>1</td>\n",
       "      <td>0</td>\n",
       "      <td>113931.57</td>\n",
       "      <td>1</td>\n",
       "      <td>1</td>\n",
       "      <td>0</td>\n",
       "      <td>0</td>\n",
       "      <td>1</td>\n",
       "      <td>0</td>\n",
       "      <td>0</td>\n",
       "      <td>0</td>\n",
       "      <td>1</td>\n",
       "      <td>0</td>\n",
       "    </tr>\n",
       "    <tr>\n",
       "      <th>3</th>\n",
       "      <td>4</td>\n",
       "      <td>15701354</td>\n",
       "      <td>Boni</td>\n",
       "      <td>699</td>\n",
       "      <td>39</td>\n",
       "      <td>1</td>\n",
       "      <td>0.00</td>\n",
       "      <td>0</td>\n",
       "      <td>0</td>\n",
       "      <td>93826.63</td>\n",
       "      <td>0</td>\n",
       "      <td>1</td>\n",
       "      <td>0</td>\n",
       "      <td>0</td>\n",
       "      <td>1</td>\n",
       "      <td>0</td>\n",
       "      <td>0</td>\n",
       "      <td>1</td>\n",
       "      <td>0</td>\n",
       "      <td>0</td>\n",
       "    </tr>\n",
       "    <tr>\n",
       "      <th>4</th>\n",
       "      <td>5</td>\n",
       "      <td>15737888</td>\n",
       "      <td>Mitchell</td>\n",
       "      <td>850</td>\n",
       "      <td>43</td>\n",
       "      <td>2</td>\n",
       "      <td>125510.82</td>\n",
       "      <td>1</td>\n",
       "      <td>1</td>\n",
       "      <td>79084.10</td>\n",
       "      <td>0</td>\n",
       "      <td>0</td>\n",
       "      <td>0</td>\n",
       "      <td>1</td>\n",
       "      <td>1</td>\n",
       "      <td>0</td>\n",
       "      <td>1</td>\n",
       "      <td>0</td>\n",
       "      <td>0</td>\n",
       "      <td>0</td>\n",
       "    </tr>\n",
       "  </tbody>\n",
       "</table>\n",
       "</div>"
      ],
      "text/plain": [
       "   RowNumber  CustomerId   Surname  CreditScore  Age  Tenure    Balance  \\\n",
       "0          1    15634602  Hargrave          619   42       2       0.00   \n",
       "1          2    15647311      Hill          608   41       1   83807.86   \n",
       "2          3    15619304      Onio          502   42       8  159660.80   \n",
       "3          4    15701354      Boni          699   39       1       0.00   \n",
       "4          5    15737888  Mitchell          850   43       2  125510.82   \n",
       "\n",
       "   HasCrCard  IsActiveMember  EstimatedSalary  Exited  Geography_France  \\\n",
       "0          1               1        101348.88       1                 1   \n",
       "1          0               1        112542.58       0                 0   \n",
       "2          1               0        113931.57       1                 1   \n",
       "3          0               0         93826.63       0                 1   \n",
       "4          1               1         79084.10       0                 0   \n",
       "\n",
       "   Geography_Germany  Geography_Spain  Gender_Female  Gender_Male  \\\n",
       "0                  0                0              1            0   \n",
       "1                  0                1              1            0   \n",
       "2                  0                0              1            0   \n",
       "3                  0                0              1            0   \n",
       "4                  0                1              1            0   \n",
       "\n",
       "   NumOfProducts_1  NumOfProducts_2  NumOfProducts_3  NumOfProducts_4  \n",
       "0                1                0                0                0  \n",
       "1                1                0                0                0  \n",
       "2                0                0                1                0  \n",
       "3                0                1                0                0  \n",
       "4                1                0                0                0  "
      ]
     },
     "execution_count": 24,
     "metadata": {},
     "output_type": "execute_result"
    }
   ],
   "source": [
    "df = one_hot_encoding(train=df, ohe_col='NumOfProducts')\n",
    "df.head()"
   ]
  },
  {
   "cell_type": "markdown",
   "id": "11000aeb",
   "metadata": {},
   "source": [
    "<div class=\"alert alert-block alert-success\">\n",
    "    <h4>\n",
    "        HasCrCard\n",
    "    </h4>\n",
    "</div>"
   ]
  },
  {
   "cell_type": "code",
   "execution_count": 25,
   "id": "e988245e",
   "metadata": {},
   "outputs": [
    {
     "name": "stdout",
     "output_type": "stream",
     "text": [
      "Exited        0     1\n",
      "HasCrCard            \n",
      "0          2332   613\n",
      "1          5631  1424\n"
     ]
    },
    {
     "data": {
      "image/png": "[encoded data removed]",
      "text/plain": [
       "<Figure size 432x288 with 1 Axes>"
      ]
     },
     "metadata": {
      "needs_background": "light"
     },
     "output_type": "display_data"
    }
   ],
   "source": [
    "stacked_bar_chart(df, 'HasCrCard', 'Exited')"
   ]
  },
  {
   "cell_type": "code",
   "execution_count": 26,
   "id": "b22eaec7",
   "metadata": {},
   "outputs": [
    {
     "data": {
      "text/html": [
       "<div>\n",
       "<style scoped>\n",
       "    .dataframe tbody tr th:only-of-type {\n",
       "        vertical-align: middle;\n",
       "    }\n",
       "\n",
       "    .dataframe tbody tr th {\n",
       "        vertical-align: top;\n",
       "    }\n",
       "\n",
       "    .dataframe thead th {\n",
       "        text-align: right;\n",
       "    }\n",
       "</style>\n",
       "<table border=\"1\" class=\"dataframe\">\n",
       "  <thead>\n",
       "    <tr style=\"text-align: right;\">\n",
       "      <th></th>\n",
       "      <th></th>\n",
       "      <th>RowNumber</th>\n",
       "      <th>CustomerId</th>\n",
       "      <th>Surname</th>\n",
       "      <th>CreditScore</th>\n",
       "      <th>Age</th>\n",
       "      <th>Tenure</th>\n",
       "      <th>Balance</th>\n",
       "      <th>IsActiveMember</th>\n",
       "      <th>EstimatedSalary</th>\n",
       "      <th>Geography_France</th>\n",
       "      <th>Geography_Germany</th>\n",
       "      <th>Geography_Spain</th>\n",
       "      <th>Gender_Female</th>\n",
       "      <th>Gender_Male</th>\n",
       "      <th>NumOfProducts_1</th>\n",
       "      <th>NumOfProducts_2</th>\n",
       "      <th>NumOfProducts_3</th>\n",
       "      <th>NumOfProducts_4</th>\n",
       "    </tr>\n",
       "    <tr>\n",
       "      <th>HasCrCard</th>\n",
       "      <th>Exited</th>\n",
       "      <th></th>\n",
       "      <th></th>\n",
       "      <th></th>\n",
       "      <th></th>\n",
       "      <th></th>\n",
       "      <th></th>\n",
       "      <th></th>\n",
       "      <th></th>\n",
       "      <th></th>\n",
       "      <th></th>\n",
       "      <th></th>\n",
       "      <th></th>\n",
       "      <th></th>\n",
       "      <th></th>\n",
       "      <th></th>\n",
       "      <th></th>\n",
       "      <th></th>\n",
       "      <th></th>\n",
       "    </tr>\n",
       "  </thead>\n",
       "  <tbody>\n",
       "    <tr>\n",
       "      <th rowspan=\"2\" valign=\"top\">0</th>\n",
       "      <th>0</th>\n",
       "      <td>2332</td>\n",
       "      <td>2332</td>\n",
       "      <td>2332</td>\n",
       "      <td>2332</td>\n",
       "      <td>2332</td>\n",
       "      <td>2332</td>\n",
       "      <td>2332</td>\n",
       "      <td>2332</td>\n",
       "      <td>2332</td>\n",
       "      <td>2332</td>\n",
       "      <td>2332</td>\n",
       "      <td>2332</td>\n",
       "      <td>2332</td>\n",
       "      <td>2332</td>\n",
       "      <td>2332</td>\n",
       "      <td>2332</td>\n",
       "      <td>2332</td>\n",
       "      <td>2332</td>\n",
       "    </tr>\n",
       "    <tr>\n",
       "      <th>1</th>\n",
       "      <td>613</td>\n",
       "      <td>613</td>\n",
       "      <td>613</td>\n",
       "      <td>613</td>\n",
       "      <td>613</td>\n",
       "      <td>613</td>\n",
       "      <td>613</td>\n",
       "      <td>613</td>\n",
       "      <td>613</td>\n",
       "      <td>613</td>\n",
       "      <td>613</td>\n",
       "      <td>613</td>\n",
       "      <td>613</td>\n",
       "      <td>613</td>\n",
       "      <td>613</td>\n",
       "      <td>613</td>\n",
       "      <td>613</td>\n",
       "      <td>613</td>\n",
       "    </tr>\n",
       "    <tr>\n",
       "      <th rowspan=\"2\" valign=\"top\">1</th>\n",
       "      <th>0</th>\n",
       "      <td>5631</td>\n",
       "      <td>5631</td>\n",
       "      <td>5631</td>\n",
       "      <td>5631</td>\n",
       "      <td>5631</td>\n",
       "      <td>5631</td>\n",
       "      <td>5631</td>\n",
       "      <td>5631</td>\n",
       "      <td>5631</td>\n",
       "      <td>5631</td>\n",
       "      <td>5631</td>\n",
       "      <td>5631</td>\n",
       "      <td>5631</td>\n",
       "      <td>5631</td>\n",
       "      <td>5631</td>\n",
       "      <td>5631</td>\n",
       "      <td>5631</td>\n",
       "      <td>5631</td>\n",
       "    </tr>\n",
       "    <tr>\n",
       "      <th>1</th>\n",
       "      <td>1424</td>\n",
       "      <td>1424</td>\n",
       "      <td>1424</td>\n",
       "      <td>1424</td>\n",
       "      <td>1424</td>\n",
       "      <td>1424</td>\n",
       "      <td>1424</td>\n",
       "      <td>1424</td>\n",
       "      <td>1424</td>\n",
       "      <td>1424</td>\n",
       "      <td>1424</td>\n",
       "      <td>1424</td>\n",
       "      <td>1424</td>\n",
       "      <td>1424</td>\n",
       "      <td>1424</td>\n",
       "      <td>1424</td>\n",
       "      <td>1424</td>\n",
       "      <td>1424</td>\n",
       "    </tr>\n",
       "  </tbody>\n",
       "</table>\n",
       "</div>"
      ],
      "text/plain": [
       "                  RowNumber  CustomerId  Surname  CreditScore   Age  Tenure  \\\n",
       "HasCrCard Exited                                                              \n",
       "0         0            2332        2332     2332         2332  2332    2332   \n",
       "          1             613         613      613          613   613     613   \n",
       "1         0            5631        5631     5631         5631  5631    5631   \n",
       "          1            1424        1424     1424         1424  1424    1424   \n",
       "\n",
       "                  Balance  IsActiveMember  EstimatedSalary  Geography_France  \\\n",
       "HasCrCard Exited                                                               \n",
       "0         0          2332            2332             2332              2332   \n",
       "          1           613             613              613               613   \n",
       "1         0          5631            5631             5631              5631   \n",
       "          1          1424            1424             1424              1424   \n",
       "\n",
       "                  Geography_Germany  Geography_Spain  Gender_Female  \\\n",
       "HasCrCard Exited                                                      \n",
       "0         0                    2332             2332           2332   \n",
       "          1                     613              613            613   \n",
       "1         0                    5631             5631           5631   \n",
       "          1                    1424             1424           1424   \n",
       "\n",
       "                  Gender_Male  NumOfProducts_1  NumOfProducts_2  \\\n",
       "HasCrCard Exited                                                  \n",
       "0         0              2332             2332             2332   \n",
       "          1               613              613              613   \n",
       "1         0              5631             5631             5631   \n",
       "          1              1424             1424             1424   \n",
       "\n",
       "                  NumOfProducts_3  NumOfProducts_4  \n",
       "HasCrCard Exited                                    \n",
       "0         0                  2332             2332  \n",
       "          1                   613              613  \n",
       "1         0                  5631             5631  \n",
       "          1                  1424             1424  "
      ]
     },
     "execution_count": 26,
     "metadata": {},
     "output_type": "execute_result"
    }
   ],
   "source": [
    "df.groupby(['HasCrCard', 'Exited']).count()"
   ]
  },
  {
   "cell_type": "code",
   "execution_count": 27,
   "id": "b2fc63b4",
   "metadata": {},
   "outputs": [
    {
     "name": "stdout",
     "output_type": "stream",
     "text": [
      "20.8% of customers does not have a credit card closed their accounts.\n",
      "=====\n",
      "20.2% of customers have a credit card closed their accounts.\n"
     ]
    }
   ],
   "source": [
    "print('{:.1%} of customers does not have a credit card closed their accounts.'.format(613/(2332+613)))\n",
    "print('=====')\n",
    "print('{:.1%} of customers have a credit card closed their accounts.'.format(1424/(5631+1424)))"
   ]
  },
  {
   "cell_type": "markdown",
   "id": "3bf72059",
   "metadata": {},
   "source": [
    "<div class=\"alert alert-block alert-warning\">\n",
    "        One Hot Encoding\n",
    "</div>"
   ]
  },
  {
   "cell_type": "code",
   "execution_count": 28,
   "id": "b47fbac2",
   "metadata": {},
   "outputs": [
    {
     "data": {
      "text/html": [
       "<div>\n",
       "<style scoped>\n",
       "    .dataframe tbody tr th:only-of-type {\n",
       "        vertical-align: middle;\n",
       "    }\n",
       "\n",
       "    .dataframe tbody tr th {\n",
       "        vertical-align: top;\n",
       "    }\n",
       "\n",
       "    .dataframe thead th {\n",
       "        text-align: right;\n",
       "    }\n",
       "</style>\n",
       "<table border=\"1\" class=\"dataframe\">\n",
       "  <thead>\n",
       "    <tr style=\"text-align: right;\">\n",
       "      <th></th>\n",
       "      <th>RowNumber</th>\n",
       "      <th>CustomerId</th>\n",
       "      <th>Surname</th>\n",
       "      <th>CreditScore</th>\n",
       "      <th>Age</th>\n",
       "      <th>Tenure</th>\n",
       "      <th>Balance</th>\n",
       "      <th>IsActiveMember</th>\n",
       "      <th>EstimatedSalary</th>\n",
       "      <th>Exited</th>\n",
       "      <th>...</th>\n",
       "      <th>Geography_Germany</th>\n",
       "      <th>Geography_Spain</th>\n",
       "      <th>Gender_Female</th>\n",
       "      <th>Gender_Male</th>\n",
       "      <th>NumOfProducts_1</th>\n",
       "      <th>NumOfProducts_2</th>\n",
       "      <th>NumOfProducts_3</th>\n",
       "      <th>NumOfProducts_4</th>\n",
       "      <th>HasCrCard_0</th>\n",
       "      <th>HasCrCard_1</th>\n",
       "    </tr>\n",
       "  </thead>\n",
       "  <tbody>\n",
       "    <tr>\n",
       "      <th>0</th>\n",
       "      <td>1</td>\n",
       "      <td>15634602</td>\n",
       "      <td>Hargrave</td>\n",
       "      <td>619</td>\n",
       "      <td>42</td>\n",
       "      <td>2</td>\n",
       "      <td>0.00</td>\n",
       "      <td>1</td>\n",
       "      <td>101348.88</td>\n",
       "      <td>1</td>\n",
       "      <td>...</td>\n",
       "      <td>0</td>\n",
       "      <td>0</td>\n",
       "      <td>1</td>\n",
       "      <td>0</td>\n",
       "      <td>1</td>\n",
       "      <td>0</td>\n",
       "      <td>0</td>\n",
       "      <td>0</td>\n",
       "      <td>0</td>\n",
       "      <td>1</td>\n",
       "    </tr>\n",
       "    <tr>\n",
       "      <th>1</th>\n",
       "      <td>2</td>\n",
       "      <td>15647311</td>\n",
       "      <td>Hill</td>\n",
       "      <td>608</td>\n",
       "      <td>41</td>\n",
       "      <td>1</td>\n",
       "      <td>83807.86</td>\n",
       "      <td>1</td>\n",
       "      <td>112542.58</td>\n",
       "      <td>0</td>\n",
       "      <td>...</td>\n",
       "      <td>0</td>\n",
       "      <td>1</td>\n",
       "      <td>1</td>\n",
       "      <td>0</td>\n",
       "      <td>1</td>\n",
       "      <td>0</td>\n",
       "      <td>0</td>\n",
       "      <td>0</td>\n",
       "      <td>1</td>\n",
       "      <td>0</td>\n",
       "    </tr>\n",
       "    <tr>\n",
       "      <th>2</th>\n",
       "      <td>3</td>\n",
       "      <td>15619304</td>\n",
       "      <td>Onio</td>\n",
       "      <td>502</td>\n",
       "      <td>42</td>\n",
       "      <td>8</td>\n",
       "      <td>159660.80</td>\n",
       "      <td>0</td>\n",
       "      <td>113931.57</td>\n",
       "      <td>1</td>\n",
       "      <td>...</td>\n",
       "      <td>0</td>\n",
       "      <td>0</td>\n",
       "      <td>1</td>\n",
       "      <td>0</td>\n",
       "      <td>0</td>\n",
       "      <td>0</td>\n",
       "      <td>1</td>\n",
       "      <td>0</td>\n",
       "      <td>0</td>\n",
       "      <td>1</td>\n",
       "    </tr>\n",
       "    <tr>\n",
       "      <th>3</th>\n",
       "      <td>4</td>\n",
       "      <td>15701354</td>\n",
       "      <td>Boni</td>\n",
       "      <td>699</td>\n",
       "      <td>39</td>\n",
       "      <td>1</td>\n",
       "      <td>0.00</td>\n",
       "      <td>0</td>\n",
       "      <td>93826.63</td>\n",
       "      <td>0</td>\n",
       "      <td>...</td>\n",
       "      <td>0</td>\n",
       "      <td>0</td>\n",
       "      <td>1</td>\n",
       "      <td>0</td>\n",
       "      <td>0</td>\n",
       "      <td>1</td>\n",
       "      <td>0</td>\n",
       "      <td>0</td>\n",
       "      <td>1</td>\n",
       "      <td>0</td>\n",
       "    </tr>\n",
       "    <tr>\n",
       "      <th>4</th>\n",
       "      <td>5</td>\n",
       "      <td>15737888</td>\n",
       "      <td>Mitchell</td>\n",
       "      <td>850</td>\n",
       "      <td>43</td>\n",
       "      <td>2</td>\n",
       "      <td>125510.82</td>\n",
       "      <td>1</td>\n",
       "      <td>79084.10</td>\n",
       "      <td>0</td>\n",
       "      <td>...</td>\n",
       "      <td>0</td>\n",
       "      <td>1</td>\n",
       "      <td>1</td>\n",
       "      <td>0</td>\n",
       "      <td>1</td>\n",
       "      <td>0</td>\n",
       "      <td>0</td>\n",
       "      <td>0</td>\n",
       "      <td>0</td>\n",
       "      <td>1</td>\n",
       "    </tr>\n",
       "  </tbody>\n",
       "</table>\n",
       "<p>5 rows × 21 columns</p>\n",
       "</div>"
      ],
      "text/plain": [
       "   RowNumber  CustomerId   Surname  CreditScore  Age  Tenure    Balance  \\\n",
       "0          1    15634602  Hargrave          619   42       2       0.00   \n",
       "1          2    15647311      Hill          608   41       1   83807.86   \n",
       "2          3    15619304      Onio          502   42       8  159660.80   \n",
       "3          4    15701354      Boni          699   39       1       0.00   \n",
       "4          5    15737888  Mitchell          850   43       2  125510.82   \n",
       "\n",
       "   IsActiveMember  EstimatedSalary  Exited  ...  Geography_Germany  \\\n",
       "0               1        101348.88       1  ...                  0   \n",
       "1               1        112542.58       0  ...                  0   \n",
       "2               0        113931.57       1  ...                  0   \n",
       "3               0         93826.63       0  ...                  0   \n",
       "4               1         79084.10       0  ...                  0   \n",
       "\n",
       "   Geography_Spain  Gender_Female  Gender_Male  NumOfProducts_1  \\\n",
       "0                0              1            0                1   \n",
       "1                1              1            0                1   \n",
       "2                0              1            0                0   \n",
       "3                0              1            0                0   \n",
       "4                1              1            0                1   \n",
       "\n",
       "   NumOfProducts_2  NumOfProducts_3  NumOfProducts_4  HasCrCard_0  HasCrCard_1  \n",
       "0                0                0                0            0            1  \n",
       "1                0                0                0            1            0  \n",
       "2                0                1                0            0            1  \n",
       "3                1                0                0            1            0  \n",
       "4                0                0                0            0            1  \n",
       "\n",
       "[5 rows x 21 columns]"
      ]
     },
     "execution_count": 28,
     "metadata": {},
     "output_type": "execute_result"
    }
   ],
   "source": [
    "df = one_hot_encoding(train=df, ohe_col='HasCrCard')\n",
    "df.head()"
   ]
  },
  {
   "cell_type": "markdown",
   "id": "b10bc44f",
   "metadata": {},
   "source": [
    "<div class=\"alert alert-block alert-success\">\n",
    "    <h4>\n",
    "        IsActiveMember\n",
    "    </h4>\n",
    "</div>"
   ]
  },
  {
   "cell_type": "code",
   "execution_count": 29,
   "id": "28b2acee",
   "metadata": {},
   "outputs": [
    {
     "name": "stdout",
     "output_type": "stream",
     "text": [
      "Exited             0     1\n",
      "IsActiveMember            \n",
      "0               3547  1302\n",
      "1               4416   735\n"
     ]
    },
    {
     "data": {
      "image/png": "[encoded data removed]",
      "text/plain": [
       "<Figure size 432x288 with 1 Axes>"
      ]
     },
     "metadata": {
      "needs_background": "light"
     },
     "output_type": "display_data"
    }
   ],
   "source": [
    "stacked_bar_chart(df, 'IsActiveMember', 'Exited')"
   ]
  },
  {
   "cell_type": "code",
   "execution_count": 30,
   "id": "afdfe121",
   "metadata": {
    "scrolled": true
   },
   "outputs": [
    {
     "data": {
      "text/html": [
       "<div>\n",
       "<style scoped>\n",
       "    .dataframe tbody tr th:only-of-type {\n",
       "        vertical-align: middle;\n",
       "    }\n",
       "\n",
       "    .dataframe tbody tr th {\n",
       "        vertical-align: top;\n",
       "    }\n",
       "\n",
       "    .dataframe thead th {\n",
       "        text-align: right;\n",
       "    }\n",
       "</style>\n",
       "<table border=\"1\" class=\"dataframe\">\n",
       "  <thead>\n",
       "    <tr style=\"text-align: right;\">\n",
       "      <th></th>\n",
       "      <th></th>\n",
       "      <th>RowNumber</th>\n",
       "      <th>CustomerId</th>\n",
       "      <th>Surname</th>\n",
       "      <th>CreditScore</th>\n",
       "      <th>Age</th>\n",
       "      <th>Tenure</th>\n",
       "      <th>Balance</th>\n",
       "      <th>EstimatedSalary</th>\n",
       "      <th>Geography_France</th>\n",
       "      <th>Geography_Germany</th>\n",
       "      <th>Geography_Spain</th>\n",
       "      <th>Gender_Female</th>\n",
       "      <th>Gender_Male</th>\n",
       "      <th>NumOfProducts_1</th>\n",
       "      <th>NumOfProducts_2</th>\n",
       "      <th>NumOfProducts_3</th>\n",
       "      <th>NumOfProducts_4</th>\n",
       "      <th>HasCrCard_0</th>\n",
       "      <th>HasCrCard_1</th>\n",
       "    </tr>\n",
       "    <tr>\n",
       "      <th>IsActiveMember</th>\n",
       "      <th>Exited</th>\n",
       "      <th></th>\n",
       "      <th></th>\n",
       "      <th></th>\n",
       "      <th></th>\n",
       "      <th></th>\n",
       "      <th></th>\n",
       "      <th></th>\n",
       "      <th></th>\n",
       "      <th></th>\n",
       "      <th></th>\n",
       "      <th></th>\n",
       "      <th></th>\n",
       "      <th></th>\n",
       "      <th></th>\n",
       "      <th></th>\n",
       "      <th></th>\n",
       "      <th></th>\n",
       "      <th></th>\n",
       "      <th></th>\n",
       "    </tr>\n",
       "  </thead>\n",
       "  <tbody>\n",
       "    <tr>\n",
       "      <th rowspan=\"2\" valign=\"top\">0</th>\n",
       "      <th>0</th>\n",
       "      <td>3547</td>\n",
       "      <td>3547</td>\n",
       "      <td>3547</td>\n",
       "      <td>3547</td>\n",
       "      <td>3547</td>\n",
       "      <td>3547</td>\n",
       "      <td>3547</td>\n",
       "      <td>3547</td>\n",
       "      <td>3547</td>\n",
       "      <td>3547</td>\n",
       "      <td>3547</td>\n",
       "      <td>3547</td>\n",
       "      <td>3547</td>\n",
       "      <td>3547</td>\n",
       "      <td>3547</td>\n",
       "      <td>3547</td>\n",
       "      <td>3547</td>\n",
       "      <td>3547</td>\n",
       "      <td>3547</td>\n",
       "    </tr>\n",
       "    <tr>\n",
       "      <th>1</th>\n",
       "      <td>1302</td>\n",
       "      <td>1302</td>\n",
       "      <td>1302</td>\n",
       "      <td>1302</td>\n",
       "      <td>1302</td>\n",
       "      <td>1302</td>\n",
       "      <td>1302</td>\n",
       "      <td>1302</td>\n",
       "      <td>1302</td>\n",
       "      <td>1302</td>\n",
       "      <td>1302</td>\n",
       "      <td>1302</td>\n",
       "      <td>1302</td>\n",
       "      <td>1302</td>\n",
       "      <td>1302</td>\n",
       "      <td>1302</td>\n",
       "      <td>1302</td>\n",
       "      <td>1302</td>\n",
       "      <td>1302</td>\n",
       "    </tr>\n",
       "    <tr>\n",
       "      <th rowspan=\"2\" valign=\"top\">1</th>\n",
       "      <th>0</th>\n",
       "      <td>4416</td>\n",
       "      <td>4416</td>\n",
       "      <td>4416</td>\n",
       "      <td>4416</td>\n",
       "      <td>4416</td>\n",
       "      <td>4416</td>\n",
       "      <td>4416</td>\n",
       "      <td>4416</td>\n",
       "      <td>4416</td>\n",
       "      <td>4416</td>\n",
       "      <td>4416</td>\n",
       "      <td>4416</td>\n",
       "      <td>4416</td>\n",
       "      <td>4416</td>\n",
       "      <td>4416</td>\n",
       "      <td>4416</td>\n",
       "      <td>4416</td>\n",
       "      <td>4416</td>\n",
       "      <td>4416</td>\n",
       "    </tr>\n",
       "    <tr>\n",
       "      <th>1</th>\n",
       "      <td>735</td>\n",
       "      <td>735</td>\n",
       "      <td>735</td>\n",
       "      <td>735</td>\n",
       "      <td>735</td>\n",
       "      <td>735</td>\n",
       "      <td>735</td>\n",
       "      <td>735</td>\n",
       "      <td>735</td>\n",
       "      <td>735</td>\n",
       "      <td>735</td>\n",
       "      <td>735</td>\n",
       "      <td>735</td>\n",
       "      <td>735</td>\n",
       "      <td>735</td>\n",
       "      <td>735</td>\n",
       "      <td>735</td>\n",
       "      <td>735</td>\n",
       "      <td>735</td>\n",
       "    </tr>\n",
       "  </tbody>\n",
       "</table>\n",
       "</div>"
      ],
      "text/plain": [
       "                       RowNumber  CustomerId  Surname  CreditScore   Age  \\\n",
       "IsActiveMember Exited                                                      \n",
       "0              0            3547        3547     3547         3547  3547   \n",
       "               1            1302        1302     1302         1302  1302   \n",
       "1              0            4416        4416     4416         4416  4416   \n",
       "               1             735         735      735          735   735   \n",
       "\n",
       "                       Tenure  Balance  EstimatedSalary  Geography_France  \\\n",
       "IsActiveMember Exited                                                       \n",
       "0              0         3547     3547             3547              3547   \n",
       "               1         1302     1302             1302              1302   \n",
       "1              0         4416     4416             4416              4416   \n",
       "               1          735      735              735               735   \n",
       "\n",
       "                       Geography_Germany  Geography_Spain  Gender_Female  \\\n",
       "IsActiveMember Exited                                                      \n",
       "0              0                    3547             3547           3547   \n",
       "               1                    1302             1302           1302   \n",
       "1              0                    4416             4416           4416   \n",
       "               1                     735              735            735   \n",
       "\n",
       "                       Gender_Male  NumOfProducts_1  NumOfProducts_2  \\\n",
       "IsActiveMember Exited                                                  \n",
       "0              0              3547             3547             3547   \n",
       "               1              1302             1302             1302   \n",
       "1              0              4416             4416             4416   \n",
       "               1               735              735              735   \n",
       "\n",
       "                       NumOfProducts_3  NumOfProducts_4  HasCrCard_0  \\\n",
       "IsActiveMember Exited                                                  \n",
       "0              0                  3547             3547         3547   \n",
       "               1                  1302             1302         1302   \n",
       "1              0                  4416             4416         4416   \n",
       "               1                   735              735          735   \n",
       "\n",
       "                       HasCrCard_1  \n",
       "IsActiveMember Exited               \n",
       "0              0              3547  \n",
       "               1              1302  \n",
       "1              0              4416  \n",
       "               1               735  "
      ]
     },
     "execution_count": 30,
     "metadata": {},
     "output_type": "execute_result"
    }
   ],
   "source": [
    "df.groupby(['IsActiveMember', 'Exited']).count()"
   ]
  },
  {
   "cell_type": "code",
   "execution_count": 31,
   "id": "2f82a0f0",
   "metadata": {},
   "outputs": [
    {
     "name": "stdout",
     "output_type": "stream",
     "text": [
      "26.9% of customers who are not active their accounts.\n",
      "=====\n",
      "14.3% of customers who are active closed their accounts.\n"
     ]
    }
   ],
   "source": [
    "print('{:.1%} of customers who are not active their accounts.'.format(1302/(3547+1302)))\n",
    "print('=====')\n",
    "print('{:.1%} of customers who are active closed their accounts.'.format(735/(4416+735)))"
   ]
  },
  {
   "cell_type": "markdown",
   "id": "8894f0ea",
   "metadata": {},
   "source": [
    "<div class=\"alert alert-block alert-warning\">\n",
    "        One Hot Encoding\n",
    "</div>"
   ]
  },
  {
   "cell_type": "code",
   "execution_count": 32,
   "id": "1973991e",
   "metadata": {
    "scrolled": true
   },
   "outputs": [
    {
     "data": {
      "text/html": [
       "<div>\n",
       "<style scoped>\n",
       "    .dataframe tbody tr th:only-of-type {\n",
       "        vertical-align: middle;\n",
       "    }\n",
       "\n",
       "    .dataframe tbody tr th {\n",
       "        vertical-align: top;\n",
       "    }\n",
       "\n",
       "    .dataframe thead th {\n",
       "        text-align: right;\n",
       "    }\n",
       "</style>\n",
       "<table border=\"1\" class=\"dataframe\">\n",
       "  <thead>\n",
       "    <tr style=\"text-align: right;\">\n",
       "      <th></th>\n",
       "      <th>RowNumber</th>\n",
       "      <th>CustomerId</th>\n",
       "      <th>Surname</th>\n",
       "      <th>CreditScore</th>\n",
       "      <th>Age</th>\n",
       "      <th>Tenure</th>\n",
       "      <th>Balance</th>\n",
       "      <th>EstimatedSalary</th>\n",
       "      <th>Exited</th>\n",
       "      <th>Geography_France</th>\n",
       "      <th>...</th>\n",
       "      <th>Gender_Female</th>\n",
       "      <th>Gender_Male</th>\n",
       "      <th>NumOfProducts_1</th>\n",
       "      <th>NumOfProducts_2</th>\n",
       "      <th>NumOfProducts_3</th>\n",
       "      <th>NumOfProducts_4</th>\n",
       "      <th>HasCrCard_0</th>\n",
       "      <th>HasCrCard_1</th>\n",
       "      <th>IsActiveMember_0</th>\n",
       "      <th>IsActiveMember_1</th>\n",
       "    </tr>\n",
       "  </thead>\n",
       "  <tbody>\n",
       "    <tr>\n",
       "      <th>0</th>\n",
       "      <td>1</td>\n",
       "      <td>15634602</td>\n",
       "      <td>Hargrave</td>\n",
       "      <td>619</td>\n",
       "      <td>42</td>\n",
       "      <td>2</td>\n",
       "      <td>0.00</td>\n",
       "      <td>101348.88</td>\n",
       "      <td>1</td>\n",
       "      <td>1</td>\n",
       "      <td>...</td>\n",
       "      <td>1</td>\n",
       "      <td>0</td>\n",
       "      <td>1</td>\n",
       "      <td>0</td>\n",
       "      <td>0</td>\n",
       "      <td>0</td>\n",
       "      <td>0</td>\n",
       "      <td>1</td>\n",
       "      <td>0</td>\n",
       "      <td>1</td>\n",
       "    </tr>\n",
       "    <tr>\n",
       "      <th>1</th>\n",
       "      <td>2</td>\n",
       "      <td>15647311</td>\n",
       "      <td>Hill</td>\n",
       "      <td>608</td>\n",
       "      <td>41</td>\n",
       "      <td>1</td>\n",
       "      <td>83807.86</td>\n",
       "      <td>112542.58</td>\n",
       "      <td>0</td>\n",
       "      <td>0</td>\n",
       "      <td>...</td>\n",
       "      <td>1</td>\n",
       "      <td>0</td>\n",
       "      <td>1</td>\n",
       "      <td>0</td>\n",
       "      <td>0</td>\n",
       "      <td>0</td>\n",
       "      <td>1</td>\n",
       "      <td>0</td>\n",
       "      <td>0</td>\n",
       "      <td>1</td>\n",
       "    </tr>\n",
       "    <tr>\n",
       "      <th>2</th>\n",
       "      <td>3</td>\n",
       "      <td>15619304</td>\n",
       "      <td>Onio</td>\n",
       "      <td>502</td>\n",
       "      <td>42</td>\n",
       "      <td>8</td>\n",
       "      <td>159660.80</td>\n",
       "      <td>113931.57</td>\n",
       "      <td>1</td>\n",
       "      <td>1</td>\n",
       "      <td>...</td>\n",
       "      <td>1</td>\n",
       "      <td>0</td>\n",
       "      <td>0</td>\n",
       "      <td>0</td>\n",
       "      <td>1</td>\n",
       "      <td>0</td>\n",
       "      <td>0</td>\n",
       "      <td>1</td>\n",
       "      <td>1</td>\n",
       "      <td>0</td>\n",
       "    </tr>\n",
       "    <tr>\n",
       "      <th>3</th>\n",
       "      <td>4</td>\n",
       "      <td>15701354</td>\n",
       "      <td>Boni</td>\n",
       "      <td>699</td>\n",
       "      <td>39</td>\n",
       "      <td>1</td>\n",
       "      <td>0.00</td>\n",
       "      <td>93826.63</td>\n",
       "      <td>0</td>\n",
       "      <td>1</td>\n",
       "      <td>...</td>\n",
       "      <td>1</td>\n",
       "      <td>0</td>\n",
       "      <td>0</td>\n",
       "      <td>1</td>\n",
       "      <td>0</td>\n",
       "      <td>0</td>\n",
       "      <td>1</td>\n",
       "      <td>0</td>\n",
       "      <td>1</td>\n",
       "      <td>0</td>\n",
       "    </tr>\n",
       "    <tr>\n",
       "      <th>4</th>\n",
       "      <td>5</td>\n",
       "      <td>15737888</td>\n",
       "      <td>Mitchell</td>\n",
       "      <td>850</td>\n",
       "      <td>43</td>\n",
       "      <td>2</td>\n",
       "      <td>125510.82</td>\n",
       "      <td>79084.10</td>\n",
       "      <td>0</td>\n",
       "      <td>0</td>\n",
       "      <td>...</td>\n",
       "      <td>1</td>\n",
       "      <td>0</td>\n",
       "      <td>1</td>\n",
       "      <td>0</td>\n",
       "      <td>0</td>\n",
       "      <td>0</td>\n",
       "      <td>0</td>\n",
       "      <td>1</td>\n",
       "      <td>0</td>\n",
       "      <td>1</td>\n",
       "    </tr>\n",
       "  </tbody>\n",
       "</table>\n",
       "<p>5 rows × 22 columns</p>\n",
       "</div>"
      ],
      "text/plain": [
       "   RowNumber  CustomerId   Surname  CreditScore  Age  Tenure    Balance  \\\n",
       "0          1    15634602  Hargrave          619   42       2       0.00   \n",
       "1          2    15647311      Hill          608   41       1   83807.86   \n",
       "2          3    15619304      Onio          502   42       8  159660.80   \n",
       "3          4    15701354      Boni          699   39       1       0.00   \n",
       "4          5    15737888  Mitchell          850   43       2  125510.82   \n",
       "\n",
       "   EstimatedSalary  Exited  Geography_France  ...  Gender_Female  Gender_Male  \\\n",
       "0        101348.88       1                 1  ...              1            0   \n",
       "1        112542.58       0                 0  ...              1            0   \n",
       "2        113931.57       1                 1  ...              1            0   \n",
       "3         93826.63       0                 1  ...              1            0   \n",
       "4         79084.10       0                 0  ...              1            0   \n",
       "\n",
       "   NumOfProducts_1  NumOfProducts_2  NumOfProducts_3  NumOfProducts_4  \\\n",
       "0                1                0                0                0   \n",
       "1                1                0                0                0   \n",
       "2                0                0                1                0   \n",
       "3                0                1                0                0   \n",
       "4                1                0                0                0   \n",
       "\n",
       "   HasCrCard_0  HasCrCard_1  IsActiveMember_0  IsActiveMember_1  \n",
       "0            0            1                 0                 1  \n",
       "1            1            0                 0                 1  \n",
       "2            0            1                 1                 0  \n",
       "3            1            0                 1                 0  \n",
       "4            0            1                 0                 1  \n",
       "\n",
       "[5 rows x 22 columns]"
      ]
     },
     "execution_count": 32,
     "metadata": {},
     "output_type": "execute_result"
    }
   ],
   "source": [
    "df = one_hot_encoding(train=df, ohe_col='IsActiveMember')\n",
    "df.head()"
   ]
  },
  {
   "cell_type": "markdown",
   "id": "7eee987a",
   "metadata": {},
   "source": [
    "<div class=\"alert alert-block alert-success\">\n",
    "    <h4>\n",
    "        Age\n",
    "    </h4>\n",
    "</div>"
   ]
  },
  {
   "cell_type": "code",
   "execution_count": 33,
   "id": "48a038cf",
   "metadata": {
    "scrolled": false
   },
   "outputs": [
    {
     "data": {
      "image/png": "[encoded data removed]",
      "text/plain": [
       "<Figure size 432x288 with 1 Axes>"
      ]
     },
     "metadata": {
      "needs_background": "light"
     },
     "output_type": "display_data"
    }
   ],
   "source": [
    "hist_chart(df['Age'], 10)"
   ]
  },
  {
   "cell_type": "markdown",
   "id": "d96d13ca",
   "metadata": {},
   "source": [
    "<div class=\"alert alert-block alert-warning\">\n",
    "        Drop Outliers\n",
    "</div>"
   ]
  },
  {
   "cell_type": "code",
   "execution_count": 34,
   "id": "3baac3b5",
   "metadata": {},
   "outputs": [
    {
     "data": {
      "image/png": "[encoded data removed]",
      "text/plain": [
       "<Figure size 720x72 with 1 Axes>"
      ]
     },
     "metadata": {
      "needs_background": "light"
     },
     "output_type": "display_data"
    }
   ],
   "source": [
    "box_plot(df['Age'], 'Age')"
   ]
  },
  {
   "cell_type": "code",
   "execution_count": 35,
   "id": "e19e416a",
   "metadata": {},
   "outputs": [
    {
     "name": "stdout",
     "output_type": "stream",
     "text": [
      "Int64Index([766, 2458, 3033, 3387, 3531, 4931, 6443, 6759, 7526, 7956, 9080,\n",
      "            9309],\n",
      "           dtype='int64')\n"
     ]
    }
   ],
   "source": [
    "outliers_index_age = df[df['Age'] > 80].index\n",
    "print(outliers_index_age)"
   ]
  },
  {
   "cell_type": "code",
   "execution_count": 36,
   "id": "6044eebc",
   "metadata": {},
   "outputs": [],
   "source": [
    "df = df.drop(outliers_index_age, axis=0).reset_index(drop=True)"
   ]
  },
  {
   "cell_type": "markdown",
   "id": "988e665e",
   "metadata": {},
   "source": [
    "<div class=\"alert alert-block alert-warning\">\n",
    "        Standardisation\n",
    "</div>"
   ]
  },
  {
   "cell_type": "code",
   "execution_count": 37,
   "id": "09864eda",
   "metadata": {},
   "outputs": [
    {
     "data": {
      "text/html": [
       "<div>\n",
       "<style scoped>\n",
       "    .dataframe tbody tr th:only-of-type {\n",
       "        vertical-align: middle;\n",
       "    }\n",
       "\n",
       "    .dataframe tbody tr th {\n",
       "        vertical-align: top;\n",
       "    }\n",
       "\n",
       "    .dataframe thead th {\n",
       "        text-align: right;\n",
       "    }\n",
       "</style>\n",
       "<table border=\"1\" class=\"dataframe\">\n",
       "  <thead>\n",
       "    <tr style=\"text-align: right;\">\n",
       "      <th></th>\n",
       "      <th>RowNumber</th>\n",
       "      <th>CustomerId</th>\n",
       "      <th>Surname</th>\n",
       "      <th>CreditScore</th>\n",
       "      <th>Age</th>\n",
       "      <th>Tenure</th>\n",
       "      <th>Balance</th>\n",
       "      <th>EstimatedSalary</th>\n",
       "      <th>Exited</th>\n",
       "      <th>Geography_France</th>\n",
       "      <th>...</th>\n",
       "      <th>Gender_Female</th>\n",
       "      <th>Gender_Male</th>\n",
       "      <th>NumOfProducts_1</th>\n",
       "      <th>NumOfProducts_2</th>\n",
       "      <th>NumOfProducts_3</th>\n",
       "      <th>NumOfProducts_4</th>\n",
       "      <th>HasCrCard_0</th>\n",
       "      <th>HasCrCard_1</th>\n",
       "      <th>IsActiveMember_0</th>\n",
       "      <th>IsActiveMember_1</th>\n",
       "    </tr>\n",
       "  </thead>\n",
       "  <tbody>\n",
       "    <tr>\n",
       "      <th>0</th>\n",
       "      <td>1</td>\n",
       "      <td>15634602</td>\n",
       "      <td>Hargrave</td>\n",
       "      <td>619</td>\n",
       "      <td>0.302032</td>\n",
       "      <td>2</td>\n",
       "      <td>0.00</td>\n",
       "      <td>101348.88</td>\n",
       "      <td>1</td>\n",
       "      <td>1</td>\n",
       "      <td>...</td>\n",
       "      <td>1</td>\n",
       "      <td>0</td>\n",
       "      <td>1</td>\n",
       "      <td>0</td>\n",
       "      <td>0</td>\n",
       "      <td>0</td>\n",
       "      <td>0</td>\n",
       "      <td>1</td>\n",
       "      <td>0</td>\n",
       "      <td>1</td>\n",
       "    </tr>\n",
       "    <tr>\n",
       "      <th>1</th>\n",
       "      <td>2</td>\n",
       "      <td>15647311</td>\n",
       "      <td>Hill</td>\n",
       "      <td>608</td>\n",
       "      <td>0.205627</td>\n",
       "      <td>1</td>\n",
       "      <td>83807.86</td>\n",
       "      <td>112542.58</td>\n",
       "      <td>0</td>\n",
       "      <td>0</td>\n",
       "      <td>...</td>\n",
       "      <td>1</td>\n",
       "      <td>0</td>\n",
       "      <td>1</td>\n",
       "      <td>0</td>\n",
       "      <td>0</td>\n",
       "      <td>0</td>\n",
       "      <td>1</td>\n",
       "      <td>0</td>\n",
       "      <td>0</td>\n",
       "      <td>1</td>\n",
       "    </tr>\n",
       "    <tr>\n",
       "      <th>2</th>\n",
       "      <td>3</td>\n",
       "      <td>15619304</td>\n",
       "      <td>Onio</td>\n",
       "      <td>502</td>\n",
       "      <td>0.302032</td>\n",
       "      <td>8</td>\n",
       "      <td>159660.80</td>\n",
       "      <td>113931.57</td>\n",
       "      <td>1</td>\n",
       "      <td>1</td>\n",
       "      <td>...</td>\n",
       "      <td>1</td>\n",
       "      <td>0</td>\n",
       "      <td>0</td>\n",
       "      <td>0</td>\n",
       "      <td>1</td>\n",
       "      <td>0</td>\n",
       "      <td>0</td>\n",
       "      <td>1</td>\n",
       "      <td>1</td>\n",
       "      <td>0</td>\n",
       "    </tr>\n",
       "    <tr>\n",
       "      <th>3</th>\n",
       "      <td>4</td>\n",
       "      <td>15701354</td>\n",
       "      <td>Boni</td>\n",
       "      <td>699</td>\n",
       "      <td>0.012818</td>\n",
       "      <td>1</td>\n",
       "      <td>0.00</td>\n",
       "      <td>93826.63</td>\n",
       "      <td>0</td>\n",
       "      <td>1</td>\n",
       "      <td>...</td>\n",
       "      <td>1</td>\n",
       "      <td>0</td>\n",
       "      <td>0</td>\n",
       "      <td>1</td>\n",
       "      <td>0</td>\n",
       "      <td>0</td>\n",
       "      <td>1</td>\n",
       "      <td>0</td>\n",
       "      <td>1</td>\n",
       "      <td>0</td>\n",
       "    </tr>\n",
       "    <tr>\n",
       "      <th>4</th>\n",
       "      <td>5</td>\n",
       "      <td>15737888</td>\n",
       "      <td>Mitchell</td>\n",
       "      <td>850</td>\n",
       "      <td>0.398436</td>\n",
       "      <td>2</td>\n",
       "      <td>125510.82</td>\n",
       "      <td>79084.10</td>\n",
       "      <td>0</td>\n",
       "      <td>0</td>\n",
       "      <td>...</td>\n",
       "      <td>1</td>\n",
       "      <td>0</td>\n",
       "      <td>1</td>\n",
       "      <td>0</td>\n",
       "      <td>0</td>\n",
       "      <td>0</td>\n",
       "      <td>0</td>\n",
       "      <td>1</td>\n",
       "      <td>0</td>\n",
       "      <td>1</td>\n",
       "    </tr>\n",
       "  </tbody>\n",
       "</table>\n",
       "<p>5 rows × 22 columns</p>\n",
       "</div>"
      ],
      "text/plain": [
       "   RowNumber  CustomerId   Surname  CreditScore       Age  Tenure    Balance  \\\n",
       "0          1    15634602  Hargrave          619  0.302032       2       0.00   \n",
       "1          2    15647311      Hill          608  0.205627       1   83807.86   \n",
       "2          3    15619304      Onio          502  0.302032       8  159660.80   \n",
       "3          4    15701354      Boni          699  0.012818       1       0.00   \n",
       "4          5    15737888  Mitchell          850  0.398436       2  125510.82   \n",
       "\n",
       "   EstimatedSalary  Exited  Geography_France  ...  Gender_Female  Gender_Male  \\\n",
       "0        101348.88       1                 1  ...              1            0   \n",
       "1        112542.58       0                 0  ...              1            0   \n",
       "2        113931.57       1                 1  ...              1            0   \n",
       "3         93826.63       0                 1  ...              1            0   \n",
       "4         79084.10       0                 0  ...              1            0   \n",
       "\n",
       "   NumOfProducts_1  NumOfProducts_2  NumOfProducts_3  NumOfProducts_4  \\\n",
       "0                1                0                0                0   \n",
       "1                1                0                0                0   \n",
       "2                0                0                1                0   \n",
       "3                0                1                0                0   \n",
       "4                1                0                0                0   \n",
       "\n",
       "   HasCrCard_0  HasCrCard_1  IsActiveMember_0  IsActiveMember_1  \n",
       "0            0            1                 0                 1  \n",
       "1            1            0                 0                 1  \n",
       "2            0            1                 1                 0  \n",
       "3            1            0                 1                 0  \n",
       "4            0            1                 0                 1  \n",
       "\n",
       "[5 rows x 22 columns]"
      ]
     },
     "execution_count": 37,
     "metadata": {},
     "output_type": "execute_result"
    }
   ],
   "source": [
    "df= standardisation(train=df, col='Age')\n",
    "df.head()"
   ]
  },
  {
   "cell_type": "markdown",
   "id": "6534ac6f",
   "metadata": {},
   "source": [
    "<div class=\"alert alert-block alert-success\">\n",
    "    <h4>\n",
    "        Balance\n",
    "    </h4>\n",
    "</div>"
   ]
  },
  {
   "cell_type": "code",
   "execution_count": 38,
   "id": "03250e8c",
   "metadata": {
    "scrolled": false
   },
   "outputs": [
    {
     "data": {
      "image/png": "[encoded data removed]",
      "text/plain": [
       "<Figure size 432x288 with 1 Axes>"
      ]
     },
     "metadata": {
      "needs_background": "light"
     },
     "output_type": "display_data"
    }
   ],
   "source": [
    "hist_chart(df['Balance'], 10)"
   ]
  },
  {
   "cell_type": "markdown",
   "id": "b153e2b8",
   "metadata": {},
   "source": [
    "<div class=\"alert alert-block alert-warning\">\n",
    "        Drop Outliers\n",
    "</div>"
   ]
  },
  {
   "cell_type": "code",
   "execution_count": 39,
   "id": "75721d23",
   "metadata": {},
   "outputs": [
    {
     "data": {
      "image/png": "[encoded data removed]",
      "text/plain": [
       "<Figure size 720x72 with 1 Axes>"
      ]
     },
     "metadata": {
      "needs_background": "light"
     },
     "output_type": "display_data"
    }
   ],
   "source": [
    "box_plot(df['Balance'], 'Balance')"
   ]
  },
  {
   "cell_type": "markdown",
   "id": "df016835",
   "metadata": {},
   "source": [
    "<div class=\"alert alert-block alert-warning\">\n",
    "        Standardisation\n",
    "</div>"
   ]
  },
  {
   "cell_type": "code",
   "execution_count": 40,
   "id": "e9cdd7c9",
   "metadata": {},
   "outputs": [
    {
     "data": {
      "text/html": [
       "<div>\n",
       "<style scoped>\n",
       "    .dataframe tbody tr th:only-of-type {\n",
       "        vertical-align: middle;\n",
       "    }\n",
       "\n",
       "    .dataframe tbody tr th {\n",
       "        vertical-align: top;\n",
       "    }\n",
       "\n",
       "    .dataframe thead th {\n",
       "        text-align: right;\n",
       "    }\n",
       "</style>\n",
       "<table border=\"1\" class=\"dataframe\">\n",
       "  <thead>\n",
       "    <tr style=\"text-align: right;\">\n",
       "      <th></th>\n",
       "      <th>RowNumber</th>\n",
       "      <th>CustomerId</th>\n",
       "      <th>Surname</th>\n",
       "      <th>CreditScore</th>\n",
       "      <th>Age</th>\n",
       "      <th>Tenure</th>\n",
       "      <th>Balance</th>\n",
       "      <th>EstimatedSalary</th>\n",
       "      <th>Exited</th>\n",
       "      <th>Geography_France</th>\n",
       "      <th>...</th>\n",
       "      <th>Gender_Female</th>\n",
       "      <th>Gender_Male</th>\n",
       "      <th>NumOfProducts_1</th>\n",
       "      <th>NumOfProducts_2</th>\n",
       "      <th>NumOfProducts_3</th>\n",
       "      <th>NumOfProducts_4</th>\n",
       "      <th>HasCrCard_0</th>\n",
       "      <th>HasCrCard_1</th>\n",
       "      <th>IsActiveMember_0</th>\n",
       "      <th>IsActiveMember_1</th>\n",
       "    </tr>\n",
       "  </thead>\n",
       "  <tbody>\n",
       "    <tr>\n",
       "      <th>0</th>\n",
       "      <td>1</td>\n",
       "      <td>15634602</td>\n",
       "      <td>Hargrave</td>\n",
       "      <td>619</td>\n",
       "      <td>0.302032</td>\n",
       "      <td>2</td>\n",
       "      <td>-1.226201</td>\n",
       "      <td>101348.88</td>\n",
       "      <td>1</td>\n",
       "      <td>1</td>\n",
       "      <td>...</td>\n",
       "      <td>1</td>\n",
       "      <td>0</td>\n",
       "      <td>1</td>\n",
       "      <td>0</td>\n",
       "      <td>0</td>\n",
       "      <td>0</td>\n",
       "      <td>0</td>\n",
       "      <td>1</td>\n",
       "      <td>0</td>\n",
       "      <td>1</td>\n",
       "    </tr>\n",
       "    <tr>\n",
       "      <th>1</th>\n",
       "      <td>2</td>\n",
       "      <td>15647311</td>\n",
       "      <td>Hill</td>\n",
       "      <td>608</td>\n",
       "      <td>0.205627</td>\n",
       "      <td>1</td>\n",
       "      <td>0.116954</td>\n",
       "      <td>112542.58</td>\n",
       "      <td>0</td>\n",
       "      <td>0</td>\n",
       "      <td>...</td>\n",
       "      <td>1</td>\n",
       "      <td>0</td>\n",
       "      <td>1</td>\n",
       "      <td>0</td>\n",
       "      <td>0</td>\n",
       "      <td>0</td>\n",
       "      <td>1</td>\n",
       "      <td>0</td>\n",
       "      <td>0</td>\n",
       "      <td>1</td>\n",
       "    </tr>\n",
       "    <tr>\n",
       "      <th>2</th>\n",
       "      <td>3</td>\n",
       "      <td>15619304</td>\n",
       "      <td>Onio</td>\n",
       "      <td>502</td>\n",
       "      <td>0.302032</td>\n",
       "      <td>8</td>\n",
       "      <td>1.332618</td>\n",
       "      <td>113931.57</td>\n",
       "      <td>1</td>\n",
       "      <td>1</td>\n",
       "      <td>...</td>\n",
       "      <td>1</td>\n",
       "      <td>0</td>\n",
       "      <td>0</td>\n",
       "      <td>0</td>\n",
       "      <td>1</td>\n",
       "      <td>0</td>\n",
       "      <td>0</td>\n",
       "      <td>1</td>\n",
       "      <td>1</td>\n",
       "      <td>0</td>\n",
       "    </tr>\n",
       "    <tr>\n",
       "      <th>3</th>\n",
       "      <td>4</td>\n",
       "      <td>15701354</td>\n",
       "      <td>Boni</td>\n",
       "      <td>699</td>\n",
       "      <td>0.012818</td>\n",
       "      <td>1</td>\n",
       "      <td>-1.226201</td>\n",
       "      <td>93826.63</td>\n",
       "      <td>0</td>\n",
       "      <td>1</td>\n",
       "      <td>...</td>\n",
       "      <td>1</td>\n",
       "      <td>0</td>\n",
       "      <td>0</td>\n",
       "      <td>1</td>\n",
       "      <td>0</td>\n",
       "      <td>0</td>\n",
       "      <td>1</td>\n",
       "      <td>0</td>\n",
       "      <td>1</td>\n",
       "      <td>0</td>\n",
       "    </tr>\n",
       "    <tr>\n",
       "      <th>4</th>\n",
       "      <td>5</td>\n",
       "      <td>15737888</td>\n",
       "      <td>Mitchell</td>\n",
       "      <td>850</td>\n",
       "      <td>0.398436</td>\n",
       "      <td>2</td>\n",
       "      <td>0.785310</td>\n",
       "      <td>79084.10</td>\n",
       "      <td>0</td>\n",
       "      <td>0</td>\n",
       "      <td>...</td>\n",
       "      <td>1</td>\n",
       "      <td>0</td>\n",
       "      <td>1</td>\n",
       "      <td>0</td>\n",
       "      <td>0</td>\n",
       "      <td>0</td>\n",
       "      <td>0</td>\n",
       "      <td>1</td>\n",
       "      <td>0</td>\n",
       "      <td>1</td>\n",
       "    </tr>\n",
       "  </tbody>\n",
       "</table>\n",
       "<p>5 rows × 22 columns</p>\n",
       "</div>"
      ],
      "text/plain": [
       "   RowNumber  CustomerId   Surname  CreditScore       Age  Tenure   Balance  \\\n",
       "0          1    15634602  Hargrave          619  0.302032       2 -1.226201   \n",
       "1          2    15647311      Hill          608  0.205627       1  0.116954   \n",
       "2          3    15619304      Onio          502  0.302032       8  1.332618   \n",
       "3          4    15701354      Boni          699  0.012818       1 -1.226201   \n",
       "4          5    15737888  Mitchell          850  0.398436       2  0.785310   \n",
       "\n",
       "   EstimatedSalary  Exited  Geography_France  ...  Gender_Female  Gender_Male  \\\n",
       "0        101348.88       1                 1  ...              1            0   \n",
       "1        112542.58       0                 0  ...              1            0   \n",
       "2        113931.57       1                 1  ...              1            0   \n",
       "3         93826.63       0                 1  ...              1            0   \n",
       "4         79084.10       0                 0  ...              1            0   \n",
       "\n",
       "   NumOfProducts_1  NumOfProducts_2  NumOfProducts_3  NumOfProducts_4  \\\n",
       "0                1                0                0                0   \n",
       "1                1                0                0                0   \n",
       "2                0                0                1                0   \n",
       "3                0                1                0                0   \n",
       "4                1                0                0                0   \n",
       "\n",
       "   HasCrCard_0  HasCrCard_1  IsActiveMember_0  IsActiveMember_1  \n",
       "0            0            1                 0                 1  \n",
       "1            1            0                 0                 1  \n",
       "2            0            1                 1                 0  \n",
       "3            1            0                 1                 0  \n",
       "4            0            1                 0                 1  \n",
       "\n",
       "[5 rows x 22 columns]"
      ]
     },
     "execution_count": 40,
     "metadata": {},
     "output_type": "execute_result"
    }
   ],
   "source": [
    "df= standardisation(train=df, col='Balance')\n",
    "df.head()"
   ]
  },
  {
   "cell_type": "markdown",
   "id": "74af4647",
   "metadata": {},
   "source": [
    "<div class=\"alert alert-block alert-success\">\n",
    "    <h4>\n",
    "        EstimatedSalary\n",
    "    </h4>\n",
    "</div>"
   ]
  },
  {
   "cell_type": "code",
   "execution_count": 41,
   "id": "e1cae604",
   "metadata": {
    "scrolled": false
   },
   "outputs": [
    {
     "data": {
      "image/png": "[encoded data removed]",
      "text/plain": [
       "<Figure size 432x288 with 1 Axes>"
      ]
     },
     "metadata": {
      "needs_background": "light"
     },
     "output_type": "display_data"
    }
   ],
   "source": [
    "hist_chart(df['EstimatedSalary'], 100)"
   ]
  },
  {
   "cell_type": "markdown",
   "id": "69bb3b0a",
   "metadata": {},
   "source": [
    "<div class=\"alert alert-block alert-warning\">\n",
    "        Drop Outliers\n",
    "</div>"
   ]
  },
  {
   "cell_type": "code",
   "execution_count": 42,
   "id": "90a799a1",
   "metadata": {},
   "outputs": [
    {
     "data": {
      "image/png": "[encoded data removed]",
      "text/plain": [
       "<Figure size 720x72 with 1 Axes>"
      ]
     },
     "metadata": {
      "needs_background": "light"
     },
     "output_type": "display_data"
    }
   ],
   "source": [
    "box_plot(df['EstimatedSalary'], 'EstimatedSalary')"
   ]
  },
  {
   "cell_type": "markdown",
   "id": "92426b4e",
   "metadata": {},
   "source": [
    "<div class=\"alert alert-block alert-warning\">\n",
    "        Standardisation\n",
    "</div>"
   ]
  },
  {
   "cell_type": "code",
   "execution_count": 43,
   "id": "074e1927",
   "metadata": {},
   "outputs": [
    {
     "data": {
      "text/html": [
       "<div>\n",
       "<style scoped>\n",
       "    .dataframe tbody tr th:only-of-type {\n",
       "        vertical-align: middle;\n",
       "    }\n",
       "\n",
       "    .dataframe tbody tr th {\n",
       "        vertical-align: top;\n",
       "    }\n",
       "\n",
       "    .dataframe thead th {\n",
       "        text-align: right;\n",
       "    }\n",
       "</style>\n",
       "<table border=\"1\" class=\"dataframe\">\n",
       "  <thead>\n",
       "    <tr style=\"text-align: right;\">\n",
       "      <th></th>\n",
       "      <th>RowNumber</th>\n",
       "      <th>CustomerId</th>\n",
       "      <th>Surname</th>\n",
       "      <th>CreditScore</th>\n",
       "      <th>Age</th>\n",
       "      <th>Tenure</th>\n",
       "      <th>Balance</th>\n",
       "      <th>EstimatedSalary</th>\n",
       "      <th>Exited</th>\n",
       "      <th>Geography_France</th>\n",
       "      <th>...</th>\n",
       "      <th>Gender_Female</th>\n",
       "      <th>Gender_Male</th>\n",
       "      <th>NumOfProducts_1</th>\n",
       "      <th>NumOfProducts_2</th>\n",
       "      <th>NumOfProducts_3</th>\n",
       "      <th>NumOfProducts_4</th>\n",
       "      <th>HasCrCard_0</th>\n",
       "      <th>HasCrCard_1</th>\n",
       "      <th>IsActiveMember_0</th>\n",
       "      <th>IsActiveMember_1</th>\n",
       "    </tr>\n",
       "  </thead>\n",
       "  <tbody>\n",
       "    <tr>\n",
       "      <th>0</th>\n",
       "      <td>1</td>\n",
       "      <td>15634602</td>\n",
       "      <td>Hargrave</td>\n",
       "      <td>619</td>\n",
       "      <td>0.302032</td>\n",
       "      <td>2</td>\n",
       "      <td>-1.226201</td>\n",
       "      <td>0.022020</td>\n",
       "      <td>1</td>\n",
       "      <td>1</td>\n",
       "      <td>...</td>\n",
       "      <td>1</td>\n",
       "      <td>0</td>\n",
       "      <td>1</td>\n",
       "      <td>0</td>\n",
       "      <td>0</td>\n",
       "      <td>0</td>\n",
       "      <td>0</td>\n",
       "      <td>1</td>\n",
       "      <td>0</td>\n",
       "      <td>1</td>\n",
       "    </tr>\n",
       "    <tr>\n",
       "      <th>1</th>\n",
       "      <td>2</td>\n",
       "      <td>15647311</td>\n",
       "      <td>Hill</td>\n",
       "      <td>608</td>\n",
       "      <td>0.205627</td>\n",
       "      <td>1</td>\n",
       "      <td>0.116954</td>\n",
       "      <td>0.216685</td>\n",
       "      <td>0</td>\n",
       "      <td>0</td>\n",
       "      <td>...</td>\n",
       "      <td>1</td>\n",
       "      <td>0</td>\n",
       "      <td>1</td>\n",
       "      <td>0</td>\n",
       "      <td>0</td>\n",
       "      <td>0</td>\n",
       "      <td>1</td>\n",
       "      <td>0</td>\n",
       "      <td>0</td>\n",
       "      <td>1</td>\n",
       "    </tr>\n",
       "    <tr>\n",
       "      <th>2</th>\n",
       "      <td>3</td>\n",
       "      <td>15619304</td>\n",
       "      <td>Onio</td>\n",
       "      <td>502</td>\n",
       "      <td>0.302032</td>\n",
       "      <td>8</td>\n",
       "      <td>1.332618</td>\n",
       "      <td>0.240841</td>\n",
       "      <td>1</td>\n",
       "      <td>1</td>\n",
       "      <td>...</td>\n",
       "      <td>1</td>\n",
       "      <td>0</td>\n",
       "      <td>0</td>\n",
       "      <td>0</td>\n",
       "      <td>1</td>\n",
       "      <td>0</td>\n",
       "      <td>0</td>\n",
       "      <td>1</td>\n",
       "      <td>1</td>\n",
       "      <td>0</td>\n",
       "    </tr>\n",
       "    <tr>\n",
       "      <th>3</th>\n",
       "      <td>4</td>\n",
       "      <td>15701354</td>\n",
       "      <td>Boni</td>\n",
       "      <td>699</td>\n",
       "      <td>0.012818</td>\n",
       "      <td>1</td>\n",
       "      <td>-1.226201</td>\n",
       "      <td>-0.108796</td>\n",
       "      <td>0</td>\n",
       "      <td>1</td>\n",
       "      <td>...</td>\n",
       "      <td>1</td>\n",
       "      <td>0</td>\n",
       "      <td>0</td>\n",
       "      <td>1</td>\n",
       "      <td>0</td>\n",
       "      <td>0</td>\n",
       "      <td>1</td>\n",
       "      <td>0</td>\n",
       "      <td>1</td>\n",
       "      <td>0</td>\n",
       "    </tr>\n",
       "    <tr>\n",
       "      <th>4</th>\n",
       "      <td>5</td>\n",
       "      <td>15737888</td>\n",
       "      <td>Mitchell</td>\n",
       "      <td>850</td>\n",
       "      <td>0.398436</td>\n",
       "      <td>2</td>\n",
       "      <td>0.785310</td>\n",
       "      <td>-0.365178</td>\n",
       "      <td>0</td>\n",
       "      <td>0</td>\n",
       "      <td>...</td>\n",
       "      <td>1</td>\n",
       "      <td>0</td>\n",
       "      <td>1</td>\n",
       "      <td>0</td>\n",
       "      <td>0</td>\n",
       "      <td>0</td>\n",
       "      <td>0</td>\n",
       "      <td>1</td>\n",
       "      <td>0</td>\n",
       "      <td>1</td>\n",
       "    </tr>\n",
       "  </tbody>\n",
       "</table>\n",
       "<p>5 rows × 22 columns</p>\n",
       "</div>"
      ],
      "text/plain": [
       "   RowNumber  CustomerId   Surname  CreditScore       Age  Tenure   Balance  \\\n",
       "0          1    15634602  Hargrave          619  0.302032       2 -1.226201   \n",
       "1          2    15647311      Hill          608  0.205627       1  0.116954   \n",
       "2          3    15619304      Onio          502  0.302032       8  1.332618   \n",
       "3          4    15701354      Boni          699  0.012818       1 -1.226201   \n",
       "4          5    15737888  Mitchell          850  0.398436       2  0.785310   \n",
       "\n",
       "   EstimatedSalary  Exited  Geography_France  ...  Gender_Female  Gender_Male  \\\n",
       "0         0.022020       1                 1  ...              1            0   \n",
       "1         0.216685       0                 0  ...              1            0   \n",
       "2         0.240841       1                 1  ...              1            0   \n",
       "3        -0.108796       0                 1  ...              1            0   \n",
       "4        -0.365178       0                 0  ...              1            0   \n",
       "\n",
       "   NumOfProducts_1  NumOfProducts_2  NumOfProducts_3  NumOfProducts_4  \\\n",
       "0                1                0                0                0   \n",
       "1                1                0                0                0   \n",
       "2                0                0                1                0   \n",
       "3                0                1                0                0   \n",
       "4                1                0                0                0   \n",
       "\n",
       "   HasCrCard_0  HasCrCard_1  IsActiveMember_0  IsActiveMember_1  \n",
       "0            0            1                 0                 1  \n",
       "1            1            0                 0                 1  \n",
       "2            0            1                 1                 0  \n",
       "3            1            0                 1                 0  \n",
       "4            0            1                 0                 1  \n",
       "\n",
       "[5 rows x 22 columns]"
      ]
     },
     "execution_count": 43,
     "metadata": {},
     "output_type": "execute_result"
    }
   ],
   "source": [
    "df= standardisation(train=df, col='EstimatedSalary')\n",
    "df.head()"
   ]
  },
  {
   "cell_type": "markdown",
   "id": "2c2a67b9",
   "metadata": {},
   "source": [
    "<div class=\"alert alert-block alert-success\">\n",
    "    <h4>\n",
    "        CreditScore\n",
    "    </h4>\n",
    "</div>"
   ]
  },
  {
   "cell_type": "code",
   "execution_count": 44,
   "id": "f3bdbcad",
   "metadata": {
    "scrolled": false
   },
   "outputs": [
    {
     "data": {
      "image/png": "[encoded data removed]",
      "text/plain": [
       "<Figure size 432x288 with 1 Axes>"
      ]
     },
     "metadata": {
      "needs_background": "light"
     },
     "output_type": "display_data"
    }
   ],
   "source": [
    "hist_chart(df['CreditScore'], 10)"
   ]
  },
  {
   "cell_type": "markdown",
   "id": "31959a32",
   "metadata": {},
   "source": [
    "<p style=\"background-color:#FCF3CF; font-family:'San Francisco'; font-size:14px; text-align:left; padding: 0.6em; border-radius: 5px 5px\">Drop Outliers</p>"
   ]
  },
  {
   "cell_type": "code",
   "execution_count": 45,
   "id": "b754edc1",
   "metadata": {},
   "outputs": [
    {
     "data": {
      "image/png": "[encoded data removed]",
      "text/plain": [
       "<Figure size 720x72 with 1 Axes>"
      ]
     },
     "metadata": {
      "needs_background": "light"
     },
     "output_type": "display_data"
    }
   ],
   "source": [
    "box_plot(df['CreditScore'], 'CreditScore')"
   ]
  },
  {
   "cell_type": "code",
   "execution_count": 46,
   "id": "1a4bebc4",
   "metadata": {},
   "outputs": [
    {
     "name": "stdout",
     "output_type": "stream",
     "text": [
      "Int64Index([7, 941, 1192, 1404, 1630, 1837, 1961, 2471, 2577, 8144, 8713, 8752,\n",
      "            9344, 9612],\n",
      "           dtype='int64')\n"
     ]
    }
   ],
   "source": [
    "outliers_index_age = df[df['CreditScore'] < 380].index\n",
    "print(outliers_index_age)"
   ]
  },
  {
   "cell_type": "code",
   "execution_count": 47,
   "id": "3ef63419",
   "metadata": {},
   "outputs": [],
   "source": [
    "df = df.drop(outliers_index_age, axis=0).reset_index(drop=True)"
   ]
  },
  {
   "cell_type": "markdown",
   "id": "6b457d24",
   "metadata": {},
   "source": [
    "<div class=\"alert alert-block alert-warning\">\n",
    "        Standardisation\n",
    "</div>"
   ]
  },
  {
   "cell_type": "code",
   "execution_count": 48,
   "id": "d79b2354",
   "metadata": {},
   "outputs": [
    {
     "data": {
      "text/html": [
       "<div>\n",
       "<style scoped>\n",
       "    .dataframe tbody tr th:only-of-type {\n",
       "        vertical-align: middle;\n",
       "    }\n",
       "\n",
       "    .dataframe tbody tr th {\n",
       "        vertical-align: top;\n",
       "    }\n",
       "\n",
       "    .dataframe thead th {\n",
       "        text-align: right;\n",
       "    }\n",
       "</style>\n",
       "<table border=\"1\" class=\"dataframe\">\n",
       "  <thead>\n",
       "    <tr style=\"text-align: right;\">\n",
       "      <th></th>\n",
       "      <th>RowNumber</th>\n",
       "      <th>CustomerId</th>\n",
       "      <th>Surname</th>\n",
       "      <th>CreditScore</th>\n",
       "      <th>Age</th>\n",
       "      <th>Tenure</th>\n",
       "      <th>Balance</th>\n",
       "      <th>EstimatedSalary</th>\n",
       "      <th>Exited</th>\n",
       "      <th>Geography_France</th>\n",
       "      <th>...</th>\n",
       "      <th>Gender_Female</th>\n",
       "      <th>Gender_Male</th>\n",
       "      <th>NumOfProducts_1</th>\n",
       "      <th>NumOfProducts_2</th>\n",
       "      <th>NumOfProducts_3</th>\n",
       "      <th>NumOfProducts_4</th>\n",
       "      <th>HasCrCard_0</th>\n",
       "      <th>HasCrCard_1</th>\n",
       "      <th>IsActiveMember_0</th>\n",
       "      <th>IsActiveMember_1</th>\n",
       "    </tr>\n",
       "  </thead>\n",
       "  <tbody>\n",
       "    <tr>\n",
       "      <th>0</th>\n",
       "      <td>1</td>\n",
       "      <td>15634602</td>\n",
       "      <td>Hargrave</td>\n",
       "      <td>-0.332123</td>\n",
       "      <td>0.302032</td>\n",
       "      <td>2</td>\n",
       "      <td>-1.226201</td>\n",
       "      <td>0.022020</td>\n",
       "      <td>1</td>\n",
       "      <td>1</td>\n",
       "      <td>...</td>\n",
       "      <td>1</td>\n",
       "      <td>0</td>\n",
       "      <td>1</td>\n",
       "      <td>0</td>\n",
       "      <td>0</td>\n",
       "      <td>0</td>\n",
       "      <td>0</td>\n",
       "      <td>1</td>\n",
       "      <td>0</td>\n",
       "      <td>1</td>\n",
       "    </tr>\n",
       "    <tr>\n",
       "      <th>1</th>\n",
       "      <td>2</td>\n",
       "      <td>15647311</td>\n",
       "      <td>Hill</td>\n",
       "      <td>-0.446648</td>\n",
       "      <td>0.205627</td>\n",
       "      <td>1</td>\n",
       "      <td>0.116954</td>\n",
       "      <td>0.216685</td>\n",
       "      <td>0</td>\n",
       "      <td>0</td>\n",
       "      <td>...</td>\n",
       "      <td>1</td>\n",
       "      <td>0</td>\n",
       "      <td>1</td>\n",
       "      <td>0</td>\n",
       "      <td>0</td>\n",
       "      <td>0</td>\n",
       "      <td>1</td>\n",
       "      <td>0</td>\n",
       "      <td>0</td>\n",
       "      <td>1</td>\n",
       "    </tr>\n",
       "    <tr>\n",
       "      <th>2</th>\n",
       "      <td>3</td>\n",
       "      <td>15619304</td>\n",
       "      <td>Onio</td>\n",
       "      <td>-1.550256</td>\n",
       "      <td>0.302032</td>\n",
       "      <td>8</td>\n",
       "      <td>1.332618</td>\n",
       "      <td>0.240841</td>\n",
       "      <td>1</td>\n",
       "      <td>1</td>\n",
       "      <td>...</td>\n",
       "      <td>1</td>\n",
       "      <td>0</td>\n",
       "      <td>0</td>\n",
       "      <td>0</td>\n",
       "      <td>1</td>\n",
       "      <td>0</td>\n",
       "      <td>0</td>\n",
       "      <td>1</td>\n",
       "      <td>1</td>\n",
       "      <td>0</td>\n",
       "    </tr>\n",
       "    <tr>\n",
       "      <th>3</th>\n",
       "      <td>4</td>\n",
       "      <td>15701354</td>\n",
       "      <td>Boni</td>\n",
       "      <td>0.500789</td>\n",
       "      <td>0.012818</td>\n",
       "      <td>1</td>\n",
       "      <td>-1.226201</td>\n",
       "      <td>-0.108796</td>\n",
       "      <td>0</td>\n",
       "      <td>1</td>\n",
       "      <td>...</td>\n",
       "      <td>1</td>\n",
       "      <td>0</td>\n",
       "      <td>0</td>\n",
       "      <td>1</td>\n",
       "      <td>0</td>\n",
       "      <td>0</td>\n",
       "      <td>1</td>\n",
       "      <td>0</td>\n",
       "      <td>1</td>\n",
       "      <td>0</td>\n",
       "    </tr>\n",
       "    <tr>\n",
       "      <th>4</th>\n",
       "      <td>5</td>\n",
       "      <td>15737888</td>\n",
       "      <td>Mitchell</td>\n",
       "      <td>2.072909</td>\n",
       "      <td>0.398436</td>\n",
       "      <td>2</td>\n",
       "      <td>0.785310</td>\n",
       "      <td>-0.365178</td>\n",
       "      <td>0</td>\n",
       "      <td>0</td>\n",
       "      <td>...</td>\n",
       "      <td>1</td>\n",
       "      <td>0</td>\n",
       "      <td>1</td>\n",
       "      <td>0</td>\n",
       "      <td>0</td>\n",
       "      <td>0</td>\n",
       "      <td>0</td>\n",
       "      <td>1</td>\n",
       "      <td>0</td>\n",
       "      <td>1</td>\n",
       "    </tr>\n",
       "  </tbody>\n",
       "</table>\n",
       "<p>5 rows × 22 columns</p>\n",
       "</div>"
      ],
      "text/plain": [
       "   RowNumber  CustomerId   Surname  CreditScore       Age  Tenure   Balance  \\\n",
       "0          1    15634602  Hargrave    -0.332123  0.302032       2 -1.226201   \n",
       "1          2    15647311      Hill    -0.446648  0.205627       1  0.116954   \n",
       "2          3    15619304      Onio    -1.550256  0.302032       8  1.332618   \n",
       "3          4    15701354      Boni     0.500789  0.012818       1 -1.226201   \n",
       "4          5    15737888  Mitchell     2.072909  0.398436       2  0.785310   \n",
       "\n",
       "   EstimatedSalary  Exited  Geography_France  ...  Gender_Female  Gender_Male  \\\n",
       "0         0.022020       1                 1  ...              1            0   \n",
       "1         0.216685       0                 0  ...              1            0   \n",
       "2         0.240841       1                 1  ...              1            0   \n",
       "3        -0.108796       0                 1  ...              1            0   \n",
       "4        -0.365178       0                 0  ...              1            0   \n",
       "\n",
       "   NumOfProducts_1  NumOfProducts_2  NumOfProducts_3  NumOfProducts_4  \\\n",
       "0                1                0                0                0   \n",
       "1                1                0                0                0   \n",
       "2                0                0                1                0   \n",
       "3                0                1                0                0   \n",
       "4                1                0                0                0   \n",
       "\n",
       "   HasCrCard_0  HasCrCard_1  IsActiveMember_0  IsActiveMember_1  \n",
       "0            0            1                 0                 1  \n",
       "1            1            0                 0                 1  \n",
       "2            0            1                 1                 0  \n",
       "3            1            0                 1                 0  \n",
       "4            0            1                 0                 1  \n",
       "\n",
       "[5 rows x 22 columns]"
      ]
     },
     "execution_count": 48,
     "metadata": {},
     "output_type": "execute_result"
    }
   ],
   "source": [
    "df= standardisation(train=df, col='CreditScore')\n",
    "df.head()"
   ]
  },
  {
   "cell_type": "markdown",
   "id": "209eedd1",
   "metadata": {},
   "source": [
    "<div class=\"alert alert-block alert-success\">\n",
    "    <h4>\n",
    "        Tenure\n",
    "    </h4>\n",
    "</div>"
   ]
  },
  {
   "cell_type": "code",
   "execution_count": 49,
   "id": "78d7d868",
   "metadata": {},
   "outputs": [
    {
     "name": "stdout",
     "output_type": "stream",
     "text": [
      "Exited    0    1\n",
      "Tenure          \n",
      "0       318   92\n",
      "1       801  231\n",
      "2       846  201\n",
      "3       795  212\n",
      "4       786  201\n",
      "5       802  209\n",
      "6       768  192\n",
      "7       851  176\n",
      "8       827  195\n",
      "9       771  213\n",
      "10      387  100\n"
     ]
    },
    {
     "data": {
      "image/png": "[encoded data removed]",
      "text/plain": [
       "<Figure size 432x288 with 1 Axes>"
      ]
     },
     "metadata": {
      "needs_background": "light"
     },
     "output_type": "display_data"
    }
   ],
   "source": [
    "stacked_bar_chart(df, 'Tenure', 'Exited')"
   ]
  },
  {
   "cell_type": "markdown",
   "id": "57532191",
   "metadata": {},
   "source": [
    "<div class=\"alert alert-block alert-success\">\n",
    "    <h4>\n",
    "        CustomerId\n",
    "    </h4>\n",
    "</div>"
   ]
  },
  {
   "cell_type": "code",
   "execution_count": 50,
   "id": "0b29a24b",
   "metadata": {},
   "outputs": [],
   "source": [
    "customerId_category = []\n",
    "for i in df['CustomerId']:\n",
    "    customerId_category.append(str(i)[:3])\n",
    "df['customerId_category'] = customerId_category\n",
    "df.drop(['CustomerId'], axis=1, inplace=True)"
   ]
  },
  {
   "cell_type": "code",
   "execution_count": 51,
   "id": "a764b99d",
   "metadata": {},
   "outputs": [
    {
     "name": "stdout",
     "output_type": "stream",
     "text": [
      "Exited                  0    1\n",
      "customerId_category           \n",
      "155                  1054  292\n",
      "156                  3208  802\n",
      "157                  3200  798\n",
      "158                   490  130\n"
     ]
    },
    {
     "data": {
      "image/png": "[encoded data removed]",
      "text/plain": [
       "<Figure size 432x288 with 1 Axes>"
      ]
     },
     "metadata": {
      "needs_background": "light"
     },
     "output_type": "display_data"
    }
   ],
   "source": [
    "stacked_bar_chart(df, 'customerId_category', 'Exited')"
   ]
  },
  {
   "cell_type": "code",
   "execution_count": 52,
   "id": "c649e174",
   "metadata": {
    "scrolled": true
   },
   "outputs": [
    {
     "data": {
      "text/html": [
       "<div>\n",
       "<style scoped>\n",
       "    .dataframe tbody tr th:only-of-type {\n",
       "        vertical-align: middle;\n",
       "    }\n",
       "\n",
       "    .dataframe tbody tr th {\n",
       "        vertical-align: top;\n",
       "    }\n",
       "\n",
       "    .dataframe thead th {\n",
       "        text-align: right;\n",
       "    }\n",
       "</style>\n",
       "<table border=\"1\" class=\"dataframe\">\n",
       "  <thead>\n",
       "    <tr style=\"text-align: right;\">\n",
       "      <th></th>\n",
       "      <th></th>\n",
       "      <th>RowNumber</th>\n",
       "      <th>Surname</th>\n",
       "      <th>CreditScore</th>\n",
       "      <th>Age</th>\n",
       "      <th>Tenure</th>\n",
       "      <th>Balance</th>\n",
       "      <th>EstimatedSalary</th>\n",
       "      <th>Geography_France</th>\n",
       "      <th>Geography_Germany</th>\n",
       "      <th>Geography_Spain</th>\n",
       "      <th>Gender_Female</th>\n",
       "      <th>Gender_Male</th>\n",
       "      <th>NumOfProducts_1</th>\n",
       "      <th>NumOfProducts_2</th>\n",
       "      <th>NumOfProducts_3</th>\n",
       "      <th>NumOfProducts_4</th>\n",
       "      <th>HasCrCard_0</th>\n",
       "      <th>HasCrCard_1</th>\n",
       "      <th>IsActiveMember_0</th>\n",
       "      <th>IsActiveMember_1</th>\n",
       "    </tr>\n",
       "    <tr>\n",
       "      <th>customerId_category</th>\n",
       "      <th>Exited</th>\n",
       "      <th></th>\n",
       "      <th></th>\n",
       "      <th></th>\n",
       "      <th></th>\n",
       "      <th></th>\n",
       "      <th></th>\n",
       "      <th></th>\n",
       "      <th></th>\n",
       "      <th></th>\n",
       "      <th></th>\n",
       "      <th></th>\n",
       "      <th></th>\n",
       "      <th></th>\n",
       "      <th></th>\n",
       "      <th></th>\n",
       "      <th></th>\n",
       "      <th></th>\n",
       "      <th></th>\n",
       "      <th></th>\n",
       "      <th></th>\n",
       "    </tr>\n",
       "  </thead>\n",
       "  <tbody>\n",
       "    <tr>\n",
       "      <th rowspan=\"2\" valign=\"top\">155</th>\n",
       "      <th>0</th>\n",
       "      <td>1054</td>\n",
       "      <td>1054</td>\n",
       "      <td>1054</td>\n",
       "      <td>1054</td>\n",
       "      <td>1054</td>\n",
       "      <td>1054</td>\n",
       "      <td>1054</td>\n",
       "      <td>1054</td>\n",
       "      <td>1054</td>\n",
       "      <td>1054</td>\n",
       "      <td>1054</td>\n",
       "      <td>1054</td>\n",
       "      <td>1054</td>\n",
       "      <td>1054</td>\n",
       "      <td>1054</td>\n",
       "      <td>1054</td>\n",
       "      <td>1054</td>\n",
       "      <td>1054</td>\n",
       "      <td>1054</td>\n",
       "      <td>1054</td>\n",
       "    </tr>\n",
       "    <tr>\n",
       "      <th>1</th>\n",
       "      <td>292</td>\n",
       "      <td>292</td>\n",
       "      <td>292</td>\n",
       "      <td>292</td>\n",
       "      <td>292</td>\n",
       "      <td>292</td>\n",
       "      <td>292</td>\n",
       "      <td>292</td>\n",
       "      <td>292</td>\n",
       "      <td>292</td>\n",
       "      <td>292</td>\n",
       "      <td>292</td>\n",
       "      <td>292</td>\n",
       "      <td>292</td>\n",
       "      <td>292</td>\n",
       "      <td>292</td>\n",
       "      <td>292</td>\n",
       "      <td>292</td>\n",
       "      <td>292</td>\n",
       "      <td>292</td>\n",
       "    </tr>\n",
       "    <tr>\n",
       "      <th rowspan=\"2\" valign=\"top\">156</th>\n",
       "      <th>0</th>\n",
       "      <td>3208</td>\n",
       "      <td>3208</td>\n",
       "      <td>3208</td>\n",
       "      <td>3208</td>\n",
       "      <td>3208</td>\n",
       "      <td>3208</td>\n",
       "      <td>3208</td>\n",
       "      <td>3208</td>\n",
       "      <td>3208</td>\n",
       "      <td>3208</td>\n",
       "      <td>3208</td>\n",
       "      <td>3208</td>\n",
       "      <td>3208</td>\n",
       "      <td>3208</td>\n",
       "      <td>3208</td>\n",
       "      <td>3208</td>\n",
       "      <td>3208</td>\n",
       "      <td>3208</td>\n",
       "      <td>3208</td>\n",
       "      <td>3208</td>\n",
       "    </tr>\n",
       "    <tr>\n",
       "      <th>1</th>\n",
       "      <td>802</td>\n",
       "      <td>802</td>\n",
       "      <td>802</td>\n",
       "      <td>802</td>\n",
       "      <td>802</td>\n",
       "      <td>802</td>\n",
       "      <td>802</td>\n",
       "      <td>802</td>\n",
       "      <td>802</td>\n",
       "      <td>802</td>\n",
       "      <td>802</td>\n",
       "      <td>802</td>\n",
       "      <td>802</td>\n",
       "      <td>802</td>\n",
       "      <td>802</td>\n",
       "      <td>802</td>\n",
       "      <td>802</td>\n",
       "      <td>802</td>\n",
       "      <td>802</td>\n",
       "      <td>802</td>\n",
       "    </tr>\n",
       "    <tr>\n",
       "      <th rowspan=\"2\" valign=\"top\">157</th>\n",
       "      <th>0</th>\n",
       "      <td>3200</td>\n",
       "      <td>3200</td>\n",
       "      <td>3200</td>\n",
       "      <td>3200</td>\n",
       "      <td>3200</td>\n",
       "      <td>3200</td>\n",
       "      <td>3200</td>\n",
       "      <td>3200</td>\n",
       "      <td>3200</td>\n",
       "      <td>3200</td>\n",
       "      <td>3200</td>\n",
       "      <td>3200</td>\n",
       "      <td>3200</td>\n",
       "      <td>3200</td>\n",
       "      <td>3200</td>\n",
       "      <td>3200</td>\n",
       "      <td>3200</td>\n",
       "      <td>3200</td>\n",
       "      <td>3200</td>\n",
       "      <td>3200</td>\n",
       "    </tr>\n",
       "    <tr>\n",
       "      <th>1</th>\n",
       "      <td>798</td>\n",
       "      <td>798</td>\n",
       "      <td>798</td>\n",
       "      <td>798</td>\n",
       "      <td>798</td>\n",
       "      <td>798</td>\n",
       "      <td>798</td>\n",
       "      <td>798</td>\n",
       "      <td>798</td>\n",
       "      <td>798</td>\n",
       "      <td>798</td>\n",
       "      <td>798</td>\n",
       "      <td>798</td>\n",
       "      <td>798</td>\n",
       "      <td>798</td>\n",
       "      <td>798</td>\n",
       "      <td>798</td>\n",
       "      <td>798</td>\n",
       "      <td>798</td>\n",
       "      <td>798</td>\n",
       "    </tr>\n",
       "    <tr>\n",
       "      <th rowspan=\"2\" valign=\"top\">158</th>\n",
       "      <th>0</th>\n",
       "      <td>490</td>\n",
       "      <td>490</td>\n",
       "      <td>490</td>\n",
       "      <td>490</td>\n",
       "      <td>490</td>\n",
       "      <td>490</td>\n",
       "      <td>490</td>\n",
       "      <td>490</td>\n",
       "      <td>490</td>\n",
       "      <td>490</td>\n",
       "      <td>490</td>\n",
       "      <td>490</td>\n",
       "      <td>490</td>\n",
       "      <td>490</td>\n",
       "      <td>490</td>\n",
       "      <td>490</td>\n",
       "      <td>490</td>\n",
       "      <td>490</td>\n",
       "      <td>490</td>\n",
       "      <td>490</td>\n",
       "    </tr>\n",
       "    <tr>\n",
       "      <th>1</th>\n",
       "      <td>130</td>\n",
       "      <td>130</td>\n",
       "      <td>130</td>\n",
       "      <td>130</td>\n",
       "      <td>130</td>\n",
       "      <td>130</td>\n",
       "      <td>130</td>\n",
       "      <td>130</td>\n",
       "      <td>130</td>\n",
       "      <td>130</td>\n",
       "      <td>130</td>\n",
       "      <td>130</td>\n",
       "      <td>130</td>\n",
       "      <td>130</td>\n",
       "      <td>130</td>\n",
       "      <td>130</td>\n",
       "      <td>130</td>\n",
       "      <td>130</td>\n",
       "      <td>130</td>\n",
       "      <td>130</td>\n",
       "    </tr>\n",
       "  </tbody>\n",
       "</table>\n",
       "</div>"
      ],
      "text/plain": [
       "                            RowNumber  Surname  CreditScore   Age  Tenure  \\\n",
       "customerId_category Exited                                                  \n",
       "155                 0            1054     1054         1054  1054    1054   \n",
       "                    1             292      292          292   292     292   \n",
       "156                 0            3208     3208         3208  3208    3208   \n",
       "                    1             802      802          802   802     802   \n",
       "157                 0            3200     3200         3200  3200    3200   \n",
       "                    1             798      798          798   798     798   \n",
       "158                 0             490      490          490   490     490   \n",
       "                    1             130      130          130   130     130   \n",
       "\n",
       "                            Balance  EstimatedSalary  Geography_France  \\\n",
       "customerId_category Exited                                               \n",
       "155                 0          1054             1054              1054   \n",
       "                    1           292              292               292   \n",
       "156                 0          3208             3208              3208   \n",
       "                    1           802              802               802   \n",
       "157                 0          3200             3200              3200   \n",
       "                    1           798              798               798   \n",
       "158                 0           490              490               490   \n",
       "                    1           130              130               130   \n",
       "\n",
       "                            Geography_Germany  Geography_Spain  Gender_Female  \\\n",
       "customerId_category Exited                                                      \n",
       "155                 0                    1054             1054           1054   \n",
       "                    1                     292              292            292   \n",
       "156                 0                    3208             3208           3208   \n",
       "                    1                     802              802            802   \n",
       "157                 0                    3200             3200           3200   \n",
       "                    1                     798              798            798   \n",
       "158                 0                     490              490            490   \n",
       "                    1                     130              130            130   \n",
       "\n",
       "                            Gender_Male  NumOfProducts_1  NumOfProducts_2  \\\n",
       "customerId_category Exited                                                  \n",
       "155                 0              1054             1054             1054   \n",
       "                    1               292              292              292   \n",
       "156                 0              3208             3208             3208   \n",
       "                    1               802              802              802   \n",
       "157                 0              3200             3200             3200   \n",
       "                    1               798              798              798   \n",
       "158                 0               490              490              490   \n",
       "                    1               130              130              130   \n",
       "\n",
       "                            NumOfProducts_3  NumOfProducts_4  HasCrCard_0  \\\n",
       "customerId_category Exited                                                  \n",
       "155                 0                  1054             1054         1054   \n",
       "                    1                   292              292          292   \n",
       "156                 0                  3208             3208         3208   \n",
       "                    1                   802              802          802   \n",
       "157                 0                  3200             3200         3200   \n",
       "                    1                   798              798          798   \n",
       "158                 0                   490              490          490   \n",
       "                    1                   130              130          130   \n",
       "\n",
       "                            HasCrCard_1  IsActiveMember_0  IsActiveMember_1  \n",
       "customerId_category Exited                                                   \n",
       "155                 0              1054              1054              1054  \n",
       "                    1               292               292               292  \n",
       "156                 0              3208              3208              3208  \n",
       "                    1               802               802               802  \n",
       "157                 0              3200              3200              3200  \n",
       "                    1               798               798               798  \n",
       "158                 0               490               490               490  \n",
       "                    1               130               130               130  "
      ]
     },
     "execution_count": 52,
     "metadata": {},
     "output_type": "execute_result"
    }
   ],
   "source": [
    "df.groupby(['customerId_category', 'Exited']).count()"
   ]
  },
  {
   "cell_type": "code",
   "execution_count": 53,
   "id": "973c49c3",
   "metadata": {},
   "outputs": [
    {
     "name": "stdout",
     "output_type": "stream",
     "text": [
      "21.7% of customers with 155 ID closed their accounts.\n",
      "=====\n",
      "20.0% of customers with 156 ID closed their accounts.\n",
      "=====\n",
      "20.0% of customers with 157 ID closed their accounts.\n",
      "=====\n",
      "21.0% of customers with 158 ID closed their accounts.\n"
     ]
    }
   ],
   "source": [
    "print('{:.1%} of customers with 155 ID closed their accounts.'.format(292/(1054+292)))\n",
    "print('=====')\n",
    "print('{:.1%} of customers with 156 ID closed their accounts.'.format(802/(3208+802)))\n",
    "print('=====')\n",
    "print('{:.1%} of customers with 157 ID closed their accounts.'.format(798/(3200+798)))\n",
    "print('=====')\n",
    "print('{:.1%} of customers with 158 ID closed their accounts.'.format(130/(490+130)))"
   ]
  },
  {
   "cell_type": "markdown",
   "id": "239cd69e",
   "metadata": {},
   "source": [
    "<div class=\"alert alert-block alert-warning\">\n",
    "        One Hot Encoding\n",
    "</div>"
   ]
  },
  {
   "cell_type": "code",
   "execution_count": 54,
   "id": "25e16dd2",
   "metadata": {
    "scrolled": true
   },
   "outputs": [
    {
     "data": {
      "text/html": [
       "<div>\n",
       "<style scoped>\n",
       "    .dataframe tbody tr th:only-of-type {\n",
       "        vertical-align: middle;\n",
       "    }\n",
       "\n",
       "    .dataframe tbody tr th {\n",
       "        vertical-align: top;\n",
       "    }\n",
       "\n",
       "    .dataframe thead th {\n",
       "        text-align: right;\n",
       "    }\n",
       "</style>\n",
       "<table border=\"1\" class=\"dataframe\">\n",
       "  <thead>\n",
       "    <tr style=\"text-align: right;\">\n",
       "      <th></th>\n",
       "      <th>RowNumber</th>\n",
       "      <th>Surname</th>\n",
       "      <th>CreditScore</th>\n",
       "      <th>Age</th>\n",
       "      <th>Tenure</th>\n",
       "      <th>Balance</th>\n",
       "      <th>EstimatedSalary</th>\n",
       "      <th>Exited</th>\n",
       "      <th>Geography_France</th>\n",
       "      <th>Geography_Germany</th>\n",
       "      <th>...</th>\n",
       "      <th>NumOfProducts_3</th>\n",
       "      <th>NumOfProducts_4</th>\n",
       "      <th>HasCrCard_0</th>\n",
       "      <th>HasCrCard_1</th>\n",
       "      <th>IsActiveMember_0</th>\n",
       "      <th>IsActiveMember_1</th>\n",
       "      <th>customerId_category_155</th>\n",
       "      <th>customerId_category_156</th>\n",
       "      <th>customerId_category_157</th>\n",
       "      <th>customerId_category_158</th>\n",
       "    </tr>\n",
       "  </thead>\n",
       "  <tbody>\n",
       "    <tr>\n",
       "      <th>0</th>\n",
       "      <td>1</td>\n",
       "      <td>Hargrave</td>\n",
       "      <td>-0.332123</td>\n",
       "      <td>0.302032</td>\n",
       "      <td>2</td>\n",
       "      <td>-1.226201</td>\n",
       "      <td>0.022020</td>\n",
       "      <td>1</td>\n",
       "      <td>1</td>\n",
       "      <td>0</td>\n",
       "      <td>...</td>\n",
       "      <td>0</td>\n",
       "      <td>0</td>\n",
       "      <td>0</td>\n",
       "      <td>1</td>\n",
       "      <td>0</td>\n",
       "      <td>1</td>\n",
       "      <td>0</td>\n",
       "      <td>1</td>\n",
       "      <td>0</td>\n",
       "      <td>0</td>\n",
       "    </tr>\n",
       "    <tr>\n",
       "      <th>1</th>\n",
       "      <td>2</td>\n",
       "      <td>Hill</td>\n",
       "      <td>-0.446648</td>\n",
       "      <td>0.205627</td>\n",
       "      <td>1</td>\n",
       "      <td>0.116954</td>\n",
       "      <td>0.216685</td>\n",
       "      <td>0</td>\n",
       "      <td>0</td>\n",
       "      <td>0</td>\n",
       "      <td>...</td>\n",
       "      <td>0</td>\n",
       "      <td>0</td>\n",
       "      <td>1</td>\n",
       "      <td>0</td>\n",
       "      <td>0</td>\n",
       "      <td>1</td>\n",
       "      <td>0</td>\n",
       "      <td>1</td>\n",
       "      <td>0</td>\n",
       "      <td>0</td>\n",
       "    </tr>\n",
       "    <tr>\n",
       "      <th>2</th>\n",
       "      <td>3</td>\n",
       "      <td>Onio</td>\n",
       "      <td>-1.550256</td>\n",
       "      <td>0.302032</td>\n",
       "      <td>8</td>\n",
       "      <td>1.332618</td>\n",
       "      <td>0.240841</td>\n",
       "      <td>1</td>\n",
       "      <td>1</td>\n",
       "      <td>0</td>\n",
       "      <td>...</td>\n",
       "      <td>1</td>\n",
       "      <td>0</td>\n",
       "      <td>0</td>\n",
       "      <td>1</td>\n",
       "      <td>1</td>\n",
       "      <td>0</td>\n",
       "      <td>0</td>\n",
       "      <td>1</td>\n",
       "      <td>0</td>\n",
       "      <td>0</td>\n",
       "    </tr>\n",
       "    <tr>\n",
       "      <th>3</th>\n",
       "      <td>4</td>\n",
       "      <td>Boni</td>\n",
       "      <td>0.500789</td>\n",
       "      <td>0.012818</td>\n",
       "      <td>1</td>\n",
       "      <td>-1.226201</td>\n",
       "      <td>-0.108796</td>\n",
       "      <td>0</td>\n",
       "      <td>1</td>\n",
       "      <td>0</td>\n",
       "      <td>...</td>\n",
       "      <td>0</td>\n",
       "      <td>0</td>\n",
       "      <td>1</td>\n",
       "      <td>0</td>\n",
       "      <td>1</td>\n",
       "      <td>0</td>\n",
       "      <td>0</td>\n",
       "      <td>0</td>\n",
       "      <td>1</td>\n",
       "      <td>0</td>\n",
       "    </tr>\n",
       "    <tr>\n",
       "      <th>4</th>\n",
       "      <td>5</td>\n",
       "      <td>Mitchell</td>\n",
       "      <td>2.072909</td>\n",
       "      <td>0.398436</td>\n",
       "      <td>2</td>\n",
       "      <td>0.785310</td>\n",
       "      <td>-0.365178</td>\n",
       "      <td>0</td>\n",
       "      <td>0</td>\n",
       "      <td>0</td>\n",
       "      <td>...</td>\n",
       "      <td>0</td>\n",
       "      <td>0</td>\n",
       "      <td>0</td>\n",
       "      <td>1</td>\n",
       "      <td>0</td>\n",
       "      <td>1</td>\n",
       "      <td>0</td>\n",
       "      <td>0</td>\n",
       "      <td>1</td>\n",
       "      <td>0</td>\n",
       "    </tr>\n",
       "  </tbody>\n",
       "</table>\n",
       "<p>5 rows × 25 columns</p>\n",
       "</div>"
      ],
      "text/plain": [
       "   RowNumber   Surname  CreditScore       Age  Tenure   Balance  \\\n",
       "0          1  Hargrave    -0.332123  0.302032       2 -1.226201   \n",
       "1          2      Hill    -0.446648  0.205627       1  0.116954   \n",
       "2          3      Onio    -1.550256  0.302032       8  1.332618   \n",
       "3          4      Boni     0.500789  0.012818       1 -1.226201   \n",
       "4          5  Mitchell     2.072909  0.398436       2  0.785310   \n",
       "\n",
       "   EstimatedSalary  Exited  Geography_France  Geography_Germany  ...  \\\n",
       "0         0.022020       1                 1                  0  ...   \n",
       "1         0.216685       0                 0                  0  ...   \n",
       "2         0.240841       1                 1                  0  ...   \n",
       "3        -0.108796       0                 1                  0  ...   \n",
       "4        -0.365178       0                 0                  0  ...   \n",
       "\n",
       "   NumOfProducts_3  NumOfProducts_4  HasCrCard_0  HasCrCard_1  \\\n",
       "0                0                0            0            1   \n",
       "1                0                0            1            0   \n",
       "2                1                0            0            1   \n",
       "3                0                0            1            0   \n",
       "4                0                0            0            1   \n",
       "\n",
       "   IsActiveMember_0  IsActiveMember_1  customerId_category_155  \\\n",
       "0                 0                 1                        0   \n",
       "1                 0                 1                        0   \n",
       "2                 1                 0                        0   \n",
       "3                 1                 0                        0   \n",
       "4                 0                 1                        0   \n",
       "\n",
       "   customerId_category_156  customerId_category_157  customerId_category_158  \n",
       "0                        1                        0                        0  \n",
       "1                        1                        0                        0  \n",
       "2                        1                        0                        0  \n",
       "3                        0                        1                        0  \n",
       "4                        0                        1                        0  \n",
       "\n",
       "[5 rows x 25 columns]"
      ]
     },
     "execution_count": 54,
     "metadata": {},
     "output_type": "execute_result"
    }
   ],
   "source": [
    "df = one_hot_encoding(train=df, ohe_col='customerId_category')\n",
    "df.head()"
   ]
  },
  {
   "cell_type": "markdown",
   "id": "748b6b16",
   "metadata": {},
   "source": [
    "<div class=\"alert alert-block alert-success\">\n",
    "    <h4>\n",
    "        Drop features\n",
    "    </h4>\n",
    "</div>"
   ]
  },
  {
   "cell_type": "code",
   "execution_count": 55,
   "id": "eb764eaf",
   "metadata": {},
   "outputs": [],
   "source": [
    "df = df.drop(['RowNumber', 'Surname'], axis=1)"
   ]
  },
  {
   "cell_type": "markdown",
   "id": "a681cb11",
   "metadata": {},
   "source": [
    "<a id='3.3'></a>\n",
    "<div class=\"alert alert-block alert-info\">\n",
    "   <h3>\n",
    "        Feature Engineering\n",
    "   </h3>\n",
    "</div>"
   ]
  },
  {
   "cell_type": "code",
   "execution_count": 56,
   "id": "16e6554b",
   "metadata": {},
   "outputs": [],
   "source": [
    "X = df.drop('Exited', axis=1)\n",
    "y = df['Exited']"
   ]
  },
  {
   "cell_type": "code",
   "execution_count": 57,
   "id": "bbac9b9b",
   "metadata": {},
   "outputs": [
    {
     "name": "stdout",
     "output_type": "stream",
     "text": [
      "(7979, 22)\n",
      "(1995, 22)\n"
     ]
    }
   ],
   "source": [
    "from sklearn.model_selection import train_test_split\n",
    "\n",
    "X_train, X_test, y_train, y_test = train_test_split(X, y,  test_size=0.20, random_state=0)\n",
    "\n",
    "print(X_train.shape)\n",
    "print(X_test.shape)"
   ]
  },
  {
   "cell_type": "markdown",
   "id": "ce3fc89a",
   "metadata": {},
   "source": [
    "<div class=\"alert alert-block alert-success\">\n",
    "    <h4>\n",
    "        Check categorical columns\n",
    "    </h4>\n",
    "</div>"
   ]
  },
  {
   "cell_type": "code",
   "execution_count": 58,
   "id": "00c48043",
   "metadata": {},
   "outputs": [
    {
     "data": {
      "text/plain": [
       "[]"
      ]
     },
     "execution_count": 58,
     "metadata": {},
     "output_type": "execute_result"
    }
   ],
   "source": [
    "categorical_feature_cols = list(set(X_train.columns) - set(X_train._get_numeric_data().columns))\n",
    "categorical_feature_cols"
   ]
  },
  {
   "cell_type": "markdown",
   "id": "6caa0e86",
   "metadata": {},
   "source": [
    "- There is no categorical columns in the dataframe"
   ]
  },
  {
   "cell_type": "code",
   "execution_count": 59,
   "id": "e3b81289",
   "metadata": {},
   "outputs": [
    {
     "name": "stdout",
     "output_type": "stream",
     "text": [
      "['CreditScore', 'Age', 'Tenure', 'Balance', 'EstimatedSalary', 'Geography_France', 'Geography_Germany', 'Geography_Spain', 'Gender_Female', 'Gender_Male', 'NumOfProducts_1', 'NumOfProducts_2', 'NumOfProducts_3', 'NumOfProducts_4', 'HasCrCard_0', 'HasCrCard_1', 'IsActiveMember_0', 'IsActiveMember_1', 'customerId_category_155', 'customerId_category_156', 'customerId_category_157', 'customerId_category_158']\n"
     ]
    }
   ],
   "source": [
    "numerical_feature_cols = list(X_train._get_numeric_data().columns)\n",
    "print(numerical_feature_cols)"
   ]
  },
  {
   "cell_type": "markdown",
   "id": "066b31f3",
   "metadata": {},
   "source": [
    "<div class=\"alert alert-block alert-success\">\n",
    "    <h4>\n",
    "        Constant and quasi constant features removal\n",
    "    </h4>\n",
    "</div>"
   ]
  },
  {
   "cell_type": "markdown",
   "id": "142b2d04",
   "metadata": {},
   "source": [
    "- Constant: remove the features that have the same value in all samples\n",
    "- Quasi constant : remove the features that they have the 99% same value"
   ]
  },
  {
   "cell_type": "code",
   "execution_count": 60,
   "id": "a1d6d2f7",
   "metadata": {},
   "outputs": [
    {
     "name": "stdout",
     "output_type": "stream",
     "text": [
      "0\n"
     ]
    }
   ],
   "source": [
    "# Constant\n",
    "from sklearn.feature_selection import VarianceThreshold\n",
    "constant=VarianceThreshold(threshold=0)\n",
    "constant.fit(X_train)\n",
    "\n",
    "constant_columns = [column for column in X_train.columns\n",
    "                    if column not in X_train.columns[constant.get_support()]]\n",
    "print(len(constant_columns))"
   ]
  },
  {
   "cell_type": "code",
   "execution_count": 61,
   "id": "ea01f852",
   "metadata": {},
   "outputs": [
    {
     "name": "stdout",
     "output_type": "stream",
     "text": [
      "['NumOfProducts_4']\n"
     ]
    }
   ],
   "source": [
    "# Quasi constant\n",
    "from sklearn.feature_selection import VarianceThreshold\n",
    "quasi_constant=VarianceThreshold(threshold=0.01)\n",
    "quasi_constant.fit(X_train)\n",
    "\n",
    "quasi_constant_columns = [column for column in X_train.columns\n",
    "                    if column not in X_train.columns[quasi_constant.get_support()]]\n",
    "print(quasi_constant_columns)"
   ]
  },
  {
   "cell_type": "code",
   "execution_count": 62,
   "id": "b83d5213",
   "metadata": {},
   "outputs": [],
   "source": [
    "X_train = pd.DataFrame(quasi_constant.transform(X_train), columns=X_train.columns[quasi_constant.get_support()])\n",
    "X_test = pd.DataFrame(quasi_constant.transform(X_test), columns=X_test.columns[quasi_constant.get_support()])"
   ]
  },
  {
   "cell_type": "code",
   "execution_count": 63,
   "id": "ba7b0940",
   "metadata": {},
   "outputs": [
    {
     "data": {
      "text/plain": [
       "((7979, 21), (1995, 21))"
      ]
     },
     "execution_count": 63,
     "metadata": {},
     "output_type": "execute_result"
    }
   ],
   "source": [
    "X_train.shape, X_test.shape"
   ]
  },
  {
   "cell_type": "markdown",
   "id": "999079cc",
   "metadata": {},
   "source": [
    "<div class=\"alert alert-block alert-success\">\n",
    "    <h4>\n",
    "        Remove duplicate features\n",
    "    </h4>\n",
    "</div>"
   ]
  },
  {
   "cell_type": "code",
   "execution_count": 64,
   "id": "d15b2ba3",
   "metadata": {},
   "outputs": [],
   "source": [
    "X_train_T = X_train.T\n",
    "X_test_T = X_test.T"
   ]
  },
  {
   "cell_type": "code",
   "execution_count": 65,
   "id": "74c6b478",
   "metadata": {},
   "outputs": [
    {
     "data": {
      "text/plain": [
       "0"
      ]
     },
     "execution_count": 65,
     "metadata": {},
     "output_type": "execute_result"
    }
   ],
   "source": [
    "X_train_T.duplicated().sum()"
   ]
  },
  {
   "cell_type": "markdown",
   "id": "136aa431",
   "metadata": {},
   "source": [
    "- There are no dublicated features"
   ]
  },
  {
   "cell_type": "code",
   "execution_count": 66,
   "id": "4b1595f4",
   "metadata": {},
   "outputs": [],
   "source": [
    "# features_to_keep = [not ind for ind  in X_train_T.duplicated()]\n",
    "# X_train = X_train_T[features_to_keep].T\n",
    "# X_test = X_test_T[features_to_keep].T"
   ]
  },
  {
   "cell_type": "markdown",
   "id": "0ee48675",
   "metadata": {},
   "source": [
    "<div class=\"alert alert-block alert-success\">\n",
    "    <h4>\n",
    "        Drop highly correlated features using Pearson Correlation\n",
    "    </h4>\n",
    "</div>"
   ]
  },
  {
   "cell_type": "code",
   "execution_count": 67,
   "id": "06719d8e",
   "metadata": {},
   "outputs": [
    {
     "data": {
      "text/html": [
       "<div>\n",
       "<style scoped>\n",
       "    .dataframe tbody tr th:only-of-type {\n",
       "        vertical-align: middle;\n",
       "    }\n",
       "\n",
       "    .dataframe tbody tr th {\n",
       "        vertical-align: top;\n",
       "    }\n",
       "\n",
       "    .dataframe thead th {\n",
       "        text-align: right;\n",
       "    }\n",
       "</style>\n",
       "<table border=\"1\" class=\"dataframe\">\n",
       "  <thead>\n",
       "    <tr style=\"text-align: right;\">\n",
       "      <th></th>\n",
       "      <th>Feature_1</th>\n",
       "      <th>Feature_2</th>\n",
       "      <th>Corr_value</th>\n",
       "    </tr>\n",
       "  </thead>\n",
       "  <tbody>\n",
       "    <tr>\n",
       "      <th>1</th>\n",
       "      <td>NumOfProducts_2</td>\n",
       "      <td>NumOfProducts_1</td>\n",
       "      <td>0.937118</td>\n",
       "    </tr>\n",
       "    <tr>\n",
       "      <th>3</th>\n",
       "      <td>IsActiveMember_1</td>\n",
       "      <td>IsActiveMember_0</td>\n",
       "      <td>1.000000</td>\n",
       "    </tr>\n",
       "    <tr>\n",
       "      <th>2</th>\n",
       "      <td>HasCrCard_1</td>\n",
       "      <td>HasCrCard_0</td>\n",
       "      <td>1.000000</td>\n",
       "    </tr>\n",
       "    <tr>\n",
       "      <th>0</th>\n",
       "      <td>Gender_Male</td>\n",
       "      <td>Gender_Female</td>\n",
       "      <td>1.000000</td>\n",
       "    </tr>\n",
       "  </tbody>\n",
       "</table>\n",
       "</div>"
      ],
      "text/plain": [
       "          Feature_1         Feature_2  Corr_value\n",
       "1   NumOfProducts_2   NumOfProducts_1    0.937118\n",
       "3  IsActiveMember_1  IsActiveMember_0    1.000000\n",
       "2       HasCrCard_1       HasCrCard_0    1.000000\n",
       "0       Gender_Male     Gender_Female    1.000000"
      ]
     },
     "execution_count": 67,
     "metadata": {},
     "output_type": "execute_result"
    }
   ],
   "source": [
    "def highly_correlated_features(df, threshold):\n",
    "    corr_matrix = df.corr()\n",
    "    \n",
    "    df_corr_list = []\n",
    "    for i in range(len(corr_matrix.columns)):\n",
    "        for j in range(i):\n",
    "            if abs(corr_matrix.iloc[i, j]) > threshold:\n",
    "                ind_name = corr_matrix.columns[i]\n",
    "                col_name = corr_matrix.columns[j]\n",
    "                coeff_value_absolute = abs(corr_matrix.iloc[i, j])\n",
    "                df_corr_list.append([ind_name, col_name, coeff_value_absolute])\n",
    "                \n",
    "    df_corr = pd.DataFrame(df_corr_list, columns=['Feature_1', 'Feature_2', 'Corr_value'])\n",
    "    \n",
    "    return df_corr\n",
    "        \n",
    "df_hcf = highly_correlated_features(df, 0.85)\n",
    "df_hcf = df_hcf.sort_values(by=['Feature_1', 'Feature_2', 'Corr_value'], ascending=False)\n",
    "df_hcf"
   ]
  },
  {
   "cell_type": "markdown",
   "id": "19cacf21",
   "metadata": {},
   "source": [
    "<div class=\"alert alert-block alert-success\">\n",
    "    <h4>\n",
    "        Feature importance based on RandomForestClassifier\n",
    "    </h4>\n",
    "</div>"
   ]
  },
  {
   "cell_type": "markdown",
   "id": "a6aa7a52",
   "metadata": {},
   "source": [
    "- create correlated feature groups using the highly_correlated_features dataframe (df_hcf)\n",
    "- only one feature will be selected from each group using RandomForestClassifier\n",
    "- other features in each group will be removed"
   ]
  },
  {
   "cell_type": "code",
   "execution_count": 68,
   "id": "4f27b6d6",
   "metadata": {},
   "outputs": [
    {
     "name": "stdout",
     "output_type": "stream",
     "text": [
      "['NumOfProducts_1', 'IsActiveMember_1', 'HasCrCard_1', 'Gender_Male']\n"
     ]
    }
   ],
   "source": [
    "from sklearn.ensemble import RandomForestClassifier\n",
    "\n",
    "# the list is used to check if each feature is in previous groups\n",
    "grouped_feature_list = []\n",
    "# the items in the list will be removed from the X_train and X_test\n",
    "dropped_feature_list = []\n",
    "\n",
    "for feature in df_hcf['Feature_1'].unique():\n",
    "    if feature not in grouped_feature_list:\n",
    "        # group the highly_correlated_features dataframe (df_hcf)\n",
    "        df_feature = df_hcf[df_hcf['Feature_1'] == feature]        \n",
    "        \n",
    "        correlated_features_list = [feature] + list(df_feature['Feature_2'].unique())\n",
    "        grouped_feature_list = grouped_feature_list + correlated_features_list\n",
    "\n",
    "        rf = RandomForestClassifier(n_estimators=100, random_state=0, n_jobs=-1)\n",
    "        rf.fit(df[correlated_features_list], y)\n",
    "        # create an importance dataframe using the feature_importances_ values\n",
    "        df_importance = pd.concat([pd.Series(correlated_features_list), pd.Series(rf.feature_importances_)], \n",
    "                               axis=1)\n",
    "        df_importance.columns = ['Feature', 'Importance']\n",
    "        df_importance.sort_values(by = 'Importance', ascending=False, inplace=True)\n",
    "        # get the feature names except the one that has the highest improtance from the df_importance\n",
    "        dropped_feature_list = dropped_feature_list + list(df_importance['Feature'][1:].values)\n",
    "    \n",
    "print(dropped_feature_list)  \n"
   ]
  },
  {
   "cell_type": "code",
   "execution_count": 69,
   "id": "b0b97492",
   "metadata": {},
   "outputs": [
    {
     "name": "stdout",
     "output_type": "stream",
     "text": [
      "(7979, 17)\n",
      "(1995, 17)\n"
     ]
    }
   ],
   "source": [
    "# drop the highly correlated features \n",
    "X_train = X_train.drop(dropped_feature_list, axis=1)\n",
    "X_test = X_test.drop(dropped_feature_list, axis=1)\n",
    "\n",
    "print(X_train.shape)\n",
    "print(X_test.shape)"
   ]
  },
  {
   "cell_type": "markdown",
   "id": "0832bf4c",
   "metadata": {},
   "source": [
    "<div class=\"alert alert-block alert-success\">\n",
    "    <h4>\n",
    "        SelectFromModel using Logistic Regression\n",
    "    </h4>\n",
    "</div>"
   ]
  },
  {
   "cell_type": "code",
   "execution_count": 70,
   "id": "01f458f3",
   "metadata": {},
   "outputs": [],
   "source": [
    "from sklearn.model_selection import KFold\n",
    "from sklearn.model_selection import cross_val_score\n",
    "\n",
    "def feature_selection(model, X_train, y_train):\n",
    "    cv = KFold(n_splits=10, random_state=0, shuffle=True)\n",
    "    cvs = cross_val_score(model, X_train, y_train, scoring='accuracy', cv=cv, n_jobs=-1)\n",
    "    acc = cvs.mean()\n",
    "    \n",
    "    return acc"
   ]
  },
  {
   "cell_type": "code",
   "execution_count": 71,
   "id": "b4f359cb",
   "metadata": {
    "scrolled": true
   },
   "outputs": [
    {
     "name": "stdout",
     "output_type": "stream",
     "text": [
      "['Age', 'Geography_Germany', 'Gender_Female', 'NumOfProducts_2', 'NumOfProducts_3', 'IsActiveMember_0']\n",
      "The Accuracy all features: 83.9%\n",
      "The Accuracy selected features with SFM: 83.8%\n"
     ]
    }
   ],
   "source": [
    "from sklearn.feature_selection import SelectFromModel as SFM\n",
    "from sklearn.linear_model import LogisticRegression\n",
    "\n",
    "model = LogisticRegression(n_jobs=-1)\n",
    "sfm = SFM(model).fit(X_train, y_train)\n",
    "cols_SFM = X_train.columns[sfm.get_support()].tolist()\n",
    "print(cols_SFM)\n",
    "\n",
    "acc = feature_selection(model, X_train, y_train)\n",
    "acc_SFM = feature_selection(model, X_train[cols_SFM], y_train)\n",
    "\n",
    "print('The Accuracy all features: {:.1%}'.format(acc))\n",
    "print('The Accuracy selected features with SFM: {:.1%}'.format(acc_SFM))"
   ]
  },
  {
   "cell_type": "markdown",
   "id": "00cd30fd",
   "metadata": {},
   "source": [
    "<div class=\"alert alert-block alert-success\">\n",
    "    <h4>\n",
    "        GenericUnivariateSelect and ANOVA F-value\n",
    "    </h4>\n",
    "</div>"
   ]
  },
  {
   "cell_type": "code",
   "execution_count": 72,
   "id": "5546edcd",
   "metadata": {},
   "outputs": [],
   "source": [
    "from sklearn.feature_selection import SelectFromModel as SFM\n",
    "from sklearn.linear_model import LogisticRegression\n",
    "\n",
    "def best_features (model, X_train, y_train, cols_sel, cols_SFM, acc, acc_SFM):\n",
    "    cols_model_best = []\n",
    "    acc_model_best = 0\n",
    "    for col in cols_sel:\n",
    "        if col not in cols_SFM:\n",
    "            cols_SFM = cols_SFM + [col]\n",
    "            cv = KFold(n_splits=10, random_state=0, shuffle=True)\n",
    "            cvs_model = cross_val_score(model, X_train[cols_SFM], y_train, scoring='accuracy', cv=cv)\n",
    "            acc_model = cvs_model.mean()\n",
    "            if (acc_model > acc_SFM) & (acc_model > acc_model_best):\n",
    "                cols_model_best = cols_SFM\n",
    "                acc_model_best = acc_model\n",
    "                print(cols_model_best)\n",
    "                print('The Accuracy all features: {:.1%}'.format(acc))\n",
    "                print('The Accuracy selected features with SFM: {:.1%}'.format(acc_SFM))\n",
    "                print('The Accuracy selected features with MODEL: {:.1%}'.format(acc_model_best))\n",
    "                print('=====')"
   ]
  },
  {
   "cell_type": "code",
   "execution_count": 73,
   "id": "6de43a07",
   "metadata": {},
   "outputs": [
    {
     "name": "stdout",
     "output_type": "stream",
     "text": [
      "['Age', 'Geography_Germany', 'Gender_Female', 'NumOfProducts_2', 'NumOfProducts_3', 'IsActiveMember_0', 'CreditScore', 'Tenure']\n",
      "The Accuracy all features: 83.9%\n",
      "The Accuracy selected features with SFM: 83.8%\n",
      "The Accuracy selected features with MODEL: 84.0%\n",
      "=====\n",
      "['Age', 'Geography_Germany', 'Gender_Female', 'NumOfProducts_2', 'NumOfProducts_3', 'IsActiveMember_0', 'CreditScore', 'Tenure', 'Balance', 'EstimatedSalary', 'Geography_France', 'Geography_Spain', 'HasCrCard_0']\n",
      "The Accuracy all features: 83.9%\n",
      "The Accuracy selected features with SFM: 83.8%\n",
      "The Accuracy selected features with MODEL: 84.0%\n",
      "=====\n"
     ]
    }
   ],
   "source": [
    "from sklearn.feature_selection import GenericUnivariateSelect as GUS\n",
    "# ANOVA F-value between label/feature for classification tasks.\n",
    "from sklearn.feature_selection import f_classif\n",
    "\n",
    "gus_f = GUS(f_classif, mode='k_best', param=len(X_train.columns)).fit(X_train, y_train)\n",
    "cols_gus_f = X_train.columns[gus_f.get_support()].tolist()\n",
    "\n",
    "best_features(model, X_train, y_train, cols_gus_f, cols_SFM, acc, acc_SFM)"
   ]
  },
  {
   "cell_type": "markdown",
   "id": "4d45c29d",
   "metadata": {},
   "source": [
    "<div class=\"alert alert-block alert-success\">\n",
    "    <h4>\n",
    "        SelectKBest and Mutual Information\n",
    "    </h4>\n",
    "</div>"
   ]
  },
  {
   "cell_type": "code",
   "execution_count": 74,
   "id": "54b06093",
   "metadata": {},
   "outputs": [
    {
     "name": "stdout",
     "output_type": "stream",
     "text": [
      "['Age', 'Geography_Germany', 'Gender_Female', 'NumOfProducts_2', 'NumOfProducts_3', 'IsActiveMember_0', 'CreditScore', 'Tenure']\n",
      "The Accuracy all features: 83.9%\n",
      "The Accuracy selected features with SFM: 83.8%\n",
      "The Accuracy selected features with MODEL: 84.0%\n",
      "=====\n",
      "['Age', 'Geography_Germany', 'Gender_Female', 'NumOfProducts_2', 'NumOfProducts_3', 'IsActiveMember_0', 'CreditScore', 'Tenure', 'Balance', 'EstimatedSalary', 'Geography_France', 'Geography_Spain', 'HasCrCard_0']\n",
      "The Accuracy all features: 83.9%\n",
      "The Accuracy selected features with SFM: 83.8%\n",
      "The Accuracy selected features with MODEL: 84.0%\n",
      "=====\n"
     ]
    }
   ],
   "source": [
    "from sklearn.feature_selection import SelectKBest\n",
    "# Mutual information for a discrete target.\n",
    "from sklearn.feature_selection import mutual_info_classif\n",
    "\n",
    "# select the  top k important features\n",
    "KBest_m = SelectKBest(mutual_info_classif, k=len(X_train.columns)).fit(X_train, y_train)\n",
    "cols_KBest_m = X_train.columns[KBest_m.get_support()].tolist()\n",
    "\n",
    "best_features(model, X_train, y_train, cols_KBest_m, cols_SFM, acc, acc_SFM)"
   ]
  },
  {
   "cell_type": "markdown",
   "id": "ca403936",
   "metadata": {},
   "source": [
    "<div class=\"alert alert-block alert-success\">\n",
    "    <h4>\n",
    "        RFE (Recursive feature elimination)\n",
    "    </h4>\n",
    "</div>"
   ]
  },
  {
   "cell_type": "code",
   "execution_count": 75,
   "id": "9f10b796",
   "metadata": {},
   "outputs": [
    {
     "name": "stdout",
     "output_type": "stream",
     "text": [
      "Index(['Age', 'Geography_France', 'Geography_Germany', 'Geography_Spain',\n",
      "       'Gender_Female', 'NumOfProducts_2', 'NumOfProducts_3', 'HasCrCard_0',\n",
      "       'IsActiveMember_0', 'customerId_category_158'],\n",
      "      dtype='object')\n",
      "The Accuracy all features: 83.9%\n",
      "The Accuracy selected features with SFM: 83.8%\n",
      "The Accuracy selected features with KBest: 83.8%\n",
      "=====\n",
      "Index(['CreditScore', 'Age', 'Balance', 'Geography_France',\n",
      "       'Geography_Germany', 'Geography_Spain', 'Gender_Female',\n",
      "       'NumOfProducts_2', 'NumOfProducts_3', 'HasCrCard_0', 'IsActiveMember_0',\n",
      "       'customerId_category_155', 'customerId_category_158'],\n",
      "      dtype='object')\n",
      "The Accuracy all features: 83.9%\n",
      "The Accuracy selected features with SFM: 83.8%\n",
      "The Accuracy selected features with KBest: 83.9%\n",
      "=====\n",
      "Index(['CreditScore', 'Age', 'Tenure', 'Balance', 'Geography_France',\n",
      "       'Geography_Germany', 'Geography_Spain', 'Gender_Female',\n",
      "       'NumOfProducts_2', 'NumOfProducts_3', 'HasCrCard_0', 'IsActiveMember_0',\n",
      "       'customerId_category_155', 'customerId_category_156',\n",
      "       'customerId_category_158'],\n",
      "      dtype='object')\n",
      "The Accuracy all features: 83.9%\n",
      "The Accuracy selected features with SFM: 83.8%\n",
      "The Accuracy selected features with KBest: 83.9%\n",
      "=====\n"
     ]
    }
   ],
   "source": [
    "from sklearn.feature_selection import RFE\n",
    "\n",
    "new_cols_RFE = cols_SFM.copy()\n",
    "acc_RFE_best = 0\n",
    "new_cols_RFE_best = []\n",
    "\n",
    "for i in range(10, len(X_train.columns)+1):\n",
    "    selector = RFE(estimator=model, n_features_to_select=i).fit(X_train, y_train)\n",
    "    new_cols_RFE = X_train.columns[selector.get_support()]\n",
    "    \n",
    "    cv = KFold(n_splits=10, random_state=0, shuffle=True)\n",
    "    cvs_RFE = cross_val_score(model, X_train[new_cols_RFE], y_train, scoring='accuracy', cv=cv)\n",
    "    acc_RFE = cvs_RFE.mean()\n",
    "    \n",
    "    if acc_RFE > acc_RFE_best:\n",
    "        acc_RFE_best = acc_RFE\n",
    "        new_cols_RFE_best = new_cols_RFE\n",
    "        \n",
    "        print(new_cols_RFE_best)\n",
    "        print('The Accuracy all features: {:.1%}'.format(acc))\n",
    "        print('The Accuracy selected features with SFM: {:.1%}'.format(acc_SFM))\n",
    "        print('The Accuracy selected features with KBest: {:.1%}'.format(acc_RFE_best))\n",
    "        print('=====')"
   ]
  },
  {
   "cell_type": "markdown",
   "id": "557bda7f",
   "metadata": {},
   "source": [
    "<a id='3.4'></a>\n",
    "<div class=\"alert alert-block alert-info\">\n",
    "   <h3>\n",
    "        Correlation of the features\n",
    "   </h3>\n",
    "</div>"
   ]
  },
  {
   "cell_type": "code",
   "execution_count": 76,
   "id": "1e4a3e10",
   "metadata": {},
   "outputs": [
    {
     "name": "stdout",
     "output_type": "stream",
     "text": [
      "(7979, 13)\n",
      "(1995, 13)\n"
     ]
    }
   ],
   "source": [
    "selected_features = ['Age', 'Geography_Germany', 'Gender_Female', 'NumOfProducts_2', 'NumOfProducts_3', \n",
    "                     'IsActiveMember_0', 'CreditScore', 'Tenure', 'Balance', 'EstimatedSalary', \n",
    "                     'Geography_France', 'Geography_Spain', 'HasCrCard_0']\n",
    "X_train = X_train[selected_features]\n",
    "X_test = X_test[selected_features]\n",
    "\n",
    "print(X_train.shape)\n",
    "print(X_test.shape)"
   ]
  },
  {
   "cell_type": "code",
   "execution_count": 77,
   "id": "cef9c3cf",
   "metadata": {},
   "outputs": [],
   "source": [
    "def create_heatmap(hm, figsize=(16, 8)):\n",
    "    fig, ax = plt.subplots(figsize=figsize)\n",
    "\n",
    "    im = ax.imshow(hm, cmap='viridis', aspect='auto')\n",
    "\n",
    "    # Create colorbar\n",
    "    cbar = ax.figure.colorbar(im, ax=ax)\n",
    "\n",
    "    # We want to show all ticks...\n",
    "    ax.set_xticks(np.arange(len(hm.columns)))\n",
    "    ax.set_yticks(np.arange(len(hm.columns)))\n",
    "    # ... and label them with the respective list entries\n",
    "    ax.set_xticklabels(hm.columns)\n",
    "    ax.set_yticklabels(hm.columns)\n",
    "\n",
    "    # Turn spines off and create white grid.\n",
    "    ax.spines[:].set_visible(False)\n",
    "    ax.set_xticks(np.arange(hm.shape[1]+1)-.5, minor=True)\n",
    "    ax.set_yticks(np.arange(hm.shape[0]+1)-.5, minor=True)\n",
    "    ax.grid(which=\"minor\", color=\"w\", linestyle='-', linewidth=3)\n",
    "    ax.tick_params(which=\"minor\", bottom=False, left=False)\n",
    "\n",
    "    # Rotate the tick labels and set their alignment.\n",
    "    plt.setp(ax.get_xticklabels(), rotation=45, ha=\"right\",\n",
    "             rotation_mode=\"anchor\")\n",
    "\n",
    "    # Loop over data dimensions and create text annotations.\n",
    "    for i in range(len(hm.columns)):\n",
    "        for j in range(len(hm.columns)):\n",
    "            hm_val = round(hm.values[i, j], 2)\n",
    "            if hm_val > 0.85:\n",
    "                text = ax.text(j, i, hm_val,\n",
    "                               ha=\"center\", va=\"center\", color=\"black\", size=16)\n",
    "            else:\n",
    "                text = ax.text(j, i, hm_val,\n",
    "                               ha=\"center\", va=\"center\", color=\"w\", size=16)\n",
    "\n",
    "    fig.tight_layout()\n",
    "    plt.show()"
   ]
  },
  {
   "cell_type": "code",
   "execution_count": 78,
   "id": "1cb843d6",
   "metadata": {},
   "outputs": [
    {
     "data": {
      "image/png": "[encoded data removed]",
      "text/plain": [
       "<Figure size 1152x576 with 2 Axes>"
      ]
     },
     "metadata": {
      "needs_background": "light"
     },
     "output_type": "display_data"
    }
   ],
   "source": [
    "hm_train_new = pd.concat([X_train, y_train], axis=1).corr()\n",
    "create_heatmap(hm_train_new)"
   ]
  },
  {
   "cell_type": "markdown",
   "id": "f641d386",
   "metadata": {},
   "source": [
    "<a id='4.0'></a>\n",
    "<div class=\"alert alert-block alert-danger\">\n",
    "<h2>Machine Learning Algorithms and Results</h2>\n",
    "</div>"
   ]
  },
  {
   "cell_type": "code",
   "execution_count": 88,
   "id": "6addab1d",
   "metadata": {},
   "outputs": [],
   "source": [
    "from sklearn.metrics import (accuracy_score, roc_auc_score, precision_score, recall_score, f1_score)\n",
    "from sklearn.model_selection import KFold\n",
    "from sklearn.model_selection import cross_val_score\n",
    "\n",
    "def evaluate_model(model, X_train, y_train, X_test, y_test):\n",
    "    model.fit(X_train, y_train)\n",
    "    y_pred = model.predict(X_test)\n",
    "    \n",
    "    accuracy = round(accuracy_score(y_test, y_pred)*100, 2)\n",
    "    # We will run the model with 10 different sets and we will get 10 results\n",
    "    cv = KFold(n_splits=10, random_state=0, shuffle=True)\n",
    "    # Applying Cross Validation to solve possible overfitting problem\n",
    "    accuracy_scores = cross_val_score(model, X_train, y_train, scoring='accuracy', cv=cv, n_jobs=-1)\n",
    "    kFold_accuracy_mean = round(accuracy_scores.mean()*100, 2)\n",
    "    kFold_accuracy_std = round(accuracy_scores.std()*100, 2)\n",
    "    \n",
    "    roc = round(roc_auc_score(y_test, y_pred)*100, 2)\n",
    "    precision = round(precision_score(y_test, y_pred)*100, 2)\n",
    "    recall = round(recall_score(y_test, y_pred)*100, 2)\n",
    "    f1 = round(f1_score(y_test, y_pred)*100, 2)\n",
    "    \n",
    "    print('Accuracy: {}%'.format(accuracy))\n",
    "    print('KFold Accuracy Mean: {}%'.format(kFold_accuracy_mean))\n",
    "    print('Standard Deviation: {:.3}'.format(kFold_accuracy_std))\n",
    "    \n",
    "    print('ROC Score: {}%'.format(roc))\n",
    "    print('Precision: {}%'.format(precision))\n",
    "    print('Recall: {}%'.format(recall))\n",
    "    print('F1 Score: {}%'.format(f1))\n",
    "\n",
    "    return accuracy, kFold_accuracy_mean, kFold_accuracy_std, roc, precision, recall, f1"
   ]
  },
  {
   "cell_type": "markdown",
   "id": "d99b3427",
   "metadata": {},
   "source": [
    "<a id='4.1'></a>\n",
    "<div class=\"alert alert-block alert-info\">\n",
    "   <h3>\n",
    "        Overcoming Class Imbalance using SMOTE\n",
    "   </h3>\n",
    "</div>"
   ]
  },
  {
   "cell_type": "code",
   "execution_count": 79,
   "id": "cd3d4fbb",
   "metadata": {
    "scrolled": true
   },
   "outputs": [
    {
     "data": {
      "image/png": "[encoded data removed]",
      "text/plain": [
       "<Figure size 864x144 with 1 Axes>"
      ]
     },
     "metadata": {
      "needs_background": "light"
     },
     "output_type": "display_data"
    }
   ],
   "source": [
    "fig, ax = plt.subplots(figsize = (12, 2))\n",
    "# Horizontal bar chart\n",
    "ax.barh(y.value_counts().index, y.value_counts().values, align='center', color=['red', 'green'])\n",
    "ax.text(y.value_counts().values[0]-500, 0, y.value_counts()[0], ha='center', va='center', color='w', size=20)\n",
    "ax.text(y.value_counts().values[1]-500, 1, y.value_counts()[1], ha='center', va='center', color='w', size=20)\n",
    "ax.set_yticks(y.unique())\n",
    "ax.set_ylabel('Exited')\n",
    "ax.set_title('How many customers left the bank?')\n",
    "\n",
    "plt.show()"
   ]
  },
  {
   "cell_type": "markdown",
   "id": "346cb3a6",
   "metadata": {},
   "source": [
    "- It is an imbalanced data where the target variable, churn has 79.7% customers not churning and 20.3% customers who have churned\n",
    "- SMOTE: Synthetic Minority Oversampling Technique will be used for creating synthesized data\n",
    "- A comparative analysis will be done on the dataset using RandomForestClassifier\n",
    "- The accuracy metric will be ignored to evaluate the performance of the classifier on this imbalanced dataset\n",
    "- Precision, recall, F1-score metrics will be taken into account "
   ]
  },
  {
   "cell_type": "markdown",
   "id": "237fc387",
   "metadata": {},
   "source": [
    "<div class=\"alert alert-block alert-success\">\n",
    "    <h4>\n",
    "        SMOTE: Synthetic Minority Oversampling Technique\n",
    "    </h4>\n",
    "</div>"
   ]
  },
  {
   "cell_type": "code",
   "execution_count": 80,
   "id": "90d24957",
   "metadata": {},
   "outputs": [],
   "source": [
    "from imblearn.over_sampling import SMOTE\n",
    "\n",
    "smote = SMOTE(sampling_strategy='minority')\n",
    "X_sm, y_sm = smote.fit_resample(X, y)"
   ]
  },
  {
   "cell_type": "markdown",
   "id": "cac98e24",
   "metadata": {},
   "source": [
    "- SMOTE works by selecting examples that are close in the feature space, drawing a line between the examples in the feature space and drawing a new sample at a point along that line.\n",
    "- Specifically, a random example from the minority class is first chosen. Then k of the nearest neighbors for that example are found (typically k=5). A randomly selected neighbor is chosen and a synthetic example is created at a randomly selected point between the two examples in feature space."
   ]
  },
  {
   "cell_type": "markdown",
   "id": "e3b86fb4",
   "metadata": {},
   "source": [
    "<img src=\"https://editor.analyticsvidhya.com/uploads/64068image3.png\" style=\"height:250px\">"
   ]
  },
  {
   "cell_type": "code",
   "execution_count": 85,
   "id": "3166a9e2",
   "metadata": {},
   "outputs": [
    {
     "data": {
      "text/plain": [
       "0    7952\n",
       "1    2022\n",
       "Name: Exited, dtype: int64"
      ]
     },
     "execution_count": 85,
     "metadata": {},
     "output_type": "execute_result"
    }
   ],
   "source": [
    "y.value_counts()"
   ]
  },
  {
   "cell_type": "code",
   "execution_count": 84,
   "id": "1e73dc15",
   "metadata": {},
   "outputs": [
    {
     "data": {
      "text/plain": [
       "1    7952\n",
       "0    7952\n",
       "Name: Exited, dtype: int64"
      ]
     },
     "execution_count": 84,
     "metadata": {},
     "output_type": "execute_result"
    }
   ],
   "source": [
    "y_sm.value_counts()"
   ]
  },
  {
   "cell_type": "code",
   "execution_count": 93,
   "id": "fab57d6c",
   "metadata": {},
   "outputs": [],
   "source": [
    "from sklearn.model_selection import train_test_split\n",
    "from sklearn.ensemble import RandomForestClassifier\n",
    "\n",
    "X_train_sm, X_test_sm, y_train_sm, y_test_sm = train_test_split(X_sm, y_sm, test_size=0.2, random_state=15, \n",
    "                                                                stratify=y_sm)\n",
    "\n",
    "rf = RandomForestClassifier(n_estimators=100, random_state=0, n_jobs=-1)"
   ]
  },
  {
   "cell_type": "markdown",
   "id": "8a349980",
   "metadata": {},
   "source": [
    "<div class=\"alert alert-block alert-warning\">\n",
    "        Before\n",
    "</div>"
   ]
  },
  {
   "cell_type": "code",
   "execution_count": 94,
   "id": "4296f8ab",
   "metadata": {
    "scrolled": false
   },
   "outputs": [
    {
     "name": "stdout",
     "output_type": "stream",
     "text": [
      "Accuracy: 84.71%\n",
      "KFold Accuracy Mean: 86.26%\n",
      "Standard Deviation: 1.19\n",
      "ROC Score: 69.98%\n",
      "Precision: 76.1%\n",
      "Recall: 43.81%\n",
      "F1 Score: 55.6%\n"
     ]
    },
    {
     "data": {
      "text/plain": [
       "(84.71, 86.26, 1.19, 69.98, 76.1, 43.81, 55.6)"
      ]
     },
     "execution_count": 94,
     "metadata": {},
     "output_type": "execute_result"
    }
   ],
   "source": [
    "evaluate_model(rf, X_train, y_train, X_test, y_test)"
   ]
  },
  {
   "cell_type": "markdown",
   "id": "09d9e1d8",
   "metadata": {},
   "source": [
    "<div class=\"alert alert-block alert-warning\">\n",
    "        After\n",
    "</div>"
   ]
  },
  {
   "cell_type": "code",
   "execution_count": 95,
   "id": "2ba7a401",
   "metadata": {
    "scrolled": true
   },
   "outputs": [
    {
     "name": "stdout",
     "output_type": "stream",
     "text": [
      "Accuracy: 90.63%\n",
      "KFold Accuracy Mean: 90.48%\n",
      "Standard Deviation: 0.58\n",
      "ROC Score: 90.63%\n",
      "Precision: 90.73%\n",
      "Recall: 90.5%\n",
      "F1 Score: 90.62%\n"
     ]
    },
    {
     "data": {
      "text/plain": [
       "(90.63, 90.48, 0.58, 90.63, 90.73, 90.5, 90.62)"
      ]
     },
     "execution_count": 95,
     "metadata": {},
     "output_type": "execute_result"
    }
   ],
   "source": [
    "evaluate_model(rf, X_train_sm, y_train_sm, X_test_sm, y_test_sm)"
   ]
  },
  {
   "cell_type": "markdown",
   "id": "4867f1f7",
   "metadata": {},
   "source": [
    "- There is an increase in all metrics, especially in Recall"
   ]
  },
  {
   "cell_type": "markdown",
   "id": "562cbd5c",
   "metadata": {},
   "source": [
    "<a id='4.1'></a>\n",
    "<div class=\"alert alert-block alert-info\">\n",
    "   <h3>\n",
    "        Building ML models\n",
    "   </h3>\n",
    "</div>"
   ]
  },
  {
   "cell_type": "code",
   "execution_count": 99,
   "id": "76b2251a",
   "metadata": {},
   "outputs": [],
   "source": [
    "model_results = {}"
   ]
  },
  {
   "cell_type": "code",
   "execution_count": 96,
   "id": "eb1920fd",
   "metadata": {},
   "outputs": [],
   "source": [
    "X_train, X_test, y_train, y_test = train_test_split(X_sm, y_sm, test_size=0.2, random_state=15, \n",
    "                                                                stratify=y_sm)"
   ]
  },
  {
   "cell_type": "markdown",
   "id": "d983dc8e",
   "metadata": {},
   "source": [
    "<div class=\"alert alert-block alert-success\">\n",
    "    <h4>\n",
    "        Logistic\n",
    "    </h4>\n",
    "</div>"
   ]
  },
  {
   "cell_type": "markdown",
   "id": "aae8c667",
   "metadata": {},
   "source": [
    "<img src=\"https://static.javatpoint.com/tutorial/machine-learning/images/logistic-regression-in-machine-learning.png\" style=\"height:150px\">"
   ]
  },
  {
   "cell_type": "code",
   "execution_count": 97,
   "id": "98a143e7",
   "metadata": {},
   "outputs": [],
   "source": [
    "from sklearn.model_selection import GridSearchCV\n",
    "from sklearn.linear_model import LogisticRegression\n",
    "\n",
    "log = LogisticRegression(penalty='none', max_iter=50, multi_class='auto')\n",
    "# params = {\n",
    "#     'penalty': ['l1', 'l2', 'elasticnet', 'none'],\n",
    "#     'C': [i for i in np.arange(0, 20, 1)],\n",
    "#     'solver': ['newton-cg', 'lbfgs', 'liblinear', 'sag', 'saga'],\n",
    "#     'max_iter': [50, 75, 100, 150, 200],\n",
    "#     'multi_class': ['auto', 'ovr', 'multinomial'],\n",
    "#          }\n",
    "# clf_log = GridSearchCV(estimator=log, cv=10, scoring='accuracy', param_grid=params, \n",
    "#                        n_jobs=-1).fit(X_train, y_train)\n",
    "# print('best prarams:', clf_log.best_params_)\n",
    "# acc_log = clf_log.best_score_\n",
    "# print('The Accuracy  on the training dataset is: {:.1%}'.format(acc_log))"
   ]
  },
  {
   "cell_type": "code",
   "execution_count": 100,
   "id": "e4967393",
   "metadata": {},
   "outputs": [
    {
     "name": "stdout",
     "output_type": "stream",
     "text": [
      "Accuracy: 86.42%\n",
      "KFold Accuracy Mean: 85.91%\n",
      "Standard Deviation: 0.63\n",
      "ROC Score: 86.42%\n",
      "Precision: 89.07%\n",
      "Recall: 83.02%\n",
      "F1 Score: 85.94%\n",
      "===\n",
      "CPU times: user 433 ms, sys: 388 ms, total: 822 ms\n",
      "Wall time: 322 ms\n"
     ]
    }
   ],
   "source": [
    "%%time\n",
    "(accuracy, kFold_accuracy_mean, kFold_accuracy_std, roc, precision, recall, \n",
    " f1) = evaluate_model(log, X_train, y_train, X_test, y_test)\n",
    "model_results['log'] = [accuracy, kFold_accuracy_mean, kFold_accuracy_std, roc, precision, recall, f1]\n",
    "print('===')"
   ]
  },
  {
   "cell_type": "markdown",
   "id": "ad3a8233",
   "metadata": {},
   "source": [
    "<div class=\"alert alert-block alert-success\">\n",
    "    <h4>\n",
    "        Random Forest\n",
    "    </h4>\n",
    "</div>"
   ]
  },
  {
   "cell_type": "markdown",
   "id": "8a811ce8",
   "metadata": {},
   "source": [
    "<img src=\"https://406167-1278791-raikfcquaxqncofqfm.stackpathdns.com/wp-content/uploads/2021/02/Random-Forest-Algorithm-1024x576.jpg\" style=\"height:250px\">"
   ]
  },
  {
   "cell_type": "code",
   "execution_count": 127,
   "id": "733fd2e7",
   "metadata": {},
   "outputs": [],
   "source": [
    "from sklearn.model_selection import GridSearchCV\n",
    "from sklearn.ensemble import RandomForestClassifier\n",
    "\n",
    "rf = RandomForestClassifier(n_estimators=125, criterion='gini', max_depth=15, \n",
    "                            min_samples_split=10, min_samples_leaf=1)\n",
    "\n",
    "# params = {\n",
    "#     'n_estimators': [50, 100, 125, 150, 200],\n",
    "#     'criterion': ['gini', 'entropy'],\n",
    "#     'max_depth': [5, 10, 15, 20, 25, 30],\n",
    "#     'min_samples_split': [5, 10, 15, 20, 25, 30],\n",
    "#     'min_samples_leaf': [1, 3, 5, 10, 15, 20, 25, 30],\n",
    "#          }\n",
    "# clf_rf = GridSearchCV(estimator=rf, cv=10, scoring='accuracy', param_grid=params, n_jobs=-1).fit(X_train, y_train)\n",
    "# print('best prarams:', clf_rf.best_params_)\n",
    "# acc_rf = clf_rf.best_score_\n",
    "# print('The Accuracy  on the training dataset is: {:.1%}'.format(acc_rf))"
   ]
  },
  {
   "cell_type": "code",
   "execution_count": 128,
   "id": "f1385622",
   "metadata": {},
   "outputs": [
    {
     "name": "stdout",
     "output_type": "stream",
     "text": [
      "Accuracy: 89.72%\n",
      "KFold Accuracy Mean: 88.84%\n",
      "Standard Deviation: 0.69\n",
      "ROC Score: 89.72%\n",
      "Precision: 89.99%\n",
      "Recall: 89.37%\n",
      "F1 Score: 89.68%\n",
      "===\n",
      "CPU times: user 961 ms, sys: 55.3 ms, total: 1.02 s\n",
      "Wall time: 4.25 s\n"
     ]
    }
   ],
   "source": [
    "%%time\n",
    "(accuracy, kFold_accuracy_mean, kFold_accuracy_std, roc, precision, recall, \n",
    " f1) = evaluate_model(rf, X_train, y_train, X_test, y_test)\n",
    "model_results['rf'] = [accuracy, kFold_accuracy_mean, kFold_accuracy_std, roc, precision, recall, f1]\n",
    "print('===')\n",
    "# print(model_results)"
   ]
  },
  {
   "cell_type": "markdown",
   "id": "32c3436b",
   "metadata": {},
   "source": [
    "<div class=\"alert alert-block alert-success\">\n",
    "    <h4>\n",
    "        Naive Bayes\n",
    "    </h4>\n",
    "</div>"
   ]
  },
  {
   "cell_type": "markdown",
   "id": "4dbf1466",
   "metadata": {},
   "source": [
    "<img src=\"https://www.researchgate.net/profile/Paolo-Dellaversana/publication/328020065/figure/fig5/AS:677213301121033@1538471641906/Naive-Bayes-classification-of-three-different-rock-types-based-on-nine-mineralogical.png\" style=\"height:200px\">"
   ]
  },
  {
   "cell_type": "code",
   "execution_count": 103,
   "id": "8357b28f",
   "metadata": {},
   "outputs": [
    {
     "name": "stdout",
     "output_type": "stream",
     "text": [
      "CPU times: user 2.36 ms, sys: 2.85 ms, total: 5.21 ms\n",
      "Wall time: 3.98 ms\n"
     ]
    }
   ],
   "source": [
    "%%time\n",
    "from sklearn.model_selection import GridSearchCV\n",
    "from sklearn.naive_bayes import BernoulliNB\n",
    "\n",
    "bNB = BernoulliNB(alpha=0.5, binarize=0.5, fit_prior=True)\n",
    "\n",
    "# params = {\n",
    "#     'alpha': [0.5, 1.0, 1.5, 2.0, 2.5],\n",
    "#     'binarize': [0.0, 0.5, 1.0, 1.5, 2.0, 2.5],\n",
    "#     'fit_prior': [False, True],\n",
    "#          }\n",
    "# clf_bNB = GridSearchCV(estimator=bNB, cv=10, scoring='accuracy', param_grid=params, \n",
    "# n_jobs=-1).fit(X_train, y_train)\n",
    "# print('best prarams:', clf_bNB.best_params_)\n",
    "# acc_bNB = clf_bNB.best_score_\n",
    "# print('The Accuracy  on the training dataset is: {:.1%}'.format(acc_bNB))"
   ]
  },
  {
   "cell_type": "code",
   "execution_count": 104,
   "id": "66f6d516",
   "metadata": {},
   "outputs": [
    {
     "name": "stdout",
     "output_type": "stream",
     "text": [
      "Accuracy: 76.74%\n",
      "KFold Accuracy Mean: 76.44%\n",
      "Standard Deviation: 0.94\n",
      "ROC Score: 76.74%\n",
      "Precision: 75.3%\n",
      "Recall: 79.56%\n",
      "F1 Score: 77.37%\n",
      "===\n",
      "CPU times: user 525 ms, sys: 402 ms, total: 927 ms\n",
      "Wall time: 230 ms\n"
     ]
    }
   ],
   "source": [
    "%%time\n",
    "(accuracy, kFold_accuracy_mean, kFold_accuracy_std, roc, precision, recall, \n",
    " f1) = evaluate_model(bNB, X_train, y_train, X_test, y_test)\n",
    "model_results['bNB'] = [accuracy, kFold_accuracy_mean, kFold_accuracy_std, roc, precision, recall, f1]\n",
    "print('===')\n",
    "# print(model_results)"
   ]
  },
  {
   "cell_type": "markdown",
   "id": "ec9b18ef",
   "metadata": {},
   "source": [
    "<div class=\"alert alert-block alert-success\">\n",
    "    <h4>\n",
    "        SVM\n",
    "    </h4>\n",
    "</div>"
   ]
  },
  {
   "cell_type": "markdown",
   "id": "e9838ca2",
   "metadata": {},
   "source": [
    "<img src=\"https://miro.medium.com/max/410/1*MHtUN-DgYPZWPe2dU5G6Lg.png\" style=\"height:200px\">"
   ]
  },
  {
   "cell_type": "code",
   "execution_count": 105,
   "id": "6d6418f8",
   "metadata": {},
   "outputs": [
    {
     "name": "stdout",
     "output_type": "stream",
     "text": [
      "CPU times: user 80 µs, sys: 40 µs, total: 120 µs\n",
      "Wall time: 126 µs\n"
     ]
    }
   ],
   "source": [
    "%%time\n",
    "from sklearn.model_selection import GridSearchCV\n",
    "from sklearn.svm import SVC\n",
    "\n",
    "svm = SVC(C=2.5, kernel='rbf', degree=0.1, probability=True)\n",
    "\n",
    "# params = {\n",
    "# #     'C': [0.1, 0.3, 0.5, 1.0, 1.5, 2.0, 2.5],\n",
    "# #     'kernel': ['linear', 'poly', 'rbf', 'sigmoid'],\n",
    "#     'degree': [0.1, 0.5, 1, 2, 3, 4, 5, 6],\n",
    "#          }\n",
    "# clf_svm = GridSearchCV(estimator=svm, cv=10, scoring='accuracy', param_grid=params, \n",
    "# n_jobs=-1).fit(X_train, y_train)\n",
    "# print('best prarams:', clf_svm.best_params_)\n",
    "# acc_svm = clf_svm.best_score_\n",
    "# print('The Accuracy  on the training dataset is: {:.1%}'.format(acc_svm))"
   ]
  },
  {
   "cell_type": "code",
   "execution_count": 106,
   "id": "1295952c",
   "metadata": {},
   "outputs": [
    {
     "name": "stdout",
     "output_type": "stream",
     "text": [
      "Accuracy: 87.93%\n",
      "KFold Accuracy Mean: 87.61%\n",
      "Standard Deviation: 0.76\n",
      "ROC Score: 87.93%\n",
      "Precision: 91.53%\n",
      "Recall: 83.58%\n",
      "F1 Score: 87.38%\n",
      "===\n",
      "CPU times: user 10.2 s, sys: 228 ms, total: 10.5 s\n",
      "Wall time: 36.5 s\n"
     ]
    }
   ],
   "source": [
    "%%time\n",
    "(accuracy, kFold_accuracy_mean, kFold_accuracy_std, roc, precision, recall, \n",
    " f1) = evaluate_model(svm, X_train, y_train, X_test, y_test)\n",
    "model_results['svm'] = [accuracy, kFold_accuracy_mean, kFold_accuracy_std, roc, precision, recall, f1]\n",
    "print('===')\n",
    "# print(model_results)"
   ]
  },
  {
   "cell_type": "markdown",
   "id": "91331fe8",
   "metadata": {},
   "source": [
    "<div class=\"alert alert-block alert-success\">\n",
    "    <h4>\n",
    "        k-Nearest Neighbours\n",
    "    </h4>\n",
    "</div>"
   ]
  },
  {
   "cell_type": "markdown",
   "id": "8de5ab79",
   "metadata": {},
   "source": [
    "<img src=\"https://www.kdnuggets.com/wp-content/uploads/rapidminer-knn-image1.jpg\" style=\"height:200px\">"
   ]
  },
  {
   "cell_type": "code",
   "execution_count": 107,
   "id": "9312294c",
   "metadata": {},
   "outputs": [
    {
     "data": {
      "image/png": "[encoded data removed]",
      "text/plain": [
       "<Figure size 576x288 with 1 Axes>"
      ]
     },
     "metadata": {
      "needs_background": "light"
     },
     "output_type": "display_data"
    }
   ],
   "source": [
    "from sklearn.neighbors import KNeighborsClassifier\n",
    "from sklearn.model_selection import cross_val_score\n",
    "\n",
    "acc_list = []\n",
    "for k in range(1,40):\n",
    "    knn = KNeighborsClassifier(n_neighbors=k)\n",
    "    knn.fit(X_train, y_train)\n",
    "    cv = KFold(n_splits=10, random_state=0, shuffle=True)\n",
    "    accuracy_scores = cross_val_score(knn, X_train, y_train, scoring='accuracy', cv=cv, n_jobs=-1)\n",
    "    acc_knn = round(accuracy_scores.mean()*100, 2)\n",
    "#     acc_knn = evaluate_model(knn, X_train, y_train)\n",
    "    acc_list.append(acc_knn)\n",
    "    \n",
    "plt.figure(figsize=(8,4))\n",
    "plt.plot(range(1,40),acc_list,color='blue', linestyle='dashed', marker='o',\n",
    "         markerfacecolor='red', markersize=10)\n",
    "plt.title('Accuracy vs. K Value')\n",
    "plt.xlabel('K')\n",
    "plt.ylabel('Accuracy')\n",
    "plt.show()"
   ]
  },
  {
   "cell_type": "code",
   "execution_count": 108,
   "id": "a48b43d2",
   "metadata": {},
   "outputs": [
    {
     "name": "stdout",
     "output_type": "stream",
     "text": [
      "2\n"
     ]
    }
   ],
   "source": [
    "k_max_list = [i for i in acc_list]\n",
    "k_max = acc_list.index(max(k_max_list))+1\n",
    "print(k_max)"
   ]
  },
  {
   "cell_type": "code",
   "execution_count": 109,
   "id": "6dc1820a",
   "metadata": {},
   "outputs": [
    {
     "name": "stdout",
     "output_type": "stream",
     "text": [
      "CPU times: user 19 µs, sys: 175 µs, total: 194 µs\n",
      "Wall time: 196 µs\n"
     ]
    }
   ],
   "source": [
    "%%time\n",
    "from sklearn.model_selection import GridSearchCV\n",
    "from sklearn.neighbors import KNeighborsClassifier\n",
    "\n",
    "knn = KNeighborsClassifier(algorithm='auto', leaf_size=5, weights='uniform', p=2)\n",
    "\n",
    "# params = {\n",
    "#     'algorithm': ['auto', 'ball_tree', 'kd_tree', 'brute'],\n",
    "# #     'leaf_size': [5, 10, 15, 20, 25, 30, 35],\n",
    "# #     'weights': ['uniform', 'distance'],\n",
    "# #     'p': [1, 2, 3, 4, 5, 6],\n",
    "#          }\n",
    "# clf_knn = GridSearchCV(estimator=knn, cv=10, scoring='accuracy', param_grid=params, \n",
    "# n_jobs=-1).fit(X_train, y_train)\n",
    "# print('best prarams:', clf_knn.best_params_)\n",
    "# acc_knn = clf_knn.best_score_\n",
    "# print('The Accuracy  on the training dataset is: {:.1%}'.format(acc_knn))"
   ]
  },
  {
   "cell_type": "code",
   "execution_count": 110,
   "id": "442858fc",
   "metadata": {},
   "outputs": [
    {
     "name": "stdout",
     "output_type": "stream",
     "text": [
      "Accuracy: 87.9%\n",
      "KFold Accuracy Mean: 86.91%\n",
      "Standard Deviation: 0.83\n",
      "ROC Score: 87.9%\n",
      "Precision: 82.76%\n",
      "Recall: 95.72%\n",
      "F1 Score: 88.77%\n",
      "===\n",
      "CPU times: user 1.14 s, sys: 656 ms, total: 1.8 s\n",
      "Wall time: 1.42 s\n"
     ]
    }
   ],
   "source": [
    "%%time\n",
    "(accuracy, kFold_accuracy_mean, kFold_accuracy_std, roc, precision, recall, \n",
    " f1) = evaluate_model(knn, X_train, y_train, X_test, y_test)\n",
    "model_results['knn'] = [accuracy, kFold_accuracy_mean, kFold_accuracy_std, roc, precision, recall, f1]\n",
    "print('===')\n",
    "# print(model_results)"
   ]
  },
  {
   "cell_type": "markdown",
   "id": "832505de",
   "metadata": {},
   "source": [
    "<div class=\"alert alert-block alert-success\">\n",
    "    <h4>\n",
    "        Stochastic Gradient Descent\n",
    "    </h4>\n",
    "</div>"
   ]
  },
  {
   "cell_type": "markdown",
   "id": "0735e6d2",
   "metadata": {},
   "source": [
    "<img src=\"https://miro.medium.com/max/1005/1*f0CuPDSWFUr9XGESWQ4JUA.png\" style=\"height:200px\">"
   ]
  },
  {
   "cell_type": "code",
   "execution_count": 111,
   "id": "8d4720bb",
   "metadata": {},
   "outputs": [
    {
     "name": "stdout",
     "output_type": "stream",
     "text": [
      "CPU times: user 37 µs, sys: 78 µs, total: 115 µs\n",
      "Wall time: 117 µs\n"
     ]
    }
   ],
   "source": [
    "%%time\n",
    "from sklearn.model_selection import GridSearchCV\n",
    "from sklearn.linear_model import SGDClassifier\n",
    "\n",
    "sgdc = SGDClassifier(loss='log', penalty='l1', alpha=0.0002, learning_rate='adaptive', \n",
    "                     eta0=0.03, power_t=0.7, validation_fraction=0.07, n_iter_no_change=1)\n",
    "\n",
    "# params = {\n",
    "# #     'loss': ['hinge', 'log', 'modified_huber', 'squared_hinge', 'perceptron', \n",
    "# #              'squared_loss', 'huber', 'epsilon_insensitive', 'squared_epsilon_insensitive'],\n",
    "# #     'penalty': ['l1', 'l2', 'elasticnet'],\n",
    "# #     'alpha': [i for i in np.arange(0.0001, 0.001, 1/10000)],\n",
    "# #     'learning_rate': ['constant', 'optimal', 'invscaling', 'adaptive'],\n",
    "# #     'eta0': [0.01, 0.03, 0.05, 0.07],\n",
    "# #     'power_t': [0.01, 0.03, 0.05, 0.07, 0.1, 0.2, 0.3],\n",
    "# #     'validation_fraction': [0.01, 0.03, 0.05, 0.07, 0.1, 0.2],\n",
    "# #     'n_iter_no_change': [1, 3, 5, 7, 9, 11],\n",
    "#          }\n",
    "# clf_sgdc = GridSearchCV(estimator=sgdc, cv=10, scoring='accuracy', param_grid=params, \n",
    "# n_jobs=-1).fit(X_train, y_train)\n",
    "# print('best prarams:', clf_sgdc.best_params_)\n",
    "# acc_sgdc = clf_sgdc.best_score_\n",
    "# print('The Accuracy  on the training dataset is: {:.1%}'.format(acc_sgdc))"
   ]
  },
  {
   "cell_type": "code",
   "execution_count": 112,
   "id": "1c977209",
   "metadata": {},
   "outputs": [
    {
     "name": "stdout",
     "output_type": "stream",
     "text": [
      "Accuracy: 85.98%\n",
      "KFold Accuracy Mean: 85.84%\n",
      "Standard Deviation: 0.76\n",
      "ROC Score: 85.98%\n",
      "Precision: 87.88%\n",
      "Recall: 83.46%\n",
      "F1 Score: 85.61%\n",
      "===\n",
      "CPU times: user 181 ms, sys: 160 ms, total: 341 ms\n",
      "Wall time: 347 ms\n"
     ]
    }
   ],
   "source": [
    "%%time\n",
    "(accuracy, kFold_accuracy_mean, kFold_accuracy_std, roc, precision, recall, \n",
    " f1) = evaluate_model(sgdc, X_train, y_train, X_test, y_test)\n",
    "model_results['sgdc'] = [accuracy, kFold_accuracy_mean, kFold_accuracy_std, roc, precision, recall, f1]\n",
    "print('===')\n",
    "# print(model_results)"
   ]
  },
  {
   "cell_type": "markdown",
   "id": "b9b16ee0",
   "metadata": {},
   "source": [
    "<div class=\"alert alert-block alert-success\">\n",
    "    <h4>\n",
    "        Gradient Boosting Trees\n",
    "    </h4>\n",
    "</div>"
   ]
  },
  {
   "cell_type": "markdown",
   "id": "761eede3",
   "metadata": {},
   "source": [
    "<img src=\"https://miro.medium.com/max/788/1*pEu2LNmxf9ttXHIALPcEBw.png\" style=\"height:200px\">"
   ]
  },
  {
   "cell_type": "code",
   "execution_count": 113,
   "id": "26621166",
   "metadata": {},
   "outputs": [
    {
     "name": "stdout",
     "output_type": "stream",
     "text": [
      "CPU times: user 28 µs, sys: 97 µs, total: 125 µs\n",
      "Wall time: 127 µs\n"
     ]
    }
   ],
   "source": [
    "%%time\n",
    "from sklearn.model_selection import GridSearchCV\n",
    "from sklearn.ensemble import GradientBoostingClassifier\n",
    "\n",
    "gbc = GradientBoostingClassifier(loss='exponential', learning_rate=0.2, n_estimators=120, criterion='mse',\n",
    "                                max_depth=2, subsample=0.9)\n",
    "\n",
    "# params = {\n",
    "# #         'loss': ['deviance', 'exponential'],\n",
    "# #     'learning_rate': [0.05, 0.1, 0.2, 0.25, 0.3, 0.35],\n",
    "# #     'n_estimators': [20,40,80,100,120],\n",
    "# #     'subsample':[0.9,0.95,1,1.1],\n",
    "#     'criterion': ['friedman_mse', 'mse', 'mae'],\n",
    "# #     'max_depth': [1,2,3,4,6,8],\n",
    "#          }\n",
    "# clf_gbc = GridSearchCV(estimator=gbc, cv=10, scoring='accuracy', param_grid=params, \n",
    "# n_jobs=-1).fit(X_train, y_train)\n",
    "# print('best prarams:', clf_gbc.best_params_)\n",
    "# acc_gbc = clf_gbc.best_score_\n",
    "# print('The Accuracy  on the training dataset is: {:.1%}'.format(acc_gbc))"
   ]
  },
  {
   "cell_type": "code",
   "execution_count": 114,
   "id": "d6ceaf07",
   "metadata": {},
   "outputs": [
    {
     "name": "stdout",
     "output_type": "stream",
     "text": [
      "Accuracy: 88.37%\n",
      "KFold Accuracy Mean: 87.16%\n",
      "Standard Deviation: 0.63\n",
      "ROC Score: 88.37%\n",
      "Precision: 89.25%\n",
      "Recall: 87.23%\n",
      "F1 Score: 88.23%\n",
      "===\n",
      "CPU times: user 1.16 s, sys: 12.9 ms, total: 1.17 s\n",
      "Wall time: 4.01 s\n"
     ]
    }
   ],
   "source": [
    "%%time\n",
    "(accuracy, kFold_accuracy_mean, kFold_accuracy_std, roc, precision, recall, \n",
    " f1) = evaluate_model(gbc, X_train, y_train, X_test, y_test)\n",
    "model_results['gbc'] = [accuracy, kFold_accuracy_mean, kFold_accuracy_std, roc, precision, recall, f1]\n",
    "print('===')\n",
    "# print(model_results)"
   ]
  },
  {
   "cell_type": "markdown",
   "id": "72cc443e",
   "metadata": {},
   "source": [
    "<div class=\"alert alert-block alert-success\">\n",
    "    <h4>\n",
    "        xgboost -> XGBClassifier\n",
    "    </h4>\n",
    "</div>"
   ]
  },
  {
   "cell_type": "code",
   "execution_count": 115,
   "id": "fd8c6c24",
   "metadata": {},
   "outputs": [
    {
     "name": "stdout",
     "output_type": "stream",
     "text": [
      "CPU times: user 19.8 ms, sys: 12.4 ms, total: 32.2 ms\n",
      "Wall time: 44.9 ms\n"
     ]
    }
   ],
   "source": [
    "%%time\n",
    "from sklearn.model_selection import GridSearchCV\n",
    "from xgboost import XGBClassifier\n",
    "\n",
    "xgb = XGBClassifier(booster='gbtree', eval_metric='logloss', sketch_eps=0.0, eta=0.07, max_depth=4, \n",
    "                min_child_weight=2.8, n_estimators=80, max_delta_step=2, subsample=1, use_label_encoder=False)\n",
    "\n",
    "# params = {\n",
    "# #     'sketch_eps': [i for i in np.arange(0, 0.1, 1/100)],\n",
    "# #     'eta': [0.01,0.03,0.05,0.07,0.09],\n",
    "# #     'max_depth': [4,6,8,10,12],\n",
    "# #     'n_estimators': [20,40,80,120],\n",
    "# #     'min_child_weight' : [2.5,2.6,2.7,2.8,2.9,3],\n",
    "# #     'max_delta_step':[1,1.5,2],\n",
    "# #     'subsample':[0.9,0.95,1]\n",
    "#          }\n",
    "# clf_xgb = GridSearchCV(estimator=xgb, cv=5, scoring='accuracy', param_grid=params, \n",
    "# n_jobs=-1).fit(X_train, y_train)\n",
    "# print('best prarams:', clf_xgb.best_params_)\n",
    "# acc_xgb = clf_xgb.best_score_\n",
    "# print('The Accuracy  on the training dataset is: {:.1%}'.format(acc_xgb))"
   ]
  },
  {
   "cell_type": "code",
   "execution_count": 116,
   "id": "d88b0f35",
   "metadata": {},
   "outputs": [
    {
     "name": "stdout",
     "output_type": "stream",
     "text": [
      "Accuracy: 88.27%\n",
      "KFold Accuracy Mean: 86.96%\n",
      "Standard Deviation: 0.49\n",
      "ROC Score: 88.27%\n",
      "Precision: 89.18%\n",
      "Recall: 87.11%\n",
      "F1 Score: 88.13%\n",
      "===\n",
      "CPU times: user 669 ms, sys: 11.3 ms, total: 681 ms\n",
      "Wall time: 2.5 s\n"
     ]
    }
   ],
   "source": [
    "%%time\n",
    "(accuracy, kFold_accuracy_mean, kFold_accuracy_std, roc, precision, recall, \n",
    " f1) = evaluate_model(xgb, X_train, y_train, X_test, y_test)\n",
    "model_results['xgb'] = [accuracy, kFold_accuracy_mean, kFold_accuracy_std, roc, precision, recall, f1]\n",
    "print('===')\n",
    "# print(model_results)"
   ]
  },
  {
   "cell_type": "markdown",
   "id": "3874ddf6",
   "metadata": {},
   "source": [
    "<a id='4.2'></a>\n",
    "<div class=\"alert alert-block alert-info\">\n",
    "   <h3>\n",
    "        Model selection - final\n",
    "   </h3>\n",
    "</div>"
   ]
  },
  {
   "cell_type": "code",
   "execution_count": 117,
   "id": "b797f3a6",
   "metadata": {},
   "outputs": [
    {
     "data": {
      "text/html": [
       "<div>\n",
       "<style scoped>\n",
       "    .dataframe tbody tr th:only-of-type {\n",
       "        vertical-align: middle;\n",
       "    }\n",
       "\n",
       "    .dataframe tbody tr th {\n",
       "        vertical-align: top;\n",
       "    }\n",
       "\n",
       "    .dataframe thead th {\n",
       "        text-align: right;\n",
       "    }\n",
       "</style>\n",
       "<table border=\"1\" class=\"dataframe\">\n",
       "  <thead>\n",
       "    <tr style=\"text-align: right;\">\n",
       "      <th></th>\n",
       "      <th>accuracy</th>\n",
       "      <th>kFold_acc_mean</th>\n",
       "      <th>kFold_acc_std</th>\n",
       "      <th>roc</th>\n",
       "      <th>precision</th>\n",
       "      <th>recall</th>\n",
       "      <th>f1</th>\n",
       "    </tr>\n",
       "  </thead>\n",
       "  <tbody>\n",
       "    <tr>\n",
       "      <th>rf</th>\n",
       "      <td>90.07</td>\n",
       "      <td>88.91</td>\n",
       "      <td>0.73</td>\n",
       "      <td>90.07</td>\n",
       "      <td>90.27</td>\n",
       "      <td>89.81</td>\n",
       "      <td>90.04</td>\n",
       "    </tr>\n",
       "    <tr>\n",
       "      <th>gbc</th>\n",
       "      <td>88.37</td>\n",
       "      <td>87.16</td>\n",
       "      <td>0.63</td>\n",
       "      <td>88.37</td>\n",
       "      <td>89.25</td>\n",
       "      <td>87.23</td>\n",
       "      <td>88.23</td>\n",
       "    </tr>\n",
       "    <tr>\n",
       "      <th>xgb</th>\n",
       "      <td>88.27</td>\n",
       "      <td>86.96</td>\n",
       "      <td>0.49</td>\n",
       "      <td>88.27</td>\n",
       "      <td>89.18</td>\n",
       "      <td>87.11</td>\n",
       "      <td>88.13</td>\n",
       "    </tr>\n",
       "    <tr>\n",
       "      <th>svm</th>\n",
       "      <td>87.93</td>\n",
       "      <td>87.61</td>\n",
       "      <td>0.76</td>\n",
       "      <td>87.93</td>\n",
       "      <td>91.53</td>\n",
       "      <td>83.58</td>\n",
       "      <td>87.38</td>\n",
       "    </tr>\n",
       "    <tr>\n",
       "      <th>knn</th>\n",
       "      <td>87.90</td>\n",
       "      <td>86.91</td>\n",
       "      <td>0.83</td>\n",
       "      <td>87.90</td>\n",
       "      <td>82.76</td>\n",
       "      <td>95.72</td>\n",
       "      <td>88.77</td>\n",
       "    </tr>\n",
       "    <tr>\n",
       "      <th>log</th>\n",
       "      <td>86.42</td>\n",
       "      <td>85.91</td>\n",
       "      <td>0.63</td>\n",
       "      <td>86.42</td>\n",
       "      <td>89.07</td>\n",
       "      <td>83.02</td>\n",
       "      <td>85.94</td>\n",
       "    </tr>\n",
       "    <tr>\n",
       "      <th>sgdc</th>\n",
       "      <td>85.98</td>\n",
       "      <td>85.84</td>\n",
       "      <td>0.76</td>\n",
       "      <td>85.98</td>\n",
       "      <td>87.88</td>\n",
       "      <td>83.46</td>\n",
       "      <td>85.61</td>\n",
       "    </tr>\n",
       "    <tr>\n",
       "      <th>bNB</th>\n",
       "      <td>76.74</td>\n",
       "      <td>76.44</td>\n",
       "      <td>0.94</td>\n",
       "      <td>76.74</td>\n",
       "      <td>75.30</td>\n",
       "      <td>79.56</td>\n",
       "      <td>77.37</td>\n",
       "    </tr>\n",
       "  </tbody>\n",
       "</table>\n",
       "</div>"
      ],
      "text/plain": [
       "      accuracy  kFold_acc_mean  kFold_acc_std    roc  precision  recall     f1\n",
       "rf       90.07           88.91           0.73  90.07      90.27   89.81  90.04\n",
       "gbc      88.37           87.16           0.63  88.37      89.25   87.23  88.23\n",
       "xgb      88.27           86.96           0.49  88.27      89.18   87.11  88.13\n",
       "svm      87.93           87.61           0.76  87.93      91.53   83.58  87.38\n",
       "knn      87.90           86.91           0.83  87.90      82.76   95.72  88.77\n",
       "log      86.42           85.91           0.63  86.42      89.07   83.02  85.94\n",
       "sgdc     85.98           85.84           0.76  85.98      87.88   83.46  85.61\n",
       "bNB      76.74           76.44           0.94  76.74      75.30   79.56  77.37"
      ]
     },
     "execution_count": 117,
     "metadata": {},
     "output_type": "execute_result"
    }
   ],
   "source": [
    "df_models_acc = pd.DataFrame(model_results, index=['accuracy', 'kFold_acc_mean', 'kFold_acc_std', \n",
    "                                                   'roc', 'precision', 'recall', 'f1']).T\n",
    "df_models_acc.sort_values(by='accuracy', ascending=False)"
   ]
  },
  {
   "cell_type": "markdown",
   "id": "25d189a4",
   "metadata": {},
   "source": [
    "<a id='4.3'></a>\n",
    "<div class=\"alert alert-block alert-info\">\n",
    "   <h3>\n",
    "        Evaluation of the selected model\n",
    "   </h3>\n",
    "</div>"
   ]
  },
  {
   "cell_type": "code",
   "execution_count": 129,
   "id": "543f7257",
   "metadata": {},
   "outputs": [],
   "source": [
    "model = rf"
   ]
  },
  {
   "cell_type": "markdown",
   "id": "aa0471d0",
   "metadata": {},
   "source": [
    "<div class=\"alert alert-block alert-success\">\n",
    "    <h4>\n",
    "        Confusion matrix and metrics\n",
    "    </h4>\n",
    "</div>"
   ]
  },
  {
   "cell_type": "code",
   "execution_count": 123,
   "id": "9a712f26",
   "metadata": {},
   "outputs": [],
   "source": [
    "import math\n",
    "\n",
    "def confusion_matrix_metrics(TP, FP, FN, TN):\n",
    "    # Sensitivity, hit rate, recall, or true positive rate\n",
    "    TPR = round(TP / (TP + FN), 2)\n",
    "    # Specificity, selectivity or true negative rate (TNR)\n",
    "    TNR = round(TN / (TN + FP), 2)\n",
    "\n",
    "    # accuracy (ACC)\n",
    "    ACC = round((TP + TN) / (TP + TN + FP + FN), 2)\n",
    "    # balanced accuracy (BA)\n",
    "    BA = round((TPR + TNR) / 2, 2)\n",
    "\n",
    "    # Precision or positive predictive value\n",
    "    PPV = round(TP / (TP + FP), 2)\n",
    "    # negative predictive value (NPV)\n",
    "    NPV = round(TN / (TN + FN), 2)\n",
    "    # false discovery rate (FDR)\n",
    "    FDR = round(1 - PPV, 2)\n",
    "    # false omission rate (FOR)\n",
    "    FOR = round(1 - NPV, 2)\n",
    "\n",
    "    # prevalence threshold (PT)\n",
    "    PT = round((math.sqrt(TPR*(1 - TNR)) + TNR - 1)/(TPR + TNR - 1), 2)\n",
    "    # F1 score\n",
    "    F1 = round(2*TP / (2*TP + FP + FN), 2)\n",
    "    # Matthews correlation coefficient (MCC) or phi coefficient\n",
    "    MCC = round(((TP*TN) - (FP*FN)) / math.sqrt((TP + FP)*(TP + FN)*(TN + FP)*(TN + FN)), 2)\n",
    "\n",
    "    # False positive rate or False alarm rate\n",
    "    FPR = round(FP / (FP + TN), 2)\n",
    "    # False negative rate or Miss Rate\n",
    "    FNR = round(FN / (FN + TP), 2)\n",
    "    \n",
    "    return TPR, TNR, ACC, BA, PPV, NPV, FDR, FOR, PT, F1, MCC, FPR, FNR"
   ]
  },
  {
   "cell_type": "code",
   "execution_count": 124,
   "id": "c7366835",
   "metadata": {},
   "outputs": [],
   "source": [
    "def TP_FP_TN_FN_func(cm, dataframe):\n",
    "    df_cm = pd.DataFrame(cm)\n",
    "    TP = []\n",
    "    FN = []\n",
    "    TN = []\n",
    "    FP = []\n",
    "    for i in range(len(df_cm)):\n",
    "        for j in range(len(df_cm.columns)):\n",
    "            if i == j:\n",
    "                # TP\n",
    "                TP.append(df_cm.iloc[i,j])\n",
    "                # FN\n",
    "                df_FN = df_cm.drop(i, axis=0)\n",
    "                FN_list = [row for row in range(len(df_cm)) if row != i]\n",
    "                df_FN = df_FN.drop(FN_list, axis=1)\n",
    "                FN.append(df_FN.sum().sum())\n",
    "                # TN\n",
    "                df_TN = df_cm.drop(i, axis=1)\n",
    "                df_TN = df_TN.drop(i, axis=0)\n",
    "                TN.append(df_TN.sum().sum())\n",
    "                # FP\n",
    "                df_FP = df_cm.drop(i, axis=1)\n",
    "                FP_list = [row for row in range(len(df_cm)) if row != i]\n",
    "                df_FP = df_FP.drop(FP_list, axis=0)\n",
    "                FP.append(df_FP.sum().sum())\n",
    "                \n",
    "    metrics_list = []\n",
    "    for i in range(len(TP)):\n",
    "        # get the metric values from the confusion_matrix_metrics function\n",
    "        (TPR, TNR, ACC, BA, PPV, NPV, FDR, FOR, PT, \n",
    "         F1, MCC, FPR, FNR) = confusion_matrix_metrics(TP[i], FP[i], FN[i], TN[i])\n",
    "        metrics_list.append([TPR, TNR, ACC, BA, PPV, NPV, FDR, FOR, PT, F1, MCC, FPR, FNR])\n",
    "    metrics_cols = ['True Positive Rate', 'True Negative Rate', 'Accuracy', 'Balanced Accuracy', 'Precision', \n",
    "                  'Negative Predictive Value', 'False Discovery Rate', 'False Omission Rate', \n",
    "                  'Prevalence Threshold', 'F1 Score', 'Matthews Correlation Coefficient', \n",
    "                  'False positive rate', 'False Negative Rate']\n",
    "    \n",
    "    # create a dataframe with multi-column\n",
    "    l=[(dataframe, '0'),  (dataframe, '1')]\n",
    "    df_cm_metrics = pd.DataFrame(metrics_list, columns=metrics_cols, index=l).T\n",
    "    df_cm_metrics.columns = pd.MultiIndex.from_tuples(df_cm_metrics.columns, names=['Dataset','Metrics'])\n",
    "    \n",
    "    return df_cm_metrics"
   ]
  },
  {
   "cell_type": "code",
   "execution_count": 125,
   "id": "e2d5c180",
   "metadata": {},
   "outputs": [],
   "source": [
    "from sklearn.metrics import confusion_matrix\n",
    "\n",
    "def confusion_matrix_func(model, X_train, X_test, y_train, y_test, threshold):\n",
    "    \n",
    "    predicted_proba = model.predict_proba(X_train)\n",
    "    y_train_pred = (predicted_proba [:,1] >= threshold).astype('int')\n",
    "    predicted_proba_test = model.predict_proba(X_test)\n",
    "    y_test_pred = (predicted_proba_test [:,1] >= threshold).astype('int')\n",
    "\n",
    "    cm = confusion_matrix(y_train, y_train_pred).T\n",
    "    cm_test = confusion_matrix(y_test, y_test_pred).T\n",
    "\n",
    "    #############################\n",
    "    # Set up the matplotlib figure\n",
    "    fig, axes = plt.subplots(1, 2, figsize=(8, 4))\n",
    "\n",
    "    # Plot the heatmap\n",
    "    im = axes[0].imshow(cm, interpolation='nearest', cmap='Reds', aspect='auto')\n",
    "    # show all ticks\n",
    "    axes[0].set_xticks(np.arange(len(cm.tolist())))\n",
    "    axes[0].set_yticks(np.arange(len(cm.tolist())))\n",
    "    thresh = cm.max() / 1.5\n",
    "    # Loop over data dimensions and create text annotations.\n",
    "    for i in range(len(cm.tolist())):\n",
    "        for j in range(len(cm.tolist())):\n",
    "            text = axes[0].text(j, i, cm.tolist()[i][j],\n",
    "                           ha=\"center\", va=\"center\", size=16,\n",
    "                           color=\"white\" if cm[i, j] > thresh else \"black\")\n",
    "    # Let the horizontal axes labeling appear on top.\n",
    "    axes[0].xaxis.set_ticks_position('top')\n",
    "    axes[0].xaxis.set_label_position('top')\n",
    "    axes[0].set_xlabel('Actual value', size=16)\n",
    "    axes[0].set_ylabel('Predicted value', size=16)\n",
    "    axes[0].set_title(\"Train\", fontsize=20)\n",
    "    \n",
    "    # Plot the heatmap\n",
    "    im = axes[1].imshow(cm_test, interpolation='nearest', cmap='Reds', aspect='auto')\n",
    "    # show all ticks\n",
    "    axes[1].set_xticks(np.arange(len(cm_test.tolist())))\n",
    "    axes[1].set_yticks(np.arange(len(cm_test.tolist())))\n",
    "    thresh = cm_test.max() / 1.5\n",
    "    # Loop over data dimensions and create text annotations.\n",
    "    for i in range(len(cm_test.tolist())):\n",
    "        for j in range(len(cm_test.tolist())):\n",
    "            text = axes[1].text(j, i, cm_test.tolist()[i][j],\n",
    "                           ha=\"center\", va=\"center\", size=16,\n",
    "                           color=\"white\" if cm[i, j] > thresh else \"black\")\n",
    "    # Let the horizontal axes labeling appear on top.\n",
    "    axes[1].xaxis.set_ticks_position('top')\n",
    "    axes[1].xaxis.set_label_position('top')\n",
    "    axes[1].set_xlabel('Actual value', size=16)\n",
    "    axes[1].set_title(\"Test\", fontsize=20)\n",
    "\n",
    "    fig.tight_layout()\n",
    "    fig.show()\n",
    "    \n",
    "    # get the metric values as a dataframe\n",
    "    df_cm_metrics = TP_FP_TN_FN_func(cm, 'Train')\n",
    "    df_cm_test_metrics = TP_FP_TN_FN_func(cm_test, 'Test')\n",
    "    \n",
    "    return df_cm_metrics, df_cm_test_metrics"
   ]
  },
  {
   "cell_type": "code",
   "execution_count": 130,
   "id": "06e0c127",
   "metadata": {},
   "outputs": [
    {
     "data": {
      "image/png": "[encoded data removed]",
      "text/plain": [
       "<Figure size 576x288 with 2 Axes>"
      ]
     },
     "metadata": {
      "needs_background": "light"
     },
     "output_type": "display_data"
    }
   ],
   "source": [
    "df_cm_metrics, df_cm_test_metrics = confusion_matrix_func(model, X_train, X_test, \n",
    "                                                          y_train, y_test, threshold=0.50)"
   ]
  },
  {
   "cell_type": "code",
   "execution_count": 131,
   "id": "1da27d84",
   "metadata": {},
   "outputs": [
    {
     "data": {
      "text/html": [
       "<div>\n",
       "<style scoped>\n",
       "    .dataframe tbody tr th:only-of-type {\n",
       "        vertical-align: middle;\n",
       "    }\n",
       "\n",
       "    .dataframe tbody tr th {\n",
       "        vertical-align: top;\n",
       "    }\n",
       "\n",
       "    .dataframe thead tr th {\n",
       "        text-align: left;\n",
       "    }\n",
       "</style>\n",
       "<table border=\"1\" class=\"dataframe\">\n",
       "  <thead>\n",
       "    <tr>\n",
       "      <th>Dataset</th>\n",
       "      <th colspan=\"2\" halign=\"left\">Train</th>\n",
       "      <th colspan=\"2\" halign=\"left\">Test</th>\n",
       "    </tr>\n",
       "    <tr>\n",
       "      <th>Metrics</th>\n",
       "      <th>0</th>\n",
       "      <th>1</th>\n",
       "      <th>0</th>\n",
       "      <th>1</th>\n",
       "    </tr>\n",
       "  </thead>\n",
       "  <tbody>\n",
       "    <tr>\n",
       "      <th>True Positive Rate</th>\n",
       "      <td>0.96</td>\n",
       "      <td>0.95</td>\n",
       "      <td>0.90</td>\n",
       "      <td>0.89</td>\n",
       "    </tr>\n",
       "    <tr>\n",
       "      <th>True Negative Rate</th>\n",
       "      <td>0.95</td>\n",
       "      <td>0.96</td>\n",
       "      <td>0.89</td>\n",
       "      <td>0.90</td>\n",
       "    </tr>\n",
       "    <tr>\n",
       "      <th>Accuracy</th>\n",
       "      <td>0.95</td>\n",
       "      <td>0.95</td>\n",
       "      <td>0.90</td>\n",
       "      <td>0.90</td>\n",
       "    </tr>\n",
       "    <tr>\n",
       "      <th>Balanced Accuracy</th>\n",
       "      <td>0.96</td>\n",
       "      <td>0.96</td>\n",
       "      <td>0.90</td>\n",
       "      <td>0.90</td>\n",
       "    </tr>\n",
       "    <tr>\n",
       "      <th>Precision</th>\n",
       "      <td>0.95</td>\n",
       "      <td>0.96</td>\n",
       "      <td>0.89</td>\n",
       "      <td>0.90</td>\n",
       "    </tr>\n",
       "    <tr>\n",
       "      <th>Negative Predictive Value</th>\n",
       "      <td>0.96</td>\n",
       "      <td>0.95</td>\n",
       "      <td>0.90</td>\n",
       "      <td>0.89</td>\n",
       "    </tr>\n",
       "    <tr>\n",
       "      <th>False Discovery Rate</th>\n",
       "      <td>0.05</td>\n",
       "      <td>0.04</td>\n",
       "      <td>0.11</td>\n",
       "      <td>0.10</td>\n",
       "    </tr>\n",
       "    <tr>\n",
       "      <th>False Omission Rate</th>\n",
       "      <td>0.04</td>\n",
       "      <td>0.05</td>\n",
       "      <td>0.10</td>\n",
       "      <td>0.11</td>\n",
       "    </tr>\n",
       "    <tr>\n",
       "      <th>Prevalence Threshold</th>\n",
       "      <td>0.19</td>\n",
       "      <td>0.17</td>\n",
       "      <td>0.26</td>\n",
       "      <td>0.25</td>\n",
       "    </tr>\n",
       "    <tr>\n",
       "      <th>F1 Score</th>\n",
       "      <td>0.95</td>\n",
       "      <td>0.95</td>\n",
       "      <td>0.90</td>\n",
       "      <td>0.90</td>\n",
       "    </tr>\n",
       "    <tr>\n",
       "      <th>Matthews Correlation Coefficient</th>\n",
       "      <td>0.91</td>\n",
       "      <td>0.91</td>\n",
       "      <td>0.79</td>\n",
       "      <td>0.79</td>\n",
       "    </tr>\n",
       "    <tr>\n",
       "      <th>False positive rate</th>\n",
       "      <td>0.05</td>\n",
       "      <td>0.04</td>\n",
       "      <td>0.11</td>\n",
       "      <td>0.10</td>\n",
       "    </tr>\n",
       "    <tr>\n",
       "      <th>False Negative Rate</th>\n",
       "      <td>0.04</td>\n",
       "      <td>0.05</td>\n",
       "      <td>0.10</td>\n",
       "      <td>0.11</td>\n",
       "    </tr>\n",
       "  </tbody>\n",
       "</table>\n",
       "</div>"
      ],
      "text/plain": [
       "Dataset                          Train        Test      \n",
       "Metrics                              0     1     0     1\n",
       "True Positive Rate                0.96  0.95  0.90  0.89\n",
       "True Negative Rate                0.95  0.96  0.89  0.90\n",
       "Accuracy                          0.95  0.95  0.90  0.90\n",
       "Balanced Accuracy                 0.96  0.96  0.90  0.90\n",
       "Precision                         0.95  0.96  0.89  0.90\n",
       "Negative Predictive Value         0.96  0.95  0.90  0.89\n",
       "False Discovery Rate              0.05  0.04  0.11  0.10\n",
       "False Omission Rate               0.04  0.05  0.10  0.11\n",
       "Prevalence Threshold              0.19  0.17  0.26  0.25\n",
       "F1 Score                          0.95  0.95  0.90  0.90\n",
       "Matthews Correlation Coefficient  0.91  0.91  0.79  0.79\n",
       "False positive rate               0.05  0.04  0.11  0.10\n",
       "False Negative Rate               0.04  0.05  0.10  0.11"
      ]
     },
     "execution_count": 131,
     "metadata": {},
     "output_type": "execute_result"
    }
   ],
   "source": [
    "pd.concat([df_cm_metrics, df_cm_test_metrics], axis=1)"
   ]
  },
  {
   "cell_type": "markdown",
   "id": "213de86c",
   "metadata": {},
   "source": [
    "<div class=\"alert alert-block alert-success\">\n",
    "    <h4>\n",
    "        ROC & AUC\n",
    "    </h4>\n",
    "</div>"
   ]
  },
  {
   "cell_type": "code",
   "execution_count": 133,
   "id": "12ed2a05",
   "metadata": {},
   "outputs": [
    {
     "name": "stdout",
     "output_type": "stream",
     "text": [
      "CPU times: user 47 s, sys: 174 ms, total: 47.2 s\n",
      "Wall time: 47.2 s\n"
     ]
    }
   ],
   "source": [
    "%%time\n",
    "tpr_list = []\n",
    "tnr_list = []\n",
    "fpr_list = []\n",
    "acc_list = []\n",
    "thresholds_list = []\n",
    "precision_list = []\n",
    "npv_list = []\n",
    "\n",
    "for i in range(0, 1000, 1):\n",
    "    y_test_prob = model.predict_proba(X_test)\n",
    "    y_test_pred = (y_test_prob [:,1] >= i/1000).astype('int')\n",
    "    cm_test = confusion_matrix(y_test, y_test_pred).T\n",
    "    df_cm_test_metrics = TP_FP_TN_FN_func(cm_test, 'Test')\n",
    "    TPR_test = df_cm_test_metrics.loc['True Positive Rate','Test'][0]\n",
    "    TNR_test = df_cm_test_metrics.loc['True Negative Rate','Test'][0]\n",
    "    FPR_test = df_cm_test_metrics.loc['False positive rate','Test'][0]\n",
    "    acc_test = df_cm_test_metrics.loc['Accuracy','Test'][0]\n",
    "    precision_test = df_cm_test_metrics.loc['Precision','Test'][0]\n",
    "    npv_test = df_cm_test_metrics.loc['Negative Predictive Value','Test'][0]\n",
    "    \n",
    "    tpr_list.append(TPR_test)\n",
    "    tnr_list.append(TNR_test)\n",
    "    fpr_list.append(FPR_test)\n",
    "    acc_list.append(acc_test)\n",
    "    thresholds_list.append(i/1000)\n",
    "    precision_list.append(precision_test)\n",
    "    npv_list.append(npv_test)"
   ]
  },
  {
   "cell_type": "code",
   "execution_count": 136,
   "id": "4fc0675c",
   "metadata": {
    "scrolled": false
   },
   "outputs": [
    {
     "data": {
      "image/png": "[encoded data removed]",
      "text/plain": [
       "<Figure size 1008x576 with 4 Axes>"
      ]
     },
     "metadata": {
      "needs_background": "light"
     },
     "output_type": "display_data"
    }
   ],
   "source": [
    "from sklearn.metrics import roc_auc_score\n",
    "\n",
    "threshold=0.50\n",
    "idx = next(x[0] for x in enumerate(thresholds_list) if x[1] > threshold)\n",
    "pred_proba_test = model.predict_proba(X_test)\n",
    "\n",
    "# compute Area Under the Receiver Operating Characteristic Curve (ROC AUC)\n",
    "lr_auc = roc_auc_score(y_test, pred_proba_test[:, 1])\n",
    "\n",
    "#############################\n",
    "# Set up the matplotlib figure\n",
    "fig, axes = plt.subplots(2, 2, figsize=(14, 8))\n",
    "#############################\n",
    "### ROC Curve ###\n",
    "\n",
    "axes[0, 0].plot(fpr_list, tpr_list, color='red', linewidth=2, \n",
    "                label=f'AUC={lr_auc:.2f}')\n",
    "axes[0, 0].fill_between(fpr_list, tpr_list, 0, color='red', alpha=0.3)\n",
    "axes[0, 0].plot([0, 1], [0, 1], color='green', linestyle='--', linewidth=1,\n",
    "                label='No Skill')\n",
    "\n",
    "axes[0, 0].set_xlabel('FPR (1 - FPR(Specificity))', size=12)\n",
    "axes[0, 0].set_ylabel('TPR (Sensitivity)', size=12)\n",
    "axes[0, 0].legend(title='Model')\n",
    "axes[0, 0].set_title('ROC curve', color='red', size=14)\n",
    "\n",
    "# Annotate #\n",
    "axes[0, 0].plot([0,fpr_list[idx]], [tpr_list[idx],tpr_list[idx]], 'k--', color='gray')\n",
    "axes[0, 0].plot([fpr_list[idx],fpr_list[idx]], [0,tpr_list[idx]], 'k--', color='gray')\n",
    "axes[0, 0].annotate(\n",
    "    f'TPR:{tpr_list[idx]:.2f}\\nFPR:{fpr_list[idx]:.2f}\\nthresh:{thresholds_list[idx]:.2f}',\n",
    "    (fpr_list[idx], tpr_list[idx]), xytext =(-2 * -20, -30), textcoords ='offset points',\n",
    "    bbox = dict(boxstyle =\"round\", fc =\"0.8\"), arrowprops = dict(arrowstyle = \"->\"))\n",
    "#############################\n",
    "\n",
    "#############################\n",
    "### TPR and FPR at every threshold ###\n",
    "\n",
    "axes[0, 1].plot(thresholds_list, tpr_list, color='m', linewidth=2, label='TPR')\n",
    "axes[0, 1].plot(thresholds_list, tnr_list, color='c', linewidth=2, label='TNR')\n",
    "axes[0, 1].set_xlabel('Threshold', size=12)\n",
    "axes[0, 1].legend()\n",
    "axes[0, 1].set_title('TPR&TNR - Threshold Curves', color='red', size=14)\n",
    "\n",
    "axes[0, 1].plot([thresholds_list[idx],thresholds_list[idx]], [0,tpr_list[idx]], 'k--', color='gray')\n",
    "\n",
    "\n",
    "# Annotate #\n",
    "axes[0, 1].plot([thresholds_list[idx],thresholds_list[idx]], [0,tpr_list[idx]], 'k--', color='gray')\n",
    "axes[0, 1].plot([0, thresholds_list[idx]], [tpr_list[idx] ,tpr_list[idx]], 'k--', color='gray')\n",
    "axes[0, 1].plot([0, thresholds_list[idx]], [tnr_list[idx] ,tnr_list[idx]], 'k--', color='gray')\n",
    "\n",
    "axes[0, 1].annotate(\n",
    "    f'TPR:{tpr_list[idx]:.2f}',\n",
    "    (thresholds_list[idx], tpr_list[idx]), xytext =(-2 * -15, 0), textcoords ='offset points',\n",
    "    bbox = dict(boxstyle =\"round\", fc =\"0.8\"), arrowprops = dict(arrowstyle = \"->\"))\n",
    "\n",
    "axes[0, 1].annotate(\n",
    "    f'TNR:{tnr_list[idx]:.2f}',\n",
    "    (thresholds_list[idx], tnr_list[idx]), xytext =(-2 * -15, -10), textcoords ='offset points',\n",
    "    bbox = dict(boxstyle =\"round\", fc =\"0.8\"), arrowprops = dict(arrowstyle = \"->\"))\n",
    "\n",
    "axes[0, 1].annotate(f'thresh:{thresholds_list[idx]:.2f}',\n",
    "    (thresholds_list[idx], 0), xytext =(-2 * -15, 10), textcoords ='offset points',\n",
    "    bbox = dict(boxstyle =\"round\", fc =\"0.8\"), arrowprops = dict(arrowstyle = \"->\"))\n",
    "#############################\n",
    "\n",
    "#############################\n",
    "### Precision-Recall Curve ###\n",
    "\n",
    "axes[1, 0].plot(tpr_list, precision_list, color='m', linewidth=2, label='Precision(PPV)')\n",
    "axes[1, 0].plot(tpr_list, npv_list, color='c', linewidth=2, label='NPV')\n",
    "\n",
    "axes[1, 0].set_xlabel('Recall(TPR)', size=12)\n",
    "axes[1, 0].legend()\n",
    "axes[1, 0].set_title('Precision(PPV)&NPV - Recall Curves', color='red', size=14)\n",
    "\n",
    "# Annotate\n",
    "axes[1, 0].plot([tpr_list[idx],tpr_list[idx]], [0,precision_list[idx]], 'k--', color='gray')\n",
    "axes[1, 0].plot([0, tpr_list[idx]], [precision_list[idx] ,precision_list[idx]], 'k--', color='gray')\n",
    "axes[1, 0].plot([0, tpr_list[idx]], [npv_list[idx] ,npv_list[idx]], 'k--', color='gray')\n",
    "\n",
    "axes[1, 0].annotate(f'PPV:{precision_list[idx]:.2f}',\n",
    "    (tpr_list[idx], precision_list[idx]), xytext =(-2 * 30, -30), textcoords ='offset points',\n",
    "    bbox = dict(boxstyle =\"round\", fc =\"0.8\"), arrowprops = dict(arrowstyle = \"->\"))\n",
    "axes[1, 0].annotate(f'NPV:{npv_list[idx]:.2f}',\n",
    "    (tpr_list[idx], npv_list[idx]), xytext =(-2 * 30, -45), textcoords ='offset points',\n",
    "    bbox = dict(boxstyle =\"round\", fc =\"0.8\"), arrowprops = dict(arrowstyle = \"->\"))\n",
    "axes[1, 0].annotate(f'TPR:{tpr_list[idx]:.2f}\\nthresh:{thresholds_list[idx]:.2f}',\n",
    "    (tpr_list[idx], 0), xytext =(-2 * 40, 15), textcoords ='offset points',\n",
    "    bbox = dict(boxstyle =\"round\", fc =\"0.8\"), arrowprops = dict(arrowstyle = \"->\"))\n",
    "#############################\n",
    "\n",
    "#############################\n",
    "### Accuracy at every threshold ###\n",
    "\n",
    "axes[1, 1].plot(thresholds_list, acc_list, color='g', linewidth=2, label='Accuracy')\n",
    "axes[1, 1].set_xlabel('Threshold', size=12)\n",
    "axes[1, 1].legend()\n",
    "axes[1, 1].set_title('Accuracy - Threshold Curves', color='red', size=14)\n",
    "\n",
    "# Annotate #\n",
    "axes[1, 1].plot([thresholds_list[idx],thresholds_list[idx]], [0,acc_list[idx]], 'k--', color='gray')\n",
    "axes[1, 1].plot([0, thresholds_list[idx]], [acc_list[idx] ,acc_list[idx]], 'k--', color='gray')\n",
    "\n",
    "axes[1, 1].annotate(\n",
    "    f'Accuracy:{acc_list[idx]:.2f}\\nthresh:{thresholds_list[idx]:.2f}',\n",
    "    (thresholds_list[idx], acc_list[idx]), xytext =(-2 * -15, -30), textcoords ='offset points',\n",
    "    bbox = dict(boxstyle =\"round\", fc =\"0.8\"), arrowprops = dict(arrowstyle = \"->\"))\n",
    "\n",
    "#############################\n",
    "fig.tight_layout()\n",
    "fig.show()"
   ]
  },
  {
   "cell_type": "markdown",
   "id": "d82882d4",
   "metadata": {},
   "source": [
    "<div class=\"alert alert-block alert-success\">\n",
    "    <h4>\n",
    "        Logarithmic loss\n",
    "    </h4>\n",
    "</div>"
   ]
  },
  {
   "cell_type": "markdown",
   "id": "853d92a8",
   "metadata": {},
   "source": [
    "- A lower log loss, a higher model success, means better predictions"
   ]
  },
  {
   "cell_type": "code",
   "execution_count": 137,
   "id": "3a96db43",
   "metadata": {},
   "outputs": [
    {
     "name": "stdout",
     "output_type": "stream",
     "text": [
      "The Log Loss on Training is: 0.29\n"
     ]
    }
   ],
   "source": [
    "from sklearn.metrics import log_loss\n",
    "# Running Log loss on training\n",
    "print('The Log Loss on Training is: {:.2}'.format(log_loss(y_test, pred_proba_test[:, 1])))"
   ]
  },
  {
   "cell_type": "code",
   "execution_count": null,
   "id": "55dece44",
   "metadata": {},
   "outputs": [],
   "source": []
  }
 ],
 "metadata": {
  "kernelspec": {
   "display_name": "Python 3 (ipykernel)",
   "language": "python",
   "name": "python3"
  },
  "language_info": {
   "codemirror_mode": {
    "name": "ipython",
    "version": 3
   },
   "file_extension": ".py",
   "mimetype": "text/x-python",
   "name": "python",
   "nbconvert_exporter": "python",
   "pygments_lexer": "ipython3",
   "version": "3.8.6"
  },
  "toc": {
   "base_numbering": "0",
   "nav_menu": {},
   "number_sections": true,
   "sideBar": true,
   "skip_h1_title": true,
   "title_cell": "Table of Contents",
   "title_sidebar": "Contents",
   "toc_cell": false,
   "toc_position": {},
   "toc_section_display": true,
   "toc_window_display": true
  }
 },
 "nbformat": 4,
 "nbformat_minor": 5
}
